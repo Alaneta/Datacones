{
 "cells": [
  {
   "cell_type": "code",
   "execution_count": 1,
   "metadata": {},
   "outputs": [],
   "source": [
    "import csv\n",
    "import pandas as pd\n",
    "import numpy as np\n",
    "from datetime import datetime\n",
    "import seaborn as sns\n",
    "import matplotlib.pyplot as plt\n",
    "import sklearn\n",
    "from sklearn.ensemble import RandomForestRegressor\n",
    "from sklearn.metrics import mean_squared_log_error\n",
    "# Importamos utilidades y modelos de sklearn\n",
    "from sklearn.preprocessing import Imputer\n",
    "from sklearn.model_selection import train_test_split\n",
    "import xgboost as xgb\n",
    "from sklearn.model_selection import RandomizedSearchCV, GridSearchCV\n",
    "from sklearn.metrics import roc_auc_score\n",
    "from sklearn.model_selection import StratifiedKFold\n"
   ]
  },
  {
   "cell_type": "markdown",
   "metadata": {},
   "source": [
    "# Se levanta el set de train generado"
   ]
  },
  {
   "cell_type": "code",
   "execution_count": 2,
   "metadata": {},
   "outputs": [],
   "source": [
    "data_set = pd.read_csv(\"train_set_xgb.csv\")\n",
    "#X = data_set.loc[:, (data_set.columns != 'precio') & (data_set.columns != 'factor_pm')]\n",
    "X = data_set.loc[:, (data_set.columns != 'precio')]\n",
    "y = data_set.loc[:, ['precio']]"
   ]
  },
  {
   "cell_type": "code",
   "execution_count": 3,
   "metadata": {},
   "outputs": [
    {
     "data": {
      "text/plain": [
       "Index(['antiguedad', 'habitaciones', 'garages', 'banos', 'metroscubiertos',\n",
       "       'metrostotales', 'idzona', 'lat', 'lng', 'gimnasio', 'usosmultiples',\n",
       "       'piscina', 'escuelascercanas', 'centroscomercialescercanos', 'precio',\n",
       "       'anio_publ'],\n",
       "      dtype='object')"
      ]
     },
     "execution_count": 3,
     "metadata": {},
     "output_type": "execute_result"
    }
   ],
   "source": [
    "data_set.columns"
   ]
  },
  {
   "cell_type": "code",
   "execution_count": 4,
   "metadata": {},
   "outputs": [
    {
     "data": {
      "text/plain": [
       "Index(['antiguedad', 'habitaciones', 'garages', 'banos', 'metroscubiertos',\n",
       "       'metrostotales', 'idzona', 'lat', 'lng', 'gimnasio', 'usosmultiples',\n",
       "       'piscina', 'escuelascercanas', 'centroscomercialescercanos',\n",
       "       'anio_publ'],\n",
       "      dtype='object')"
      ]
     },
     "execution_count": 4,
     "metadata": {},
     "output_type": "execute_result"
    }
   ],
   "source": [
    "X.columns"
   ]
  },
  {
   "cell_type": "code",
   "execution_count": 5,
   "metadata": {},
   "outputs": [
    {
     "data": {
      "text/plain": [
       "Index(['precio'], dtype='object')"
      ]
     },
     "execution_count": 5,
     "metadata": {},
     "output_type": "execute_result"
    }
   ],
   "source": [
    "y.columns"
   ]
  },
  {
   "cell_type": "markdown",
   "metadata": {},
   "source": [
    "# Se separa en train y en test"
   ]
  },
  {
   "cell_type": "code",
   "execution_count": 6,
   "metadata": {},
   "outputs": [],
   "source": [
    "X_train, X_test, y_train, y_test = train_test_split(X, y, test_size=0.30, random_state=1)"
   ]
  },
  {
   "cell_type": "code",
   "execution_count": 7,
   "metadata": {},
   "outputs": [
    {
     "data": {
      "text/plain": [
       "168000"
      ]
     },
     "execution_count": 7,
     "metadata": {},
     "output_type": "execute_result"
    }
   ],
   "source": [
    "len(X_train)"
   ]
  },
  {
   "cell_type": "code",
   "execution_count": 8,
   "metadata": {},
   "outputs": [
    {
     "data": {
      "text/plain": [
       "72000"
      ]
     },
     "execution_count": 8,
     "metadata": {},
     "output_type": "execute_result"
    }
   ],
   "source": [
    "len(X_test)"
   ]
  },
  {
   "cell_type": "markdown",
   "metadata": {},
   "source": [
    "## Armamos el dataset sobre el cual cada XGBoost va a subsamplear con reposición."
   ]
  },
  {
   "cell_type": "markdown",
   "metadata": {},
   "source": [
    "### Esto se hace sobre el X_train con su respectivo label."
   ]
  },
  {
   "cell_type": "code",
   "execution_count": 9,
   "metadata": {},
   "outputs": [
    {
     "data": {
      "text/html": [
       "<div>\n",
       "<style scoped>\n",
       "    .dataframe tbody tr th:only-of-type {\n",
       "        vertical-align: middle;\n",
       "    }\n",
       "\n",
       "    .dataframe tbody tr th {\n",
       "        vertical-align: top;\n",
       "    }\n",
       "\n",
       "    .dataframe thead th {\n",
       "        text-align: right;\n",
       "    }\n",
       "</style>\n",
       "<table border=\"1\" class=\"dataframe\">\n",
       "  <thead>\n",
       "    <tr style=\"text-align: right;\">\n",
       "      <th></th>\n",
       "      <th>antiguedad</th>\n",
       "      <th>habitaciones</th>\n",
       "      <th>garages</th>\n",
       "      <th>banos</th>\n",
       "      <th>metroscubiertos</th>\n",
       "      <th>metrostotales</th>\n",
       "      <th>idzona</th>\n",
       "      <th>lat</th>\n",
       "      <th>lng</th>\n",
       "      <th>gimnasio</th>\n",
       "      <th>usosmultiples</th>\n",
       "      <th>piscina</th>\n",
       "      <th>escuelascercanas</th>\n",
       "      <th>centroscomercialescercanos</th>\n",
       "      <th>anio_publ</th>\n",
       "      <th>precio</th>\n",
       "    </tr>\n",
       "  </thead>\n",
       "  <tbody>\n",
       "    <tr>\n",
       "      <td>239101</td>\n",
       "      <td>0.0</td>\n",
       "      <td>3.0</td>\n",
       "      <td>2.0</td>\n",
       "      <td>3.0</td>\n",
       "      <td>196.0</td>\n",
       "      <td>160.0</td>\n",
       "      <td>NaN</td>\n",
       "      <td>NaN</td>\n",
       "      <td>NaN</td>\n",
       "      <td>0.0</td>\n",
       "      <td>0.0</td>\n",
       "      <td>0.0</td>\n",
       "      <td>0.0</td>\n",
       "      <td>0.0</td>\n",
       "      <td>2014</td>\n",
       "      <td>1800000.0</td>\n",
       "    </tr>\n",
       "    <tr>\n",
       "      <td>96221</td>\n",
       "      <td>20.0</td>\n",
       "      <td>4.0</td>\n",
       "      <td>2.0</td>\n",
       "      <td>2.0</td>\n",
       "      <td>245.0</td>\n",
       "      <td>196.0</td>\n",
       "      <td>104734.0</td>\n",
       "      <td>NaN</td>\n",
       "      <td>NaN</td>\n",
       "      <td>0.0</td>\n",
       "      <td>0.0</td>\n",
       "      <td>0.0</td>\n",
       "      <td>1.0</td>\n",
       "      <td>0.0</td>\n",
       "      <td>2012</td>\n",
       "      <td>1500000.0</td>\n",
       "    </tr>\n",
       "    <tr>\n",
       "      <td>144453</td>\n",
       "      <td>5.0</td>\n",
       "      <td>3.0</td>\n",
       "      <td>1.0</td>\n",
       "      <td>2.0</td>\n",
       "      <td>108.0</td>\n",
       "      <td>120.0</td>\n",
       "      <td>58952.0</td>\n",
       "      <td>NaN</td>\n",
       "      <td>NaN</td>\n",
       "      <td>0.0</td>\n",
       "      <td>0.0</td>\n",
       "      <td>0.0</td>\n",
       "      <td>1.0</td>\n",
       "      <td>1.0</td>\n",
       "      <td>2015</td>\n",
       "      <td>850000.0</td>\n",
       "    </tr>\n",
       "    <tr>\n",
       "      <td>15620</td>\n",
       "      <td>10.0</td>\n",
       "      <td>3.0</td>\n",
       "      <td>1.0</td>\n",
       "      <td>3.0</td>\n",
       "      <td>200.0</td>\n",
       "      <td>147.0</td>\n",
       "      <td>49066.0</td>\n",
       "      <td>NaN</td>\n",
       "      <td>NaN</td>\n",
       "      <td>0.0</td>\n",
       "      <td>0.0</td>\n",
       "      <td>0.0</td>\n",
       "      <td>0.0</td>\n",
       "      <td>0.0</td>\n",
       "      <td>2016</td>\n",
       "      <td>1550000.0</td>\n",
       "    </tr>\n",
       "    <tr>\n",
       "      <td>73157</td>\n",
       "      <td>NaN</td>\n",
       "      <td>NaN</td>\n",
       "      <td>0.0</td>\n",
       "      <td>NaN</td>\n",
       "      <td>NaN</td>\n",
       "      <td>250.0</td>\n",
       "      <td>24892.0</td>\n",
       "      <td>19.23339</td>\n",
       "      <td>-99.166992</td>\n",
       "      <td>0.0</td>\n",
       "      <td>0.0</td>\n",
       "      <td>0.0</td>\n",
       "      <td>0.0</td>\n",
       "      <td>0.0</td>\n",
       "      <td>2016</td>\n",
       "      <td>700000.0</td>\n",
       "    </tr>\n",
       "  </tbody>\n",
       "</table>\n",
       "</div>"
      ],
      "text/plain": [
       "        antiguedad  habitaciones  garages  banos  metroscubiertos  \\\n",
       "239101         0.0           3.0      2.0    3.0            196.0   \n",
       "96221         20.0           4.0      2.0    2.0            245.0   \n",
       "144453         5.0           3.0      1.0    2.0            108.0   \n",
       "15620         10.0           3.0      1.0    3.0            200.0   \n",
       "73157          NaN           NaN      0.0    NaN              NaN   \n",
       "\n",
       "        metrostotales    idzona       lat        lng  gimnasio  usosmultiples  \\\n",
       "239101          160.0       NaN       NaN        NaN       0.0            0.0   \n",
       "96221           196.0  104734.0       NaN        NaN       0.0            0.0   \n",
       "144453          120.0   58952.0       NaN        NaN       0.0            0.0   \n",
       "15620           147.0   49066.0       NaN        NaN       0.0            0.0   \n",
       "73157           250.0   24892.0  19.23339 -99.166992       0.0            0.0   \n",
       "\n",
       "        piscina  escuelascercanas  centroscomercialescercanos  anio_publ  \\\n",
       "239101      0.0               0.0                         0.0       2014   \n",
       "96221       0.0               1.0                         0.0       2012   \n",
       "144453      0.0               1.0                         1.0       2015   \n",
       "15620       0.0               0.0                         0.0       2016   \n",
       "73157       0.0               0.0                         0.0       2016   \n",
       "\n",
       "           precio  \n",
       "239101  1800000.0  \n",
       "96221   1500000.0  \n",
       "144453   850000.0  \n",
       "15620   1550000.0  \n",
       "73157    700000.0  "
      ]
     },
     "execution_count": 9,
     "metadata": {},
     "output_type": "execute_result"
    }
   ],
   "source": [
    "data_for_xgb = pd.concat([X_train, y_train], axis = 1)\n",
    "data_for_xgb.head()"
   ]
  },
  {
   "cell_type": "markdown",
   "metadata": {},
   "source": [
    "### En principio el subsample será de igual tamaño que el X_train original pero va a tener repeticiones.\n",
    "### Habra que comprobar si no conviene uno de menor tamaño"
   ]
  },
  {
   "cell_type": "markdown",
   "metadata": {},
   "source": [
    "# XGB_1"
   ]
  },
  {
   "cell_type": "code",
   "execution_count": 10,
   "metadata": {},
   "outputs": [],
   "source": [
    "d_for_xgb_1 = data_for_xgb.sample(frac = 1, replace = True, random_state = 57)"
   ]
  },
  {
   "cell_type": "code",
   "execution_count": 11,
   "metadata": {},
   "outputs": [
    {
     "data": {
      "text/plain": [
       "Index(['antiguedad', 'habitaciones', 'garages', 'banos', 'metroscubiertos',\n",
       "       'metrostotales', 'idzona', 'lat', 'lng', 'gimnasio', 'usosmultiples',\n",
       "       'piscina', 'escuelascercanas', 'centroscomercialescercanos',\n",
       "       'anio_publ', 'precio'],\n",
       "      dtype='object')"
      ]
     },
     "execution_count": 11,
     "metadata": {},
     "output_type": "execute_result"
    }
   ],
   "source": [
    "d_for_xgb_1.columns"
   ]
  },
  {
   "cell_type": "code",
   "execution_count": 12,
   "metadata": {},
   "outputs": [],
   "source": [
    "X_xgb_1 = d_for_xgb_1.loc[:, (d_for_xgb_1.columns != 'precio')]\n",
    "y_xgb_1 = d_for_xgb_1.loc[:, ['precio']]"
   ]
  },
  {
   "cell_type": "code",
   "execution_count": 13,
   "metadata": {},
   "outputs": [
    {
     "data": {
      "text/plain": [
       "Index(['antiguedad', 'habitaciones', 'garages', 'banos', 'metroscubiertos',\n",
       "       'metrostotales', 'idzona', 'lat', 'lng', 'gimnasio', 'usosmultiples',\n",
       "       'piscina', 'escuelascercanas', 'centroscomercialescercanos',\n",
       "       'anio_publ'],\n",
       "      dtype='object')"
      ]
     },
     "execution_count": 13,
     "metadata": {},
     "output_type": "execute_result"
    }
   ],
   "source": [
    "X_xgb_1.columns"
   ]
  },
  {
   "cell_type": "code",
   "execution_count": 14,
   "metadata": {},
   "outputs": [],
   "source": [
    "X_train_xgb_1, X_test_xgb_1, y_train_xgb_1, y_test_xgb_1 = train_test_split(X_xgb_1, y_xgb_1, test_size=0.30, random_state=1)"
   ]
  },
  {
   "cell_type": "code",
   "execution_count": 15,
   "metadata": {},
   "outputs": [],
   "source": [
    "xgb_1 = xgb.XGBRegressor(objective ='reg:squarederror', \n",
    "                colsample_bytree = 0.3, learning_rate = 1,\n",
    "                max_depth = 5, alpha = 10, n_estimators = 200)"
   ]
  },
  {
   "cell_type": "code",
   "execution_count": 16,
   "metadata": {},
   "outputs": [
    {
     "data": {
      "text/plain": [
       "XGBRegressor(alpha=10, base_score=0.5, booster='gbtree', colsample_bylevel=1,\n",
       "             colsample_bynode=1, colsample_bytree=0.3, gamma=0,\n",
       "             importance_type='gain', learning_rate=1, max_delta_step=0,\n",
       "             max_depth=5, min_child_weight=1, missing=None, n_estimators=200,\n",
       "             n_jobs=1, nthread=None, objective='reg:squarederror',\n",
       "             random_state=0, reg_alpha=0, reg_lambda=1, scale_pos_weight=1,\n",
       "             seed=None, silent=None, subsample=1, verbosity=1)"
      ]
     },
     "execution_count": 16,
     "metadata": {},
     "output_type": "execute_result"
    }
   ],
   "source": [
    "xgb_1.fit(X_train_xgb_1,y_train_xgb_1)"
   ]
  },
  {
   "cell_type": "code",
   "execution_count": 17,
   "metadata": {},
   "outputs": [],
   "source": [
    "pred_train = xgb_1.predict(X_train)"
   ]
  },
  {
   "cell_type": "code",
   "execution_count": 19,
   "metadata": {},
   "outputs": [],
   "source": [
    "pred_test = xgb_1.predict(X_test)"
   ]
  },
  {
   "cell_type": "code",
   "execution_count": 20,
   "metadata": {},
   "outputs": [
    {
     "name": "stdout",
     "output_type": "stream",
     "text": [
      "MAE train: 830.0349229659761\n",
      "MAE test: 867.2163630556589\n"
     ]
    }
   ],
   "source": [
    "mae_train = np.sqrt(sklearn.metrics.mean_absolute_error(y_train, pred_train))\n",
    "mae_test = np.sqrt(sklearn.metrics.mean_absolute_error(y_test, pred_test))\n",
    "#print(f\"MAE train: {mea_train:.5f}\")\n",
    "#print(f\"MAE test: {mea_test:.5f}\")\n",
    "print(\"MAE train: \"+str(mae_train))\n",
    "print(\"MAE test: \"+str(mae_test))"
   ]
  },
  {
   "cell_type": "markdown",
   "metadata": {},
   "source": [
    "# Se entrenan n XGB"
   ]
  },
  {
   "cell_type": "markdown",
   "metadata": {},
   "source": [
    "Se define la cantidad de xgb a entrenar"
   ]
  },
  {
   "cell_type": "code",
   "execution_count": 21,
   "metadata": {},
   "outputs": [],
   "source": [
    "n = 10"
   ]
  },
  {
   "cell_type": "code",
   "execution_count": 22,
   "metadata": {},
   "outputs": [],
   "source": [
    "xgb_created = []"
   ]
  },
  {
   "cell_type": "code",
   "execution_count": 23,
   "metadata": {},
   "outputs": [],
   "source": [
    "for i in range(n):\n",
    "    d_for_current_xgb = data_for_xgb.sample(frac = 0.8, replace = True, random_state = len(xgb_created))\n",
    "    X_for_current_xgb = d_for_current_xgb.loc[:, (d_for_current_xgb.columns != 'precio')]\n",
    "    y_for_current_xgb = d_for_current_xgb.loc[:, ['precio']]\n",
    "    current_xgb = xgb.XGBRegressor(objective ='reg:squarederror', \n",
    "                colsample_bytree = 0.3, learning_rate = 1,\n",
    "                max_depth = 5, alpha = 10, n_estimators = 200)\n",
    "    current_xgb.fit(X_for_current_xgb, y_for_current_xgb)\n",
    "    xgb_created.append(current_xgb) "
   ]
  },
  {
   "cell_type": "markdown",
   "metadata": {},
   "source": [
    "#### Se usa el 80% del X_train para entrenar los xgb con reemplazo (quizas conviene hacer un sample de igual tamaño que el X_train)"
   ]
  },
  {
   "cell_type": "markdown",
   "metadata": {},
   "source": [
    "### Disclaimer: No se testea el armado de cada XGBoost porque asumo que funciona debido a que es el mismo modelo con los mismos hiperparametros que se usó anteriormente y lo único que cambia es que se está entrenando sobre un subsample de los datos originales."
   ]
  },
  {
   "cell_type": "markdown",
   "metadata": {},
   "source": [
    "# Se arma el DF de precios para entrenar el RF"
   ]
  },
  {
   "cell_type": "code",
   "execution_count": 24,
   "metadata": {},
   "outputs": [],
   "source": [
    "RF_train = pd.DataFrame(index = X_train.index.copy())"
   ]
  },
  {
   "cell_type": "code",
   "execution_count": 25,
   "metadata": {},
   "outputs": [
    {
     "data": {
      "text/html": [
       "<div>\n",
       "<style scoped>\n",
       "    .dataframe tbody tr th:only-of-type {\n",
       "        vertical-align: middle;\n",
       "    }\n",
       "\n",
       "    .dataframe tbody tr th {\n",
       "        vertical-align: top;\n",
       "    }\n",
       "\n",
       "    .dataframe thead th {\n",
       "        text-align: right;\n",
       "    }\n",
       "</style>\n",
       "<table border=\"1\" class=\"dataframe\">\n",
       "  <thead>\n",
       "    <tr style=\"text-align: right;\">\n",
       "      <th></th>\n",
       "      <th>pred_0</th>\n",
       "      <th>pred_1</th>\n",
       "      <th>pred_2</th>\n",
       "      <th>pred_3</th>\n",
       "      <th>pred_4</th>\n",
       "      <th>pred_5</th>\n",
       "      <th>pred_6</th>\n",
       "      <th>pred_7</th>\n",
       "      <th>pred_8</th>\n",
       "      <th>pred_9</th>\n",
       "    </tr>\n",
       "  </thead>\n",
       "  <tbody>\n",
       "    <tr>\n",
       "      <td>239101</td>\n",
       "      <td>1.761177e+06</td>\n",
       "      <td>2328433.500</td>\n",
       "      <td>2394941.250</td>\n",
       "      <td>2122704.750</td>\n",
       "      <td>1994524.750</td>\n",
       "      <td>2340996.500</td>\n",
       "      <td>1953504.875</td>\n",
       "      <td>2314476.750</td>\n",
       "      <td>2092415.625</td>\n",
       "      <td>1901062.750</td>\n",
       "    </tr>\n",
       "    <tr>\n",
       "      <td>96221</td>\n",
       "      <td>1.669640e+06</td>\n",
       "      <td>2699682.750</td>\n",
       "      <td>1632727.625</td>\n",
       "      <td>2373441.500</td>\n",
       "      <td>2003151.375</td>\n",
       "      <td>1757368.750</td>\n",
       "      <td>1285328.750</td>\n",
       "      <td>1771264.625</td>\n",
       "      <td>1837457.500</td>\n",
       "      <td>1542684.250</td>\n",
       "    </tr>\n",
       "    <tr>\n",
       "      <td>144453</td>\n",
       "      <td>1.151952e+06</td>\n",
       "      <td>1036626.750</td>\n",
       "      <td>1197793.625</td>\n",
       "      <td>1479645.500</td>\n",
       "      <td>1259857.750</td>\n",
       "      <td>1143053.625</td>\n",
       "      <td>1118259.000</td>\n",
       "      <td>1241062.875</td>\n",
       "      <td>1289146.125</td>\n",
       "      <td>1149510.875</td>\n",
       "    </tr>\n",
       "    <tr>\n",
       "      <td>15620</td>\n",
       "      <td>1.661318e+06</td>\n",
       "      <td>1869921.500</td>\n",
       "      <td>1401618.500</td>\n",
       "      <td>1834240.875</td>\n",
       "      <td>1319009.750</td>\n",
       "      <td>2155085.750</td>\n",
       "      <td>2039872.125</td>\n",
       "      <td>1747693.500</td>\n",
       "      <td>1947210.125</td>\n",
       "      <td>1308299.125</td>\n",
       "    </tr>\n",
       "    <tr>\n",
       "      <td>73157</td>\n",
       "      <td>8.872581e+05</td>\n",
       "      <td>2086039.375</td>\n",
       "      <td>550031.125</td>\n",
       "      <td>2376920.750</td>\n",
       "      <td>4073495.000</td>\n",
       "      <td>2245761.750</td>\n",
       "      <td>2681528.250</td>\n",
       "      <td>1173561.375</td>\n",
       "      <td>1975791.750</td>\n",
       "      <td>5280803.500</td>\n",
       "    </tr>\n",
       "  </tbody>\n",
       "</table>\n",
       "</div>"
      ],
      "text/plain": [
       "              pred_0       pred_1       pred_2       pred_3       pred_4  \\\n",
       "239101  1.761177e+06  2328433.500  2394941.250  2122704.750  1994524.750   \n",
       "96221   1.669640e+06  2699682.750  1632727.625  2373441.500  2003151.375   \n",
       "144453  1.151952e+06  1036626.750  1197793.625  1479645.500  1259857.750   \n",
       "15620   1.661318e+06  1869921.500  1401618.500  1834240.875  1319009.750   \n",
       "73157   8.872581e+05  2086039.375   550031.125  2376920.750  4073495.000   \n",
       "\n",
       "             pred_5       pred_6       pred_7       pred_8       pred_9  \n",
       "239101  2340996.500  1953504.875  2314476.750  2092415.625  1901062.750  \n",
       "96221   1757368.750  1285328.750  1771264.625  1837457.500  1542684.250  \n",
       "144453  1143053.625  1118259.000  1241062.875  1289146.125  1149510.875  \n",
       "15620   2155085.750  2039872.125  1747693.500  1947210.125  1308299.125  \n",
       "73157   2245761.750  2681528.250  1173561.375  1975791.750  5280803.500  "
      ]
     },
     "execution_count": 25,
     "metadata": {},
     "output_type": "execute_result"
    }
   ],
   "source": [
    "for i in range(n):\n",
    "    current_price_pred = xgb_created[i].predict(X_train)\n",
    "    RF_train['pred_{}'.format(i)] = current_price_pred\n",
    "RF_train.head()"
   ]
  },
  {
   "cell_type": "markdown",
   "metadata": {},
   "source": [
    "# Entreno el randomForest con RF_train"
   ]
  },
  {
   "cell_type": "code",
   "execution_count": 26,
   "metadata": {},
   "outputs": [
    {
     "data": {
      "text/plain": [
       "RandomForestRegressor(bootstrap=True, criterion='mse', max_depth=9,\n",
       "                      max_features='auto', max_leaf_nodes=None,\n",
       "                      min_impurity_decrease=0.0, min_impurity_split=None,\n",
       "                      min_samples_leaf=1, min_samples_split=2,\n",
       "                      min_weight_fraction_leaf=0.0, n_estimators=30,\n",
       "                      n_jobs=None, oob_score=False, random_state=0, verbose=0,\n",
       "                      warm_start=False)"
      ]
     },
     "execution_count": 26,
     "metadata": {},
     "output_type": "execute_result"
    }
   ],
   "source": [
    "model_RF = RandomForestRegressor(n_estimators = 30, max_depth = 9, min_samples_split = 2 ,max_features = \"auto\", random_state = 0)\n",
    "model_RF.fit(RF_train, y_train.values.ravel())"
   ]
  },
  {
   "cell_type": "markdown",
   "metadata": {},
   "source": [
    "# Testeo el modelo final"
   ]
  },
  {
   "cell_type": "markdown",
   "metadata": {},
   "source": [
    "## Armo el DF para X_test"
   ]
  },
  {
   "cell_type": "code",
   "execution_count": 27,
   "metadata": {},
   "outputs": [],
   "source": [
    "RF_test = pd.DataFrame(index = X_test.index.copy())\n"
   ]
  },
  {
   "cell_type": "code",
   "execution_count": 28,
   "metadata": {},
   "outputs": [
    {
     "data": {
      "text/html": [
       "<div>\n",
       "<style scoped>\n",
       "    .dataframe tbody tr th:only-of-type {\n",
       "        vertical-align: middle;\n",
       "    }\n",
       "\n",
       "    .dataframe tbody tr th {\n",
       "        vertical-align: top;\n",
       "    }\n",
       "\n",
       "    .dataframe thead th {\n",
       "        text-align: right;\n",
       "    }\n",
       "</style>\n",
       "<table border=\"1\" class=\"dataframe\">\n",
       "  <thead>\n",
       "    <tr style=\"text-align: right;\">\n",
       "      <th></th>\n",
       "      <th>pred_0</th>\n",
       "      <th>pred_1</th>\n",
       "      <th>pred_2</th>\n",
       "      <th>pred_3</th>\n",
       "      <th>pred_4</th>\n",
       "      <th>pred_5</th>\n",
       "      <th>pred_6</th>\n",
       "      <th>pred_7</th>\n",
       "      <th>pred_8</th>\n",
       "      <th>pred_9</th>\n",
       "    </tr>\n",
       "  </thead>\n",
       "  <tbody>\n",
       "    <tr>\n",
       "      <td>132827</td>\n",
       "      <td>2917352.000</td>\n",
       "      <td>1494071.125</td>\n",
       "      <td>1.403146e+06</td>\n",
       "      <td>1078536.375</td>\n",
       "      <td>9.074282e+05</td>\n",
       "      <td>535706.500</td>\n",
       "      <td>1616275.125</td>\n",
       "      <td>1414554.000</td>\n",
       "      <td>1.945946e+06</td>\n",
       "      <td>1.855855e+06</td>\n",
       "    </tr>\n",
       "    <tr>\n",
       "      <td>210008</td>\n",
       "      <td>3411059.250</td>\n",
       "      <td>3215523.250</td>\n",
       "      <td>1.706625e+06</td>\n",
       "      <td>1994859.875</td>\n",
       "      <td>2.363687e+06</td>\n",
       "      <td>3385376.000</td>\n",
       "      <td>2158268.500</td>\n",
       "      <td>2793034.500</td>\n",
       "      <td>3.059828e+06</td>\n",
       "      <td>4.175267e+06</td>\n",
       "    </tr>\n",
       "    <tr>\n",
       "      <td>189056</td>\n",
       "      <td>1882173.750</td>\n",
       "      <td>2674371.500</td>\n",
       "      <td>1.948628e+06</td>\n",
       "      <td>1164650.125</td>\n",
       "      <td>3.326784e+06</td>\n",
       "      <td>2476381.250</td>\n",
       "      <td>1502621.375</td>\n",
       "      <td>2628161.000</td>\n",
       "      <td>3.342848e+06</td>\n",
       "      <td>2.878047e+06</td>\n",
       "    </tr>\n",
       "    <tr>\n",
       "      <td>131466</td>\n",
       "      <td>1457941.250</td>\n",
       "      <td>1761801.000</td>\n",
       "      <td>1.505107e+06</td>\n",
       "      <td>1502175.000</td>\n",
       "      <td>1.208909e+06</td>\n",
       "      <td>1178786.875</td>\n",
       "      <td>1475780.375</td>\n",
       "      <td>1803031.875</td>\n",
       "      <td>1.402625e+06</td>\n",
       "      <td>1.706518e+06</td>\n",
       "    </tr>\n",
       "    <tr>\n",
       "      <td>207302</td>\n",
       "      <td>725620.625</td>\n",
       "      <td>827500.625</td>\n",
       "      <td>-5.044249e+05</td>\n",
       "      <td>771888.000</td>\n",
       "      <td>3.522313e+05</td>\n",
       "      <td>-245262.250</td>\n",
       "      <td>959444.625</td>\n",
       "      <td>949291.375</td>\n",
       "      <td>5.208862e+05</td>\n",
       "      <td>2.119051e+05</td>\n",
       "    </tr>\n",
       "  </tbody>\n",
       "</table>\n",
       "</div>"
      ],
      "text/plain": [
       "             pred_0       pred_1        pred_2       pred_3        pred_4  \\\n",
       "132827  2917352.000  1494071.125  1.403146e+06  1078536.375  9.074282e+05   \n",
       "210008  3411059.250  3215523.250  1.706625e+06  1994859.875  2.363687e+06   \n",
       "189056  1882173.750  2674371.500  1.948628e+06  1164650.125  3.326784e+06   \n",
       "131466  1457941.250  1761801.000  1.505107e+06  1502175.000  1.208909e+06   \n",
       "207302   725620.625   827500.625 -5.044249e+05   771888.000  3.522313e+05   \n",
       "\n",
       "             pred_5       pred_6       pred_7        pred_8        pred_9  \n",
       "132827   535706.500  1616275.125  1414554.000  1.945946e+06  1.855855e+06  \n",
       "210008  3385376.000  2158268.500  2793034.500  3.059828e+06  4.175267e+06  \n",
       "189056  2476381.250  1502621.375  2628161.000  3.342848e+06  2.878047e+06  \n",
       "131466  1178786.875  1475780.375  1803031.875  1.402625e+06  1.706518e+06  \n",
       "207302  -245262.250   959444.625   949291.375  5.208862e+05  2.119051e+05  "
      ]
     },
     "execution_count": 28,
     "metadata": {},
     "output_type": "execute_result"
    }
   ],
   "source": [
    "for i in range(n):\n",
    "    current_price_pred = xgb_created[i].predict(X_test)\n",
    "    RF_test['pred_{}'.format(i)] = current_price_pred\n",
    "RF_test.head()"
   ]
  },
  {
   "cell_type": "markdown",
   "metadata": {},
   "source": [
    "## Se hacen las dos predicciones necesarias"
   ]
  },
  {
   "cell_type": "code",
   "execution_count": 29,
   "metadata": {},
   "outputs": [],
   "source": [
    "pred_train = model_RF.predict(RF_train)\n",
    "pred_test = model_RF.predict(RF_test)"
   ]
  },
  {
   "cell_type": "markdown",
   "metadata": {},
   "source": [
    "### Metrica de Mean Absolute Error (La de Kaggle) ?? (Hay que preguntar)"
   ]
  },
  {
   "cell_type": "code",
   "execution_count": 30,
   "metadata": {},
   "outputs": [
    {
     "name": "stdout",
     "output_type": "stream",
     "text": [
      "MAE train: 741.2171746820383\n",
      "MAE test: 794.3066181019738\n"
     ]
    }
   ],
   "source": [
    "mae_train = np.sqrt(sklearn.metrics.mean_absolute_error(y_train, pred_train))\n",
    "mae_test = np.sqrt(sklearn.metrics.mean_absolute_error(y_test, pred_test))\n",
    "#print(f\"MAE train: {mea_train:.5f}\")\n",
    "#print(f\"MAE test: {mea_test:.5f}\")\n",
    "print(\"MAE train: \"+str(mae_train))\n",
    "print(\"MAE test: \"+str(mae_test))"
   ]
  },
  {
   "cell_type": "code",
   "execution_count": 39,
   "metadata": {},
   "outputs": [
    {
     "data": {
      "text/plain": [
       "array([0.03930481, 0.01887111, 0.13676228, 0.03708014, 0.08205812,\n",
       "       0.25933648, 0.04852805, 0.35237021, 0.00890582, 0.01678296])"
      ]
     },
     "execution_count": 39,
     "metadata": {},
     "output_type": "execute_result"
    }
   ],
   "source": [
    "model_RF.feature_importances_"
   ]
  },
  {
   "cell_type": "code",
   "execution_count": 41,
   "metadata": {},
   "outputs": [
    {
     "data": {
      "image/png": "[encoded data removed]",
      "text/plain": [
       "<Figure size 1080x1080 with 1 Axes>"
      ]
     },
     "metadata": {
      "needs_background": "light"
     },
     "output_type": "display_data"
    }
   ],
   "source": [
    "plt.figure(figsize = (15,15))\n",
    "plt.barh(RF_train.columns, model_RF.feature_importances_)\n",
    "plt.xlabel('Importancia')\n",
    "plt.ylabel('Features')\n",
    "plt.title('Importancia Features con RF')\n",
    "plt.show()"
   ]
  },
  {
   "cell_type": "markdown",
   "metadata": {},
   "source": [
    "# Se genera el archivo para subir a Kaggle"
   ]
  },
  {
   "cell_type": "code",
   "execution_count": 31,
   "metadata": {},
   "outputs": [],
   "source": [
    "test_set = pd.read_csv(\"test_set_xgb.csv\")"
   ]
  },
  {
   "cell_type": "code",
   "execution_count": 32,
   "metadata": {},
   "outputs": [
    {
     "data": {
      "text/plain": [
       "Index(['id', 'antiguedad', 'habitaciones', 'garages', 'banos',\n",
       "       'metroscubiertos', 'metrostotales', 'idzona', 'lat', 'lng', 'gimnasio',\n",
       "       'usosmultiples', 'piscina', 'escuelascercanas',\n",
       "       'centroscomercialescercanos', 'anio_publ'],\n",
       "      dtype='object')"
      ]
     },
     "execution_count": 32,
     "metadata": {},
     "output_type": "execute_result"
    }
   ],
   "source": [
    "test_set.columns"
   ]
  },
  {
   "cell_type": "code",
   "execution_count": 33,
   "metadata": {},
   "outputs": [],
   "source": [
    "X_test_set = test_set.loc[:, test_set.columns != 'id']"
   ]
  },
  {
   "cell_type": "markdown",
   "metadata": {},
   "source": [
    "## Armo el DF con las predicciones de test"
   ]
  },
  {
   "cell_type": "code",
   "execution_count": 34,
   "metadata": {},
   "outputs": [],
   "source": [
    "RF_test_set = pd.DataFrame(index = test_set.index.copy())"
   ]
  },
  {
   "cell_type": "code",
   "execution_count": 35,
   "metadata": {},
   "outputs": [
    {
     "data": {
      "text/html": [
       "<div>\n",
       "<style scoped>\n",
       "    .dataframe tbody tr th:only-of-type {\n",
       "        vertical-align: middle;\n",
       "    }\n",
       "\n",
       "    .dataframe tbody tr th {\n",
       "        vertical-align: top;\n",
       "    }\n",
       "\n",
       "    .dataframe thead th {\n",
       "        text-align: right;\n",
       "    }\n",
       "</style>\n",
       "<table border=\"1\" class=\"dataframe\">\n",
       "  <thead>\n",
       "    <tr style=\"text-align: right;\">\n",
       "      <th></th>\n",
       "      <th>pred_0</th>\n",
       "      <th>pred_1</th>\n",
       "      <th>pred_2</th>\n",
       "      <th>pred_3</th>\n",
       "      <th>pred_4</th>\n",
       "      <th>pred_5</th>\n",
       "      <th>pred_6</th>\n",
       "      <th>pred_7</th>\n",
       "      <th>pred_8</th>\n",
       "      <th>pred_9</th>\n",
       "    </tr>\n",
       "  </thead>\n",
       "  <tbody>\n",
       "    <tr>\n",
       "      <td>0</td>\n",
       "      <td>5662365.500</td>\n",
       "      <td>5404562.500</td>\n",
       "      <td>6.409374e+06</td>\n",
       "      <td>5.287995e+06</td>\n",
       "      <td>7.504102e+06</td>\n",
       "      <td>7046311.00</td>\n",
       "      <td>5.884945e+06</td>\n",
       "      <td>8016892.500</td>\n",
       "      <td>5321656.500</td>\n",
       "      <td>6.893730e+06</td>\n",
       "    </tr>\n",
       "    <tr>\n",
       "      <td>1</td>\n",
       "      <td>910470.250</td>\n",
       "      <td>1444256.375</td>\n",
       "      <td>8.033089e+05</td>\n",
       "      <td>8.540992e+05</td>\n",
       "      <td>1.726592e+06</td>\n",
       "      <td>1192132.00</td>\n",
       "      <td>1.495719e+06</td>\n",
       "      <td>1291154.375</td>\n",
       "      <td>2781429.250</td>\n",
       "      <td>1.205634e+06</td>\n",
       "    </tr>\n",
       "    <tr>\n",
       "      <td>2</td>\n",
       "      <td>1863433.375</td>\n",
       "      <td>2804849.750</td>\n",
       "      <td>3.261878e+06</td>\n",
       "      <td>1.810418e+06</td>\n",
       "      <td>2.507108e+06</td>\n",
       "      <td>2671923.75</td>\n",
       "      <td>2.736235e+06</td>\n",
       "      <td>1229542.125</td>\n",
       "      <td>1991713.625</td>\n",
       "      <td>2.420992e+06</td>\n",
       "    </tr>\n",
       "    <tr>\n",
       "      <td>3</td>\n",
       "      <td>1428380.250</td>\n",
       "      <td>1706897.125</td>\n",
       "      <td>1.365380e+06</td>\n",
       "      <td>2.303738e+06</td>\n",
       "      <td>1.253487e+06</td>\n",
       "      <td>1402017.75</td>\n",
       "      <td>1.967199e+06</td>\n",
       "      <td>1830954.125</td>\n",
       "      <td>2650211.750</td>\n",
       "      <td>1.306691e+06</td>\n",
       "    </tr>\n",
       "    <tr>\n",
       "      <td>4</td>\n",
       "      <td>940762.125</td>\n",
       "      <td>983711.125</td>\n",
       "      <td>4.962658e+05</td>\n",
       "      <td>7.801016e+05</td>\n",
       "      <td>4.593129e+05</td>\n",
       "      <td>914339.50</td>\n",
       "      <td>1.346190e+05</td>\n",
       "      <td>1181051.250</td>\n",
       "      <td>757288.750</td>\n",
       "      <td>6.762069e+05</td>\n",
       "    </tr>\n",
       "  </tbody>\n",
       "</table>\n",
       "</div>"
      ],
      "text/plain": [
       "        pred_0       pred_1        pred_2        pred_3        pred_4  \\\n",
       "0  5662365.500  5404562.500  6.409374e+06  5.287995e+06  7.504102e+06   \n",
       "1   910470.250  1444256.375  8.033089e+05  8.540992e+05  1.726592e+06   \n",
       "2  1863433.375  2804849.750  3.261878e+06  1.810418e+06  2.507108e+06   \n",
       "3  1428380.250  1706897.125  1.365380e+06  2.303738e+06  1.253487e+06   \n",
       "4   940762.125   983711.125  4.962658e+05  7.801016e+05  4.593129e+05   \n",
       "\n",
       "       pred_5        pred_6       pred_7       pred_8        pred_9  \n",
       "0  7046311.00  5.884945e+06  8016892.500  5321656.500  6.893730e+06  \n",
       "1  1192132.00  1.495719e+06  1291154.375  2781429.250  1.205634e+06  \n",
       "2  2671923.75  2.736235e+06  1229542.125  1991713.625  2.420992e+06  \n",
       "3  1402017.75  1.967199e+06  1830954.125  2650211.750  1.306691e+06  \n",
       "4   914339.50  1.346190e+05  1181051.250   757288.750  6.762069e+05  "
      ]
     },
     "execution_count": 35,
     "metadata": {},
     "output_type": "execute_result"
    }
   ],
   "source": [
    "for i in range(n):\n",
    "    current_price_pred = xgb_created[i].predict(X_test_set)\n",
    "    RF_test_set['pred_{}'.format(i)] = current_price_pred\n",
    "RF_test_set.head()"
   ]
  },
  {
   "cell_type": "code",
   "execution_count": 36,
   "metadata": {},
   "outputs": [],
   "source": [
    "pred_a_kaggle = model_RF.predict(RF_test_set)"
   ]
  },
  {
   "cell_type": "code",
   "execution_count": 37,
   "metadata": {},
   "outputs": [
    {
     "data": {
      "text/html": [
       "<div>\n",
       "<style scoped>\n",
       "    .dataframe tbody tr th:only-of-type {\n",
       "        vertical-align: middle;\n",
       "    }\n",
       "\n",
       "    .dataframe tbody tr th {\n",
       "        vertical-align: top;\n",
       "    }\n",
       "\n",
       "    .dataframe thead th {\n",
       "        text-align: right;\n",
       "    }\n",
       "</style>\n",
       "<table border=\"1\" class=\"dataframe\">\n",
       "  <thead>\n",
       "    <tr style=\"text-align: right;\">\n",
       "      <th></th>\n",
       "      <th>id</th>\n",
       "      <th>target</th>\n",
       "    </tr>\n",
       "  </thead>\n",
       "  <tbody>\n",
       "    <tr>\n",
       "      <td>0</td>\n",
       "      <td>4941</td>\n",
       "      <td>6.670484e+06</td>\n",
       "    </tr>\n",
       "    <tr>\n",
       "      <td>1</td>\n",
       "      <td>51775</td>\n",
       "      <td>1.166202e+06</td>\n",
       "    </tr>\n",
       "    <tr>\n",
       "      <td>2</td>\n",
       "      <td>115253</td>\n",
       "      <td>2.250235e+06</td>\n",
       "    </tr>\n",
       "    <tr>\n",
       "      <td>3</td>\n",
       "      <td>299321</td>\n",
       "      <td>1.714692e+06</td>\n",
       "    </tr>\n",
       "    <tr>\n",
       "      <td>4</td>\n",
       "      <td>173570</td>\n",
       "      <td>7.385834e+05</td>\n",
       "    </tr>\n",
       "  </tbody>\n",
       "</table>\n",
       "</div>"
      ],
      "text/plain": [
       "       id        target\n",
       "0    4941  6.670484e+06\n",
       "1   51775  1.166202e+06\n",
       "2  115253  2.250235e+06\n",
       "3  299321  1.714692e+06\n",
       "4  173570  7.385834e+05"
      ]
     },
     "execution_count": 37,
     "metadata": {},
     "output_type": "execute_result"
    }
   ],
   "source": [
    "df_a_kaggle = pd.DataFrame()\n",
    "df_a_kaggle['id'] = test_set['id']\n",
    "df_a_kaggle['target'] = pred_a_kaggle\n",
    "df_a_kaggle.head()"
   ]
  },
  {
   "cell_type": "code",
   "execution_count": 38,
   "metadata": {},
   "outputs": [],
   "source": [
    "df_a_kaggle.to_csv(\"subir_a_kaggle\", header = True, index = False)"
   ]
  }
 ],
 "metadata": {
  "kernelspec": {
   "display_name": "Python 3",
   "language": "python",
   "name": "python3"
  },
  "language_info": {
   "codemirror_mode": {
    "name": "ipython",
    "version": 3
   },
   "file_extension": ".py",
   "mimetype": "text/x-python",
   "name": "python",
   "nbconvert_exporter": "python",
   "pygments_lexer": "ipython3",
   "version": "3.7.4"
  }
 },
 "nbformat": 4,
 "nbformat_minor": 4
}
