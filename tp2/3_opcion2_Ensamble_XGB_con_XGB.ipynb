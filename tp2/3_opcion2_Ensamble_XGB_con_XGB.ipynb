{
 "cells": [
  {
   "cell_type": "code",
   "execution_count": 23,
   "metadata": {},
   "outputs": [],
   "source": [
    "import csv\n",
    "import pandas as pd\n",
    "import numpy as np\n",
    "from datetime import datetime\n",
    "import seaborn as sns\n",
    "import matplotlib.pyplot as plt\n",
    "import sklearn\n",
    "from sklearn.ensemble import RandomForestRegressor\n",
    "from sklearn.metrics import mean_squared_log_error\n",
    "# Importamos utilidades y modelos de sklearn\n",
    "from sklearn.preprocessing import Imputer\n",
    "from sklearn.model_selection import train_test_split\n",
    "import xgboost as xgb\n",
    "from sklearn.model_selection import RandomizedSearchCV, GridSearchCV\n",
    "from sklearn.metrics import roc_auc_score\n",
    "from sklearn.model_selection import StratifiedKFold\n"
   ]
  },
  {
   "cell_type": "markdown",
   "metadata": {},
   "source": [
    "# Se levanta el split hecho en el NoteBook anterior"
   ]
  },
  {
   "cell_type": "code",
   "execution_count": 24,
   "metadata": {},
   "outputs": [
    {
     "data": {
      "text/html": [
       "<div>\n",
       "<style scoped>\n",
       "    .dataframe tbody tr th:only-of-type {\n",
       "        vertical-align: middle;\n",
       "    }\n",
       "\n",
       "    .dataframe tbody tr th {\n",
       "        vertical-align: top;\n",
       "    }\n",
       "\n",
       "    .dataframe thead th {\n",
       "        text-align: right;\n",
       "    }\n",
       "</style>\n",
       "<table border=\"1\" class=\"dataframe\">\n",
       "  <thead>\n",
       "    <tr style=\"text-align: right;\">\n",
       "      <th></th>\n",
       "      <th>antiguedad</th>\n",
       "      <th>habitaciones</th>\n",
       "      <th>garages</th>\n",
       "      <th>banos</th>\n",
       "      <th>metroscubiertos</th>\n",
       "      <th>metrostotales</th>\n",
       "      <th>idzona</th>\n",
       "      <th>lat</th>\n",
       "      <th>lng</th>\n",
       "      <th>gimnasio</th>\n",
       "      <th>usosmultiples</th>\n",
       "      <th>piscina</th>\n",
       "      <th>escuelascercanas</th>\n",
       "      <th>centroscomercialescercanos</th>\n",
       "      <th>anio_publ</th>\n",
       "    </tr>\n",
       "  </thead>\n",
       "  <tbody>\n",
       "    <tr>\n",
       "      <td>0</td>\n",
       "      <td>0.0</td>\n",
       "      <td>3.0</td>\n",
       "      <td>2.0</td>\n",
       "      <td>3.0</td>\n",
       "      <td>196.0</td>\n",
       "      <td>160.0</td>\n",
       "      <td>NaN</td>\n",
       "      <td>NaN</td>\n",
       "      <td>NaN</td>\n",
       "      <td>0.0</td>\n",
       "      <td>0.0</td>\n",
       "      <td>0.0</td>\n",
       "      <td>0.0</td>\n",
       "      <td>0.0</td>\n",
       "      <td>2014</td>\n",
       "    </tr>\n",
       "    <tr>\n",
       "      <td>1</td>\n",
       "      <td>20.0</td>\n",
       "      <td>4.0</td>\n",
       "      <td>2.0</td>\n",
       "      <td>2.0</td>\n",
       "      <td>245.0</td>\n",
       "      <td>196.0</td>\n",
       "      <td>104734.0</td>\n",
       "      <td>NaN</td>\n",
       "      <td>NaN</td>\n",
       "      <td>0.0</td>\n",
       "      <td>0.0</td>\n",
       "      <td>0.0</td>\n",
       "      <td>1.0</td>\n",
       "      <td>0.0</td>\n",
       "      <td>2012</td>\n",
       "    </tr>\n",
       "    <tr>\n",
       "      <td>2</td>\n",
       "      <td>5.0</td>\n",
       "      <td>3.0</td>\n",
       "      <td>1.0</td>\n",
       "      <td>2.0</td>\n",
       "      <td>108.0</td>\n",
       "      <td>120.0</td>\n",
       "      <td>58952.0</td>\n",
       "      <td>NaN</td>\n",
       "      <td>NaN</td>\n",
       "      <td>0.0</td>\n",
       "      <td>0.0</td>\n",
       "      <td>0.0</td>\n",
       "      <td>1.0</td>\n",
       "      <td>1.0</td>\n",
       "      <td>2015</td>\n",
       "    </tr>\n",
       "    <tr>\n",
       "      <td>3</td>\n",
       "      <td>10.0</td>\n",
       "      <td>3.0</td>\n",
       "      <td>1.0</td>\n",
       "      <td>3.0</td>\n",
       "      <td>200.0</td>\n",
       "      <td>147.0</td>\n",
       "      <td>49066.0</td>\n",
       "      <td>NaN</td>\n",
       "      <td>NaN</td>\n",
       "      <td>0.0</td>\n",
       "      <td>0.0</td>\n",
       "      <td>0.0</td>\n",
       "      <td>0.0</td>\n",
       "      <td>0.0</td>\n",
       "      <td>2016</td>\n",
       "    </tr>\n",
       "    <tr>\n",
       "      <td>4</td>\n",
       "      <td>NaN</td>\n",
       "      <td>NaN</td>\n",
       "      <td>0.0</td>\n",
       "      <td>NaN</td>\n",
       "      <td>NaN</td>\n",
       "      <td>250.0</td>\n",
       "      <td>24892.0</td>\n",
       "      <td>19.23339</td>\n",
       "      <td>-99.166991</td>\n",
       "      <td>0.0</td>\n",
       "      <td>0.0</td>\n",
       "      <td>0.0</td>\n",
       "      <td>0.0</td>\n",
       "      <td>0.0</td>\n",
       "      <td>2016</td>\n",
       "    </tr>\n",
       "  </tbody>\n",
       "</table>\n",
       "</div>"
      ],
      "text/plain": [
       "   antiguedad  habitaciones  garages  banos  metroscubiertos  metrostotales  \\\n",
       "0         0.0           3.0      2.0    3.0            196.0          160.0   \n",
       "1        20.0           4.0      2.0    2.0            245.0          196.0   \n",
       "2         5.0           3.0      1.0    2.0            108.0          120.0   \n",
       "3        10.0           3.0      1.0    3.0            200.0          147.0   \n",
       "4         NaN           NaN      0.0    NaN              NaN          250.0   \n",
       "\n",
       "     idzona       lat        lng  gimnasio  usosmultiples  piscina  \\\n",
       "0       NaN       NaN        NaN       0.0            0.0      0.0   \n",
       "1  104734.0       NaN        NaN       0.0            0.0      0.0   \n",
       "2   58952.0       NaN        NaN       0.0            0.0      0.0   \n",
       "3   49066.0       NaN        NaN       0.0            0.0      0.0   \n",
       "4   24892.0  19.23339 -99.166991       0.0            0.0      0.0   \n",
       "\n",
       "   escuelascercanas  centroscomercialescercanos  anio_publ  \n",
       "0               0.0                         0.0       2014  \n",
       "1               1.0                         0.0       2012  \n",
       "2               1.0                         1.0       2015  \n",
       "3               0.0                         0.0       2016  \n",
       "4               0.0                         0.0       2016  "
      ]
     },
     "execution_count": 24,
     "metadata": {},
     "output_type": "execute_result"
    }
   ],
   "source": [
    "X_train = pd.read_csv(\"X_train\")\n",
    "X_train.head()"
   ]
  },
  {
   "cell_type": "code",
   "execution_count": 25,
   "metadata": {},
   "outputs": [],
   "source": [
    "X_test = pd.read_csv(\"X_test\")"
   ]
  },
  {
   "cell_type": "code",
   "execution_count": 26,
   "metadata": {},
   "outputs": [],
   "source": [
    "y_train = pd.read_csv(\"y_train\")"
   ]
  },
  {
   "cell_type": "code",
   "execution_count": 27,
   "metadata": {},
   "outputs": [],
   "source": [
    "y_test = pd.read_csv(\"y_test\")"
   ]
  },
  {
   "cell_type": "markdown",
   "metadata": {},
   "source": [
    "# Se levantan todos los XGBoost guardados"
   ]
  },
  {
   "cell_type": "code",
   "execution_count": 28,
   "metadata": {},
   "outputs": [],
   "source": [
    "xgb_created = []"
   ]
  },
  {
   "cell_type": "markdown",
   "metadata": {},
   "source": [
    "## Atencion! n tiene que coincidir con la cantidad guardada!"
   ]
  },
  {
   "cell_type": "code",
   "execution_count": 29,
   "metadata": {},
   "outputs": [],
   "source": [
    "n = 100"
   ]
  },
  {
   "cell_type": "code",
   "execution_count": 30,
   "metadata": {},
   "outputs": [],
   "source": [
    "for i in range(n):\n",
    "    current_xgb = xgb.XGBRegressor()\n",
    "    current_xgb.load_model(\"xgb_{}\".format(i))\n",
    "    xgb_created.append(current_xgb)"
   ]
  },
  {
   "cell_type": "markdown",
   "metadata": {},
   "source": [
    "# Se arma el DF de precios para entrenar el RF"
   ]
  },
  {
   "cell_type": "code",
   "execution_count": 31,
   "metadata": {},
   "outputs": [],
   "source": [
    "XGB_ens_train = pd.DataFrame(index = X_train.index.copy())"
   ]
  },
  {
   "cell_type": "code",
   "execution_count": 32,
   "metadata": {},
   "outputs": [
    {
     "data": {
      "text/html": [
       "<div>\n",
       "<style scoped>\n",
       "    .dataframe tbody tr th:only-of-type {\n",
       "        vertical-align: middle;\n",
       "    }\n",
       "\n",
       "    .dataframe tbody tr th {\n",
       "        vertical-align: top;\n",
       "    }\n",
       "\n",
       "    .dataframe thead th {\n",
       "        text-align: right;\n",
       "    }\n",
       "</style>\n",
       "<table border=\"1\" class=\"dataframe\">\n",
       "  <thead>\n",
       "    <tr style=\"text-align: right;\">\n",
       "      <th></th>\n",
       "      <th>pred_0</th>\n",
       "      <th>pred_1</th>\n",
       "      <th>pred_2</th>\n",
       "      <th>pred_3</th>\n",
       "      <th>pred_4</th>\n",
       "      <th>pred_5</th>\n",
       "      <th>pred_6</th>\n",
       "      <th>pred_7</th>\n",
       "      <th>pred_8</th>\n",
       "      <th>pred_9</th>\n",
       "    </tr>\n",
       "  </thead>\n",
       "  <tbody>\n",
       "    <tr>\n",
       "      <td>0</td>\n",
       "      <td>1675568.750</td>\n",
       "      <td>2215047.250</td>\n",
       "      <td>2228394.000</td>\n",
       "      <td>1898943.625</td>\n",
       "      <td>1.922905e+06</td>\n",
       "      <td>1287235.750</td>\n",
       "      <td>1860694.000</td>\n",
       "      <td>2323569.750</td>\n",
       "      <td>2163748.250</td>\n",
       "      <td>1943703.500</td>\n",
       "    </tr>\n",
       "    <tr>\n",
       "      <td>1</td>\n",
       "      <td>1133347.250</td>\n",
       "      <td>2150456.000</td>\n",
       "      <td>2499955.000</td>\n",
       "      <td>1865205.625</td>\n",
       "      <td>2.163361e+06</td>\n",
       "      <td>1703291.500</td>\n",
       "      <td>1709310.000</td>\n",
       "      <td>2634906.250</td>\n",
       "      <td>1544825.750</td>\n",
       "      <td>2030618.750</td>\n",
       "    </tr>\n",
       "    <tr>\n",
       "      <td>2</td>\n",
       "      <td>1297917.750</td>\n",
       "      <td>1093787.875</td>\n",
       "      <td>1133797.500</td>\n",
       "      <td>1215002.500</td>\n",
       "      <td>9.620698e+05</td>\n",
       "      <td>1360640.625</td>\n",
       "      <td>1284997.500</td>\n",
       "      <td>1237130.500</td>\n",
       "      <td>1305967.125</td>\n",
       "      <td>1028484.125</td>\n",
       "    </tr>\n",
       "    <tr>\n",
       "      <td>3</td>\n",
       "      <td>1428815.125</td>\n",
       "      <td>1736197.000</td>\n",
       "      <td>1948891.625</td>\n",
       "      <td>1995871.625</td>\n",
       "      <td>2.000884e+06</td>\n",
       "      <td>1635182.875</td>\n",
       "      <td>1841221.125</td>\n",
       "      <td>1602573.500</td>\n",
       "      <td>1625622.750</td>\n",
       "      <td>1801433.500</td>\n",
       "    </tr>\n",
       "    <tr>\n",
       "      <td>4</td>\n",
       "      <td>2332554.250</td>\n",
       "      <td>2606682.500</td>\n",
       "      <td>1933341.875</td>\n",
       "      <td>1984284.125</td>\n",
       "      <td>3.188365e+06</td>\n",
       "      <td>3289110.750</td>\n",
       "      <td>1956545.250</td>\n",
       "      <td>1522905.875</td>\n",
       "      <td>2769067.500</td>\n",
       "      <td>1646197.000</td>\n",
       "    </tr>\n",
       "  </tbody>\n",
       "</table>\n",
       "</div>"
      ],
      "text/plain": [
       "        pred_0       pred_1       pred_2       pred_3        pred_4  \\\n",
       "0  1675568.750  2215047.250  2228394.000  1898943.625  1.922905e+06   \n",
       "1  1133347.250  2150456.000  2499955.000  1865205.625  2.163361e+06   \n",
       "2  1297917.750  1093787.875  1133797.500  1215002.500  9.620698e+05   \n",
       "3  1428815.125  1736197.000  1948891.625  1995871.625  2.000884e+06   \n",
       "4  2332554.250  2606682.500  1933341.875  1984284.125  3.188365e+06   \n",
       "\n",
       "        pred_5       pred_6       pred_7       pred_8       pred_9  \n",
       "0  1287235.750  1860694.000  2323569.750  2163748.250  1943703.500  \n",
       "1  1703291.500  1709310.000  2634906.250  1544825.750  2030618.750  \n",
       "2  1360640.625  1284997.500  1237130.500  1305967.125  1028484.125  \n",
       "3  1635182.875  1841221.125  1602573.500  1625622.750  1801433.500  \n",
       "4  3289110.750  1956545.250  1522905.875  2769067.500  1646197.000  "
      ]
     },
     "execution_count": 32,
     "metadata": {},
     "output_type": "execute_result"
    }
   ],
   "source": [
    "for i in range(n):\n",
    "    current_price_pred = xgb_created[i].predict(X_train)\n",
    "    XGB_ens_train['pred_{}'.format(i)] = current_price_pred\n",
    "    print(\"xgb_{} finished pred\".format(i))\n",
    "XGB_ens_train.head()"
   ]
  },
  {
   "cell_type": "code",
   "execution_count": 33,
   "metadata": {},
   "outputs": [
    {
     "data": {
      "text/plain": [
       "168000"
      ]
     },
     "execution_count": 33,
     "metadata": {},
     "output_type": "execute_result"
    }
   ],
   "source": [
    "len(XGB_ens_train)"
   ]
  },
  {
   "cell_type": "code",
   "execution_count": 34,
   "metadata": {},
   "outputs": [
    {
     "data": {
      "text/plain": [
       "168000"
      ]
     },
     "execution_count": 34,
     "metadata": {},
     "output_type": "execute_result"
    }
   ],
   "source": [
    "len(y_train)"
   ]
  },
  {
   "cell_type": "markdown",
   "metadata": {},
   "source": [
    "## Exporto el XGB_ens_train para poder buscar hiperparametros"
   ]
  },
  {
   "cell_type": "code",
   "execution_count": 35,
   "metadata": {},
   "outputs": [],
   "source": [
    "XGB_ens_train.to_csv(\"XGB_ens_train\", index = False)"
   ]
  },
  {
   "cell_type": "markdown",
   "metadata": {},
   "source": [
    "# Entreno el XGB con XGB_ens_train"
   ]
  },
  {
   "cell_type": "code",
   "execution_count": 36,
   "metadata": {},
   "outputs": [
    {
     "data": {
      "text/plain": [
       "XGBRegressor(alpha=10, base_score=0.5, booster='gbtree', colsample_bylevel=1,\n",
       "             colsample_bynode=1, colsample_bytree=0.3, gamma=0,\n",
       "             importance_type='gain', learning_rate=1, max_delta_step=0,\n",
       "             max_depth=5, min_child_weight=1, missing=None, n_estimators=400,\n",
       "             n_jobs=-1, nthread=None, objective='reg:squarederror',\n",
       "             random_state=0, reg_alpha=0, reg_lambda=1, scale_pos_weight=1,\n",
       "             seed=None, silent=None, subsample=1, verbosity=1)"
      ]
     },
     "execution_count": 36,
     "metadata": {},
     "output_type": "execute_result"
    }
   ],
   "source": [
    "model_XGB = xgb.XGBRegressor(objective ='reg:squarederror', \n",
    "                colsample_bytree = 0.3, learning_rate = 1,\n",
    "                max_depth = 5, alpha = 10, n_estimators = 200, n_jobs = -1, random_state = 0, verbose = 1)\n",
    "model_XGB.fit(XGB_ens_train, y_train)"
   ]
  },
  {
   "cell_type": "markdown",
   "metadata": {},
   "source": [
    "# Testeo el modelo final"
   ]
  },
  {
   "cell_type": "markdown",
   "metadata": {},
   "source": [
    "## Armo el DF para X_test"
   ]
  },
  {
   "cell_type": "code",
   "execution_count": 37,
   "metadata": {},
   "outputs": [],
   "source": [
    "XGB_ens_test = pd.DataFrame(index = X_test.index.copy())\n"
   ]
  },
  {
   "cell_type": "code",
   "execution_count": 38,
   "metadata": {},
   "outputs": [
    {
     "data": {
      "text/html": [
       "<div>\n",
       "<style scoped>\n",
       "    .dataframe tbody tr th:only-of-type {\n",
       "        vertical-align: middle;\n",
       "    }\n",
       "\n",
       "    .dataframe tbody tr th {\n",
       "        vertical-align: top;\n",
       "    }\n",
       "\n",
       "    .dataframe thead th {\n",
       "        text-align: right;\n",
       "    }\n",
       "</style>\n",
       "<table border=\"1\" class=\"dataframe\">\n",
       "  <thead>\n",
       "    <tr style=\"text-align: right;\">\n",
       "      <th></th>\n",
       "      <th>pred_0</th>\n",
       "      <th>pred_1</th>\n",
       "      <th>pred_2</th>\n",
       "      <th>pred_3</th>\n",
       "      <th>pred_4</th>\n",
       "      <th>pred_5</th>\n",
       "      <th>pred_6</th>\n",
       "      <th>pred_7</th>\n",
       "      <th>pred_8</th>\n",
       "      <th>pred_9</th>\n",
       "    </tr>\n",
       "  </thead>\n",
       "  <tbody>\n",
       "    <tr>\n",
       "      <td>0</td>\n",
       "      <td>1.474296e+06</td>\n",
       "      <td>1429073.625</td>\n",
       "      <td>2.102880e+06</td>\n",
       "      <td>5.172299e+05</td>\n",
       "      <td>1.012201e+06</td>\n",
       "      <td>1056828.250</td>\n",
       "      <td>1.203289e+06</td>\n",
       "      <td>1.334011e+06</td>\n",
       "      <td>1.344651e+06</td>\n",
       "      <td>1.161910e+06</td>\n",
       "    </tr>\n",
       "    <tr>\n",
       "      <td>1</td>\n",
       "      <td>2.410666e+06</td>\n",
       "      <td>2062718.375</td>\n",
       "      <td>1.288292e+06</td>\n",
       "      <td>1.990186e+06</td>\n",
       "      <td>3.375315e+06</td>\n",
       "      <td>2544960.500</td>\n",
       "      <td>1.989957e+06</td>\n",
       "      <td>3.297608e+06</td>\n",
       "      <td>2.779025e+06</td>\n",
       "      <td>2.610663e+06</td>\n",
       "    </tr>\n",
       "    <tr>\n",
       "      <td>2</td>\n",
       "      <td>3.549766e+06</td>\n",
       "      <td>2887129.250</td>\n",
       "      <td>2.991109e+06</td>\n",
       "      <td>1.922343e+06</td>\n",
       "      <td>1.640191e+06</td>\n",
       "      <td>1679933.500</td>\n",
       "      <td>2.316988e+06</td>\n",
       "      <td>2.522919e+06</td>\n",
       "      <td>4.425657e+05</td>\n",
       "      <td>1.763238e+06</td>\n",
       "    </tr>\n",
       "    <tr>\n",
       "      <td>3</td>\n",
       "      <td>1.344572e+06</td>\n",
       "      <td>1705894.875</td>\n",
       "      <td>1.484216e+06</td>\n",
       "      <td>9.204700e+05</td>\n",
       "      <td>8.596188e+05</td>\n",
       "      <td>3497846.500</td>\n",
       "      <td>1.337596e+06</td>\n",
       "      <td>6.992229e+05</td>\n",
       "      <td>1.569691e+06</td>\n",
       "      <td>1.479601e+06</td>\n",
       "    </tr>\n",
       "    <tr>\n",
       "      <td>4</td>\n",
       "      <td>5.627536e+05</td>\n",
       "      <td>745208.750</td>\n",
       "      <td>1.294672e+05</td>\n",
       "      <td>2.832455e+05</td>\n",
       "      <td>9.457744e+05</td>\n",
       "      <td>275529.625</td>\n",
       "      <td>-3.360757e+04</td>\n",
       "      <td>5.598388e+05</td>\n",
       "      <td>1.523258e+05</td>\n",
       "      <td>2.651242e+05</td>\n",
       "    </tr>\n",
       "  </tbody>\n",
       "</table>\n",
       "</div>"
      ],
      "text/plain": [
       "         pred_0       pred_1        pred_2        pred_3        pred_4  \\\n",
       "0  1.474296e+06  1429073.625  2.102880e+06  5.172299e+05  1.012201e+06   \n",
       "1  2.410666e+06  2062718.375  1.288292e+06  1.990186e+06  3.375315e+06   \n",
       "2  3.549766e+06  2887129.250  2.991109e+06  1.922343e+06  1.640191e+06   \n",
       "3  1.344572e+06  1705894.875  1.484216e+06  9.204700e+05  8.596188e+05   \n",
       "4  5.627536e+05   745208.750  1.294672e+05  2.832455e+05  9.457744e+05   \n",
       "\n",
       "        pred_5        pred_6        pred_7        pred_8        pred_9  \n",
       "0  1056828.250  1.203289e+06  1.334011e+06  1.344651e+06  1.161910e+06  \n",
       "1  2544960.500  1.989957e+06  3.297608e+06  2.779025e+06  2.610663e+06  \n",
       "2  1679933.500  2.316988e+06  2.522919e+06  4.425657e+05  1.763238e+06  \n",
       "3  3497846.500  1.337596e+06  6.992229e+05  1.569691e+06  1.479601e+06  \n",
       "4   275529.625 -3.360757e+04  5.598388e+05  1.523258e+05  2.651242e+05  "
      ]
     },
     "execution_count": 38,
     "metadata": {},
     "output_type": "execute_result"
    }
   ],
   "source": [
    "for i in range(n):\n",
    "    current_price_pred = xgb_created[i].predict(X_test)\n",
    "    XGB_ens_test['pred_{}'.format(i)] = current_price_pred\n",
    "XGB_ens_test.head()"
   ]
  },
  {
   "cell_type": "markdown",
   "metadata": {},
   "source": [
    "## Se hacen las dos predicciones necesarias"
   ]
  },
  {
   "cell_type": "code",
   "execution_count": 39,
   "metadata": {},
   "outputs": [],
   "source": [
    "pred_train = model_XGB.predict(XGB_ens_train)\n",
    "pred_test = model_XGB.predict(XGB_ens_test)"
   ]
  },
  {
   "cell_type": "markdown",
   "metadata": {},
   "source": [
    "### Metrica de Mean Absolute Error (La de Kaggle) ?? (Hay que preguntar)"
   ]
  },
  {
   "cell_type": "code",
   "execution_count": 40,
   "metadata": {},
   "outputs": [
    {
     "name": "stdout",
     "output_type": "stream",
     "text": [
      "MAE train: 675.7908574584748\n",
      "MAE test: 841.7786694533552\n"
     ]
    }
   ],
   "source": [
    "mae_train = np.sqrt(sklearn.metrics.mean_absolute_error(y_train, pred_train))\n",
    "mae_test = np.sqrt(sklearn.metrics.mean_absolute_error(y_test, pred_test))\n",
    "#print(f\"MAE train: {mea_train:.5f}\")\n",
    "#print(f\"MAE test: {mea_test:.5f}\")\n",
    "print(\"MAE train: \"+str(mae_train))\n",
    "print(\"MAE test: \"+str(mae_test))"
   ]
  },
  {
   "cell_type": "code",
   "execution_count": 41,
   "metadata": {},
   "outputs": [
    {
     "data": {
      "text/plain": [
       "array([0.00956889, 0.7014415 , 0.01235964, 0.14006618, 0.08077281,\n",
       "       0.00941613, 0.01331617, 0.00995453, 0.01226768, 0.01083641],\n",
       "      dtype=float32)"
      ]
     },
     "execution_count": 41,
     "metadata": {},
     "output_type": "execute_result"
    }
   ],
   "source": [
    "model_XGB.feature_importances_"
   ]
  },
  {
   "cell_type": "markdown",
   "metadata": {},
   "source": [
    "# Se genera el archivo para subir a Kaggle"
   ]
  },
  {
   "cell_type": "code",
   "execution_count": 42,
   "metadata": {},
   "outputs": [],
   "source": [
    "test_set = pd.read_csv(\"test_set_xgb.csv\")"
   ]
  },
  {
   "cell_type": "code",
   "execution_count": 43,
   "metadata": {},
   "outputs": [
    {
     "data": {
      "text/plain": [
       "Index(['id', 'antiguedad', 'habitaciones', 'garages', 'banos',\n",
       "       'metroscubiertos', 'metrostotales', 'idzona', 'lat', 'lng', 'gimnasio',\n",
       "       'usosmultiples', 'piscina', 'escuelascercanas',\n",
       "       'centroscomercialescercanos', 'anio_publ'],\n",
       "      dtype='object')"
      ]
     },
     "execution_count": 43,
     "metadata": {},
     "output_type": "execute_result"
    }
   ],
   "source": [
    "test_set.columns"
   ]
  },
  {
   "cell_type": "code",
   "execution_count": 44,
   "metadata": {},
   "outputs": [],
   "source": [
    "X_test_set = test_set.loc[:, test_set.columns != 'id']"
   ]
  },
  {
   "cell_type": "markdown",
   "metadata": {},
   "source": [
    "## Armo el DF con las predicciones de test"
   ]
  },
  {
   "cell_type": "code",
   "execution_count": 45,
   "metadata": {},
   "outputs": [],
   "source": [
    "XGB_ens_test_set = pd.DataFrame(index = test_set.index.copy())"
   ]
  },
  {
   "cell_type": "code",
   "execution_count": 46,
   "metadata": {},
   "outputs": [
    {
     "data": {
      "text/html": [
       "<div>\n",
       "<style scoped>\n",
       "    .dataframe tbody tr th:only-of-type {\n",
       "        vertical-align: middle;\n",
       "    }\n",
       "\n",
       "    .dataframe tbody tr th {\n",
       "        vertical-align: top;\n",
       "    }\n",
       "\n",
       "    .dataframe thead th {\n",
       "        text-align: right;\n",
       "    }\n",
       "</style>\n",
       "<table border=\"1\" class=\"dataframe\">\n",
       "  <thead>\n",
       "    <tr style=\"text-align: right;\">\n",
       "      <th></th>\n",
       "      <th>pred_0</th>\n",
       "      <th>pred_1</th>\n",
       "      <th>pred_2</th>\n",
       "      <th>pred_3</th>\n",
       "      <th>pred_4</th>\n",
       "      <th>pred_5</th>\n",
       "      <th>pred_6</th>\n",
       "      <th>pred_7</th>\n",
       "      <th>pred_8</th>\n",
       "      <th>pred_9</th>\n",
       "    </tr>\n",
       "  </thead>\n",
       "  <tbody>\n",
       "    <tr>\n",
       "      <td>0</td>\n",
       "      <td>6.088174e+06</td>\n",
       "      <td>6949777.000</td>\n",
       "      <td>4.775290e+06</td>\n",
       "      <td>5.014534e+06</td>\n",
       "      <td>5.886592e+06</td>\n",
       "      <td>4.283812e+06</td>\n",
       "      <td>5.806916e+06</td>\n",
       "      <td>6362108.00</td>\n",
       "      <td>6.824782e+06</td>\n",
       "      <td>5647659.50</td>\n",
       "    </tr>\n",
       "    <tr>\n",
       "      <td>1</td>\n",
       "      <td>1.054836e+06</td>\n",
       "      <td>1573377.125</td>\n",
       "      <td>2.212509e+06</td>\n",
       "      <td>1.164677e+06</td>\n",
       "      <td>6.606324e+05</td>\n",
       "      <td>9.489998e+05</td>\n",
       "      <td>1.210768e+06</td>\n",
       "      <td>1619574.25</td>\n",
       "      <td>1.686790e+06</td>\n",
       "      <td>1165905.75</td>\n",
       "    </tr>\n",
       "    <tr>\n",
       "      <td>2</td>\n",
       "      <td>2.016575e+06</td>\n",
       "      <td>2513684.750</td>\n",
       "      <td>2.008553e+06</td>\n",
       "      <td>2.716706e+06</td>\n",
       "      <td>1.847128e+06</td>\n",
       "      <td>1.913529e+06</td>\n",
       "      <td>2.705785e+06</td>\n",
       "      <td>2904731.50</td>\n",
       "      <td>1.915329e+06</td>\n",
       "      <td>2654951.00</td>\n",
       "    </tr>\n",
       "    <tr>\n",
       "      <td>3</td>\n",
       "      <td>1.311960e+06</td>\n",
       "      <td>1323843.625</td>\n",
       "      <td>1.984210e+06</td>\n",
       "      <td>1.910163e+06</td>\n",
       "      <td>1.597150e+06</td>\n",
       "      <td>1.124694e+06</td>\n",
       "      <td>-3.102401e+05</td>\n",
       "      <td>1783756.75</td>\n",
       "      <td>2.179310e+06</td>\n",
       "      <td>1807548.00</td>\n",
       "    </tr>\n",
       "    <tr>\n",
       "      <td>4</td>\n",
       "      <td>1.039284e+06</td>\n",
       "      <td>543385.875</td>\n",
       "      <td>4.699513e+05</td>\n",
       "      <td>8.023003e+05</td>\n",
       "      <td>8.828051e+05</td>\n",
       "      <td>1.141039e+06</td>\n",
       "      <td>7.137798e+05</td>\n",
       "      <td>745406.00</td>\n",
       "      <td>5.149207e+05</td>\n",
       "      <td>892869.25</td>\n",
       "    </tr>\n",
       "  </tbody>\n",
       "</table>\n",
       "</div>"
      ],
      "text/plain": [
       "         pred_0       pred_1        pred_2        pred_3        pred_4  \\\n",
       "0  6.088174e+06  6949777.000  4.775290e+06  5.014534e+06  5.886592e+06   \n",
       "1  1.054836e+06  1573377.125  2.212509e+06  1.164677e+06  6.606324e+05   \n",
       "2  2.016575e+06  2513684.750  2.008553e+06  2.716706e+06  1.847128e+06   \n",
       "3  1.311960e+06  1323843.625  1.984210e+06  1.910163e+06  1.597150e+06   \n",
       "4  1.039284e+06   543385.875  4.699513e+05  8.023003e+05  8.828051e+05   \n",
       "\n",
       "         pred_5        pred_6      pred_7        pred_8      pred_9  \n",
       "0  4.283812e+06  5.806916e+06  6362108.00  6.824782e+06  5647659.50  \n",
       "1  9.489998e+05  1.210768e+06  1619574.25  1.686790e+06  1165905.75  \n",
       "2  1.913529e+06  2.705785e+06  2904731.50  1.915329e+06  2654951.00  \n",
       "3  1.124694e+06 -3.102401e+05  1783756.75  2.179310e+06  1807548.00  \n",
       "4  1.141039e+06  7.137798e+05   745406.00  5.149207e+05   892869.25  "
      ]
     },
     "execution_count": 46,
     "metadata": {},
     "output_type": "execute_result"
    }
   ],
   "source": [
    "for i in range(n):\n",
    "    current_price_pred = xgb_created[i].predict(X_test_set)\n",
    "    XGB_ens_test_set['pred_{}'.format(i)] = current_price_pred\n",
    "    print(\"xgb_{} finished pred\".format(i))\n",
    "XGB_ens_test_set.head()"
   ]
  },
  {
   "cell_type": "code",
   "execution_count": 47,
   "metadata": {},
   "outputs": [],
   "source": [
    "pred_a_kaggle = model_XGB.predict(XGB_ens_test_set)"
   ]
  },
  {
   "cell_type": "code",
   "execution_count": 48,
   "metadata": {},
   "outputs": [
    {
     "data": {
      "text/html": [
       "<div>\n",
       "<style scoped>\n",
       "    .dataframe tbody tr th:only-of-type {\n",
       "        vertical-align: middle;\n",
       "    }\n",
       "\n",
       "    .dataframe tbody tr th {\n",
       "        vertical-align: top;\n",
       "    }\n",
       "\n",
       "    .dataframe thead th {\n",
       "        text-align: right;\n",
       "    }\n",
       "</style>\n",
       "<table border=\"1\" class=\"dataframe\">\n",
       "  <thead>\n",
       "    <tr style=\"text-align: right;\">\n",
       "      <th></th>\n",
       "      <th>id</th>\n",
       "      <th>target</th>\n",
       "    </tr>\n",
       "  </thead>\n",
       "  <tbody>\n",
       "    <tr>\n",
       "      <td>0</td>\n",
       "      <td>4941</td>\n",
       "      <td>6608145.500</td>\n",
       "    </tr>\n",
       "    <tr>\n",
       "      <td>1</td>\n",
       "      <td>51775</td>\n",
       "      <td>1309092.500</td>\n",
       "    </tr>\n",
       "    <tr>\n",
       "      <td>2</td>\n",
       "      <td>115253</td>\n",
       "      <td>2089434.125</td>\n",
       "    </tr>\n",
       "    <tr>\n",
       "      <td>3</td>\n",
       "      <td>299321</td>\n",
       "      <td>1449494.625</td>\n",
       "    </tr>\n",
       "    <tr>\n",
       "      <td>4</td>\n",
       "      <td>173570</td>\n",
       "      <td>817374.750</td>\n",
       "    </tr>\n",
       "  </tbody>\n",
       "</table>\n",
       "</div>"
      ],
      "text/plain": [
       "       id       target\n",
       "0    4941  6608145.500\n",
       "1   51775  1309092.500\n",
       "2  115253  2089434.125\n",
       "3  299321  1449494.625\n",
       "4  173570   817374.750"
      ]
     },
     "execution_count": 48,
     "metadata": {},
     "output_type": "execute_result"
    }
   ],
   "source": [
    "df_a_kaggle = pd.DataFrame()\n",
    "df_a_kaggle['id'] = test_set['id']\n",
    "df_a_kaggle['target'] = pred_a_kaggle\n",
    "df_a_kaggle.head()"
   ]
  },
  {
   "cell_type": "code",
   "execution_count": 49,
   "metadata": {},
   "outputs": [],
   "source": [
    "df_a_kaggle.to_csv(\"subir_a_kaggle\", header = True, index = False)"
   ]
  }
 ],
 "metadata": {
  "kernelspec": {
   "display_name": "Python 3",
   "language": "python",
   "name": "python3"
  },
  "language_info": {
   "codemirror_mode": {
    "name": "ipython",
    "version": 3
   },
   "file_extension": ".py",
   "mimetype": "text/x-python",
   "name": "python",
   "nbconvert_exporter": "python",
   "pygments_lexer": "ipython3",
   "version": "3.7.4"
  }
 },
 "nbformat": 4,
 "nbformat_minor": 4
}
