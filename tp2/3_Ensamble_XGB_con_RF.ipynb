{
 "cells": [
  {
   "cell_type": "code",
   "execution_count": 1,
   "metadata": {},
   "outputs": [],
   "source": [
    "import csv\n",
    "import pandas as pd\n",
    "import numpy as np\n",
    "from datetime import datetime\n",
    "import seaborn as sns\n",
    "import matplotlib.pyplot as plt\n",
    "import sklearn\n",
    "from sklearn.ensemble import RandomForestRegressor\n",
    "from sklearn.metrics import mean_squared_log_error\n",
    "# Importamos utilidades y modelos de sklearn\n",
    "from sklearn.preprocessing import Imputer\n",
    "from sklearn.model_selection import train_test_split\n",
    "import xgboost as xgb\n",
    "from sklearn.model_selection import RandomizedSearchCV, GridSearchCV\n",
    "from sklearn.metrics import roc_auc_score\n",
    "from sklearn.model_selection import StratifiedKFold\n"
   ]
  },
  {
   "cell_type": "markdown",
   "metadata": {},
   "source": [
    "# Se levanta el split hecho en el NoteBook anterior"
   ]
  },
  {
   "cell_type": "code",
   "execution_count": 2,
   "metadata": {},
   "outputs": [
    {
     "data": {
      "text/html": [
       "<div>\n",
       "<style scoped>\n",
       "    .dataframe tbody tr th:only-of-type {\n",
       "        vertical-align: middle;\n",
       "    }\n",
       "\n",
       "    .dataframe tbody tr th {\n",
       "        vertical-align: top;\n",
       "    }\n",
       "\n",
       "    .dataframe thead th {\n",
       "        text-align: right;\n",
       "    }\n",
       "</style>\n",
       "<table border=\"1\" class=\"dataframe\">\n",
       "  <thead>\n",
       "    <tr style=\"text-align: right;\">\n",
       "      <th></th>\n",
       "      <th>antiguedad</th>\n",
       "      <th>habitaciones</th>\n",
       "      <th>garages</th>\n",
       "      <th>banos</th>\n",
       "      <th>metroscubiertos</th>\n",
       "      <th>metrostotales</th>\n",
       "      <th>idzona</th>\n",
       "      <th>lat</th>\n",
       "      <th>lng</th>\n",
       "      <th>gimnasio</th>\n",
       "      <th>usosmultiples</th>\n",
       "      <th>piscina</th>\n",
       "      <th>escuelascercanas</th>\n",
       "      <th>centroscomercialescercanos</th>\n",
       "      <th>anio_publ</th>\n",
       "    </tr>\n",
       "  </thead>\n",
       "  <tbody>\n",
       "    <tr>\n",
       "      <td>0</td>\n",
       "      <td>0.0</td>\n",
       "      <td>3.0</td>\n",
       "      <td>2.0</td>\n",
       "      <td>3.0</td>\n",
       "      <td>196.0</td>\n",
       "      <td>160.0</td>\n",
       "      <td>NaN</td>\n",
       "      <td>NaN</td>\n",
       "      <td>NaN</td>\n",
       "      <td>0.0</td>\n",
       "      <td>0.0</td>\n",
       "      <td>0.0</td>\n",
       "      <td>0.0</td>\n",
       "      <td>0.0</td>\n",
       "      <td>2014</td>\n",
       "    </tr>\n",
       "    <tr>\n",
       "      <td>1</td>\n",
       "      <td>20.0</td>\n",
       "      <td>4.0</td>\n",
       "      <td>2.0</td>\n",
       "      <td>2.0</td>\n",
       "      <td>245.0</td>\n",
       "      <td>196.0</td>\n",
       "      <td>104734.0</td>\n",
       "      <td>NaN</td>\n",
       "      <td>NaN</td>\n",
       "      <td>0.0</td>\n",
       "      <td>0.0</td>\n",
       "      <td>0.0</td>\n",
       "      <td>1.0</td>\n",
       "      <td>0.0</td>\n",
       "      <td>2012</td>\n",
       "    </tr>\n",
       "    <tr>\n",
       "      <td>2</td>\n",
       "      <td>5.0</td>\n",
       "      <td>3.0</td>\n",
       "      <td>1.0</td>\n",
       "      <td>2.0</td>\n",
       "      <td>108.0</td>\n",
       "      <td>120.0</td>\n",
       "      <td>58952.0</td>\n",
       "      <td>NaN</td>\n",
       "      <td>NaN</td>\n",
       "      <td>0.0</td>\n",
       "      <td>0.0</td>\n",
       "      <td>0.0</td>\n",
       "      <td>1.0</td>\n",
       "      <td>1.0</td>\n",
       "      <td>2015</td>\n",
       "    </tr>\n",
       "    <tr>\n",
       "      <td>3</td>\n",
       "      <td>10.0</td>\n",
       "      <td>3.0</td>\n",
       "      <td>1.0</td>\n",
       "      <td>3.0</td>\n",
       "      <td>200.0</td>\n",
       "      <td>147.0</td>\n",
       "      <td>49066.0</td>\n",
       "      <td>NaN</td>\n",
       "      <td>NaN</td>\n",
       "      <td>0.0</td>\n",
       "      <td>0.0</td>\n",
       "      <td>0.0</td>\n",
       "      <td>0.0</td>\n",
       "      <td>0.0</td>\n",
       "      <td>2016</td>\n",
       "    </tr>\n",
       "    <tr>\n",
       "      <td>4</td>\n",
       "      <td>NaN</td>\n",
       "      <td>NaN</td>\n",
       "      <td>0.0</td>\n",
       "      <td>NaN</td>\n",
       "      <td>NaN</td>\n",
       "      <td>250.0</td>\n",
       "      <td>24892.0</td>\n",
       "      <td>19.23339</td>\n",
       "      <td>-99.166991</td>\n",
       "      <td>0.0</td>\n",
       "      <td>0.0</td>\n",
       "      <td>0.0</td>\n",
       "      <td>0.0</td>\n",
       "      <td>0.0</td>\n",
       "      <td>2016</td>\n",
       "    </tr>\n",
       "  </tbody>\n",
       "</table>\n",
       "</div>"
      ],
      "text/plain": [
       "   antiguedad  habitaciones  garages  banos  metroscubiertos  metrostotales  \\\n",
       "0         0.0           3.0      2.0    3.0            196.0          160.0   \n",
       "1        20.0           4.0      2.0    2.0            245.0          196.0   \n",
       "2         5.0           3.0      1.0    2.0            108.0          120.0   \n",
       "3        10.0           3.0      1.0    3.0            200.0          147.0   \n",
       "4         NaN           NaN      0.0    NaN              NaN          250.0   \n",
       "\n",
       "     idzona       lat        lng  gimnasio  usosmultiples  piscina  \\\n",
       "0       NaN       NaN        NaN       0.0            0.0      0.0   \n",
       "1  104734.0       NaN        NaN       0.0            0.0      0.0   \n",
       "2   58952.0       NaN        NaN       0.0            0.0      0.0   \n",
       "3   49066.0       NaN        NaN       0.0            0.0      0.0   \n",
       "4   24892.0  19.23339 -99.166991       0.0            0.0      0.0   \n",
       "\n",
       "   escuelascercanas  centroscomercialescercanos  anio_publ  \n",
       "0               0.0                         0.0       2014  \n",
       "1               1.0                         0.0       2012  \n",
       "2               1.0                         1.0       2015  \n",
       "3               0.0                         0.0       2016  \n",
       "4               0.0                         0.0       2016  "
      ]
     },
     "execution_count": 2,
     "metadata": {},
     "output_type": "execute_result"
    }
   ],
   "source": [
    "X_train = pd.read_csv(\"X_train\")\n",
    "X_train.head()"
   ]
  },
  {
   "cell_type": "code",
   "execution_count": 3,
   "metadata": {},
   "outputs": [],
   "source": [
    "X_test = pd.read_csv(\"X_test\")"
   ]
  },
  {
   "cell_type": "code",
   "execution_count": 4,
   "metadata": {},
   "outputs": [],
   "source": [
    "y_train = pd.read_csv(\"y_train\")"
   ]
  },
  {
   "cell_type": "code",
   "execution_count": 5,
   "metadata": {},
   "outputs": [],
   "source": [
    "y_test = pd.read_csv(\"y_test\")"
   ]
  },
  {
   "cell_type": "markdown",
   "metadata": {},
   "source": [
    "# Se levantan todos los XGBoost guardados"
   ]
  },
  {
   "cell_type": "code",
   "execution_count": 6,
   "metadata": {},
   "outputs": [],
   "source": [
    "xgb_created = []"
   ]
  },
  {
   "cell_type": "markdown",
   "metadata": {},
   "source": [
    "## Atencion! n tiene que coincidir con la cantidad guardada!"
   ]
  },
  {
   "cell_type": "code",
   "execution_count": 7,
   "metadata": {},
   "outputs": [],
   "source": [
    "n = 200"
   ]
  },
  {
   "cell_type": "code",
   "execution_count": 8,
   "metadata": {},
   "outputs": [],
   "source": [
    "for i in range(n):\n",
    "    current_xgb = xgb.XGBRegressor()\n",
    "    current_xgb.load_model(\"xgb_{}\".format(i))\n",
    "    xgb_created.append(current_xgb)"
   ]
  },
  {
   "cell_type": "markdown",
   "metadata": {},
   "source": [
    "# Se arma el DF de precios para entrenar el RF"
   ]
  },
  {
   "cell_type": "code",
   "execution_count": 9,
   "metadata": {},
   "outputs": [],
   "source": [
    "RF_train = pd.DataFrame(index = X_train.index.copy())"
   ]
  },
  {
   "cell_type": "code",
   "execution_count": 10,
   "metadata": {},
   "outputs": [
    {
     "data": {
      "text/html": [
       "<div>\n",
       "<style scoped>\n",
       "    .dataframe tbody tr th:only-of-type {\n",
       "        vertical-align: middle;\n",
       "    }\n",
       "\n",
       "    .dataframe tbody tr th {\n",
       "        vertical-align: top;\n",
       "    }\n",
       "\n",
       "    .dataframe thead th {\n",
       "        text-align: right;\n",
       "    }\n",
       "</style>\n",
       "<table border=\"1\" class=\"dataframe\">\n",
       "  <thead>\n",
       "    <tr style=\"text-align: right;\">\n",
       "      <th></th>\n",
       "      <th>pred_0</th>\n",
       "      <th>pred_1</th>\n",
       "      <th>pred_2</th>\n",
       "      <th>pred_3</th>\n",
       "      <th>pred_4</th>\n",
       "      <th>pred_5</th>\n",
       "      <th>pred_6</th>\n",
       "      <th>pred_7</th>\n",
       "      <th>pred_8</th>\n",
       "      <th>pred_9</th>\n",
       "      <th>...</th>\n",
       "      <th>pred_190</th>\n",
       "      <th>pred_191</th>\n",
       "      <th>pred_192</th>\n",
       "      <th>pred_193</th>\n",
       "      <th>pred_194</th>\n",
       "      <th>pred_195</th>\n",
       "      <th>pred_196</th>\n",
       "      <th>pred_197</th>\n",
       "      <th>pred_198</th>\n",
       "      <th>pred_199</th>\n",
       "    </tr>\n",
       "  </thead>\n",
       "  <tbody>\n",
       "    <tr>\n",
       "      <td>0</td>\n",
       "      <td>1675568.750</td>\n",
       "      <td>2279996.000</td>\n",
       "      <td>2.278069e+06</td>\n",
       "      <td>1962261.875</td>\n",
       "      <td>1908726.000</td>\n",
       "      <td>1975850.125</td>\n",
       "      <td>2.041407e+06</td>\n",
       "      <td>2135030.50</td>\n",
       "      <td>1780616.500</td>\n",
       "      <td>2251092.750</td>\n",
       "      <td>...</td>\n",
       "      <td>2.332686e+06</td>\n",
       "      <td>2058865.25</td>\n",
       "      <td>1.892811e+06</td>\n",
       "      <td>2.447693e+06</td>\n",
       "      <td>1982648.375</td>\n",
       "      <td>2.459340e+06</td>\n",
       "      <td>2373884.500</td>\n",
       "      <td>1711514.375</td>\n",
       "      <td>2.224779e+06</td>\n",
       "      <td>2.174826e+06</td>\n",
       "    </tr>\n",
       "    <tr>\n",
       "      <td>1</td>\n",
       "      <td>1133347.250</td>\n",
       "      <td>1877194.375</td>\n",
       "      <td>1.398618e+06</td>\n",
       "      <td>2622835.500</td>\n",
       "      <td>1574958.500</td>\n",
       "      <td>2191358.000</td>\n",
       "      <td>1.781564e+06</td>\n",
       "      <td>1873575.75</td>\n",
       "      <td>1501947.625</td>\n",
       "      <td>2166757.250</td>\n",
       "      <td>...</td>\n",
       "      <td>1.423210e+06</td>\n",
       "      <td>1886828.50</td>\n",
       "      <td>1.360701e+06</td>\n",
       "      <td>1.722803e+06</td>\n",
       "      <td>1879809.250</td>\n",
       "      <td>1.749367e+06</td>\n",
       "      <td>1678725.625</td>\n",
       "      <td>1802272.750</td>\n",
       "      <td>1.506787e+06</td>\n",
       "      <td>1.625895e+06</td>\n",
       "    </tr>\n",
       "    <tr>\n",
       "      <td>2</td>\n",
       "      <td>1297917.750</td>\n",
       "      <td>872463.250</td>\n",
       "      <td>9.312116e+05</td>\n",
       "      <td>935558.625</td>\n",
       "      <td>877573.375</td>\n",
       "      <td>1290895.750</td>\n",
       "      <td>9.639478e+05</td>\n",
       "      <td>1374816.50</td>\n",
       "      <td>1059143.125</td>\n",
       "      <td>1064682.625</td>\n",
       "      <td>...</td>\n",
       "      <td>8.692382e+05</td>\n",
       "      <td>891783.00</td>\n",
       "      <td>1.043634e+06</td>\n",
       "      <td>9.136286e+05</td>\n",
       "      <td>810946.500</td>\n",
       "      <td>8.736514e+05</td>\n",
       "      <td>1120368.125</td>\n",
       "      <td>901425.625</td>\n",
       "      <td>1.118626e+06</td>\n",
       "      <td>9.779751e+05</td>\n",
       "    </tr>\n",
       "    <tr>\n",
       "      <td>3</td>\n",
       "      <td>1428815.125</td>\n",
       "      <td>343955.125</td>\n",
       "      <td>1.164508e+06</td>\n",
       "      <td>1830824.250</td>\n",
       "      <td>1702865.375</td>\n",
       "      <td>1664202.375</td>\n",
       "      <td>1.508122e+06</td>\n",
       "      <td>1421637.00</td>\n",
       "      <td>1970687.750</td>\n",
       "      <td>1090036.625</td>\n",
       "      <td>...</td>\n",
       "      <td>1.471208e+06</td>\n",
       "      <td>1881730.50</td>\n",
       "      <td>1.671257e+06</td>\n",
       "      <td>1.818161e+06</td>\n",
       "      <td>2337558.500</td>\n",
       "      <td>2.057019e+06</td>\n",
       "      <td>1866981.375</td>\n",
       "      <td>2152244.750</td>\n",
       "      <td>1.691376e+06</td>\n",
       "      <td>1.937423e+06</td>\n",
       "    </tr>\n",
       "    <tr>\n",
       "      <td>4</td>\n",
       "      <td>2332554.250</td>\n",
       "      <td>3657671.500</td>\n",
       "      <td>1.526109e+06</td>\n",
       "      <td>1624921.625</td>\n",
       "      <td>2327190.750</td>\n",
       "      <td>1472552.000</td>\n",
       "      <td>2.774342e+06</td>\n",
       "      <td>2749102.00</td>\n",
       "      <td>3642267.000</td>\n",
       "      <td>4184341.250</td>\n",
       "      <td>...</td>\n",
       "      <td>2.270237e+06</td>\n",
       "      <td>2076781.00</td>\n",
       "      <td>1.458910e+06</td>\n",
       "      <td>1.402020e+06</td>\n",
       "      <td>3152021.250</td>\n",
       "      <td>3.898565e+05</td>\n",
       "      <td>2001380.750</td>\n",
       "      <td>1866278.500</td>\n",
       "      <td>-1.618149e+05</td>\n",
       "      <td>2.222274e+06</td>\n",
       "    </tr>\n",
       "  </tbody>\n",
       "</table>\n",
       "<p>5 rows × 200 columns</p>\n",
       "</div>"
      ],
      "text/plain": [
       "        pred_0       pred_1        pred_2       pred_3       pred_4  \\\n",
       "0  1675568.750  2279996.000  2.278069e+06  1962261.875  1908726.000   \n",
       "1  1133347.250  1877194.375  1.398618e+06  2622835.500  1574958.500   \n",
       "2  1297917.750   872463.250  9.312116e+05   935558.625   877573.375   \n",
       "3  1428815.125   343955.125  1.164508e+06  1830824.250  1702865.375   \n",
       "4  2332554.250  3657671.500  1.526109e+06  1624921.625  2327190.750   \n",
       "\n",
       "        pred_5        pred_6      pred_7       pred_8       pred_9  ...  \\\n",
       "0  1975850.125  2.041407e+06  2135030.50  1780616.500  2251092.750  ...   \n",
       "1  2191358.000  1.781564e+06  1873575.75  1501947.625  2166757.250  ...   \n",
       "2  1290895.750  9.639478e+05  1374816.50  1059143.125  1064682.625  ...   \n",
       "3  1664202.375  1.508122e+06  1421637.00  1970687.750  1090036.625  ...   \n",
       "4  1472552.000  2.774342e+06  2749102.00  3642267.000  4184341.250  ...   \n",
       "\n",
       "       pred_190    pred_191      pred_192      pred_193     pred_194  \\\n",
       "0  2.332686e+06  2058865.25  1.892811e+06  2.447693e+06  1982648.375   \n",
       "1  1.423210e+06  1886828.50  1.360701e+06  1.722803e+06  1879809.250   \n",
       "2  8.692382e+05   891783.00  1.043634e+06  9.136286e+05   810946.500   \n",
       "3  1.471208e+06  1881730.50  1.671257e+06  1.818161e+06  2337558.500   \n",
       "4  2.270237e+06  2076781.00  1.458910e+06  1.402020e+06  3152021.250   \n",
       "\n",
       "       pred_195     pred_196     pred_197      pred_198      pred_199  \n",
       "0  2.459340e+06  2373884.500  1711514.375  2.224779e+06  2.174826e+06  \n",
       "1  1.749367e+06  1678725.625  1802272.750  1.506787e+06  1.625895e+06  \n",
       "2  8.736514e+05  1120368.125   901425.625  1.118626e+06  9.779751e+05  \n",
       "3  2.057019e+06  1866981.375  2152244.750  1.691376e+06  1.937423e+06  \n",
       "4  3.898565e+05  2001380.750  1866278.500 -1.618149e+05  2.222274e+06  \n",
       "\n",
       "[5 rows x 200 columns]"
      ]
     },
     "execution_count": 10,
     "metadata": {},
     "output_type": "execute_result"
    }
   ],
   "source": [
    "for i in range(n):\n",
    "    current_price_pred = xgb_created[i].predict(X_train)\n",
    "    RF_train['pred_{}'.format(i)] = current_price_pred\n",
    "RF_train.head()"
   ]
  },
  {
   "cell_type": "code",
   "execution_count": 11,
   "metadata": {},
   "outputs": [
    {
     "data": {
      "text/plain": [
       "168000"
      ]
     },
     "execution_count": 11,
     "metadata": {},
     "output_type": "execute_result"
    }
   ],
   "source": [
    "len(RF_train)"
   ]
  },
  {
   "cell_type": "code",
   "execution_count": 12,
   "metadata": {},
   "outputs": [
    {
     "data": {
      "text/plain": [
       "168000"
      ]
     },
     "execution_count": 12,
     "metadata": {},
     "output_type": "execute_result"
    }
   ],
   "source": [
    "len(y_train)"
   ]
  },
  {
   "cell_type": "markdown",
   "metadata": {},
   "source": [
    "## Exporto el RF_train para poder buscar hiperparametros"
   ]
  },
  {
   "cell_type": "code",
   "execution_count": 13,
   "metadata": {},
   "outputs": [],
   "source": [
    "RF_train.to_csv(\"RF_train\", index = False)"
   ]
  },
  {
   "cell_type": "markdown",
   "metadata": {},
   "source": [
    "# Entreno el randomForest con RF_train"
   ]
  },
  {
   "cell_type": "code",
   "execution_count": 15,
   "metadata": {},
   "outputs": [
    {
     "data": {
      "text/plain": [
       "RandomForestRegressor(bootstrap=True, criterion='mse', max_depth=90,\n",
       "                      max_features='auto', max_leaf_nodes=None,\n",
       "                      min_impurity_decrease=0.0, min_impurity_split=None,\n",
       "                      min_samples_leaf=1, min_samples_split=10,\n",
       "                      min_weight_fraction_leaf=0.0, n_estimators=400, n_jobs=-1,\n",
       "                      oob_score=False, random_state=0, verbose=0,\n",
       "                      warm_start=False)"
      ]
     },
     "execution_count": 15,
     "metadata": {},
     "output_type": "execute_result"
    }
   ],
   "source": [
    "model_RF = RandomForestRegressor(n_estimators = 400, max_depth = 90, min_samples_split = 10 ,max_features = \"auto\",  n_jobs= -1, random_state = 0)\n",
    "model_RF.fit(RF_train, y_train.values.ravel())"
   ]
  },
  {
   "cell_type": "markdown",
   "metadata": {},
   "source": [
    "# Testeo el modelo final"
   ]
  },
  {
   "cell_type": "markdown",
   "metadata": {},
   "source": [
    "## Armo el DF para X_test"
   ]
  },
  {
   "cell_type": "code",
   "execution_count": 16,
   "metadata": {},
   "outputs": [],
   "source": [
    "RF_test = pd.DataFrame(index = X_test.index.copy())\n"
   ]
  },
  {
   "cell_type": "code",
   "execution_count": 17,
   "metadata": {},
   "outputs": [
    {
     "data": {
      "text/html": [
       "<div>\n",
       "<style scoped>\n",
       "    .dataframe tbody tr th:only-of-type {\n",
       "        vertical-align: middle;\n",
       "    }\n",
       "\n",
       "    .dataframe tbody tr th {\n",
       "        vertical-align: top;\n",
       "    }\n",
       "\n",
       "    .dataframe thead th {\n",
       "        text-align: right;\n",
       "    }\n",
       "</style>\n",
       "<table border=\"1\" class=\"dataframe\">\n",
       "  <thead>\n",
       "    <tr style=\"text-align: right;\">\n",
       "      <th></th>\n",
       "      <th>pred_0</th>\n",
       "      <th>pred_1</th>\n",
       "      <th>pred_2</th>\n",
       "      <th>pred_3</th>\n",
       "      <th>pred_4</th>\n",
       "      <th>pred_5</th>\n",
       "      <th>pred_6</th>\n",
       "      <th>pred_7</th>\n",
       "      <th>pred_8</th>\n",
       "      <th>pred_9</th>\n",
       "      <th>...</th>\n",
       "      <th>pred_190</th>\n",
       "      <th>pred_191</th>\n",
       "      <th>pred_192</th>\n",
       "      <th>pred_193</th>\n",
       "      <th>pred_194</th>\n",
       "      <th>pred_195</th>\n",
       "      <th>pred_196</th>\n",
       "      <th>pred_197</th>\n",
       "      <th>pred_198</th>\n",
       "      <th>pred_199</th>\n",
       "    </tr>\n",
       "  </thead>\n",
       "  <tbody>\n",
       "    <tr>\n",
       "      <td>0</td>\n",
       "      <td>1.474296e+06</td>\n",
       "      <td>1.461020e+06</td>\n",
       "      <td>1.707757e+06</td>\n",
       "      <td>1381874.50</td>\n",
       "      <td>1832157.875</td>\n",
       "      <td>1.713398e+06</td>\n",
       "      <td>1.801479e+06</td>\n",
       "      <td>1.304250e+06</td>\n",
       "      <td>2.249157e+06</td>\n",
       "      <td>1.579254e+06</td>\n",
       "      <td>...</td>\n",
       "      <td>1453905.000</td>\n",
       "      <td>1412464.875</td>\n",
       "      <td>2.578430e+06</td>\n",
       "      <td>1187022.875</td>\n",
       "      <td>1.565779e+06</td>\n",
       "      <td>1.141119e+06</td>\n",
       "      <td>1978546.375</td>\n",
       "      <td>1.265330e+06</td>\n",
       "      <td>1.341504e+06</td>\n",
       "      <td>1.828305e+06</td>\n",
       "    </tr>\n",
       "    <tr>\n",
       "      <td>1</td>\n",
       "      <td>2.410666e+06</td>\n",
       "      <td>3.383470e+06</td>\n",
       "      <td>2.194525e+06</td>\n",
       "      <td>2273624.50</td>\n",
       "      <td>3303541.500</td>\n",
       "      <td>1.988809e+06</td>\n",
       "      <td>3.411675e+06</td>\n",
       "      <td>3.024024e+06</td>\n",
       "      <td>3.025897e+06</td>\n",
       "      <td>2.600995e+06</td>\n",
       "      <td>...</td>\n",
       "      <td>3283425.750</td>\n",
       "      <td>3944469.500</td>\n",
       "      <td>2.624734e+06</td>\n",
       "      <td>2088482.375</td>\n",
       "      <td>3.158464e+06</td>\n",
       "      <td>2.202086e+06</td>\n",
       "      <td>2624994.000</td>\n",
       "      <td>1.510000e+06</td>\n",
       "      <td>2.246560e+06</td>\n",
       "      <td>2.530875e+06</td>\n",
       "    </tr>\n",
       "    <tr>\n",
       "      <td>2</td>\n",
       "      <td>3.549766e+06</td>\n",
       "      <td>1.882140e+06</td>\n",
       "      <td>9.716698e+05</td>\n",
       "      <td>1975948.50</td>\n",
       "      <td>2392390.500</td>\n",
       "      <td>3.058479e+06</td>\n",
       "      <td>1.704961e+06</td>\n",
       "      <td>4.441354e+06</td>\n",
       "      <td>2.850152e+06</td>\n",
       "      <td>3.555268e+06</td>\n",
       "      <td>...</td>\n",
       "      <td>1259303.125</td>\n",
       "      <td>1332998.625</td>\n",
       "      <td>2.935128e+06</td>\n",
       "      <td>2913988.750</td>\n",
       "      <td>2.736715e+06</td>\n",
       "      <td>-6.262404e+04</td>\n",
       "      <td>2109809.000</td>\n",
       "      <td>2.365340e+06</td>\n",
       "      <td>3.539316e+06</td>\n",
       "      <td>2.335622e+06</td>\n",
       "    </tr>\n",
       "    <tr>\n",
       "      <td>3</td>\n",
       "      <td>1.344572e+06</td>\n",
       "      <td>1.889719e+06</td>\n",
       "      <td>1.783276e+06</td>\n",
       "      <td>1399334.25</td>\n",
       "      <td>1461603.750</td>\n",
       "      <td>8.267979e+05</td>\n",
       "      <td>3.304180e+06</td>\n",
       "      <td>1.236764e+06</td>\n",
       "      <td>1.546966e+06</td>\n",
       "      <td>1.712246e+06</td>\n",
       "      <td>...</td>\n",
       "      <td>1449136.625</td>\n",
       "      <td>971426.000</td>\n",
       "      <td>9.860182e+05</td>\n",
       "      <td>1136082.000</td>\n",
       "      <td>1.805361e+06</td>\n",
       "      <td>1.339465e+06</td>\n",
       "      <td>1145950.875</td>\n",
       "      <td>7.306471e+05</td>\n",
       "      <td>1.371943e+06</td>\n",
       "      <td>1.386437e+06</td>\n",
       "    </tr>\n",
       "    <tr>\n",
       "      <td>4</td>\n",
       "      <td>5.627536e+05</td>\n",
       "      <td>3.105454e+05</td>\n",
       "      <td>6.568932e+05</td>\n",
       "      <td>300892.00</td>\n",
       "      <td>585839.500</td>\n",
       "      <td>1.811537e+05</td>\n",
       "      <td>-4.244220e+05</td>\n",
       "      <td>1.334381e+05</td>\n",
       "      <td>1.184863e+05</td>\n",
       "      <td>-1.518451e+05</td>\n",
       "      <td>...</td>\n",
       "      <td>646317.125</td>\n",
       "      <td>282109.125</td>\n",
       "      <td>6.282868e+05</td>\n",
       "      <td>309824.125</td>\n",
       "      <td>2.815640e+05</td>\n",
       "      <td>2.996087e+05</td>\n",
       "      <td>542640.875</td>\n",
       "      <td>4.197422e+05</td>\n",
       "      <td>1.241233e+05</td>\n",
       "      <td>-1.817703e+05</td>\n",
       "    </tr>\n",
       "  </tbody>\n",
       "</table>\n",
       "<p>5 rows × 200 columns</p>\n",
       "</div>"
      ],
      "text/plain": [
       "         pred_0        pred_1        pred_2      pred_3       pred_4  \\\n",
       "0  1.474296e+06  1.461020e+06  1.707757e+06  1381874.50  1832157.875   \n",
       "1  2.410666e+06  3.383470e+06  2.194525e+06  2273624.50  3303541.500   \n",
       "2  3.549766e+06  1.882140e+06  9.716698e+05  1975948.50  2392390.500   \n",
       "3  1.344572e+06  1.889719e+06  1.783276e+06  1399334.25  1461603.750   \n",
       "4  5.627536e+05  3.105454e+05  6.568932e+05   300892.00   585839.500   \n",
       "\n",
       "         pred_5        pred_6        pred_7        pred_8        pred_9  ...  \\\n",
       "0  1.713398e+06  1.801479e+06  1.304250e+06  2.249157e+06  1.579254e+06  ...   \n",
       "1  1.988809e+06  3.411675e+06  3.024024e+06  3.025897e+06  2.600995e+06  ...   \n",
       "2  3.058479e+06  1.704961e+06  4.441354e+06  2.850152e+06  3.555268e+06  ...   \n",
       "3  8.267979e+05  3.304180e+06  1.236764e+06  1.546966e+06  1.712246e+06  ...   \n",
       "4  1.811537e+05 -4.244220e+05  1.334381e+05  1.184863e+05 -1.518451e+05  ...   \n",
       "\n",
       "      pred_190     pred_191      pred_192     pred_193      pred_194  \\\n",
       "0  1453905.000  1412464.875  2.578430e+06  1187022.875  1.565779e+06   \n",
       "1  3283425.750  3944469.500  2.624734e+06  2088482.375  3.158464e+06   \n",
       "2  1259303.125  1332998.625  2.935128e+06  2913988.750  2.736715e+06   \n",
       "3  1449136.625   971426.000  9.860182e+05  1136082.000  1.805361e+06   \n",
       "4   646317.125   282109.125  6.282868e+05   309824.125  2.815640e+05   \n",
       "\n",
       "       pred_195     pred_196      pred_197      pred_198      pred_199  \n",
       "0  1.141119e+06  1978546.375  1.265330e+06  1.341504e+06  1.828305e+06  \n",
       "1  2.202086e+06  2624994.000  1.510000e+06  2.246560e+06  2.530875e+06  \n",
       "2 -6.262404e+04  2109809.000  2.365340e+06  3.539316e+06  2.335622e+06  \n",
       "3  1.339465e+06  1145950.875  7.306471e+05  1.371943e+06  1.386437e+06  \n",
       "4  2.996087e+05   542640.875  4.197422e+05  1.241233e+05 -1.817703e+05  \n",
       "\n",
       "[5 rows x 200 columns]"
      ]
     },
     "execution_count": 17,
     "metadata": {},
     "output_type": "execute_result"
    }
   ],
   "source": [
    "for i in range(n):\n",
    "    current_price_pred = xgb_created[i].predict(X_test)\n",
    "    RF_test['pred_{}'.format(i)] = current_price_pred\n",
    "RF_test.head()"
   ]
  },
  {
   "cell_type": "markdown",
   "metadata": {},
   "source": [
    "## Se hacen las dos predicciones necesarias"
   ]
  },
  {
   "cell_type": "code",
   "execution_count": 18,
   "metadata": {},
   "outputs": [],
   "source": [
    "pred_train = model_RF.predict(RF_train)\n",
    "pred_test = model_RF.predict(RF_test)"
   ]
  },
  {
   "cell_type": "markdown",
   "metadata": {},
   "source": [
    "### Metrica de Mean Absolute Error (La de Kaggle) ?? (Hay que preguntar)"
   ]
  },
  {
   "cell_type": "code",
   "execution_count": 19,
   "metadata": {},
   "outputs": [
    {
     "name": "stdout",
     "output_type": "stream",
     "text": [
      "MAE train: 481.1760393847511\n",
      "MAE test: 767.7566663479677\n"
     ]
    }
   ],
   "source": [
    "mae_train = np.sqrt(sklearn.metrics.mean_absolute_error(y_train, pred_train))\n",
    "mae_test = np.sqrt(sklearn.metrics.mean_absolute_error(y_test, pred_test))\n",
    "#print(f\"MAE train: {mea_train:.5f}\")\n",
    "#print(f\"MAE test: {mea_test:.5f}\")\n",
    "print(\"MAE train: \"+str(mae_train))\n",
    "print(\"MAE test: \"+str(mae_test))"
   ]
  },
  {
   "cell_type": "code",
   "execution_count": 20,
   "metadata": {},
   "outputs": [
    {
     "data": {
      "text/plain": [
       "array([0.00162682, 0.00078277, 0.0011251 , 0.00237732, 0.00244255,\n",
       "       0.00079088, 0.00121462, 0.00077619, 0.001069  , 0.00074052,\n",
       "       0.00089218, 0.00063376, 0.00102914, 0.00068875, 0.00067617,\n",
       "       0.00130151, 0.00224852, 0.00407968, 0.00075911, 0.00084644,\n",
       "       0.00079755, 0.00067702, 0.0016033 , 0.00108142, 0.00072603,\n",
       "       0.00139555, 0.00086136, 0.00089039, 0.00076028, 0.00112256,\n",
       "       0.00068962, 0.00976644, 0.00178745, 0.00071229, 0.00100208,\n",
       "       0.00111887, 0.00253156, 0.00096507, 0.00082469, 0.00073947,\n",
       "       0.00138534, 0.00098264, 0.00983812, 0.00084105, 0.00073775,\n",
       "       0.00082915, 0.00189202, 0.00074144, 0.00110403, 0.02346184,\n",
       "       0.00102017, 0.00344819, 0.00075088, 0.00119408, 0.00132227,\n",
       "       0.0007688 , 0.00072296, 0.00177885, 0.00078608, 0.00072432,\n",
       "       0.00144808, 0.00306109, 0.00076016, 0.00088925, 0.00079884,\n",
       "       0.00096774, 0.00069212, 0.00283313, 0.00144599, 0.00088063,\n",
       "       0.0030201 , 0.00088815, 0.00069183, 0.00159314, 0.00077198,\n",
       "       0.00074008, 0.0007625 , 0.00085412, 0.0008816 , 0.00077113,\n",
       "       0.00096323, 0.02571353, 0.00074584, 0.00074835, 0.00184936,\n",
       "       0.00077733, 0.00079415, 0.00078646, 0.00066245, 0.00240304,\n",
       "       0.1322215 , 0.00071397, 0.00101242, 0.00065186, 0.00244368,\n",
       "       0.00069799, 0.01347107, 0.00131953, 0.00126844, 0.00398201,\n",
       "       0.00063958, 0.00240607, 0.00151516, 0.00096974, 0.00129259,\n",
       "       0.00167184, 0.00082509, 0.00081313, 0.00167601, 0.00069721,\n",
       "       0.00279213, 0.00073567, 0.00159536, 0.00070265, 0.00166086,\n",
       "       0.00074787, 0.00144526, 0.00588658, 0.00121811, 0.01571288,\n",
       "       0.00071241, 0.00062861, 0.00090663, 0.00084846, 0.00077429,\n",
       "       0.00097185, 0.00136814, 0.06901026, 0.00086876, 0.00063749,\n",
       "       0.0008323 , 0.07538811, 0.00112422, 0.00067194, 0.00081556,\n",
       "       0.00391938, 0.06841978, 0.00097105, 0.00077426, 0.00116371,\n",
       "       0.0007816 , 0.00081156, 0.00125441, 0.00180344, 0.00147864,\n",
       "       0.00089856, 0.00083409, 0.20542207, 0.00181811, 0.00072144,\n",
       "       0.00208799, 0.00077076, 0.00114048, 0.00065399, 0.06324339,\n",
       "       0.00219707, 0.00089149, 0.00068407, 0.00165948, 0.00109148,\n",
       "       0.00141467, 0.00068008, 0.00081836, 0.00108685, 0.00078168,\n",
       "       0.00088702, 0.00080781, 0.00105338, 0.00707336, 0.00091101,\n",
       "       0.0008261 , 0.00073455, 0.00071609, 0.00075128, 0.00068888,\n",
       "       0.00181314, 0.00352906, 0.000953  , 0.01207489, 0.00199503,\n",
       "       0.00156612, 0.0017489 , 0.00689109, 0.00097929, 0.00367121,\n",
       "       0.00097314, 0.00099266, 0.00144299, 0.00099203, 0.00196662,\n",
       "       0.00094777, 0.00151168, 0.00118117, 0.03196774, 0.00378238,\n",
       "       0.00065281, 0.00170889, 0.00092655, 0.00084576, 0.00113796])"
      ]
     },
     "execution_count": 20,
     "metadata": {},
     "output_type": "execute_result"
    }
   ],
   "source": [
    "model_RF.feature_importances_"
   ]
  },
  {
   "cell_type": "code",
   "execution_count": 21,
   "metadata": {},
   "outputs": [
    {
     "data": {
      "image/png": "[encoded data removed]",
      "text/plain": [
       "<Figure size 1080x1080 with 1 Axes>"
      ]
     },
     "metadata": {
      "needs_background": "light"
     },
     "output_type": "display_data"
    }
   ],
   "source": [
    "plt.figure(figsize = (15,15))\n",
    "plt.barh(RF_train.columns, model_RF.feature_importances_)\n",
    "plt.xlabel('Importancia')\n",
    "plt.ylabel('Features')\n",
    "plt.title('Importancia Features con RF')\n",
    "plt.show()"
   ]
  },
  {
   "cell_type": "markdown",
   "metadata": {},
   "source": [
    "# Se genera el archivo para subir a Kaggle"
   ]
  },
  {
   "cell_type": "code",
   "execution_count": 22,
   "metadata": {},
   "outputs": [],
   "source": [
    "test_set = pd.read_csv(\"test_set_xgb.csv\")"
   ]
  },
  {
   "cell_type": "code",
   "execution_count": 23,
   "metadata": {},
   "outputs": [
    {
     "data": {
      "text/plain": [
       "Index(['id', 'antiguedad', 'habitaciones', 'garages', 'banos',\n",
       "       'metroscubiertos', 'metrostotales', 'idzona', 'lat', 'lng', 'gimnasio',\n",
       "       'usosmultiples', 'piscina', 'escuelascercanas',\n",
       "       'centroscomercialescercanos', 'anio_publ'],\n",
       "      dtype='object')"
      ]
     },
     "execution_count": 23,
     "metadata": {},
     "output_type": "execute_result"
    }
   ],
   "source": [
    "test_set.columns"
   ]
  },
  {
   "cell_type": "code",
   "execution_count": 24,
   "metadata": {},
   "outputs": [],
   "source": [
    "X_test_set = test_set.loc[:, test_set.columns != 'id']"
   ]
  },
  {
   "cell_type": "markdown",
   "metadata": {},
   "source": [
    "## Armo el DF con las predicciones de test"
   ]
  },
  {
   "cell_type": "code",
   "execution_count": 25,
   "metadata": {},
   "outputs": [],
   "source": [
    "RF_test_set = pd.DataFrame(index = test_set.index.copy())"
   ]
  },
  {
   "cell_type": "code",
   "execution_count": 26,
   "metadata": {},
   "outputs": [
    {
     "data": {
      "text/html": [
       "<div>\n",
       "<style scoped>\n",
       "    .dataframe tbody tr th:only-of-type {\n",
       "        vertical-align: middle;\n",
       "    }\n",
       "\n",
       "    .dataframe tbody tr th {\n",
       "        vertical-align: top;\n",
       "    }\n",
       "\n",
       "    .dataframe thead th {\n",
       "        text-align: right;\n",
       "    }\n",
       "</style>\n",
       "<table border=\"1\" class=\"dataframe\">\n",
       "  <thead>\n",
       "    <tr style=\"text-align: right;\">\n",
       "      <th></th>\n",
       "      <th>pred_0</th>\n",
       "      <th>pred_1</th>\n",
       "      <th>pred_2</th>\n",
       "      <th>pred_3</th>\n",
       "      <th>pred_4</th>\n",
       "      <th>pred_5</th>\n",
       "      <th>pred_6</th>\n",
       "      <th>pred_7</th>\n",
       "      <th>pred_8</th>\n",
       "      <th>pred_9</th>\n",
       "      <th>...</th>\n",
       "      <th>pred_190</th>\n",
       "      <th>pred_191</th>\n",
       "      <th>pred_192</th>\n",
       "      <th>pred_193</th>\n",
       "      <th>pred_194</th>\n",
       "      <th>pred_195</th>\n",
       "      <th>pred_196</th>\n",
       "      <th>pred_197</th>\n",
       "      <th>pred_198</th>\n",
       "      <th>pred_199</th>\n",
       "    </tr>\n",
       "  </thead>\n",
       "  <tbody>\n",
       "    <tr>\n",
       "      <td>0</td>\n",
       "      <td>6.088174e+06</td>\n",
       "      <td>6.877888e+06</td>\n",
       "      <td>5.046636e+06</td>\n",
       "      <td>6576727.000</td>\n",
       "      <td>5.852160e+06</td>\n",
       "      <td>5.920934e+06</td>\n",
       "      <td>5019849.000</td>\n",
       "      <td>5.775060e+06</td>\n",
       "      <td>5895333.000</td>\n",
       "      <td>6.427161e+06</td>\n",
       "      <td>...</td>\n",
       "      <td>7.211254e+06</td>\n",
       "      <td>6.327568e+06</td>\n",
       "      <td>7703201.00</td>\n",
       "      <td>3.852115e+06</td>\n",
       "      <td>7173559.000</td>\n",
       "      <td>7424977.500</td>\n",
       "      <td>4555264.000</td>\n",
       "      <td>5895322.500</td>\n",
       "      <td>6.405546e+06</td>\n",
       "      <td>5079010.000</td>\n",
       "    </tr>\n",
       "    <tr>\n",
       "      <td>1</td>\n",
       "      <td>1.054836e+06</td>\n",
       "      <td>1.439322e+06</td>\n",
       "      <td>1.452861e+06</td>\n",
       "      <td>1639398.000</td>\n",
       "      <td>1.146859e+06</td>\n",
       "      <td>1.279776e+06</td>\n",
       "      <td>938906.750</td>\n",
       "      <td>1.330458e+06</td>\n",
       "      <td>1328318.875</td>\n",
       "      <td>1.504135e+06</td>\n",
       "      <td>...</td>\n",
       "      <td>1.569034e+06</td>\n",
       "      <td>1.048246e+06</td>\n",
       "      <td>877171.75</td>\n",
       "      <td>7.770025e+05</td>\n",
       "      <td>1575851.625</td>\n",
       "      <td>1606526.750</td>\n",
       "      <td>1419801.625</td>\n",
       "      <td>1668243.875</td>\n",
       "      <td>1.045491e+06</td>\n",
       "      <td>1420885.000</td>\n",
       "    </tr>\n",
       "    <tr>\n",
       "      <td>2</td>\n",
       "      <td>2.016575e+06</td>\n",
       "      <td>3.465328e+06</td>\n",
       "      <td>2.360328e+06</td>\n",
       "      <td>2813153.000</td>\n",
       "      <td>2.947278e+06</td>\n",
       "      <td>3.079016e+06</td>\n",
       "      <td>2667104.750</td>\n",
       "      <td>2.526058e+06</td>\n",
       "      <td>1725507.750</td>\n",
       "      <td>3.071834e+06</td>\n",
       "      <td>...</td>\n",
       "      <td>2.342366e+06</td>\n",
       "      <td>2.492890e+06</td>\n",
       "      <td>2075056.00</td>\n",
       "      <td>2.327769e+06</td>\n",
       "      <td>1409973.625</td>\n",
       "      <td>1259940.125</td>\n",
       "      <td>2261201.000</td>\n",
       "      <td>1841850.875</td>\n",
       "      <td>2.907993e+06</td>\n",
       "      <td>1790726.500</td>\n",
       "    </tr>\n",
       "    <tr>\n",
       "      <td>3</td>\n",
       "      <td>1.311960e+06</td>\n",
       "      <td>8.195079e+05</td>\n",
       "      <td>8.810082e+05</td>\n",
       "      <td>1510207.125</td>\n",
       "      <td>1.641436e+06</td>\n",
       "      <td>8.030023e+05</td>\n",
       "      <td>2103560.750</td>\n",
       "      <td>1.834812e+06</td>\n",
       "      <td>2370616.500</td>\n",
       "      <td>3.179007e+05</td>\n",
       "      <td>...</td>\n",
       "      <td>4.138562e+05</td>\n",
       "      <td>2.024102e+06</td>\n",
       "      <td>2058744.25</td>\n",
       "      <td>1.342424e+06</td>\n",
       "      <td>1795934.125</td>\n",
       "      <td>1681098.125</td>\n",
       "      <td>1533107.500</td>\n",
       "      <td>2002154.000</td>\n",
       "      <td>8.860171e+05</td>\n",
       "      <td>751695.375</td>\n",
       "    </tr>\n",
       "    <tr>\n",
       "      <td>4</td>\n",
       "      <td>1.039284e+06</td>\n",
       "      <td>1.015952e+06</td>\n",
       "      <td>1.077775e+06</td>\n",
       "      <td>712764.125</td>\n",
       "      <td>1.033704e+06</td>\n",
       "      <td>8.210804e+05</td>\n",
       "      <td>864283.375</td>\n",
       "      <td>1.000991e+06</td>\n",
       "      <td>575085.000</td>\n",
       "      <td>5.794881e+05</td>\n",
       "      <td>...</td>\n",
       "      <td>2.577352e+05</td>\n",
       "      <td>9.003721e+05</td>\n",
       "      <td>572049.00</td>\n",
       "      <td>9.151072e+05</td>\n",
       "      <td>1281038.500</td>\n",
       "      <td>1044137.750</td>\n",
       "      <td>533033.500</td>\n",
       "      <td>671740.625</td>\n",
       "      <td>7.733917e+05</td>\n",
       "      <td>552319.125</td>\n",
       "    </tr>\n",
       "  </tbody>\n",
       "</table>\n",
       "<p>5 rows × 200 columns</p>\n",
       "</div>"
      ],
      "text/plain": [
       "         pred_0        pred_1        pred_2       pred_3        pred_4  \\\n",
       "0  6.088174e+06  6.877888e+06  5.046636e+06  6576727.000  5.852160e+06   \n",
       "1  1.054836e+06  1.439322e+06  1.452861e+06  1639398.000  1.146859e+06   \n",
       "2  2.016575e+06  3.465328e+06  2.360328e+06  2813153.000  2.947278e+06   \n",
       "3  1.311960e+06  8.195079e+05  8.810082e+05  1510207.125  1.641436e+06   \n",
       "4  1.039284e+06  1.015952e+06  1.077775e+06   712764.125  1.033704e+06   \n",
       "\n",
       "         pred_5       pred_6        pred_7       pred_8        pred_9  ...  \\\n",
       "0  5.920934e+06  5019849.000  5.775060e+06  5895333.000  6.427161e+06  ...   \n",
       "1  1.279776e+06   938906.750  1.330458e+06  1328318.875  1.504135e+06  ...   \n",
       "2  3.079016e+06  2667104.750  2.526058e+06  1725507.750  3.071834e+06  ...   \n",
       "3  8.030023e+05  2103560.750  1.834812e+06  2370616.500  3.179007e+05  ...   \n",
       "4  8.210804e+05   864283.375  1.000991e+06   575085.000  5.794881e+05  ...   \n",
       "\n",
       "       pred_190      pred_191    pred_192      pred_193     pred_194  \\\n",
       "0  7.211254e+06  6.327568e+06  7703201.00  3.852115e+06  7173559.000   \n",
       "1  1.569034e+06  1.048246e+06   877171.75  7.770025e+05  1575851.625   \n",
       "2  2.342366e+06  2.492890e+06  2075056.00  2.327769e+06  1409973.625   \n",
       "3  4.138562e+05  2.024102e+06  2058744.25  1.342424e+06  1795934.125   \n",
       "4  2.577352e+05  9.003721e+05   572049.00  9.151072e+05  1281038.500   \n",
       "\n",
       "      pred_195     pred_196     pred_197      pred_198     pred_199  \n",
       "0  7424977.500  4555264.000  5895322.500  6.405546e+06  5079010.000  \n",
       "1  1606526.750  1419801.625  1668243.875  1.045491e+06  1420885.000  \n",
       "2  1259940.125  2261201.000  1841850.875  2.907993e+06  1790726.500  \n",
       "3  1681098.125  1533107.500  2002154.000  8.860171e+05   751695.375  \n",
       "4  1044137.750   533033.500   671740.625  7.733917e+05   552319.125  \n",
       "\n",
       "[5 rows x 200 columns]"
      ]
     },
     "execution_count": 26,
     "metadata": {},
     "output_type": "execute_result"
    }
   ],
   "source": [
    "for i in range(n):\n",
    "    current_price_pred = xgb_created[i].predict(X_test_set)\n",
    "    RF_test_set['pred_{}'.format(i)] = current_price_pred\n",
    "RF_test_set.head()"
   ]
  },
  {
   "cell_type": "code",
   "execution_count": 27,
   "metadata": {},
   "outputs": [],
   "source": [
    "pred_a_kaggle = model_RF.predict(RF_test_set)"
   ]
  },
  {
   "cell_type": "code",
   "execution_count": 28,
   "metadata": {},
   "outputs": [
    {
     "data": {
      "text/html": [
       "<div>\n",
       "<style scoped>\n",
       "    .dataframe tbody tr th:only-of-type {\n",
       "        vertical-align: middle;\n",
       "    }\n",
       "\n",
       "    .dataframe tbody tr th {\n",
       "        vertical-align: top;\n",
       "    }\n",
       "\n",
       "    .dataframe thead th {\n",
       "        text-align: right;\n",
       "    }\n",
       "</style>\n",
       "<table border=\"1\" class=\"dataframe\">\n",
       "  <thead>\n",
       "    <tr style=\"text-align: right;\">\n",
       "      <th></th>\n",
       "      <th>id</th>\n",
       "      <th>target</th>\n",
       "    </tr>\n",
       "  </thead>\n",
       "  <tbody>\n",
       "    <tr>\n",
       "      <td>0</td>\n",
       "      <td>4941</td>\n",
       "      <td>6.200632e+06</td>\n",
       "    </tr>\n",
       "    <tr>\n",
       "      <td>1</td>\n",
       "      <td>51775</td>\n",
       "      <td>1.236225e+06</td>\n",
       "    </tr>\n",
       "    <tr>\n",
       "      <td>2</td>\n",
       "      <td>115253</td>\n",
       "      <td>2.298363e+06</td>\n",
       "    </tr>\n",
       "    <tr>\n",
       "      <td>3</td>\n",
       "      <td>299321</td>\n",
       "      <td>1.536515e+06</td>\n",
       "    </tr>\n",
       "    <tr>\n",
       "      <td>4</td>\n",
       "      <td>173570</td>\n",
       "      <td>7.585853e+05</td>\n",
       "    </tr>\n",
       "  </tbody>\n",
       "</table>\n",
       "</div>"
      ],
      "text/plain": [
       "       id        target\n",
       "0    4941  6.200632e+06\n",
       "1   51775  1.236225e+06\n",
       "2  115253  2.298363e+06\n",
       "3  299321  1.536515e+06\n",
       "4  173570  7.585853e+05"
      ]
     },
     "execution_count": 28,
     "metadata": {},
     "output_type": "execute_result"
    }
   ],
   "source": [
    "df_a_kaggle = pd.DataFrame()\n",
    "df_a_kaggle['id'] = test_set['id']\n",
    "df_a_kaggle['target'] = pred_a_kaggle\n",
    "df_a_kaggle.head()"
   ]
  },
  {
   "cell_type": "code",
   "execution_count": 29,
   "metadata": {},
   "outputs": [],
   "source": [
    "df_a_kaggle.to_csv(\"subir_a_kaggle\", header = True, index = False)"
   ]
  }
 ],
 "metadata": {
  "kernelspec": {
   "display_name": "Python 3",
   "language": "python",
   "name": "python3"
  },
  "language_info": {
   "codemirror_mode": {
    "name": "ipython",
    "version": 3
   },
   "file_extension": ".py",
   "mimetype": "text/x-python",
   "name": "python",
   "nbconvert_exporter": "python",
   "pygments_lexer": "ipython3",
   "version": "3.7.4"
  }
 },
 "nbformat": 4,
 "nbformat_minor": 4
}
