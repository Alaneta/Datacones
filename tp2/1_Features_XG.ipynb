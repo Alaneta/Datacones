{
 "cells": [
  {
   "cell_type": "code",
   "execution_count": 17,
   "metadata": {},
   "outputs": [],
   "source": [
    "import csv\n",
    "import pandas as pd\n",
    "import numpy as np\n",
    "from datetime import datetime\n",
    "import seaborn as sns\n",
    "import matplotlib.pyplot as plt\n",
    "import sklearn\n",
    "from sklearn.ensemble import RandomForestRegressor\n",
    "from sklearn.metrics import mean_squared_log_error\n",
    "# Importamos utilidades y modelos de sklearn\n",
    "from sklearn.preprocessing import Imputer\n",
    "from sklearn.model_selection import train_test_split\n",
    "from sklearn.dummy import DummyRegressor\n",
    "from sklearn.linear_model import LinearRegression\n",
    "from sklearn.tree import DecisionTreeRegressor\n",
    "import category_encoders as ce"
   ]
  },
  {
   "cell_type": "code",
   "execution_count": 18,
   "metadata": {},
   "outputs": [
    {
     "data": {
      "text/html": [
       "<div>\n",
       "<style scoped>\n",
       "    .dataframe tbody tr th:only-of-type {\n",
       "        vertical-align: middle;\n",
       "    }\n",
       "\n",
       "    .dataframe tbody tr th {\n",
       "        vertical-align: top;\n",
       "    }\n",
       "\n",
       "    .dataframe thead th {\n",
       "        text-align: right;\n",
       "    }\n",
       "</style>\n",
       "<table border=\"1\" class=\"dataframe\">\n",
       "  <thead>\n",
       "    <tr style=\"text-align: right;\">\n",
       "      <th></th>\n",
       "      <th>id</th>\n",
       "      <th>titulo</th>\n",
       "      <th>descripcion</th>\n",
       "      <th>tipodepropiedad</th>\n",
       "      <th>direccion</th>\n",
       "      <th>ciudad</th>\n",
       "      <th>provincia</th>\n",
       "      <th>antiguedad</th>\n",
       "      <th>habitaciones</th>\n",
       "      <th>garages</th>\n",
       "      <th>...</th>\n",
       "      <th>idzona</th>\n",
       "      <th>lat</th>\n",
       "      <th>lng</th>\n",
       "      <th>fecha</th>\n",
       "      <th>gimnasio</th>\n",
       "      <th>usosmultiples</th>\n",
       "      <th>piscina</th>\n",
       "      <th>escuelascercanas</th>\n",
       "      <th>centroscomercialescercanos</th>\n",
       "      <th>precio</th>\n",
       "    </tr>\n",
       "  </thead>\n",
       "  <tbody>\n",
       "    <tr>\n",
       "      <th>0</th>\n",
       "      <td>254099</td>\n",
       "      <td>depto. tipo a-402</td>\n",
       "      <td>depto. interior de 80.15m2, consta de sala com...</td>\n",
       "      <td>Apartamento</td>\n",
       "      <td>Avenida Division del Norte 2005</td>\n",
       "      <td>Benito Juárez</td>\n",
       "      <td>Distrito Federal</td>\n",
       "      <td>NaN</td>\n",
       "      <td>2.0</td>\n",
       "      <td>1.0</td>\n",
       "      <td>...</td>\n",
       "      <td>23533.0</td>\n",
       "      <td>NaN</td>\n",
       "      <td>NaN</td>\n",
       "      <td>2015-08-23 00:00:00</td>\n",
       "      <td>0.0</td>\n",
       "      <td>0.0</td>\n",
       "      <td>0.0</td>\n",
       "      <td>0.0</td>\n",
       "      <td>0.0</td>\n",
       "      <td>2273000.0</td>\n",
       "    </tr>\n",
       "    <tr>\n",
       "      <th>1</th>\n",
       "      <td>53461</td>\n",
       "      <td>condominio horizontal en venta</td>\n",
       "      <td>&lt;p&gt;entre sonora y guerrero, atr&amp;aacute;s del h...</td>\n",
       "      <td>Casa en condominio</td>\n",
       "      <td>AV. MEXICO</td>\n",
       "      <td>La Magdalena Contreras</td>\n",
       "      <td>Distrito Federal</td>\n",
       "      <td>10.0</td>\n",
       "      <td>3.0</td>\n",
       "      <td>2.0</td>\n",
       "      <td>...</td>\n",
       "      <td>24514.0</td>\n",
       "      <td>19.310205</td>\n",
       "      <td>-99.227655</td>\n",
       "      <td>2013-06-28 00:00:00</td>\n",
       "      <td>0.0</td>\n",
       "      <td>0.0</td>\n",
       "      <td>0.0</td>\n",
       "      <td>1.0</td>\n",
       "      <td>1.0</td>\n",
       "      <td>3600000.0</td>\n",
       "    </tr>\n",
       "    <tr>\n",
       "      <th>2</th>\n",
       "      <td>247984</td>\n",
       "      <td>casa en venta urbi 3 recamaras tonala</td>\n",
       "      <td>descripcion \\nla mejor ubicacion residencial e...</td>\n",
       "      <td>Casa</td>\n",
       "      <td>Urbi Tonala</td>\n",
       "      <td>Tonalá</td>\n",
       "      <td>Jalisco</td>\n",
       "      <td>5.0</td>\n",
       "      <td>3.0</td>\n",
       "      <td>2.0</td>\n",
       "      <td>...</td>\n",
       "      <td>48551.0</td>\n",
       "      <td>NaN</td>\n",
       "      <td>NaN</td>\n",
       "      <td>2015-10-17 00:00:00</td>\n",
       "      <td>0.0</td>\n",
       "      <td>0.0</td>\n",
       "      <td>0.0</td>\n",
       "      <td>0.0</td>\n",
       "      <td>0.0</td>\n",
       "      <td>1200000.0</td>\n",
       "    </tr>\n",
       "    <tr>\n",
       "      <th>3</th>\n",
       "      <td>209067</td>\n",
       "      <td>casa sola en toluca zinacantepec con credito i...</td>\n",
       "      <td>casa en privada con caseta de vigilancia casas...</td>\n",
       "      <td>Casa</td>\n",
       "      <td>IGNACIO MANUEL ALTAMIRANO 128</td>\n",
       "      <td>Zinacantepec</td>\n",
       "      <td>Edo. de México</td>\n",
       "      <td>1.0</td>\n",
       "      <td>2.0</td>\n",
       "      <td>1.0</td>\n",
       "      <td>...</td>\n",
       "      <td>53666.0</td>\n",
       "      <td>19.301890</td>\n",
       "      <td>-99.688015</td>\n",
       "      <td>2012-03-09 00:00:00</td>\n",
       "      <td>0.0</td>\n",
       "      <td>0.0</td>\n",
       "      <td>0.0</td>\n",
       "      <td>1.0</td>\n",
       "      <td>1.0</td>\n",
       "      <td>650000.0</td>\n",
       "    </tr>\n",
       "    <tr>\n",
       "      <th>4</th>\n",
       "      <td>185997</td>\n",
       "      <td>paseos del sol</td>\n",
       "      <td>bonito departamento en excelentes condiciones ...</td>\n",
       "      <td>Apartamento</td>\n",
       "      <td>PASEOS DEL SOL</td>\n",
       "      <td>Zapopan</td>\n",
       "      <td>Jalisco</td>\n",
       "      <td>10.0</td>\n",
       "      <td>2.0</td>\n",
       "      <td>1.0</td>\n",
       "      <td>...</td>\n",
       "      <td>47835.0</td>\n",
       "      <td>NaN</td>\n",
       "      <td>NaN</td>\n",
       "      <td>2016-06-07 00:00:00</td>\n",
       "      <td>0.0</td>\n",
       "      <td>0.0</td>\n",
       "      <td>0.0</td>\n",
       "      <td>0.0</td>\n",
       "      <td>0.0</td>\n",
       "      <td>1150000.0</td>\n",
       "    </tr>\n",
       "  </tbody>\n",
       "</table>\n",
       "<p>5 rows × 23 columns</p>\n",
       "</div>"
      ],
      "text/plain": [
       "       id                                             titulo  \\\n",
       "0  254099                                  depto. tipo a-402   \n",
       "1   53461                     condominio horizontal en venta   \n",
       "2  247984              casa en venta urbi 3 recamaras tonala   \n",
       "3  209067  casa sola en toluca zinacantepec con credito i...   \n",
       "4  185997                                     paseos del sol   \n",
       "\n",
       "                                         descripcion     tipodepropiedad  \\\n",
       "0  depto. interior de 80.15m2, consta de sala com...         Apartamento   \n",
       "1  <p>entre sonora y guerrero, atr&aacute;s del h...  Casa en condominio   \n",
       "2  descripcion \\nla mejor ubicacion residencial e...                Casa   \n",
       "3  casa en privada con caseta de vigilancia casas...                Casa   \n",
       "4  bonito departamento en excelentes condiciones ...         Apartamento   \n",
       "\n",
       "                         direccion                  ciudad         provincia  \\\n",
       "0  Avenida Division del Norte 2005           Benito Juárez  Distrito Federal   \n",
       "1                       AV. MEXICO  La Magdalena Contreras  Distrito Federal   \n",
       "2                      Urbi Tonala                  Tonalá           Jalisco   \n",
       "3    IGNACIO MANUEL ALTAMIRANO 128            Zinacantepec    Edo. de México   \n",
       "4                  PASEOS DEL SOL                  Zapopan           Jalisco   \n",
       "\n",
       "   antiguedad  habitaciones  garages  ...   idzona        lat        lng  \\\n",
       "0         NaN           2.0      1.0  ...  23533.0        NaN        NaN   \n",
       "1        10.0           3.0      2.0  ...  24514.0  19.310205 -99.227655   \n",
       "2         5.0           3.0      2.0  ...  48551.0        NaN        NaN   \n",
       "3         1.0           2.0      1.0  ...  53666.0  19.301890 -99.688015   \n",
       "4        10.0           2.0      1.0  ...  47835.0        NaN        NaN   \n",
       "\n",
       "                 fecha  gimnasio  usosmultiples piscina  escuelascercanas  \\\n",
       "0  2015-08-23 00:00:00       0.0            0.0     0.0               0.0   \n",
       "1  2013-06-28 00:00:00       0.0            0.0     0.0               1.0   \n",
       "2  2015-10-17 00:00:00       0.0            0.0     0.0               0.0   \n",
       "3  2012-03-09 00:00:00       0.0            0.0     0.0               1.0   \n",
       "4  2016-06-07 00:00:00       0.0            0.0     0.0               0.0   \n",
       "\n",
       "   centroscomercialescercanos     precio  \n",
       "0                         0.0  2273000.0  \n",
       "1                         1.0  3600000.0  \n",
       "2                         0.0  1200000.0  \n",
       "3                         1.0   650000.0  \n",
       "4                         0.0  1150000.0  \n",
       "\n",
       "[5 rows x 23 columns]"
      ]
     },
     "execution_count": 18,
     "metadata": {},
     "output_type": "execute_result"
    }
   ],
   "source": [
    "dtypes = {'id': 'int32', \n",
    "'titulo': 'object', \n",
    "'descripcion': 'object', \n",
    "'tipodepropiedad': 'category', \n",
    "'direccion': 'object', \n",
    "'ciudad': 'object', \n",
    "'provincia': 'category', \n",
    "'antiguedad': 'float', \n",
    "'habitaciones': 'float', \n",
    "'garages': 'float', \n",
    "'banos': 'float', \n",
    "'metroscubiertos': 'float', \n",
    "'metrostotales': 'float', \n",
    "'idzona': 'object', \n",
    "'lat': 'float64', \n",
    "'lng': 'float64', \n",
    "'gimnasio': 'float', \n",
    "'usosmultiples': 'float', \n",
    "'piscina': 'float', \n",
    "'escuelascercanas': 'float', \n",
    "'centroscomercialescercanos': 'float', \n",
    "'precio': 'float', }\n",
    "\n",
    "data = pd.read_csv(\"train.csv\", dtype = dtypes)\n",
    "data.head()"
   ]
  },
  {
   "cell_type": "markdown",
   "metadata": {},
   "source": [
    "# Pre-procesamiento de data"
   ]
  },
  {
   "cell_type": "code",
   "execution_count": 19,
   "metadata": {},
   "outputs": [
    {
     "data": {
      "text/plain": [
       "875"
      ]
     },
     "execution_count": 19,
     "metadata": {},
     "output_type": "execute_result"
    }
   ],
   "source": [
    "data[\"ciudad\"].nunique()"
   ]
  },
  {
   "cell_type": "code",
   "execution_count": 20,
   "metadata": {},
   "outputs": [
    {
     "data": {
      "text/plain": [
       "id                                 0\n",
       "titulo                          5387\n",
       "descripcion                     1619\n",
       "tipodepropiedad                   46\n",
       "direccion                      53072\n",
       "ciudad                           372\n",
       "provincia                        155\n",
       "antiguedad                     43555\n",
       "habitaciones                   22471\n",
       "garages                        37765\n",
       "banos                          26221\n",
       "metroscubiertos                17400\n",
       "metrostotales                  51467\n",
       "idzona                         28621\n",
       "lat                           123488\n",
       "lng                           123488\n",
       "fecha                              0\n",
       "gimnasio                           0\n",
       "usosmultiples                      0\n",
       "piscina                            0\n",
       "escuelascercanas                   0\n",
       "centroscomercialescercanos         0\n",
       "precio                             0\n",
       "dtype: int64"
      ]
     },
     "execution_count": 20,
     "metadata": {},
     "output_type": "execute_result"
    }
   ],
   "source": [
    "data.isnull().sum()"
   ]
  },
  {
   "cell_type": "code",
   "execution_count": 21,
   "metadata": {},
   "outputs": [
    {
     "data": {
      "text/plain": [
       "535127"
      ]
     },
     "execution_count": 21,
     "metadata": {},
     "output_type": "execute_result"
    }
   ],
   "source": [
    "data.isnull().sum().sum()"
   ]
  },
  {
   "cell_type": "code",
   "execution_count": 22,
   "metadata": {},
   "outputs": [
    {
     "data": {
      "text/plain": [
       "5520000"
      ]
     },
     "execution_count": 22,
     "metadata": {},
     "output_type": "execute_result"
    }
   ],
   "source": [
    "data.size"
   ]
  },
  {
   "cell_type": "code",
   "execution_count": 23,
   "metadata": {},
   "outputs": [
    {
     "data": {
      "text/plain": [
       "9.694329710144928"
      ]
     },
     "execution_count": 23,
     "metadata": {},
     "output_type": "execute_result"
    }
   ],
   "source": [
    "(data.isnull().sum().sum()/(data.size))*100"
   ]
  },
  {
   "cell_type": "markdown",
   "metadata": {},
   "source": [
    "Los Nulls representan el 10% de los datos."
   ]
  },
  {
   "cell_type": "markdown",
   "metadata": {},
   "source": [
    "# CON XGBOOST NO HACE FALTA PREOCUPARSE POR LOS NULLs"
   ]
  },
  {
   "cell_type": "markdown",
   "metadata": {},
   "source": [
    "# Levanto el csv de test para calcularle los features en paralelo"
   ]
  },
  {
   "cell_type": "code",
   "execution_count": 24,
   "metadata": {},
   "outputs": [
    {
     "data": {
      "text/html": [
       "<div>\n",
       "<style scoped>\n",
       "    .dataframe tbody tr th:only-of-type {\n",
       "        vertical-align: middle;\n",
       "    }\n",
       "\n",
       "    .dataframe tbody tr th {\n",
       "        vertical-align: top;\n",
       "    }\n",
       "\n",
       "    .dataframe thead th {\n",
       "        text-align: right;\n",
       "    }\n",
       "</style>\n",
       "<table border=\"1\" class=\"dataframe\">\n",
       "  <thead>\n",
       "    <tr style=\"text-align: right;\">\n",
       "      <th></th>\n",
       "      <th>id</th>\n",
       "      <th>titulo</th>\n",
       "      <th>descripcion</th>\n",
       "      <th>tipodepropiedad</th>\n",
       "      <th>direccion</th>\n",
       "      <th>ciudad</th>\n",
       "      <th>provincia</th>\n",
       "      <th>antiguedad</th>\n",
       "      <th>habitaciones</th>\n",
       "      <th>garages</th>\n",
       "      <th>...</th>\n",
       "      <th>metrostotales</th>\n",
       "      <th>idzona</th>\n",
       "      <th>lat</th>\n",
       "      <th>lng</th>\n",
       "      <th>fecha</th>\n",
       "      <th>gimnasio</th>\n",
       "      <th>usosmultiples</th>\n",
       "      <th>piscina</th>\n",
       "      <th>escuelascercanas</th>\n",
       "      <th>centroscomercialescercanos</th>\n",
       "    </tr>\n",
       "  </thead>\n",
       "  <tbody>\n",
       "    <tr>\n",
       "      <th>0</th>\n",
       "      <td>4941</td>\n",
       "      <td>casa en venta en miguel hidalgo, distrito federal</td>\n",
       "      <td>&lt;p&gt;excelente casa estilo moderno.&lt;/p&gt;</td>\n",
       "      <td>Casa</td>\n",
       "      <td>Bosque de Cedros</td>\n",
       "      <td>Miguel Hidalgo</td>\n",
       "      <td>Distrito Federal</td>\n",
       "      <td>29.0</td>\n",
       "      <td>3.0</td>\n",
       "      <td>NaN</td>\n",
       "      <td>...</td>\n",
       "      <td>NaN</td>\n",
       "      <td>NaN</td>\n",
       "      <td>19.408668</td>\n",
       "      <td>-99.246767</td>\n",
       "      <td>2013-07-20 00:00:00</td>\n",
       "      <td>0.0</td>\n",
       "      <td>0.0</td>\n",
       "      <td>0.0</td>\n",
       "      <td>0.0</td>\n",
       "      <td>0.0</td>\n",
       "    </tr>\n",
       "    <tr>\n",
       "      <th>1</th>\n",
       "      <td>51775</td>\n",
       "      <td>departamentos en venta en montebello</td>\n",
       "      <td>&lt;p&gt;departamento una recamara:\\n&lt;/p&gt;&lt;p&gt;departam...</td>\n",
       "      <td>Apartamento</td>\n",
       "      <td>NaN</td>\n",
       "      <td>Mérida</td>\n",
       "      <td>Yucatán</td>\n",
       "      <td>NaN</td>\n",
       "      <td>1.0</td>\n",
       "      <td>1.0</td>\n",
       "      <td>...</td>\n",
       "      <td>67.0</td>\n",
       "      <td>113851.0</td>\n",
       "      <td>21.032480</td>\n",
       "      <td>-89.592424</td>\n",
       "      <td>2015-10-24 00:00:00</td>\n",
       "      <td>0.0</td>\n",
       "      <td>0.0</td>\n",
       "      <td>0.0</td>\n",
       "      <td>0.0</td>\n",
       "      <td>0.0</td>\n",
       "    </tr>\n",
       "    <tr>\n",
       "      <th>2</th>\n",
       "      <td>115253</td>\n",
       "      <td>departamento nuevo delegación coyoacán de 87 m...</td>\n",
       "      <td>departamento nuevo de 87.06 m2, 1 cajón de est...</td>\n",
       "      <td>Apartamento</td>\n",
       "      <td>Pueblo de los Reyes, Coyoacán, Mexico D.F.</td>\n",
       "      <td>Coyoacán</td>\n",
       "      <td>Distrito Federal</td>\n",
       "      <td>0.0</td>\n",
       "      <td>2.0</td>\n",
       "      <td>1.0</td>\n",
       "      <td>...</td>\n",
       "      <td>100.0</td>\n",
       "      <td>23620.0</td>\n",
       "      <td>19.332829</td>\n",
       "      <td>-99.152913</td>\n",
       "      <td>2015-05-30 00:00:00</td>\n",
       "      <td>0.0</td>\n",
       "      <td>0.0</td>\n",
       "      <td>0.0</td>\n",
       "      <td>0.0</td>\n",
       "      <td>1.0</td>\n",
       "    </tr>\n",
       "    <tr>\n",
       "      <th>3</th>\n",
       "      <td>299321</td>\n",
       "      <td>departamento en venta en acapulco</td>\n",
       "      <td>&lt;p&gt;  raíces dv001 precioso departamento tipo k...</td>\n",
       "      <td>Apartamento</td>\n",
       "      <td>NaN</td>\n",
       "      <td>Acapulco de Juárez</td>\n",
       "      <td>Guerrero</td>\n",
       "      <td>2.0</td>\n",
       "      <td>2.0</td>\n",
       "      <td>2.0</td>\n",
       "      <td>...</td>\n",
       "      <td>86.0</td>\n",
       "      <td>129347.0</td>\n",
       "      <td>16.860487</td>\n",
       "      <td>-99.878383</td>\n",
       "      <td>2015-04-02 00:00:00</td>\n",
       "      <td>0.0</td>\n",
       "      <td>0.0</td>\n",
       "      <td>0.0</td>\n",
       "      <td>0.0</td>\n",
       "      <td>0.0</td>\n",
       "    </tr>\n",
       "    <tr>\n",
       "      <th>4</th>\n",
       "      <td>173570</td>\n",
       "      <td>bonita casa sola equipada de dos niveles en lo...</td>\n",
       "      <td>&lt;p&gt;casa sola, bonita de dos rec&amp;aacute;maras u...</td>\n",
       "      <td>Casa</td>\n",
       "      <td>CEDROS</td>\n",
       "      <td>Tultitlán</td>\n",
       "      <td>Edo. de México</td>\n",
       "      <td>10.0</td>\n",
       "      <td>2.0</td>\n",
       "      <td>1.0</td>\n",
       "      <td>...</td>\n",
       "      <td>76.0</td>\n",
       "      <td>57125.0</td>\n",
       "      <td>19.640482</td>\n",
       "      <td>-99.127273</td>\n",
       "      <td>2013-08-15 00:00:00</td>\n",
       "      <td>0.0</td>\n",
       "      <td>0.0</td>\n",
       "      <td>0.0</td>\n",
       "      <td>1.0</td>\n",
       "      <td>1.0</td>\n",
       "    </tr>\n",
       "  </tbody>\n",
       "</table>\n",
       "<p>5 rows × 22 columns</p>\n",
       "</div>"
      ],
      "text/plain": [
       "       id                                             titulo  \\\n",
       "0    4941  casa en venta en miguel hidalgo, distrito federal   \n",
       "1   51775               departamentos en venta en montebello   \n",
       "2  115253  departamento nuevo delegación coyoacán de 87 m...   \n",
       "3  299321                  departamento en venta en acapulco   \n",
       "4  173570  bonita casa sola equipada de dos niveles en lo...   \n",
       "\n",
       "                                         descripcion tipodepropiedad  \\\n",
       "0              <p>excelente casa estilo moderno.</p>            Casa   \n",
       "1  <p>departamento una recamara:\\n</p><p>departam...     Apartamento   \n",
       "2  departamento nuevo de 87.06 m2, 1 cajón de est...     Apartamento   \n",
       "3  <p>  raíces dv001 precioso departamento tipo k...     Apartamento   \n",
       "4  <p>casa sola, bonita de dos rec&aacute;maras u...            Casa   \n",
       "\n",
       "                                    direccion              ciudad  \\\n",
       "0                           Bosque de Cedros       Miguel Hidalgo   \n",
       "1                                         NaN              Mérida   \n",
       "2  Pueblo de los Reyes, Coyoacán, Mexico D.F.            Coyoacán   \n",
       "3                                         NaN  Acapulco de Juárez   \n",
       "4                                      CEDROS           Tultitlán   \n",
       "\n",
       "          provincia  antiguedad  habitaciones  garages  ...  metrostotales  \\\n",
       "0  Distrito Federal        29.0           3.0      NaN  ...            NaN   \n",
       "1           Yucatán         NaN           1.0      1.0  ...           67.0   \n",
       "2  Distrito Federal         0.0           2.0      1.0  ...          100.0   \n",
       "3          Guerrero         2.0           2.0      2.0  ...           86.0   \n",
       "4    Edo. de México        10.0           2.0      1.0  ...           76.0   \n",
       "\n",
       "     idzona        lat        lng                fecha  gimnasio  \\\n",
       "0       NaN  19.408668 -99.246767  2013-07-20 00:00:00       0.0   \n",
       "1  113851.0  21.032480 -89.592424  2015-10-24 00:00:00       0.0   \n",
       "2   23620.0  19.332829 -99.152913  2015-05-30 00:00:00       0.0   \n",
       "3  129347.0  16.860487 -99.878383  2015-04-02 00:00:00       0.0   \n",
       "4   57125.0  19.640482 -99.127273  2013-08-15 00:00:00       0.0   \n",
       "\n",
       "  usosmultiples  piscina  escuelascercanas  centroscomercialescercanos  \n",
       "0           0.0      0.0               0.0                         0.0  \n",
       "1           0.0      0.0               0.0                         0.0  \n",
       "2           0.0      0.0               0.0                         1.0  \n",
       "3           0.0      0.0               0.0                         0.0  \n",
       "4           0.0      0.0               1.0                         1.0  \n",
       "\n",
       "[5 rows x 22 columns]"
      ]
     },
     "execution_count": 24,
     "metadata": {},
     "output_type": "execute_result"
    }
   ],
   "source": [
    "test = pd.read_csv(\"test.csv\", dtype = dtypes)\n",
    "test.head()"
   ]
  },
  {
   "cell_type": "code",
   "execution_count": 25,
   "metadata": {},
   "outputs": [
    {
     "data": {
      "text/plain": [
       "60000"
      ]
     },
     "execution_count": 25,
     "metadata": {},
     "output_type": "execute_result"
    }
   ],
   "source": [
    "len(test)"
   ]
  },
  {
   "cell_type": "markdown",
   "metadata": {},
   "source": [
    "# Preparacion del set de datos de entrenamiento (features)"
   ]
  },
  {
   "cell_type": "markdown",
   "metadata": {},
   "source": [
    "La idea es preparar el set con los datos para exportar y que despues el modelo simplemente levante, separe en set de entrenamiento y test, entrene y devuelva una prediccion."
   ]
  },
  {
   "cell_type": "markdown",
   "metadata": {},
   "source": [
    "Se procede a calcular features. Cada feature se agregara al DataFrame final que tendra que levantar despues el modelo. Ojo que dentro de este DataFrame tambien va a estar el precio (que es el label)."
   ]
  },
  {
   "cell_type": "code",
   "execution_count": 26,
   "metadata": {},
   "outputs": [],
   "source": [
    "train_set = pd.DataFrame()"
   ]
  },
  {
   "cell_type": "code",
   "execution_count": 27,
   "metadata": {},
   "outputs": [],
   "source": [
    "test_set = pd.DataFrame()"
   ]
  },
  {
   "cell_type": "markdown",
   "metadata": {},
   "source": [
    "# Agrego las columnas que ya se encuentran"
   ]
  },
  {
   "cell_type": "code",
   "execution_count": 28,
   "metadata": {},
   "outputs": [
    {
     "data": {
      "text/plain": [
       "Index(['id', 'titulo', 'descripcion', 'tipodepropiedad', 'direccion', 'ciudad',\n",
       "       'provincia', 'antiguedad', 'habitaciones', 'garages', 'banos',\n",
       "       'metroscubiertos', 'metrostotales', 'idzona', 'lat', 'lng', 'fecha',\n",
       "       'gimnasio', 'usosmultiples', 'piscina', 'escuelascercanas',\n",
       "       'centroscomercialescercanos', 'precio'],\n",
       "      dtype='object')"
      ]
     },
     "execution_count": 28,
     "metadata": {},
     "output_type": "execute_result"
    }
   ],
   "source": [
    "data.columns"
   ]
  },
  {
   "cell_type": "markdown",
   "metadata": {},
   "source": [
    "# Set columnas para 'train_set'"
   ]
  },
  {
   "cell_type": "code",
   "execution_count": 29,
   "metadata": {},
   "outputs": [],
   "source": [
    "train_cols = ['id','antiguedad', 'habitaciones', 'garages', 'banos',\n",
    "       'metroscubiertos', 'metrostotales', 'idzona', 'lat', 'lng', 'gimnasio', 'usosmultiples', 'piscina', 'escuelascercanas',\n",
    "       'centroscomercialescercanos', 'precio','provincia','ciudad']"
   ]
  },
  {
   "cell_type": "code",
   "execution_count": 30,
   "metadata": {},
   "outputs": [],
   "source": [
    "train_set = data.loc[:, train_cols]"
   ]
  },
  {
   "cell_type": "code",
   "execution_count": 31,
   "metadata": {},
   "outputs": [
    {
     "data": {
      "text/html": [
       "<div>\n",
       "<style scoped>\n",
       "    .dataframe tbody tr th:only-of-type {\n",
       "        vertical-align: middle;\n",
       "    }\n",
       "\n",
       "    .dataframe tbody tr th {\n",
       "        vertical-align: top;\n",
       "    }\n",
       "\n",
       "    .dataframe thead th {\n",
       "        text-align: right;\n",
       "    }\n",
       "</style>\n",
       "<table border=\"1\" class=\"dataframe\">\n",
       "  <thead>\n",
       "    <tr style=\"text-align: right;\">\n",
       "      <th></th>\n",
       "      <th>id</th>\n",
       "      <th>antiguedad</th>\n",
       "      <th>habitaciones</th>\n",
       "      <th>garages</th>\n",
       "      <th>banos</th>\n",
       "      <th>metroscubiertos</th>\n",
       "      <th>metrostotales</th>\n",
       "      <th>idzona</th>\n",
       "      <th>lat</th>\n",
       "      <th>lng</th>\n",
       "      <th>gimnasio</th>\n",
       "      <th>usosmultiples</th>\n",
       "      <th>piscina</th>\n",
       "      <th>escuelascercanas</th>\n",
       "      <th>centroscomercialescercanos</th>\n",
       "      <th>precio</th>\n",
       "      <th>provincia</th>\n",
       "      <th>ciudad</th>\n",
       "    </tr>\n",
       "  </thead>\n",
       "  <tbody>\n",
       "    <tr>\n",
       "      <th>0</th>\n",
       "      <td>254099</td>\n",
       "      <td>NaN</td>\n",
       "      <td>2.0</td>\n",
       "      <td>1.0</td>\n",
       "      <td>2.0</td>\n",
       "      <td>80.0</td>\n",
       "      <td>80.0</td>\n",
       "      <td>23533.0</td>\n",
       "      <td>NaN</td>\n",
       "      <td>NaN</td>\n",
       "      <td>0.0</td>\n",
       "      <td>0.0</td>\n",
       "      <td>0.0</td>\n",
       "      <td>0.0</td>\n",
       "      <td>0.0</td>\n",
       "      <td>2273000.0</td>\n",
       "      <td>Distrito Federal</td>\n",
       "      <td>Benito Juárez</td>\n",
       "    </tr>\n",
       "    <tr>\n",
       "      <th>1</th>\n",
       "      <td>53461</td>\n",
       "      <td>10.0</td>\n",
       "      <td>3.0</td>\n",
       "      <td>2.0</td>\n",
       "      <td>2.0</td>\n",
       "      <td>268.0</td>\n",
       "      <td>180.0</td>\n",
       "      <td>24514.0</td>\n",
       "      <td>19.310205</td>\n",
       "      <td>-99.227655</td>\n",
       "      <td>0.0</td>\n",
       "      <td>0.0</td>\n",
       "      <td>0.0</td>\n",
       "      <td>1.0</td>\n",
       "      <td>1.0</td>\n",
       "      <td>3600000.0</td>\n",
       "      <td>Distrito Federal</td>\n",
       "      <td>La Magdalena Contreras</td>\n",
       "    </tr>\n",
       "    <tr>\n",
       "      <th>2</th>\n",
       "      <td>247984</td>\n",
       "      <td>5.0</td>\n",
       "      <td>3.0</td>\n",
       "      <td>2.0</td>\n",
       "      <td>2.0</td>\n",
       "      <td>144.0</td>\n",
       "      <td>166.0</td>\n",
       "      <td>48551.0</td>\n",
       "      <td>NaN</td>\n",
       "      <td>NaN</td>\n",
       "      <td>0.0</td>\n",
       "      <td>0.0</td>\n",
       "      <td>0.0</td>\n",
       "      <td>0.0</td>\n",
       "      <td>0.0</td>\n",
       "      <td>1200000.0</td>\n",
       "      <td>Jalisco</td>\n",
       "      <td>Tonalá</td>\n",
       "    </tr>\n",
       "    <tr>\n",
       "      <th>3</th>\n",
       "      <td>209067</td>\n",
       "      <td>1.0</td>\n",
       "      <td>2.0</td>\n",
       "      <td>1.0</td>\n",
       "      <td>1.0</td>\n",
       "      <td>63.0</td>\n",
       "      <td>67.0</td>\n",
       "      <td>53666.0</td>\n",
       "      <td>19.301890</td>\n",
       "      <td>-99.688015</td>\n",
       "      <td>0.0</td>\n",
       "      <td>0.0</td>\n",
       "      <td>0.0</td>\n",
       "      <td>1.0</td>\n",
       "      <td>1.0</td>\n",
       "      <td>650000.0</td>\n",
       "      <td>Edo. de México</td>\n",
       "      <td>Zinacantepec</td>\n",
       "    </tr>\n",
       "    <tr>\n",
       "      <th>4</th>\n",
       "      <td>185997</td>\n",
       "      <td>10.0</td>\n",
       "      <td>2.0</td>\n",
       "      <td>1.0</td>\n",
       "      <td>1.0</td>\n",
       "      <td>95.0</td>\n",
       "      <td>95.0</td>\n",
       "      <td>47835.0</td>\n",
       "      <td>NaN</td>\n",
       "      <td>NaN</td>\n",
       "      <td>0.0</td>\n",
       "      <td>0.0</td>\n",
       "      <td>0.0</td>\n",
       "      <td>0.0</td>\n",
       "      <td>0.0</td>\n",
       "      <td>1150000.0</td>\n",
       "      <td>Jalisco</td>\n",
       "      <td>Zapopan</td>\n",
       "    </tr>\n",
       "  </tbody>\n",
       "</table>\n",
       "</div>"
      ],
      "text/plain": [
       "       id  antiguedad  habitaciones  garages  banos  metroscubiertos  \\\n",
       "0  254099         NaN           2.0      1.0    2.0             80.0   \n",
       "1   53461        10.0           3.0      2.0    2.0            268.0   \n",
       "2  247984         5.0           3.0      2.0    2.0            144.0   \n",
       "3  209067         1.0           2.0      1.0    1.0             63.0   \n",
       "4  185997        10.0           2.0      1.0    1.0             95.0   \n",
       "\n",
       "   metrostotales   idzona        lat        lng  gimnasio  usosmultiples  \\\n",
       "0           80.0  23533.0        NaN        NaN       0.0            0.0   \n",
       "1          180.0  24514.0  19.310205 -99.227655       0.0            0.0   \n",
       "2          166.0  48551.0        NaN        NaN       0.0            0.0   \n",
       "3           67.0  53666.0  19.301890 -99.688015       0.0            0.0   \n",
       "4           95.0  47835.0        NaN        NaN       0.0            0.0   \n",
       "\n",
       "   piscina  escuelascercanas  centroscomercialescercanos     precio  \\\n",
       "0      0.0               0.0                         0.0  2273000.0   \n",
       "1      0.0               1.0                         1.0  3600000.0   \n",
       "2      0.0               0.0                         0.0  1200000.0   \n",
       "3      0.0               1.0                         1.0   650000.0   \n",
       "4      0.0               0.0                         0.0  1150000.0   \n",
       "\n",
       "          provincia                  ciudad  \n",
       "0  Distrito Federal           Benito Juárez  \n",
       "1  Distrito Federal  La Magdalena Contreras  \n",
       "2           Jalisco                  Tonalá  \n",
       "3    Edo. de México            Zinacantepec  \n",
       "4           Jalisco                 Zapopan  "
      ]
     },
     "execution_count": 31,
     "metadata": {},
     "output_type": "execute_result"
    }
   ],
   "source": [
    "train_set.head()"
   ]
  },
  {
   "cell_type": "markdown",
   "metadata": {},
   "source": [
    "# Set columnas para 'test_set'"
   ]
  },
  {
   "cell_type": "code",
   "execution_count": 32,
   "metadata": {},
   "outputs": [],
   "source": [
    "test_cols = ['id', 'antiguedad', 'habitaciones', 'garages', 'banos',\n",
    "       'metroscubiertos', 'metrostotales', 'idzona', 'lat', 'lng', 'gimnasio', 'usosmultiples', 'piscina', 'escuelascercanas',\n",
    "       'centroscomercialescercanos','provincia','ciudad']"
   ]
  },
  {
   "cell_type": "code",
   "execution_count": 33,
   "metadata": {},
   "outputs": [],
   "source": [
    "# Se mete en test_set la columna 'id'; recordar de luego sacarla!\n",
    "test_set = test.loc[:, test_cols]"
   ]
  },
  {
   "cell_type": "code",
   "execution_count": 34,
   "metadata": {},
   "outputs": [
    {
     "data": {
      "text/html": [
       "<div>\n",
       "<style scoped>\n",
       "    .dataframe tbody tr th:only-of-type {\n",
       "        vertical-align: middle;\n",
       "    }\n",
       "\n",
       "    .dataframe tbody tr th {\n",
       "        vertical-align: top;\n",
       "    }\n",
       "\n",
       "    .dataframe thead th {\n",
       "        text-align: right;\n",
       "    }\n",
       "</style>\n",
       "<table border=\"1\" class=\"dataframe\">\n",
       "  <thead>\n",
       "    <tr style=\"text-align: right;\">\n",
       "      <th></th>\n",
       "      <th>id</th>\n",
       "      <th>antiguedad</th>\n",
       "      <th>habitaciones</th>\n",
       "      <th>garages</th>\n",
       "      <th>banos</th>\n",
       "      <th>metroscubiertos</th>\n",
       "      <th>metrostotales</th>\n",
       "      <th>idzona</th>\n",
       "      <th>lat</th>\n",
       "      <th>lng</th>\n",
       "      <th>gimnasio</th>\n",
       "      <th>usosmultiples</th>\n",
       "      <th>piscina</th>\n",
       "      <th>escuelascercanas</th>\n",
       "      <th>centroscomercialescercanos</th>\n",
       "      <th>provincia</th>\n",
       "      <th>ciudad</th>\n",
       "    </tr>\n",
       "  </thead>\n",
       "  <tbody>\n",
       "    <tr>\n",
       "      <th>0</th>\n",
       "      <td>4941</td>\n",
       "      <td>29.0</td>\n",
       "      <td>3.0</td>\n",
       "      <td>NaN</td>\n",
       "      <td>4.0</td>\n",
       "      <td>300.0</td>\n",
       "      <td>NaN</td>\n",
       "      <td>NaN</td>\n",
       "      <td>19.408668</td>\n",
       "      <td>-99.246767</td>\n",
       "      <td>0.0</td>\n",
       "      <td>0.0</td>\n",
       "      <td>0.0</td>\n",
       "      <td>0.0</td>\n",
       "      <td>0.0</td>\n",
       "      <td>Distrito Federal</td>\n",
       "      <td>Miguel Hidalgo</td>\n",
       "    </tr>\n",
       "    <tr>\n",
       "      <th>1</th>\n",
       "      <td>51775</td>\n",
       "      <td>NaN</td>\n",
       "      <td>1.0</td>\n",
       "      <td>1.0</td>\n",
       "      <td>1.0</td>\n",
       "      <td>67.0</td>\n",
       "      <td>67.0</td>\n",
       "      <td>113851.0</td>\n",
       "      <td>21.032480</td>\n",
       "      <td>-89.592424</td>\n",
       "      <td>0.0</td>\n",
       "      <td>0.0</td>\n",
       "      <td>0.0</td>\n",
       "      <td>0.0</td>\n",
       "      <td>0.0</td>\n",
       "      <td>Yucatán</td>\n",
       "      <td>Mérida</td>\n",
       "    </tr>\n",
       "    <tr>\n",
       "      <th>2</th>\n",
       "      <td>115253</td>\n",
       "      <td>0.0</td>\n",
       "      <td>2.0</td>\n",
       "      <td>1.0</td>\n",
       "      <td>2.0</td>\n",
       "      <td>87.0</td>\n",
       "      <td>100.0</td>\n",
       "      <td>23620.0</td>\n",
       "      <td>19.332829</td>\n",
       "      <td>-99.152913</td>\n",
       "      <td>0.0</td>\n",
       "      <td>0.0</td>\n",
       "      <td>0.0</td>\n",
       "      <td>0.0</td>\n",
       "      <td>1.0</td>\n",
       "      <td>Distrito Federal</td>\n",
       "      <td>Coyoacán</td>\n",
       "    </tr>\n",
       "    <tr>\n",
       "      <th>3</th>\n",
       "      <td>299321</td>\n",
       "      <td>2.0</td>\n",
       "      <td>2.0</td>\n",
       "      <td>2.0</td>\n",
       "      <td>2.0</td>\n",
       "      <td>86.0</td>\n",
       "      <td>86.0</td>\n",
       "      <td>129347.0</td>\n",
       "      <td>16.860487</td>\n",
       "      <td>-99.878383</td>\n",
       "      <td>0.0</td>\n",
       "      <td>0.0</td>\n",
       "      <td>0.0</td>\n",
       "      <td>0.0</td>\n",
       "      <td>0.0</td>\n",
       "      <td>Guerrero</td>\n",
       "      <td>Acapulco de Juárez</td>\n",
       "    </tr>\n",
       "    <tr>\n",
       "      <th>4</th>\n",
       "      <td>173570</td>\n",
       "      <td>10.0</td>\n",
       "      <td>2.0</td>\n",
       "      <td>1.0</td>\n",
       "      <td>1.0</td>\n",
       "      <td>80.0</td>\n",
       "      <td>76.0</td>\n",
       "      <td>57125.0</td>\n",
       "      <td>19.640482</td>\n",
       "      <td>-99.127273</td>\n",
       "      <td>0.0</td>\n",
       "      <td>0.0</td>\n",
       "      <td>0.0</td>\n",
       "      <td>1.0</td>\n",
       "      <td>1.0</td>\n",
       "      <td>Edo. de México</td>\n",
       "      <td>Tultitlán</td>\n",
       "    </tr>\n",
       "  </tbody>\n",
       "</table>\n",
       "</div>"
      ],
      "text/plain": [
       "       id  antiguedad  habitaciones  garages  banos  metroscubiertos  \\\n",
       "0    4941        29.0           3.0      NaN    4.0            300.0   \n",
       "1   51775         NaN           1.0      1.0    1.0             67.0   \n",
       "2  115253         0.0           2.0      1.0    2.0             87.0   \n",
       "3  299321         2.0           2.0      2.0    2.0             86.0   \n",
       "4  173570        10.0           2.0      1.0    1.0             80.0   \n",
       "\n",
       "   metrostotales    idzona        lat        lng  gimnasio  usosmultiples  \\\n",
       "0            NaN       NaN  19.408668 -99.246767       0.0            0.0   \n",
       "1           67.0  113851.0  21.032480 -89.592424       0.0            0.0   \n",
       "2          100.0   23620.0  19.332829 -99.152913       0.0            0.0   \n",
       "3           86.0  129347.0  16.860487 -99.878383       0.0            0.0   \n",
       "4           76.0   57125.0  19.640482 -99.127273       0.0            0.0   \n",
       "\n",
       "   piscina  escuelascercanas  centroscomercialescercanos         provincia  \\\n",
       "0      0.0               0.0                         0.0  Distrito Federal   \n",
       "1      0.0               0.0                         0.0           Yucatán   \n",
       "2      0.0               0.0                         1.0  Distrito Federal   \n",
       "3      0.0               0.0                         0.0          Guerrero   \n",
       "4      0.0               1.0                         1.0    Edo. de México   \n",
       "\n",
       "               ciudad  \n",
       "0      Miguel Hidalgo  \n",
       "1              Mérida  \n",
       "2            Coyoacán  \n",
       "3  Acapulco de Juárez  \n",
       "4           Tultitlán  "
      ]
     },
     "execution_count": 34,
     "metadata": {},
     "output_type": "execute_result"
    }
   ],
   "source": [
    "test_set.head()"
   ]
  },
  {
   "cell_type": "markdown",
   "metadata": {},
   "source": [
    "# Se codifica el tipo de propiedad"
   ]
  },
  {
   "cell_type": "code",
   "execution_count": 35,
   "metadata": {},
   "outputs": [],
   "source": [
    "data['train'] = True\n",
    "test['train'] = False\n",
    "combined = pd.concat([data, test], sort = True)"
   ]
  },
  {
   "cell_type": "code",
   "execution_count": 36,
   "metadata": {},
   "outputs": [
    {
     "data": {
      "text/plain": [
       "300000"
      ]
     },
     "execution_count": 36,
     "metadata": {},
     "output_type": "execute_result"
    }
   ],
   "source": [
    "len(combined)"
   ]
  },
  {
   "cell_type": "code",
   "execution_count": 37,
   "metadata": {},
   "outputs": [],
   "source": [
    "var_categoricas = ['tipodepropiedad']"
   ]
  },
  {
   "cell_type": "code",
   "execution_count": 38,
   "metadata": {},
   "outputs": [
    {
     "data": {
      "text/plain": [
       "Index(['tipodepropiedad_1', 'tipodepropiedad_2', 'tipodepropiedad_3',\n",
       "       'tipodepropiedad_4', 'tipodepropiedad_5', 'tipodepropiedad_6',\n",
       "       'tipodepropiedad_7', 'tipodepropiedad_8', 'tipodepropiedad_9',\n",
       "       'tipodepropiedad_10', 'tipodepropiedad_11', 'tipodepropiedad_12',\n",
       "       'tipodepropiedad_13', 'tipodepropiedad_14', 'tipodepropiedad_15',\n",
       "       'tipodepropiedad_16', 'tipodepropiedad_17', 'tipodepropiedad_18',\n",
       "       'tipodepropiedad_19', 'tipodepropiedad_20', 'tipodepropiedad_21',\n",
       "       'tipodepropiedad_22', 'tipodepropiedad_23', 'tipodepropiedad_24',\n",
       "       'tipodepropiedad_25'],\n",
       "      dtype='object')"
      ]
     },
     "execution_count": 38,
     "metadata": {},
     "output_type": "execute_result"
    }
   ],
   "source": [
    "one_hot_enc = ce.OneHotEncoder(handle_unknown = 'ignore')\n",
    "one_hot_encoded = one_hot_enc.fit_transform(combined[var_categoricas])\n",
    "one_hot_encoded.columns"
   ]
  },
  {
   "cell_type": "code",
   "execution_count": 39,
   "metadata": {},
   "outputs": [
    {
     "data": {
      "text/plain": [
       "Index(['antiguedad', 'banos', 'centroscomercialescercanos', 'ciudad',\n",
       "       'descripcion', 'direccion', 'escuelascercanas', 'fecha', 'garages',\n",
       "       'gimnasio', 'habitaciones', 'id', 'idzona', 'lat', 'lng',\n",
       "       'metroscubiertos', 'metrostotales', 'piscina', 'precio', 'provincia',\n",
       "       'tipodepropiedad', 'titulo', 'train', 'usosmultiples'],\n",
       "      dtype='object')"
      ]
     },
     "execution_count": 39,
     "metadata": {},
     "output_type": "execute_result"
    }
   ],
   "source": [
    "combined.columns"
   ]
  },
  {
   "cell_type": "code",
   "execution_count": 40,
   "metadata": {},
   "outputs": [
    {
     "data": {
      "text/plain": [
       "300000"
      ]
     },
     "execution_count": 40,
     "metadata": {},
     "output_type": "execute_result"
    }
   ],
   "source": [
    "combined = pd.concat([combined, one_hot_encoded], axis = 1)\n",
    "len(combined)"
   ]
  },
  {
   "cell_type": "code",
   "execution_count": 41,
   "metadata": {},
   "outputs": [
    {
     "data": {
      "text/plain": [
       "Index(['antiguedad', 'banos', 'centroscomercialescercanos', 'ciudad',\n",
       "       'descripcion', 'direccion', 'escuelascercanas', 'fecha', 'garages',\n",
       "       'gimnasio', 'habitaciones', 'id', 'idzona', 'lat', 'lng',\n",
       "       'metroscubiertos', 'metrostotales', 'piscina', 'precio', 'provincia',\n",
       "       'tipodepropiedad', 'titulo', 'train', 'usosmultiples',\n",
       "       'tipodepropiedad_1', 'tipodepropiedad_2', 'tipodepropiedad_3',\n",
       "       'tipodepropiedad_4', 'tipodepropiedad_5', 'tipodepropiedad_6',\n",
       "       'tipodepropiedad_7', 'tipodepropiedad_8', 'tipodepropiedad_9',\n",
       "       'tipodepropiedad_10', 'tipodepropiedad_11', 'tipodepropiedad_12',\n",
       "       'tipodepropiedad_13', 'tipodepropiedad_14', 'tipodepropiedad_15',\n",
       "       'tipodepropiedad_16', 'tipodepropiedad_17', 'tipodepropiedad_18',\n",
       "       'tipodepropiedad_19', 'tipodepropiedad_20', 'tipodepropiedad_21',\n",
       "       'tipodepropiedad_22', 'tipodepropiedad_23', 'tipodepropiedad_24',\n",
       "       'tipodepropiedad_25'],\n",
       "      dtype='object')"
      ]
     },
     "execution_count": 41,
     "metadata": {},
     "output_type": "execute_result"
    }
   ],
   "source": [
    "combined.columns"
   ]
  },
  {
   "cell_type": "code",
   "execution_count": 42,
   "metadata": {},
   "outputs": [],
   "source": [
    "train_set = train_set.merge(combined.loc[:, ['tipodepropiedad_1', 'tipodepropiedad_2', 'tipodepropiedad_3',\n",
    "       'tipodepropiedad_4', 'tipodepropiedad_5', 'tipodepropiedad_6',\n",
    "       'tipodepropiedad_7', 'tipodepropiedad_8', 'tipodepropiedad_9',\n",
    "       'tipodepropiedad_10', 'tipodepropiedad_11', 'tipodepropiedad_12',\n",
    "       'tipodepropiedad_13', 'tipodepropiedad_14', 'tipodepropiedad_15',\n",
    "       'tipodepropiedad_16', 'tipodepropiedad_17', 'tipodepropiedad_18',\n",
    "       'tipodepropiedad_19', 'tipodepropiedad_20', 'tipodepropiedad_21',\n",
    "       'tipodepropiedad_22', 'tipodepropiedad_23', 'tipodepropiedad_24',\n",
    "       'tipodepropiedad_25', 'id']], on='id', how = 'left')"
   ]
  },
  {
   "cell_type": "code",
   "execution_count": 43,
   "metadata": {},
   "outputs": [],
   "source": [
    "test_set = test_set.merge(combined.loc[:, ['tipodepropiedad_1', 'tipodepropiedad_2', 'tipodepropiedad_3',\n",
    "       'tipodepropiedad_4', 'tipodepropiedad_5', 'tipodepropiedad_6',\n",
    "       'tipodepropiedad_7', 'tipodepropiedad_8', 'tipodepropiedad_9',\n",
    "       'tipodepropiedad_10', 'tipodepropiedad_11', 'tipodepropiedad_12',\n",
    "       'tipodepropiedad_13', 'tipodepropiedad_14', 'tipodepropiedad_15',\n",
    "       'tipodepropiedad_16', 'tipodepropiedad_17', 'tipodepropiedad_18',\n",
    "       'tipodepropiedad_19', 'tipodepropiedad_20', 'tipodepropiedad_21',\n",
    "       'tipodepropiedad_22', 'tipodepropiedad_23', 'tipodepropiedad_24',\n",
    "       'tipodepropiedad_25', 'id']], on='id', how = 'left')"
   ]
  },
  {
   "cell_type": "code",
   "execution_count": 44,
   "metadata": {},
   "outputs": [
    {
     "data": {
      "text/plain": [
       "240000"
      ]
     },
     "execution_count": 44,
     "metadata": {},
     "output_type": "execute_result"
    }
   ],
   "source": [
    "len(train_set)"
   ]
  },
  {
   "cell_type": "code",
   "execution_count": 45,
   "metadata": {},
   "outputs": [
    {
     "data": {
      "text/plain": [
       "60000"
      ]
     },
     "execution_count": 45,
     "metadata": {},
     "output_type": "execute_result"
    }
   ],
   "source": [
    "len(test_set)"
   ]
  },
  {
   "cell_type": "markdown",
   "metadata": {},
   "source": [
    "# Se codifica la provincia"
   ]
  },
  {
   "cell_type": "code",
   "execution_count": 46,
   "metadata": {},
   "outputs": [],
   "source": [
    "data['train'] = True\n",
    "test['train'] = False\n",
    "combined = pd.concat([data, test], sort = True)"
   ]
  },
  {
   "cell_type": "code",
   "execution_count": 47,
   "metadata": {},
   "outputs": [
    {
     "data": {
      "text/plain": [
       "300000"
      ]
     },
     "execution_count": 47,
     "metadata": {},
     "output_type": "execute_result"
    }
   ],
   "source": [
    "len(combined)"
   ]
  },
  {
   "cell_type": "code",
   "execution_count": 48,
   "metadata": {},
   "outputs": [],
   "source": [
    "var_categoricas = ['provincia']"
   ]
  },
  {
   "cell_type": "code",
   "execution_count": 49,
   "metadata": {},
   "outputs": [
    {
     "data": {
      "text/plain": [
       "Index(['provincia_1', 'provincia_2', 'provincia_3', 'provincia_4',\n",
       "       'provincia_5', 'provincia_6', 'provincia_7', 'provincia_8',\n",
       "       'provincia_9', 'provincia_10', 'provincia_11', 'provincia_12',\n",
       "       'provincia_13', 'provincia_14', 'provincia_15', 'provincia_16',\n",
       "       'provincia_17', 'provincia_18', 'provincia_19', 'provincia_20',\n",
       "       'provincia_21', 'provincia_22', 'provincia_23', 'provincia_24',\n",
       "       'provincia_25', 'provincia_26', 'provincia_27', 'provincia_28',\n",
       "       'provincia_29', 'provincia_30', 'provincia_31', 'provincia_32'],\n",
       "      dtype='object')"
      ]
     },
     "execution_count": 49,
     "metadata": {},
     "output_type": "execute_result"
    }
   ],
   "source": [
    "one_hot_enc = ce.OneHotEncoder(handle_unknown = 'ignore')\n",
    "one_hot_encoded = one_hot_enc.fit_transform(combined[var_categoricas])\n",
    "one_hot_encoded.columns"
   ]
  },
  {
   "cell_type": "code",
   "execution_count": 50,
   "metadata": {},
   "outputs": [
    {
     "data": {
      "text/plain": [
       "Index(['antiguedad', 'banos', 'centroscomercialescercanos', 'ciudad',\n",
       "       'descripcion', 'direccion', 'escuelascercanas', 'fecha', 'garages',\n",
       "       'gimnasio', 'habitaciones', 'id', 'idzona', 'lat', 'lng',\n",
       "       'metroscubiertos', 'metrostotales', 'piscina', 'precio', 'provincia',\n",
       "       'tipodepropiedad', 'titulo', 'train', 'usosmultiples'],\n",
       "      dtype='object')"
      ]
     },
     "execution_count": 50,
     "metadata": {},
     "output_type": "execute_result"
    }
   ],
   "source": [
    "combined.columns"
   ]
  },
  {
   "cell_type": "code",
   "execution_count": 51,
   "metadata": {},
   "outputs": [
    {
     "data": {
      "text/plain": [
       "300000"
      ]
     },
     "execution_count": 51,
     "metadata": {},
     "output_type": "execute_result"
    }
   ],
   "source": [
    "combined = pd.concat([combined, one_hot_encoded], axis = 1)\n",
    "len(combined)"
   ]
  },
  {
   "cell_type": "code",
   "execution_count": 52,
   "metadata": {},
   "outputs": [
    {
     "data": {
      "text/plain": [
       "Index(['antiguedad', 'banos', 'centroscomercialescercanos', 'ciudad',\n",
       "       'descripcion', 'direccion', 'escuelascercanas', 'fecha', 'garages',\n",
       "       'gimnasio', 'habitaciones', 'id', 'idzona', 'lat', 'lng',\n",
       "       'metroscubiertos', 'metrostotales', 'piscina', 'precio', 'provincia',\n",
       "       'tipodepropiedad', 'titulo', 'train', 'usosmultiples', 'provincia_1',\n",
       "       'provincia_2', 'provincia_3', 'provincia_4', 'provincia_5',\n",
       "       'provincia_6', 'provincia_7', 'provincia_8', 'provincia_9',\n",
       "       'provincia_10', 'provincia_11', 'provincia_12', 'provincia_13',\n",
       "       'provincia_14', 'provincia_15', 'provincia_16', 'provincia_17',\n",
       "       'provincia_18', 'provincia_19', 'provincia_20', 'provincia_21',\n",
       "       'provincia_22', 'provincia_23', 'provincia_24', 'provincia_25',\n",
       "       'provincia_26', 'provincia_27', 'provincia_28', 'provincia_29',\n",
       "       'provincia_30', 'provincia_31', 'provincia_32'],\n",
       "      dtype='object')"
      ]
     },
     "execution_count": 52,
     "metadata": {},
     "output_type": "execute_result"
    }
   ],
   "source": [
    "combined.columns"
   ]
  },
  {
   "cell_type": "code",
   "execution_count": 53,
   "metadata": {},
   "outputs": [],
   "source": [
    "train_set = train_set.merge(combined.loc[:, ['provincia_1',\n",
    "       'provincia_2', 'provincia_3', 'provincia_4', 'provincia_5',\n",
    "       'provincia_6', 'provincia_7', 'provincia_8', 'provincia_9',\n",
    "       'provincia_10', 'provincia_11', 'provincia_12', 'provincia_13',\n",
    "       'provincia_14', 'provincia_15', 'provincia_16', 'provincia_17',\n",
    "       'provincia_18', 'provincia_19', 'provincia_20', 'provincia_21',\n",
    "       'provincia_22', 'provincia_23', 'provincia_24', 'provincia_25',\n",
    "       'provincia_26', 'provincia_27', 'provincia_28', 'provincia_29',\n",
    "       'provincia_30', 'provincia_31', 'provincia_32', 'id']], on='id', how = 'left')"
   ]
  },
  {
   "cell_type": "code",
   "execution_count": 54,
   "metadata": {},
   "outputs": [],
   "source": [
    "test_set = test_set.merge(combined.loc[:, ['provincia_1',\n",
    "       'provincia_2', 'provincia_3', 'provincia_4', 'provincia_5',\n",
    "       'provincia_6', 'provincia_7', 'provincia_8', 'provincia_9',\n",
    "       'provincia_10', 'provincia_11', 'provincia_12', 'provincia_13',\n",
    "       'provincia_14', 'provincia_15', 'provincia_16', 'provincia_17',\n",
    "       'provincia_18', 'provincia_19', 'provincia_20', 'provincia_21',\n",
    "       'provincia_22', 'provincia_23', 'provincia_24', 'provincia_25',\n",
    "       'provincia_26', 'provincia_27', 'provincia_28', 'provincia_29',\n",
    "       'provincia_30', 'provincia_31', 'provincia_32', 'id']], on='id', how = 'left')"
   ]
  },
  {
   "cell_type": "code",
   "execution_count": 55,
   "metadata": {},
   "outputs": [
    {
     "data": {
      "text/plain": [
       "240000"
      ]
     },
     "execution_count": 55,
     "metadata": {},
     "output_type": "execute_result"
    }
   ],
   "source": [
    "len(train_set)"
   ]
  },
  {
   "cell_type": "code",
   "execution_count": 56,
   "metadata": {},
   "outputs": [
    {
     "data": {
      "text/plain": [
       "60000"
      ]
     },
     "execution_count": 56,
     "metadata": {},
     "output_type": "execute_result"
    }
   ],
   "source": [
    "len(test_set)"
   ]
  },
  {
   "cell_type": "markdown",
   "metadata": {},
   "source": [
    "# Se codifica la ciudad"
   ]
  },
  {
   "cell_type": "code",
   "execution_count": 57,
   "metadata": {},
   "outputs": [
    {
     "data": {
      "text/plain": [
       "875"
      ]
     },
     "execution_count": 57,
     "metadata": {},
     "output_type": "execute_result"
    }
   ],
   "source": [
    "data['ciudad'].nunique()"
   ]
  },
  {
   "cell_type": "markdown",
   "metadata": {},
   "source": [
    "### Se tienen 875 ciudades distintas. Por ende, usar One Hot es inviable"
   ]
  },
  {
   "cell_type": "markdown",
   "metadata": {},
   "source": [
    "### Se prueba con Binary Encoding"
   ]
  },
  {
   "cell_type": "code",
   "execution_count": 58,
   "metadata": {},
   "outputs": [],
   "source": [
    "data['train'] = True\n",
    "test['train'] = False\n",
    "combined = pd.concat([data, test], sort = True)"
   ]
  },
  {
   "cell_type": "code",
   "execution_count": 59,
   "metadata": {},
   "outputs": [
    {
     "data": {
      "text/plain": [
       "300000"
      ]
     },
     "execution_count": 59,
     "metadata": {},
     "output_type": "execute_result"
    }
   ],
   "source": [
    "len(combined)"
   ]
  },
  {
   "cell_type": "code",
   "execution_count": 60,
   "metadata": {},
   "outputs": [],
   "source": [
    "var_categoricas = ['ciudad']"
   ]
  },
  {
   "cell_type": "code",
   "execution_count": 61,
   "metadata": {},
   "outputs": [
    {
     "data": {
      "text/plain": [
       "Index(['ciudad_0', 'ciudad_1', 'ciudad_2', 'ciudad_3', 'ciudad_4', 'ciudad_5',\n",
       "       'ciudad_6', 'ciudad_7', 'ciudad_8', 'ciudad_9', 'ciudad_10'],\n",
       "      dtype='object')"
      ]
     },
     "execution_count": 61,
     "metadata": {},
     "output_type": "execute_result"
    }
   ],
   "source": [
    "one_hot_enc = ce.BinaryEncoder(handle_unknown = 'ignore')\n",
    "one_hot_encoded = one_hot_enc.fit_transform(combined[var_categoricas])\n",
    "one_hot_encoded.columns"
   ]
  },
  {
   "cell_type": "code",
   "execution_count": 62,
   "metadata": {},
   "outputs": [
    {
     "data": {
      "text/plain": [
       "Index(['antiguedad', 'banos', 'centroscomercialescercanos', 'ciudad',\n",
       "       'descripcion', 'direccion', 'escuelascercanas', 'fecha', 'garages',\n",
       "       'gimnasio', 'habitaciones', 'id', 'idzona', 'lat', 'lng',\n",
       "       'metroscubiertos', 'metrostotales', 'piscina', 'precio', 'provincia',\n",
       "       'tipodepropiedad', 'titulo', 'train', 'usosmultiples'],\n",
       "      dtype='object')"
      ]
     },
     "execution_count": 62,
     "metadata": {},
     "output_type": "execute_result"
    }
   ],
   "source": [
    "combined.columns"
   ]
  },
  {
   "cell_type": "code",
   "execution_count": 63,
   "metadata": {},
   "outputs": [
    {
     "data": {
      "text/plain": [
       "300000"
      ]
     },
     "execution_count": 63,
     "metadata": {},
     "output_type": "execute_result"
    }
   ],
   "source": [
    "combined = pd.concat([combined, one_hot_encoded], axis = 1)\n",
    "len(combined)"
   ]
  },
  {
   "cell_type": "code",
   "execution_count": 64,
   "metadata": {},
   "outputs": [
    {
     "data": {
      "text/plain": [
       "Index(['antiguedad', 'banos', 'centroscomercialescercanos', 'ciudad',\n",
       "       'descripcion', 'direccion', 'escuelascercanas', 'fecha', 'garages',\n",
       "       'gimnasio', 'habitaciones', 'id', 'idzona', 'lat', 'lng',\n",
       "       'metroscubiertos', 'metrostotales', 'piscina', 'precio', 'provincia',\n",
       "       'tipodepropiedad', 'titulo', 'train', 'usosmultiples', 'ciudad_0',\n",
       "       'ciudad_1', 'ciudad_2', 'ciudad_3', 'ciudad_4', 'ciudad_5', 'ciudad_6',\n",
       "       'ciudad_7', 'ciudad_8', 'ciudad_9', 'ciudad_10'],\n",
       "      dtype='object')"
      ]
     },
     "execution_count": 64,
     "metadata": {},
     "output_type": "execute_result"
    }
   ],
   "source": [
    "combined.columns"
   ]
  },
  {
   "cell_type": "code",
   "execution_count": 65,
   "metadata": {},
   "outputs": [],
   "source": [
    "train_set = train_set.merge(combined.loc[:, ['ciudad_0',\n",
    "       'ciudad_1', 'ciudad_2', 'ciudad_3', 'ciudad_4', 'ciudad_5', 'ciudad_6',\n",
    "       'ciudad_7', 'ciudad_8', 'ciudad_9', 'ciudad_10', 'id']], on='id', how = 'left')"
   ]
  },
  {
   "cell_type": "code",
   "execution_count": 66,
   "metadata": {},
   "outputs": [],
   "source": [
    "test_set = test_set.merge(combined.loc[:, ['ciudad_0',\n",
    "       'ciudad_1', 'ciudad_2', 'ciudad_3', 'ciudad_4', 'ciudad_5', 'ciudad_6',\n",
    "       'ciudad_7', 'ciudad_8', 'ciudad_9', 'ciudad_10', 'id']], on='id', how = 'left')"
   ]
  },
  {
   "cell_type": "code",
   "execution_count": 67,
   "metadata": {},
   "outputs": [
    {
     "data": {
      "text/plain": [
       "240000"
      ]
     },
     "execution_count": 67,
     "metadata": {},
     "output_type": "execute_result"
    }
   ],
   "source": [
    "len(train_set)"
   ]
  },
  {
   "cell_type": "code",
   "execution_count": 68,
   "metadata": {},
   "outputs": [
    {
     "data": {
      "text/plain": [
       "60000"
      ]
     },
     "execution_count": 68,
     "metadata": {},
     "output_type": "execute_result"
    }
   ],
   "source": [
    "len(test_set)"
   ]
  },
  {
   "cell_type": "markdown",
   "metadata": {},
   "source": [
    "# Nuevos features"
   ]
  },
  {
   "cell_type": "markdown",
   "metadata": {},
   "source": [
    "## OJO!!! Pensar muy bien si tiene sentido agregar ese feature o no... Porque agregar de más puede ser muy malo a priori. Lo más simple suele ser lo mejor!!!"
   ]
  },
  {
   "cell_type": "markdown",
   "metadata": {},
   "source": [
    "## Fecha de publicación"
   ]
  },
  {
   "cell_type": "code",
   "execution_count": 69,
   "metadata": {},
   "outputs": [],
   "source": [
    "data['fecha'] = pd.to_datetime(data['fecha'])\n",
    "data['anio'] = data['fecha'].dt.year"
   ]
  },
  {
   "cell_type": "code",
   "execution_count": 70,
   "metadata": {},
   "outputs": [
    {
     "data": {
      "text/plain": [
       "2016    94038\n",
       "2015    51470\n",
       "2014    40572\n",
       "2013    30386\n",
       "2012    23534\n",
       "Name: anio, dtype: int64"
      ]
     },
     "execution_count": 70,
     "metadata": {},
     "output_type": "execute_result"
    }
   ],
   "source": [
    "data['anio'].value_counts()"
   ]
  },
  {
   "cell_type": "code",
   "execution_count": 71,
   "metadata": {},
   "outputs": [],
   "source": [
    "train_set['anio_publ'] = data['anio']"
   ]
  },
  {
   "cell_type": "code",
   "execution_count": 72,
   "metadata": {},
   "outputs": [],
   "source": [
    "test_set['anio_publ'] = pd.to_datetime(test['fecha']).dt.year"
   ]
  },
  {
   "cell_type": "markdown",
   "metadata": {},
   "source": [
    "### Feature: correlacion precio vs provincia"
   ]
  },
  {
   "cell_type": "code",
   "execution_count": 73,
   "metadata": {},
   "outputs": [],
   "source": [
    "# dfgp = data.dropna(subset = ['garages']).groupby(['provincia'])['garages', 'precio'].corr().reset_index()\n",
    "# dfgp.rename(columns={'precio':'corr_p'},inplace=True)\n",
    "# dfgp = dfgp[ dfgp['level_1'] == 'garages']\n",
    "# dfgp.sort_values(['corr_p'], ascending = False, inplace = True)\n",
    "# dfgp"
   ]
  },
  {
   "cell_type": "code",
   "execution_count": 74,
   "metadata": {},
   "outputs": [],
   "source": [
    "# train_set = train_set.merge(dfgp[['provincia','corr_p']], on = 'provincia', how = 'left')\n",
    "# test_set = test_set.merge(dfgp[['provincia','corr_p']], on = 'provincia', how = 'left')"
   ]
  },
  {
   "cell_type": "markdown",
   "metadata": {},
   "source": [
    "### Feature: correlacion garage vs precio por ciudad"
   ]
  },
  {
   "cell_type": "code",
   "execution_count": 75,
   "metadata": {},
   "outputs": [],
   "source": [
    "# dfgpc = data\n",
    "# dfgpc['n'] = 1\n",
    "# dfgpc = dfgpc.groupby(['ciudad']).filter(lambda x: x['n'].sum() >= 500)\n",
    "# dfgpc['ciudad'].value_counts()"
   ]
  },
  {
   "cell_type": "code",
   "execution_count": 76,
   "metadata": {},
   "outputs": [],
   "source": [
    "# dfgpc = dfgpc.dropna(subset = ['garages']).groupby(['ciudad'])['garages', 'precio'].corr().reset_index()\n",
    "# dfgpc = dfgpc[ dfgpc['level_1'] == 'garages']\n",
    "# dfgpc.sort_values(['precio'], ascending = False, inplace = True)\n",
    "# dfgpc.rename(columns={'precio':'corr_p_gar_ciu'},inplace=True)"
   ]
  },
  {
   "cell_type": "code",
   "execution_count": 77,
   "metadata": {},
   "outputs": [],
   "source": [
    "# plt.figure(figsize=(10,17))\n",
    "# g = sns.barplot(x = dfgpc['corr_p_gar_ciu'], y = dfgpc['ciudad'])\n",
    "# g.set_title(\"Correlacion entre cant de garages y precio\", fontsize=15)\n",
    "# g.set_xlabel(\"Correlacion\", fontsize=12)\n",
    "# g.set_ylabel(\"ciudad\", fontsize=12)"
   ]
  },
  {
   "cell_type": "code",
   "execution_count": 78,
   "metadata": {},
   "outputs": [],
   "source": [
    "# train_set = train_set.merge(dfgpc[['ciudad','corr_p_gar_ciu']], on = 'ciudad', how = 'left')\n",
    "# test_set = test_set.merge(dfgpc[['ciudad','corr_p_gar_ciu']], on = 'ciudad', how = 'left')"
   ]
  },
  {
   "cell_type": "markdown",
   "metadata": {},
   "source": [
    "### Feature: según la descripción"
   ]
  },
  {
   "cell_type": "code",
   "execution_count": 80,
   "metadata": {},
   "outputs": [],
   "source": [
    "dfdesc = data"
   ]
  },
  {
   "cell_type": "code",
   "execution_count": 81,
   "metadata": {},
   "outputs": [],
   "source": [
    "def is_nan(x):\n",
    "    return (x is np.nan or x != x)"
   ]
  },
  {
   "cell_type": "code",
   "execution_count": 82,
   "metadata": {},
   "outputs": [],
   "source": [
    "def count_word_desc(desc):\n",
    "    res = []\n",
    "    if(is_nan(desc)):\n",
    "        return [('',0)]  \n",
    "    for word in str(desc).split(' '):\n",
    "        if(len(word) > 4):\n",
    "            res.append((word,1))\n",
    "    return res"
   ]
  },
  {
   "cell_type": "code",
   "execution_count": 83,
   "metadata": {},
   "outputs": [],
   "source": [
    "def desc_word_max(row):\n",
    "    global i_count_word_max\n",
    "    print(\"it... \"+str(i_count_word_max))\n",
    "    i_count_word_max = i_count_word_max + 1\n",
    "    res = count_word_desc(row['descripcion'])\n",
    "    if(len(res) == 0):\n",
    "        return \"0\"\n",
    "    df = pd.DataFrame(res)\n",
    "    df.rename(columns={0:'word',1:'count'},inplace=True)\n",
    "    df = df.groupby(by='word').sum().sort_values('count',ascending=False).reset_index()\n",
    "    return (str(df['word'][0]),str(df['count'][0]))"
   ]
  },
  {
   "cell_type": "markdown",
   "metadata": {},
   "source": [
    "## Genera un df con '(palabra,cantidad_apariciones)' para el campo 'descripcion'\n",
    "## OJO! Demora mucho tiempo!"
   ]
  },
  {
   "cell_type": "code",
   "execution_count": null,
   "metadata": {},
   "outputs": [],
   "source": [
    "# i_count_word_max = 0\n",
    "#dfdesc_to_run = dfdesc.iloc[:,:]\n",
    "# dfdesc_to_run = dfdesc\n",
    "# dfdesc_to_run['word_count'] = dfdesc_to_run.apply(desc_word_max,axis=1)"
   ]
  },
  {
   "cell_type": "code",
   "execution_count": null,
   "metadata": {},
   "outputs": [],
   "source": [
    "# dfdesc_to_run['max_word'] = dfdesc_to_run['word_count'].apply(lambda x: x[0])\n",
    "# dfdesc_to_run['max_word_count'] = dfdesc_to_run['word_count'].apply(lambda x: x[1])\n",
    "# dfdesc = dfdesc_to_run[['id','precio','max_word','max_word_count']]"
   ]
  },
  {
   "cell_type": "code",
   "execution_count": null,
   "metadata": {},
   "outputs": [],
   "source": [
    "# df_desc_count = dfdesc.sort_values(by='precio',ascending=False)"
   ]
  },
  {
   "cell_type": "code",
   "execution_count": null,
   "metadata": {},
   "outputs": [],
   "source": [
    "# df_desc_count.head()"
   ]
  },
  {
   "cell_type": "code",
   "execution_count": null,
   "metadata": {},
   "outputs": [],
   "source": [
    "# df_desc_count.to_csv(\"df_desc_count.csv\", index = False)"
   ]
  },
  {
   "cell_type": "markdown",
   "metadata": {},
   "source": [
    "### Feature: existencia o no de palabra en descripcion"
   ]
  },
  {
   "cell_type": "code",
   "execution_count": 102,
   "metadata": {},
   "outputs": [
    {
     "name": "stdout",
     "output_type": "stream",
     "text": [
      "count: id                240000\n",
      "precio            240000\n",
      "max_word          238381\n",
      "max_word_count    240000\n",
      "dtype: int64\n"
     ]
    },
    {
     "data": {
      "text/html": [
       "<div>\n",
       "<style scoped>\n",
       "    .dataframe tbody tr th:only-of-type {\n",
       "        vertical-align: middle;\n",
       "    }\n",
       "\n",
       "    .dataframe tbody tr th {\n",
       "        vertical-align: top;\n",
       "    }\n",
       "\n",
       "    .dataframe thead th {\n",
       "        text-align: right;\n",
       "    }\n",
       "</style>\n",
       "<table border=\"1\" class=\"dataframe\">\n",
       "  <thead>\n",
       "    <tr style=\"text-align: right;\">\n",
       "      <th></th>\n",
       "      <th>id</th>\n",
       "      <th>precio</th>\n",
       "      <th>max_word</th>\n",
       "      <th>max_word_count</th>\n",
       "    </tr>\n",
       "  </thead>\n",
       "  <tbody>\n",
       "    <tr>\n",
       "      <th>0</th>\n",
       "      <td>153761</td>\n",
       "      <td>12525000.0</td>\n",
       "      <td>vista</td>\n",
       "      <td>2</td>\n",
       "    </tr>\n",
       "    <tr>\n",
       "      <th>1</th>\n",
       "      <td>181271</td>\n",
       "      <td>12521000.0</td>\n",
       "      <td>acabados,</td>\n",
       "      <td>1</td>\n",
       "    </tr>\n",
       "    <tr>\n",
       "      <th>2</th>\n",
       "      <td>64975</td>\n",
       "      <td>12520000.0</td>\n",
       "      <td>recámara</td>\n",
       "      <td>2</td>\n",
       "    </tr>\n",
       "    <tr>\n",
       "      <th>3</th>\n",
       "      <td>279973</td>\n",
       "      <td>12516000.0</td>\n",
       "      <td>niveles</td>\n",
       "      <td>2</td>\n",
       "    </tr>\n",
       "    <tr>\n",
       "      <th>4</th>\n",
       "      <td>165404</td>\n",
       "      <td>12515000.0</td>\n",
       "      <td>adquirir</td>\n",
       "      <td>2</td>\n",
       "    </tr>\n",
       "  </tbody>\n",
       "</table>\n",
       "</div>"
      ],
      "text/plain": [
       "       id      precio   max_word  max_word_count\n",
       "0  153761  12525000.0      vista               2\n",
       "1  181271  12521000.0  acabados,               1\n",
       "2   64975  12520000.0   recámara               2\n",
       "3  279973  12516000.0    niveles               2\n",
       "4  165404  12515000.0   adquirir               2"
      ]
     },
     "execution_count": 102,
     "metadata": {},
     "output_type": "execute_result"
    }
   ],
   "source": [
    "desc_parse = pd.read_csv(\"df_desc_count.csv\", dtype = dtypes)\n",
    "print(\"count: \"+str(desc_parse.count()))\n",
    "desc_parse.head()"
   ]
  },
  {
   "cell_type": "code",
   "execution_count": 103,
   "metadata": {},
   "outputs": [],
   "source": [
    "#Limpio el df un poco a mano\n",
    "desc_parse = desc_parse[desc_parse['max_word'] != '&nbsp;']"
   ]
  },
  {
   "cell_type": "code",
   "execution_count": 104,
   "metadata": {},
   "outputs": [],
   "source": [
    "desc_parse = desc_parse[desc_parse['max_word'] != 'ba&ntilde;o']"
   ]
  },
  {
   "cell_type": "code",
   "execution_count": 105,
   "metadata": {},
   "outputs": [],
   "source": [
    "desc_parse = desc_parse[desc_parse['max_word'] != '\\n</p><p>']"
   ]
  },
  {
   "cell_type": "code",
   "execution_count": 106,
   "metadata": {},
   "outputs": [],
   "source": [
    "#df.replace({'A': r'^ba.$'}, {'A': 'new'}, regex=True)\n",
    "desc_parse = desc_parse.replace({'max_word':'<p>casa'},{'max_word':'casa'})"
   ]
  },
  {
   "cell_type": "code",
   "execution_count": 107,
   "metadata": {},
   "outputs": [],
   "source": [
    "desc_parse = desc_parse.replace({'max_word':'baño,'},{'max_word':'baño'})"
   ]
  },
  {
   "cell_type": "code",
   "execution_count": 108,
   "metadata": {},
   "outputs": [],
   "source": [
    "desc_parse_g = desc_parse.groupby(by='max_word').sum().reset_index().sort_values('max_word_count',ascending=False)"
   ]
  },
  {
   "cell_type": "code",
   "execution_count": 110,
   "metadata": {},
   "outputs": [
    {
     "name": "stdout",
     "output_type": "stream",
     "text": [
      "count: max_word          27521\n",
      "id                27521\n",
      "precio            27521\n",
      "max_word_count    27521\n",
      "dtype: int64\n"
     ]
    },
    {
     "data": {
      "text/html": [
       "<div>\n",
       "<style scoped>\n",
       "    .dataframe tbody tr th:only-of-type {\n",
       "        vertical-align: middle;\n",
       "    }\n",
       "\n",
       "    .dataframe tbody tr th {\n",
       "        vertical-align: top;\n",
       "    }\n",
       "\n",
       "    .dataframe thead th {\n",
       "        text-align: right;\n",
       "    }\n",
       "</style>\n",
       "<table border=\"1\" class=\"dataframe\">\n",
       "  <thead>\n",
       "    <tr style=\"text-align: right;\">\n",
       "      <th></th>\n",
       "      <th>max_word</th>\n",
       "      <th>id</th>\n",
       "      <th>precio</th>\n",
       "      <th>max_word_count</th>\n",
       "    </tr>\n",
       "  </thead>\n",
       "  <tbody>\n",
       "    <tr>\n",
       "      <th>23484</th>\n",
       "      <td>cuenta</td>\n",
       "      <td>1096198019</td>\n",
       "      <td>1.939173e+10</td>\n",
       "      <td>18419</td>\n",
       "    </tr>\n",
       "    <tr>\n",
       "      <th>25996</th>\n",
       "      <td>planta</td>\n",
       "      <td>846083527</td>\n",
       "      <td>1.213207e+10</td>\n",
       "      <td>12734</td>\n",
       "    </tr>\n",
       "    <tr>\n",
       "      <th>23447</th>\n",
       "      <td>cuarto</td>\n",
       "      <td>733897069</td>\n",
       "      <td>2.136666e+10</td>\n",
       "      <td>11298</td>\n",
       "    </tr>\n",
       "    <tr>\n",
       "      <th>26955</th>\n",
       "      <td>tiene</td>\n",
       "      <td>453096902</td>\n",
       "      <td>9.050838e+09</td>\n",
       "      <td>8229</td>\n",
       "    </tr>\n",
       "    <tr>\n",
       "      <th>21516</th>\n",
       "      <td>baño</td>\n",
       "      <td>562339197</td>\n",
       "      <td>1.080776e+10</td>\n",
       "      <td>7128</td>\n",
       "    </tr>\n",
       "  </tbody>\n",
       "</table>\n",
       "</div>"
      ],
      "text/plain": [
       "      max_word          id        precio  max_word_count\n",
       "23484   cuenta  1096198019  1.939173e+10           18419\n",
       "25996   planta   846083527  1.213207e+10           12734\n",
       "23447   cuarto   733897069  2.136666e+10           11298\n",
       "26955    tiene   453096902  9.050838e+09            8229\n",
       "21516     baño   562339197  1.080776e+10            7128"
      ]
     },
     "execution_count": 110,
     "metadata": {},
     "output_type": "execute_result"
    }
   ],
   "source": [
    "print(\"count: \"+str(desc_parse_g.count()))\n",
    "desc_parse_g.head()"
   ]
  },
  {
   "cell_type": "code",
   "execution_count": 111,
   "metadata": {},
   "outputs": [
    {
     "data": {
      "text/html": [
       "<div>\n",
       "<style scoped>\n",
       "    .dataframe tbody tr th:only-of-type {\n",
       "        vertical-align: middle;\n",
       "    }\n",
       "\n",
       "    .dataframe tbody tr th {\n",
       "        vertical-align: top;\n",
       "    }\n",
       "\n",
       "    .dataframe thead th {\n",
       "        text-align: right;\n",
       "    }\n",
       "</style>\n",
       "<table border=\"1\" class=\"dataframe\">\n",
       "  <thead>\n",
       "    <tr style=\"text-align: right;\">\n",
       "      <th></th>\n",
       "      <th>cuenta</th>\n",
       "      <th>planta</th>\n",
       "      <th>cuarto</th>\n",
       "      <th>tiene</th>\n",
       "      <th>baño</th>\n",
       "      <th>departamento</th>\n",
       "      <th>excelente</th>\n",
       "      <th>cocina</th>\n",
       "      <th>casa</th>\n",
       "      <th>acabados</th>\n",
       "      <th>id</th>\n",
       "    </tr>\n",
       "  </thead>\n",
       "  <tbody>\n",
       "  </tbody>\n",
       "</table>\n",
       "</div>"
      ],
      "text/plain": [
       "Empty DataFrame\n",
       "Columns: [cuenta, planta, cuarto, tiene, baño, departamento, excelente, cocina, casa, acabados, id]\n",
       "Index: []"
      ]
     },
     "execution_count": 111,
     "metadata": {},
     "output_type": "execute_result"
    }
   ],
   "source": [
    "#agrego columnas para cada palabra\n",
    "n_cols = 10\n",
    "desc_col = pd.DataFrame()\n",
    "for row in desc_parse_g.head(n_cols)['max_word']:\n",
    "    desc_col[row] = 0\n",
    "desc_col['id'] = 0\n",
    "desc_col"
   ]
  },
  {
   "cell_type": "code",
   "execution_count": 149,
   "metadata": {},
   "outputs": [
    {
     "data": {
      "text/html": [
       "<div>\n",
       "<style scoped>\n",
       "    .dataframe tbody tr th:only-of-type {\n",
       "        vertical-align: middle;\n",
       "    }\n",
       "\n",
       "    .dataframe tbody tr th {\n",
       "        vertical-align: top;\n",
       "    }\n",
       "\n",
       "    .dataframe thead th {\n",
       "        text-align: right;\n",
       "    }\n",
       "</style>\n",
       "<table border=\"1\" class=\"dataframe\">\n",
       "  <thead>\n",
       "    <tr style=\"text-align: right;\">\n",
       "      <th></th>\n",
       "      <th>id</th>\n",
       "      <th>precio</th>\n",
       "      <th>max_word</th>\n",
       "      <th>max_word_count</th>\n",
       "      <th>cuenta</th>\n",
       "      <th>planta</th>\n",
       "      <th>cuarto</th>\n",
       "      <th>tiene</th>\n",
       "      <th>baño</th>\n",
       "      <th>departamento</th>\n",
       "      <th>excelente</th>\n",
       "      <th>cocina</th>\n",
       "      <th>casa</th>\n",
       "      <th>acabados</th>\n",
       "    </tr>\n",
       "  </thead>\n",
       "  <tbody>\n",
       "    <tr>\n",
       "      <th>0</th>\n",
       "      <td>153761</td>\n",
       "      <td>12525000.0</td>\n",
       "      <td>vista</td>\n",
       "      <td>2</td>\n",
       "      <td>NaN</td>\n",
       "      <td>NaN</td>\n",
       "      <td>NaN</td>\n",
       "      <td>NaN</td>\n",
       "      <td>NaN</td>\n",
       "      <td>NaN</td>\n",
       "      <td>NaN</td>\n",
       "      <td>NaN</td>\n",
       "      <td>NaN</td>\n",
       "      <td>NaN</td>\n",
       "    </tr>\n",
       "    <tr>\n",
       "      <th>1</th>\n",
       "      <td>181271</td>\n",
       "      <td>12521000.0</td>\n",
       "      <td>acabados,</td>\n",
       "      <td>1</td>\n",
       "      <td>NaN</td>\n",
       "      <td>NaN</td>\n",
       "      <td>NaN</td>\n",
       "      <td>NaN</td>\n",
       "      <td>NaN</td>\n",
       "      <td>NaN</td>\n",
       "      <td>NaN</td>\n",
       "      <td>NaN</td>\n",
       "      <td>NaN</td>\n",
       "      <td>NaN</td>\n",
       "    </tr>\n",
       "    <tr>\n",
       "      <th>2</th>\n",
       "      <td>64975</td>\n",
       "      <td>12520000.0</td>\n",
       "      <td>recámara</td>\n",
       "      <td>2</td>\n",
       "      <td>NaN</td>\n",
       "      <td>NaN</td>\n",
       "      <td>NaN</td>\n",
       "      <td>NaN</td>\n",
       "      <td>NaN</td>\n",
       "      <td>NaN</td>\n",
       "      <td>NaN</td>\n",
       "      <td>NaN</td>\n",
       "      <td>NaN</td>\n",
       "      <td>NaN</td>\n",
       "    </tr>\n",
       "    <tr>\n",
       "      <th>3</th>\n",
       "      <td>279973</td>\n",
       "      <td>12516000.0</td>\n",
       "      <td>niveles</td>\n",
       "      <td>2</td>\n",
       "      <td>NaN</td>\n",
       "      <td>NaN</td>\n",
       "      <td>NaN</td>\n",
       "      <td>NaN</td>\n",
       "      <td>NaN</td>\n",
       "      <td>NaN</td>\n",
       "      <td>NaN</td>\n",
       "      <td>NaN</td>\n",
       "      <td>NaN</td>\n",
       "      <td>NaN</td>\n",
       "    </tr>\n",
       "    <tr>\n",
       "      <th>4</th>\n",
       "      <td>165404</td>\n",
       "      <td>12515000.0</td>\n",
       "      <td>adquirir</td>\n",
       "      <td>2</td>\n",
       "      <td>NaN</td>\n",
       "      <td>NaN</td>\n",
       "      <td>NaN</td>\n",
       "      <td>NaN</td>\n",
       "      <td>NaN</td>\n",
       "      <td>NaN</td>\n",
       "      <td>NaN</td>\n",
       "      <td>NaN</td>\n",
       "      <td>NaN</td>\n",
       "      <td>NaN</td>\n",
       "    </tr>\n",
       "  </tbody>\n",
       "</table>\n",
       "</div>"
      ],
      "text/plain": [
       "       id      precio   max_word  max_word_count  cuenta  planta  cuarto  \\\n",
       "0  153761  12525000.0      vista               2     NaN     NaN     NaN   \n",
       "1  181271  12521000.0  acabados,               1     NaN     NaN     NaN   \n",
       "2   64975  12520000.0   recámara               2     NaN     NaN     NaN   \n",
       "3  279973  12516000.0    niveles               2     NaN     NaN     NaN   \n",
       "4  165404  12515000.0   adquirir               2     NaN     NaN     NaN   \n",
       "\n",
       "   tiene  baño  departamento  excelente  cocina  casa  acabados  \n",
       "0    NaN   NaN           NaN        NaN     NaN   NaN       NaN  \n",
       "1    NaN   NaN           NaN        NaN     NaN   NaN       NaN  \n",
       "2    NaN   NaN           NaN        NaN     NaN   NaN       NaN  \n",
       "3    NaN   NaN           NaN        NaN     NaN   NaN       NaN  \n",
       "4    NaN   NaN           NaN        NaN     NaN   NaN       NaN  "
      ]
     },
     "execution_count": 149,
     "metadata": {},
     "output_type": "execute_result"
    }
   ],
   "source": [
    "desc_parse2 = desc_parse.merge(desc_col,on='id',how='left')\n",
    "desc_parse2.head()"
   ]
  },
  {
   "cell_type": "code",
   "execution_count": 150,
   "metadata": {},
   "outputs": [
    {
     "data": {
      "text/html": [
       "<div>\n",
       "<style scoped>\n",
       "    .dataframe tbody tr th:only-of-type {\n",
       "        vertical-align: middle;\n",
       "    }\n",
       "\n",
       "    .dataframe tbody tr th {\n",
       "        vertical-align: top;\n",
       "    }\n",
       "\n",
       "    .dataframe thead th {\n",
       "        text-align: right;\n",
       "    }\n",
       "</style>\n",
       "<table border=\"1\" class=\"dataframe\">\n",
       "  <thead>\n",
       "    <tr style=\"text-align: right;\">\n",
       "      <th></th>\n",
       "      <th>id</th>\n",
       "      <th>precio</th>\n",
       "      <th>max_word</th>\n",
       "      <th>max_word_count</th>\n",
       "      <th>cuenta</th>\n",
       "      <th>planta</th>\n",
       "      <th>cuarto</th>\n",
       "      <th>tiene</th>\n",
       "      <th>baño</th>\n",
       "      <th>departamento</th>\n",
       "      <th>excelente</th>\n",
       "      <th>cocina</th>\n",
       "      <th>casa</th>\n",
       "      <th>acabados</th>\n",
       "    </tr>\n",
       "  </thead>\n",
       "  <tbody>\n",
       "    <tr>\n",
       "      <th>0</th>\n",
       "      <td>153761</td>\n",
       "      <td>12525000.0</td>\n",
       "      <td>vista</td>\n",
       "      <td>2</td>\n",
       "      <td>0.0</td>\n",
       "      <td>0.0</td>\n",
       "      <td>0.0</td>\n",
       "      <td>0.0</td>\n",
       "      <td>0.0</td>\n",
       "      <td>0.0</td>\n",
       "      <td>0.0</td>\n",
       "      <td>0.0</td>\n",
       "      <td>0.0</td>\n",
       "      <td>0.0</td>\n",
       "    </tr>\n",
       "    <tr>\n",
       "      <th>1</th>\n",
       "      <td>181271</td>\n",
       "      <td>12521000.0</td>\n",
       "      <td>acabados,</td>\n",
       "      <td>1</td>\n",
       "      <td>0.0</td>\n",
       "      <td>0.0</td>\n",
       "      <td>0.0</td>\n",
       "      <td>0.0</td>\n",
       "      <td>0.0</td>\n",
       "      <td>0.0</td>\n",
       "      <td>0.0</td>\n",
       "      <td>0.0</td>\n",
       "      <td>0.0</td>\n",
       "      <td>0.0</td>\n",
       "    </tr>\n",
       "    <tr>\n",
       "      <th>2</th>\n",
       "      <td>64975</td>\n",
       "      <td>12520000.0</td>\n",
       "      <td>recámara</td>\n",
       "      <td>2</td>\n",
       "      <td>0.0</td>\n",
       "      <td>0.0</td>\n",
       "      <td>0.0</td>\n",
       "      <td>0.0</td>\n",
       "      <td>0.0</td>\n",
       "      <td>0.0</td>\n",
       "      <td>0.0</td>\n",
       "      <td>0.0</td>\n",
       "      <td>0.0</td>\n",
       "      <td>0.0</td>\n",
       "    </tr>\n",
       "    <tr>\n",
       "      <th>3</th>\n",
       "      <td>279973</td>\n",
       "      <td>12516000.0</td>\n",
       "      <td>niveles</td>\n",
       "      <td>2</td>\n",
       "      <td>0.0</td>\n",
       "      <td>0.0</td>\n",
       "      <td>0.0</td>\n",
       "      <td>0.0</td>\n",
       "      <td>0.0</td>\n",
       "      <td>0.0</td>\n",
       "      <td>0.0</td>\n",
       "      <td>0.0</td>\n",
       "      <td>0.0</td>\n",
       "      <td>0.0</td>\n",
       "    </tr>\n",
       "    <tr>\n",
       "      <th>4</th>\n",
       "      <td>165404</td>\n",
       "      <td>12515000.0</td>\n",
       "      <td>adquirir</td>\n",
       "      <td>2</td>\n",
       "      <td>0.0</td>\n",
       "      <td>0.0</td>\n",
       "      <td>0.0</td>\n",
       "      <td>0.0</td>\n",
       "      <td>0.0</td>\n",
       "      <td>0.0</td>\n",
       "      <td>0.0</td>\n",
       "      <td>0.0</td>\n",
       "      <td>0.0</td>\n",
       "      <td>0.0</td>\n",
       "    </tr>\n",
       "  </tbody>\n",
       "</table>\n",
       "</div>"
      ],
      "text/plain": [
       "       id      precio   max_word  max_word_count  cuenta  planta  cuarto  \\\n",
       "0  153761  12525000.0      vista               2     0.0     0.0     0.0   \n",
       "1  181271  12521000.0  acabados,               1     0.0     0.0     0.0   \n",
       "2   64975  12520000.0   recámara               2     0.0     0.0     0.0   \n",
       "3  279973  12516000.0    niveles               2     0.0     0.0     0.0   \n",
       "4  165404  12515000.0   adquirir               2     0.0     0.0     0.0   \n",
       "\n",
       "   tiene  baño  departamento  excelente  cocina  casa  acabados  \n",
       "0    0.0   0.0           0.0        0.0     0.0   0.0       0.0  \n",
       "1    0.0   0.0           0.0        0.0     0.0   0.0       0.0  \n",
       "2    0.0   0.0           0.0        0.0     0.0   0.0       0.0  \n",
       "3    0.0   0.0           0.0        0.0     0.0   0.0       0.0  \n",
       "4    0.0   0.0           0.0        0.0     0.0   0.0       0.0  "
      ]
     },
     "execution_count": 150,
     "metadata": {},
     "output_type": "execute_result"
    }
   ],
   "source": [
    "desc_parse2 = desc_parse2.fillna(0)\n",
    "desc_parse2.head()"
   ]
  },
  {
   "cell_type": "code",
   "execution_count": 117,
   "metadata": {},
   "outputs": [],
   "source": [
    "#desc_parse2.count()"
   ]
  },
  {
   "cell_type": "code",
   "execution_count": 118,
   "metadata": {},
   "outputs": [],
   "source": [
    "#desc_parse_g.count()"
   ]
  },
  {
   "cell_type": "code",
   "execution_count": 155,
   "metadata": {},
   "outputs": [],
   "source": [
    "def load_cols(row):\n",
    "    global desc_parse3\n",
    "    col_name = row['max_word']\n",
    "    try:\n",
    "        print(col_name)\n",
    "        print(row[col_name])\n",
    "        row[col_name] = 1\n",
    "        print(row[col_name])\n",
    "        desc_parse3.append(row) \n",
    "    except NameError:\n",
    "        print('Col not found')\n",
    "    except KeyError:\n",
    "        print('Col error')"
   ]
  },
  {
   "cell_type": "code",
   "execution_count": 162,
   "metadata": {},
   "outputs": [
    {
     "name": "stdout",
     "output_type": "stream",
     "text": [
      "vista\n",
      "Col error\n",
      "acabados,\n",
      "Col error\n",
      "recámara\n",
      "Col error\n",
      "niveles\n",
      "Col error\n",
      "adquirir\n",
      "Col error\n",
      "&aacute;reas\n",
      "Col error\n",
      "acabados\n",
      "0.0\n",
      "1\n",
      "cuarto\n",
      "0.0\n",
      "1\n",
      "excelente\n",
      "0.0\n",
      "1\n",
      "\n",
      "cuarto\n",
      "Col error\n"
     ]
    },
    {
     "data": {
      "text/html": [
       "<div>\n",
       "<style scoped>\n",
       "    .dataframe tbody tr th:only-of-type {\n",
       "        vertical-align: middle;\n",
       "    }\n",
       "\n",
       "    .dataframe tbody tr th {\n",
       "        vertical-align: top;\n",
       "    }\n",
       "\n",
       "    .dataframe thead th {\n",
       "        text-align: right;\n",
       "    }\n",
       "</style>\n",
       "<table border=\"1\" class=\"dataframe\">\n",
       "  <thead>\n",
       "    <tr style=\"text-align: right;\">\n",
       "      <th></th>\n",
       "      <th>id</th>\n",
       "      <th>precio</th>\n",
       "      <th>max_word</th>\n",
       "      <th>max_word_count</th>\n",
       "      <th>cuenta</th>\n",
       "      <th>planta</th>\n",
       "      <th>cuarto</th>\n",
       "      <th>tiene</th>\n",
       "      <th>baño</th>\n",
       "      <th>departamento</th>\n",
       "      <th>excelente</th>\n",
       "      <th>cocina</th>\n",
       "      <th>casa</th>\n",
       "      <th>acabados</th>\n",
       "    </tr>\n",
       "  </thead>\n",
       "  <tbody>\n",
       "    <tr>\n",
       "      <th>0</th>\n",
       "      <td>153761</td>\n",
       "      <td>12525000.0</td>\n",
       "      <td>vista</td>\n",
       "      <td>2</td>\n",
       "      <td>0.0</td>\n",
       "      <td>0.0</td>\n",
       "      <td>0.0</td>\n",
       "      <td>0.0</td>\n",
       "      <td>0.0</td>\n",
       "      <td>0.0</td>\n",
       "      <td>0.0</td>\n",
       "      <td>0.0</td>\n",
       "      <td>0.0</td>\n",
       "      <td>0.0</td>\n",
       "    </tr>\n",
       "    <tr>\n",
       "      <th>1</th>\n",
       "      <td>181271</td>\n",
       "      <td>12521000.0</td>\n",
       "      <td>acabados,</td>\n",
       "      <td>1</td>\n",
       "      <td>0.0</td>\n",
       "      <td>0.0</td>\n",
       "      <td>0.0</td>\n",
       "      <td>0.0</td>\n",
       "      <td>0.0</td>\n",
       "      <td>0.0</td>\n",
       "      <td>0.0</td>\n",
       "      <td>0.0</td>\n",
       "      <td>0.0</td>\n",
       "      <td>0.0</td>\n",
       "    </tr>\n",
       "    <tr>\n",
       "      <th>2</th>\n",
       "      <td>64975</td>\n",
       "      <td>12520000.0</td>\n",
       "      <td>recámara</td>\n",
       "      <td>2</td>\n",
       "      <td>0.0</td>\n",
       "      <td>0.0</td>\n",
       "      <td>0.0</td>\n",
       "      <td>0.0</td>\n",
       "      <td>0.0</td>\n",
       "      <td>0.0</td>\n",
       "      <td>0.0</td>\n",
       "      <td>0.0</td>\n",
       "      <td>0.0</td>\n",
       "      <td>0.0</td>\n",
       "    </tr>\n",
       "    <tr>\n",
       "      <th>3</th>\n",
       "      <td>279973</td>\n",
       "      <td>12516000.0</td>\n",
       "      <td>niveles</td>\n",
       "      <td>2</td>\n",
       "      <td>0.0</td>\n",
       "      <td>0.0</td>\n",
       "      <td>0.0</td>\n",
       "      <td>0.0</td>\n",
       "      <td>0.0</td>\n",
       "      <td>0.0</td>\n",
       "      <td>0.0</td>\n",
       "      <td>0.0</td>\n",
       "      <td>0.0</td>\n",
       "      <td>0.0</td>\n",
       "    </tr>\n",
       "    <tr>\n",
       "      <th>4</th>\n",
       "      <td>165404</td>\n",
       "      <td>12515000.0</td>\n",
       "      <td>adquirir</td>\n",
       "      <td>2</td>\n",
       "      <td>0.0</td>\n",
       "      <td>0.0</td>\n",
       "      <td>0.0</td>\n",
       "      <td>0.0</td>\n",
       "      <td>0.0</td>\n",
       "      <td>0.0</td>\n",
       "      <td>0.0</td>\n",
       "      <td>0.0</td>\n",
       "      <td>0.0</td>\n",
       "      <td>0.0</td>\n",
       "    </tr>\n",
       "    <tr>\n",
       "      <th>5</th>\n",
       "      <td>193788</td>\n",
       "      <td>12500000.0</td>\n",
       "      <td>&amp;aacute;reas</td>\n",
       "      <td>1</td>\n",
       "      <td>0.0</td>\n",
       "      <td>0.0</td>\n",
       "      <td>0.0</td>\n",
       "      <td>0.0</td>\n",
       "      <td>0.0</td>\n",
       "      <td>0.0</td>\n",
       "      <td>0.0</td>\n",
       "      <td>0.0</td>\n",
       "      <td>0.0</td>\n",
       "      <td>0.0</td>\n",
       "    </tr>\n",
       "    <tr>\n",
       "      <th>6</th>\n",
       "      <td>56501</td>\n",
       "      <td>12500000.0</td>\n",
       "      <td>acabados</td>\n",
       "      <td>2</td>\n",
       "      <td>0.0</td>\n",
       "      <td>0.0</td>\n",
       "      <td>0.0</td>\n",
       "      <td>0.0</td>\n",
       "      <td>0.0</td>\n",
       "      <td>0.0</td>\n",
       "      <td>0.0</td>\n",
       "      <td>0.0</td>\n",
       "      <td>0.0</td>\n",
       "      <td>0.0</td>\n",
       "    </tr>\n",
       "    <tr>\n",
       "      <th>7</th>\n",
       "      <td>94019</td>\n",
       "      <td>12500000.0</td>\n",
       "      <td>cuarto</td>\n",
       "      <td>2</td>\n",
       "      <td>0.0</td>\n",
       "      <td>0.0</td>\n",
       "      <td>0.0</td>\n",
       "      <td>0.0</td>\n",
       "      <td>0.0</td>\n",
       "      <td>0.0</td>\n",
       "      <td>0.0</td>\n",
       "      <td>0.0</td>\n",
       "      <td>0.0</td>\n",
       "      <td>0.0</td>\n",
       "    </tr>\n",
       "    <tr>\n",
       "      <th>8</th>\n",
       "      <td>246504</td>\n",
       "      <td>12500000.0</td>\n",
       "      <td>excelente</td>\n",
       "      <td>2</td>\n",
       "      <td>0.0</td>\n",
       "      <td>0.0</td>\n",
       "      <td>0.0</td>\n",
       "      <td>0.0</td>\n",
       "      <td>0.0</td>\n",
       "      <td>0.0</td>\n",
       "      <td>0.0</td>\n",
       "      <td>0.0</td>\n",
       "      <td>0.0</td>\n",
       "      <td>0.0</td>\n",
       "    </tr>\n",
       "    <tr>\n",
       "      <th>9</th>\n",
       "      <td>131489</td>\n",
       "      <td>12500000.0</td>\n",
       "      <td>\\ncuarto</td>\n",
       "      <td>4</td>\n",
       "      <td>0.0</td>\n",
       "      <td>0.0</td>\n",
       "      <td>0.0</td>\n",
       "      <td>0.0</td>\n",
       "      <td>0.0</td>\n",
       "      <td>0.0</td>\n",
       "      <td>0.0</td>\n",
       "      <td>0.0</td>\n",
       "      <td>0.0</td>\n",
       "      <td>0.0</td>\n",
       "    </tr>\n",
       "  </tbody>\n",
       "</table>\n",
       "</div>"
      ],
      "text/plain": [
       "       id      precio      max_word  max_word_count  cuenta  planta  cuarto  \\\n",
       "0  153761  12525000.0         vista               2     0.0     0.0     0.0   \n",
       "1  181271  12521000.0     acabados,               1     0.0     0.0     0.0   \n",
       "2   64975  12520000.0      recámara               2     0.0     0.0     0.0   \n",
       "3  279973  12516000.0       niveles               2     0.0     0.0     0.0   \n",
       "4  165404  12515000.0      adquirir               2     0.0     0.0     0.0   \n",
       "5  193788  12500000.0  &aacute;reas               1     0.0     0.0     0.0   \n",
       "6   56501  12500000.0      acabados               2     0.0     0.0     0.0   \n",
       "7   94019  12500000.0        cuarto               2     0.0     0.0     0.0   \n",
       "8  246504  12500000.0     excelente               2     0.0     0.0     0.0   \n",
       "9  131489  12500000.0      \\ncuarto               4     0.0     0.0     0.0   \n",
       "\n",
       "   tiene  baño  departamento  excelente  cocina  casa  acabados  \n",
       "0    0.0   0.0           0.0        0.0     0.0   0.0       0.0  \n",
       "1    0.0   0.0           0.0        0.0     0.0   0.0       0.0  \n",
       "2    0.0   0.0           0.0        0.0     0.0   0.0       0.0  \n",
       "3    0.0   0.0           0.0        0.0     0.0   0.0       0.0  \n",
       "4    0.0   0.0           0.0        0.0     0.0   0.0       0.0  \n",
       "5    0.0   0.0           0.0        0.0     0.0   0.0       0.0  \n",
       "6    0.0   0.0           0.0        0.0     0.0   0.0       0.0  \n",
       "7    0.0   0.0           0.0        0.0     0.0   0.0       0.0  \n",
       "8    0.0   0.0           0.0        0.0     0.0   0.0       0.0  \n",
       "9    0.0   0.0           0.0        0.0     0.0   0.0       0.0  "
      ]
     },
     "execution_count": 162,
     "metadata": {},
     "output_type": "execute_result"
    }
   ],
   "source": [
    "for index, row in desc_parse2.head(10).iterrows():\n",
    "    col_name = row['max_word']\n",
    "    try:\n",
    "        print(col_name)\n",
    "        print(row[col_name])\n",
    "        row[col_name] = 1\n",
    "        print(row[col_name])\n",
    "    except NameError:\n",
    "        print('Col not found')\n",
    "    except KeyError:\n",
    "        print('Col error')\n",
    "desc_parse2.head(10)"
   ]
  },
  {
   "cell_type": "code",
   "execution_count": 156,
   "metadata": {},
   "outputs": [
    {
     "name": "stdout",
     "output_type": "stream",
     "text": [
      "vista\n",
      "Col error\n",
      "acabados,\n",
      "Col error\n",
      "recámara\n",
      "Col error\n",
      "niveles\n",
      "Col error\n",
      "adquirir\n",
      "Col error\n",
      "&aacute;reas\n",
      "Col error\n",
      "acabados\n",
      "0.0\n",
      "1\n",
      "cuarto\n",
      "0.0\n",
      "1\n",
      "excelente\n",
      "0.0\n",
      "1\n",
      "\n",
      "cuarto\n",
      "Col error\n"
     ]
    },
    {
     "data": {
      "text/html": [
       "<div>\n",
       "<style scoped>\n",
       "    .dataframe tbody tr th:only-of-type {\n",
       "        vertical-align: middle;\n",
       "    }\n",
       "\n",
       "    .dataframe tbody tr th {\n",
       "        vertical-align: top;\n",
       "    }\n",
       "\n",
       "    .dataframe thead th {\n",
       "        text-align: right;\n",
       "    }\n",
       "</style>\n",
       "<table border=\"1\" class=\"dataframe\">\n",
       "  <thead>\n",
       "    <tr style=\"text-align: right;\">\n",
       "      <th></th>\n",
       "    </tr>\n",
       "  </thead>\n",
       "  <tbody>\n",
       "  </tbody>\n",
       "</table>\n",
       "</div>"
      ],
      "text/plain": [
       "Empty DataFrame\n",
       "Columns: []\n",
       "Index: []"
      ]
     },
     "execution_count": 156,
     "metadata": {},
     "output_type": "execute_result"
    }
   ],
   "source": [
    "desc_parse3 = pd.DataFrame()\n",
    "desc_parse2.head(10).apply(load_cols,axis=1)\n",
    "desc_parse3.head(10)"
   ]
  },
  {
   "cell_type": "markdown",
   "metadata": {},
   "source": [
    "### Feature: total de antiguedad por anio"
   ]
  },
  {
   "cell_type": "code",
   "execution_count": null,
   "metadata": {},
   "outputs": [],
   "source": [
    "# data.transpose()"
   ]
  },
  {
   "cell_type": "code",
   "execution_count": null,
   "metadata": {},
   "outputs": [],
   "source": [
    "# ant = data\n",
    "# ant['count'] = 1\n",
    "# ant = ant.groupby(by='antiguedad').sum()[['count','habitaciones','id']]\n",
    "#ant.sort_values(ascending=False).tail(5)\n",
    "# ant = ant.reset_index()\n",
    "# ant.head()"
   ]
  },
  {
   "cell_type": "code",
   "execution_count": null,
   "metadata": {},
   "outputs": [],
   "source": [
    "# def hab_ant(row):\n",
    "#     if(row['antiguedad'] <= 10 ):\n",
    "#         return row['count'] * 1\n",
    "#     return row['habitaciones'] * 0.5"
   ]
  },
  {
   "cell_type": "code",
   "execution_count": null,
   "metadata": {},
   "outputs": [],
   "source": [
    "# ant2 = ant\n",
    "# ant2['c_hab_ant'] = ant2.apply(hab_ant,axis=1)\n",
    "# ant2.head(15)"
   ]
  },
  {
   "cell_type": "code",
   "execution_count": null,
   "metadata": {},
   "outputs": [],
   "source": [
    "# data = data.drop(columns='count')"
   ]
  },
  {
   "cell_type": "code",
   "execution_count": null,
   "metadata": {},
   "outputs": [],
   "source": [
    "# ant3 = ant2[['c_hab_ant','antiguedad']]\n",
    "# ant3.head()"
   ]
  },
  {
   "cell_type": "code",
   "execution_count": null,
   "metadata": {},
   "outputs": [],
   "source": [
    "# train_set = train_set.merge(ant3,on = 'antiguedad',how = 'left')\n",
    "# train_set.transpose()"
   ]
  },
  {
   "cell_type": "code",
   "execution_count": null,
   "metadata": {},
   "outputs": [],
   "source": [
    "# test_set = test_set.merge(ant3,on = 'antiguedad',how = 'left')\n",
    "# test_set.transpose()"
   ]
  },
  {
   "cell_type": "markdown",
   "metadata": {},
   "source": [
    "### Feature: antiguedad por provincia"
   ]
  },
  {
   "cell_type": "code",
   "execution_count": null,
   "metadata": {},
   "outputs": [],
   "source": [
    "# data.transpose()"
   ]
  },
  {
   "cell_type": "code",
   "execution_count": null,
   "metadata": {},
   "outputs": [],
   "source": [
    "#Mergea el la columna indicada en 'on', tomando el df pasado como parámetro(df_to_use)\n",
    "#how_feature indica que tipo de join se hace.\n",
    "#El merge lo hace sobre 'train_set' y 'test_set'\n",
    "# def merge_df(df_to_use, on_feature,how_feature):\n",
    "#     print(\"dataframe a usar:\"+str(df_to_use))\n",
    "#     print(\"feature a usar:\"+on_feature)\n",
    "   # print(\"[test_set] Cantidad init: \"+str(len(test_set.columns)))\n",
    "    #print(\"[train_set] Cantidad init: \"+str(len(train_set.columns)))\n",
    "#     test_set.merge(df_to_use, on = on_feature, how = how_feature)\n",
    "#     train_set.merge(df_to_use, on = on_feature, how = how_feature)\n",
    "    #print(\"[test_set] Cantidad init: \"+str(len(test_set.columns)))\n",
    "    #print(\"[train_set] Cantidad init: \"+str(len(train_set.columns)))"
   ]
  },
  {
   "cell_type": "code",
   "execution_count": null,
   "metadata": {},
   "outputs": [],
   "source": [
    "# df = data.groupby(by = 'provincia').agg({'antiguedad':'mean'}).reset_index()\n",
    "# df.sort_values(['antiguedad'], ascending = False, inplace = True)\n",
    "# df=df.rename(columns={\"antiguedad\":\"antiguedad_prov\"})\n",
    "# df.head()\n",
    "\n",
    "# data = data.merge(df,on='provincia',how='inner')\n",
    "# data.transpose()"
   ]
  },
  {
   "cell_type": "code",
   "execution_count": null,
   "metadata": {},
   "outputs": [],
   "source": [
    "# train_set.head()"
   ]
  },
  {
   "cell_type": "code",
   "execution_count": null,
   "metadata": {},
   "outputs": [],
   "source": [
    "# train_set = train_set.merge(data[['id','antiguedad_prov']], on = 'id', how = 'left')\n",
    "# test_set = test_set.merge(data[['id','antiguedad_prov']], on = 'id', how = 'left')\n",
    "\n",
    "# train_set.transpose()"
   ]
  },
  {
   "cell_type": "code",
   "execution_count": null,
   "metadata": {},
   "outputs": [],
   "source": [
    "# test_set.transpose()"
   ]
  },
  {
   "cell_type": "markdown",
   "metadata": {},
   "source": [
    "### Feature: Usos multiples piscina gimnasio según tipo de casa"
   ]
  },
  {
   "cell_type": "code",
   "execution_count": null,
   "metadata": {},
   "outputs": [],
   "source": [
    "# data.head(1)"
   ]
  },
  {
   "cell_type": "code",
   "execution_count": null,
   "metadata": {},
   "outputs": [],
   "source": [
    "# usos = data[['id','gimnasio','piscina','usosmultiples']]"
   ]
  },
  {
   "cell_type": "code",
   "execution_count": null,
   "metadata": {},
   "outputs": [],
   "source": [
    "# def factor_usos2(row):\n",
    "#     print(row)"
   ]
  },
  {
   "cell_type": "code",
   "execution_count": null,
   "metadata": {},
   "outputs": [],
   "source": [
    "# def factor_usos(row):\n",
    "#     factor = 0\n",
    "#     if(row['gimnasio'] == 1):\n",
    "#         factor = factor + 0.1\n",
    "#     if(row['piscina'] == 1):\n",
    "#         factor = factor + 0.1\n",
    "#     if(row['usosmultiples'] == 1):\n",
    "#         factor = factor + 0.1\n",
    "#     return factor"
   ]
  },
  {
   "cell_type": "code",
   "execution_count": null,
   "metadata": {},
   "outputs": [],
   "source": [
    "# usos.head()"
   ]
  },
  {
   "cell_type": "code",
   "execution_count": null,
   "metadata": {},
   "outputs": [],
   "source": [
    "#usos['factor_usos'] = usos.apply(factor_usos,axis=1)"
   ]
  },
  {
   "cell_type": "code",
   "execution_count": null,
   "metadata": {},
   "outputs": [],
   "source": [
    "#train_set = train_set.merge(usos[['id','factor_usos']], on = 'id', how = 'left')\n",
    "#test_set = test_set.merge(usos[['id','factor_usos']], on = 'id', how = 'left')"
   ]
  },
  {
   "cell_type": "markdown",
   "metadata": {},
   "source": [
    "### Feature: Relación existe entre el precio, los metros cuadrados y la cantidad de habitaciones de los departamentos"
   ]
  },
  {
   "cell_type": "code",
   "execution_count": null,
   "metadata": {},
   "outputs": [],
   "source": [
    "# Seteamos el precio en dolares\n",
    "# prop = data\n",
    "# cotizacion_hoy = 19.55\n",
    "# prop['precio_USD'] = prop['precio'] / cotizacion_hoy\n",
    "\n",
    "# print(prop['precio_USD'].head(2))\n",
    "# print(prop['precio'].head(2))\n",
    "\n",
    "# prop['precioXmt'] = prop['precio_USD']/prop['metrostotales']"
   ]
  },
  {
   "cell_type": "code",
   "execution_count": null,
   "metadata": {},
   "outputs": [],
   "source": [
    "# deptos = prop[prop['tipodepropiedad'] == 'Apartamento']\n",
    "# deptos[['antiguedad','precioXmt','metrostotales','precio_USD','habitaciones']].describe()\n",
    "# Vemos que el 75% de los departamentos tiene hasta 3 habitaciones"
   ]
  },
  {
   "cell_type": "code",
   "execution_count": null,
   "metadata": {},
   "outputs": [],
   "source": [
    "# (prop.groupby('habitaciones').count()['id'])/prop['habitaciones'].count()*100\n",
    "# r = deptos[['id','precioXmt','metrostotales','habitaciones']]\n",
    "# Sacamos los NaN\n",
    "# r = r[~r['metrostotales'].isna()]\n",
    "# Sacamos los que tienen menos de max_hab habitaciones, ya que son casos aislados\n",
    "# max_hab = 5\n",
    "# r = r[r['habitaciones'] < max_hab]\n",
    "# r.head()"
   ]
  },
  {
   "cell_type": "code",
   "execution_count": null,
   "metadata": {},
   "outputs": [],
   "source": [
    "# desc=r.sort_values(by=['precioXmt'],ascending=False).describe()"
   ]
  },
  {
   "cell_type": "code",
   "execution_count": null,
   "metadata": {},
   "outputs": [],
   "source": [
    "# desc"
   ]
  },
  {
   "cell_type": "code",
   "execution_count": null,
   "metadata": {},
   "outputs": [],
   "source": [
    "# mean_precioxmt = desc.loc['mean','precioXmt']"
   ]
  },
  {
   "cell_type": "code",
   "execution_count": null,
   "metadata": {},
   "outputs": [],
   "source": [
    "# def factor_precioXmt(row):\n",
    "#     print(row)\n",
    "#     if(row > mean_precioxmt):\n",
    "#         return 1\n",
    "#     return 0.5"
   ]
  },
  {
   "cell_type": "code",
   "execution_count": null,
   "metadata": {},
   "outputs": [],
   "source": [
    "# r.iloc[0,0] > mean_precioxmt"
   ]
  },
  {
   "cell_type": "code",
   "execution_count": null,
   "metadata": {},
   "outputs": [],
   "source": [
    "# r['factor_precioXmt'] = r['precioXmt'].apply(factor_precioXmt)\n",
    "#r.transpose().head()"
   ]
  },
  {
   "cell_type": "code",
   "execution_count": null,
   "metadata": {},
   "outputs": [],
   "source": [
    "# r.head()"
   ]
  },
  {
   "cell_type": "code",
   "execution_count": null,
   "metadata": {},
   "outputs": [],
   "source": [
    "# test_set.transpose()"
   ]
  },
  {
   "cell_type": "code",
   "execution_count": null,
   "metadata": {},
   "outputs": [],
   "source": [
    "#train_set = train_set.merge(r[['id','factor_precioXmt']], on = 'id', how = 'left')\n",
    "#test_set = test_set.merge(r[['id','factor_precioXmt']], on = 'id', how = 'left')"
   ]
  },
  {
   "cell_type": "code",
   "execution_count": null,
   "metadata": {},
   "outputs": [],
   "source": [
    "#test_set.transpose()"
   ]
  },
  {
   "cell_type": "code",
   "execution_count": null,
   "metadata": {},
   "outputs": [],
   "source": [
    "# Con los nan da mejores resultados!\n",
    "#train_set = train_set.dropna(0)\n",
    "#train_set.replace(0, np.nan, inplace=True)\n",
    "#train_set.head()"
   ]
  },
  {
   "cell_type": "code",
   "execution_count": null,
   "metadata": {},
   "outputs": [],
   "source": [
    "#test_set = test_set.dropna(0)\n",
    "#test_set.replace(0, np.nan, inplace=True)\n",
    "#test_set.head()"
   ]
  },
  {
   "cell_type": "markdown",
   "metadata": {},
   "source": [
    "# Se exporta para entrenar"
   ]
  },
  {
   "cell_type": "markdown",
   "metadata": {},
   "source": [
    "## Se sacan las columnas 'id' de train_set"
   ]
  },
  {
   "cell_type": "code",
   "execution_count": null,
   "metadata": {},
   "outputs": [],
   "source": [
    "#test_set = test_set.loc[:,test_set.columns != 'id']\n",
    "train_set = train_set.loc[:,train_set.columns != 'id']"
   ]
  },
  {
   "cell_type": "markdown",
   "metadata": {},
   "source": [
    "## Remuevo la provincia del set de datos"
   ]
  },
  {
   "cell_type": "code",
   "execution_count": null,
   "metadata": {},
   "outputs": [],
   "source": [
    "test_set = test_set.loc[:,test_set.columns != 'provincia']\n",
    "train_set = train_set.loc[:,train_set.columns != 'provincia']"
   ]
  },
  {
   "cell_type": "markdown",
   "metadata": {},
   "source": [
    "## Remuevo la ciudad del set de datos"
   ]
  },
  {
   "cell_type": "code",
   "execution_count": null,
   "metadata": {},
   "outputs": [],
   "source": [
    "test_set = test_set.loc[:,test_set.columns != 'ciudad']\n",
    "train_set = train_set.loc[:,train_set.columns != 'ciudad']"
   ]
  },
  {
   "cell_type": "markdown",
   "metadata": {},
   "source": [
    "## NO hace falta eliminar NULLs"
   ]
  },
  {
   "cell_type": "code",
   "execution_count": null,
   "metadata": {},
   "outputs": [],
   "source": [
    "len(train_set)"
   ]
  },
  {
   "cell_type": "code",
   "execution_count": null,
   "metadata": {},
   "outputs": [],
   "source": [
    "train_set.to_csv(\"train_set_xgb.csv\", index = False)"
   ]
  },
  {
   "cell_type": "code",
   "execution_count": null,
   "metadata": {},
   "outputs": [],
   "source": [
    "test_set.head()"
   ]
  },
  {
   "cell_type": "code",
   "execution_count": null,
   "metadata": {},
   "outputs": [],
   "source": [
    "len(test_set)"
   ]
  },
  {
   "cell_type": "code",
   "execution_count": null,
   "metadata": {},
   "outputs": [],
   "source": [
    "test_set.to_csv(\"test_set_xgb.csv\", index = False)"
   ]
  }
 ],
 "metadata": {
  "kernelspec": {
   "display_name": "Python 3",
   "language": "python",
   "name": "python3"
  },
  "language_info": {
   "codemirror_mode": {
    "name": "ipython",
    "version": 3
   },
   "file_extension": ".py",
   "mimetype": "text/x-python",
   "name": "python",
   "nbconvert_exporter": "python",
   "pygments_lexer": "ipython3",
   "version": "3.5.2"
  }
 },
 "nbformat": 4,
 "nbformat_minor": 4
}
