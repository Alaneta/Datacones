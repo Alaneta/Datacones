{
 "cells": [
  {
   "cell_type": "code",
   "execution_count": 573,
   "metadata": {},
   "outputs": [],
   "source": [
    "import csv\n",
    "import pandas as pd\n",
    "import numpy as np\n",
    "from datetime import datetime\n",
    "import seaborn as sns\n",
    "import matplotlib.pyplot as plt\n",
    "import sklearn\n",
    "from sklearn.ensemble import RandomForestRegressor\n",
    "from sklearn.metrics import mean_squared_log_error\n",
    "# Importamos utilidades y modelos de sklearn\n",
    "from sklearn.preprocessing import Imputer\n",
    "from sklearn.model_selection import train_test_split\n",
    "from sklearn.dummy import DummyRegressor\n",
    "from sklearn.linear_model import LinearRegression\n",
    "from sklearn.tree import DecisionTreeRegressor\n",
    "import category_encoders as ce"
   ]
  },
  {
   "cell_type": "code",
   "execution_count": 574,
   "metadata": {},
   "outputs": [
    {
     "data": {
      "text/html": [
       "<div>\n",
       "<style scoped>\n",
       "    .dataframe tbody tr th:only-of-type {\n",
       "        vertical-align: middle;\n",
       "    }\n",
       "\n",
       "    .dataframe tbody tr th {\n",
       "        vertical-align: top;\n",
       "    }\n",
       "\n",
       "    .dataframe thead th {\n",
       "        text-align: right;\n",
       "    }\n",
       "</style>\n",
       "<table border=\"1\" class=\"dataframe\">\n",
       "  <thead>\n",
       "    <tr style=\"text-align: right;\">\n",
       "      <th></th>\n",
       "      <th>id</th>\n",
       "      <th>titulo</th>\n",
       "      <th>descripcion</th>\n",
       "      <th>tipodepropiedad</th>\n",
       "      <th>direccion</th>\n",
       "      <th>ciudad</th>\n",
       "      <th>provincia</th>\n",
       "      <th>antiguedad</th>\n",
       "      <th>habitaciones</th>\n",
       "      <th>garages</th>\n",
       "      <th>...</th>\n",
       "      <th>idzona</th>\n",
       "      <th>lat</th>\n",
       "      <th>lng</th>\n",
       "      <th>fecha</th>\n",
       "      <th>gimnasio</th>\n",
       "      <th>usosmultiples</th>\n",
       "      <th>piscina</th>\n",
       "      <th>escuelascercanas</th>\n",
       "      <th>centroscomercialescercanos</th>\n",
       "      <th>precio</th>\n",
       "    </tr>\n",
       "  </thead>\n",
       "  <tbody>\n",
       "    <tr>\n",
       "      <th>0</th>\n",
       "      <td>254099</td>\n",
       "      <td>depto. tipo a-402</td>\n",
       "      <td>depto. interior de 80.15m2, consta de sala com...</td>\n",
       "      <td>Apartamento</td>\n",
       "      <td>Avenida Division del Norte 2005</td>\n",
       "      <td>Benito Juárez</td>\n",
       "      <td>Distrito Federal</td>\n",
       "      <td>NaN</td>\n",
       "      <td>2.0</td>\n",
       "      <td>1.0</td>\n",
       "      <td>...</td>\n",
       "      <td>23533.0</td>\n",
       "      <td>NaN</td>\n",
       "      <td>NaN</td>\n",
       "      <td>2015-08-23 00:00:00</td>\n",
       "      <td>0.0</td>\n",
       "      <td>0.0</td>\n",
       "      <td>0.0</td>\n",
       "      <td>0.0</td>\n",
       "      <td>0.0</td>\n",
       "      <td>2273000.0</td>\n",
       "    </tr>\n",
       "    <tr>\n",
       "      <th>1</th>\n",
       "      <td>53461</td>\n",
       "      <td>condominio horizontal en venta</td>\n",
       "      <td>&lt;p&gt;entre sonora y guerrero, atr&amp;aacute;s del h...</td>\n",
       "      <td>Casa en condominio</td>\n",
       "      <td>AV. MEXICO</td>\n",
       "      <td>La Magdalena Contreras</td>\n",
       "      <td>Distrito Federal</td>\n",
       "      <td>10.0</td>\n",
       "      <td>3.0</td>\n",
       "      <td>2.0</td>\n",
       "      <td>...</td>\n",
       "      <td>24514.0</td>\n",
       "      <td>19.310205</td>\n",
       "      <td>-99.227655</td>\n",
       "      <td>2013-06-28 00:00:00</td>\n",
       "      <td>0.0</td>\n",
       "      <td>0.0</td>\n",
       "      <td>0.0</td>\n",
       "      <td>1.0</td>\n",
       "      <td>1.0</td>\n",
       "      <td>3600000.0</td>\n",
       "    </tr>\n",
       "    <tr>\n",
       "      <th>2</th>\n",
       "      <td>247984</td>\n",
       "      <td>casa en venta urbi 3 recamaras tonala</td>\n",
       "      <td>descripcion \\nla mejor ubicacion residencial e...</td>\n",
       "      <td>Casa</td>\n",
       "      <td>Urbi Tonala</td>\n",
       "      <td>Tonalá</td>\n",
       "      <td>Jalisco</td>\n",
       "      <td>5.0</td>\n",
       "      <td>3.0</td>\n",
       "      <td>2.0</td>\n",
       "      <td>...</td>\n",
       "      <td>48551.0</td>\n",
       "      <td>NaN</td>\n",
       "      <td>NaN</td>\n",
       "      <td>2015-10-17 00:00:00</td>\n",
       "      <td>0.0</td>\n",
       "      <td>0.0</td>\n",
       "      <td>0.0</td>\n",
       "      <td>0.0</td>\n",
       "      <td>0.0</td>\n",
       "      <td>1200000.0</td>\n",
       "    </tr>\n",
       "    <tr>\n",
       "      <th>3</th>\n",
       "      <td>209067</td>\n",
       "      <td>casa sola en toluca zinacantepec con credito i...</td>\n",
       "      <td>casa en privada con caseta de vigilancia casas...</td>\n",
       "      <td>Casa</td>\n",
       "      <td>IGNACIO MANUEL ALTAMIRANO 128</td>\n",
       "      <td>Zinacantepec</td>\n",
       "      <td>Edo. de México</td>\n",
       "      <td>1.0</td>\n",
       "      <td>2.0</td>\n",
       "      <td>1.0</td>\n",
       "      <td>...</td>\n",
       "      <td>53666.0</td>\n",
       "      <td>19.301890</td>\n",
       "      <td>-99.688015</td>\n",
       "      <td>2012-03-09 00:00:00</td>\n",
       "      <td>0.0</td>\n",
       "      <td>0.0</td>\n",
       "      <td>0.0</td>\n",
       "      <td>1.0</td>\n",
       "      <td>1.0</td>\n",
       "      <td>650000.0</td>\n",
       "    </tr>\n",
       "    <tr>\n",
       "      <th>4</th>\n",
       "      <td>185997</td>\n",
       "      <td>paseos del sol</td>\n",
       "      <td>bonito departamento en excelentes condiciones ...</td>\n",
       "      <td>Apartamento</td>\n",
       "      <td>PASEOS DEL SOL</td>\n",
       "      <td>Zapopan</td>\n",
       "      <td>Jalisco</td>\n",
       "      <td>10.0</td>\n",
       "      <td>2.0</td>\n",
       "      <td>1.0</td>\n",
       "      <td>...</td>\n",
       "      <td>47835.0</td>\n",
       "      <td>NaN</td>\n",
       "      <td>NaN</td>\n",
       "      <td>2016-06-07 00:00:00</td>\n",
       "      <td>0.0</td>\n",
       "      <td>0.0</td>\n",
       "      <td>0.0</td>\n",
       "      <td>0.0</td>\n",
       "      <td>0.0</td>\n",
       "      <td>1150000.0</td>\n",
       "    </tr>\n",
       "  </tbody>\n",
       "</table>\n",
       "<p>5 rows × 23 columns</p>\n",
       "</div>"
      ],
      "text/plain": [
       "       id                                             titulo  \\\n",
       "0  254099                                  depto. tipo a-402   \n",
       "1   53461                     condominio horizontal en venta   \n",
       "2  247984              casa en venta urbi 3 recamaras tonala   \n",
       "3  209067  casa sola en toluca zinacantepec con credito i...   \n",
       "4  185997                                     paseos del sol   \n",
       "\n",
       "                                         descripcion     tipodepropiedad  \\\n",
       "0  depto. interior de 80.15m2, consta de sala com...         Apartamento   \n",
       "1  <p>entre sonora y guerrero, atr&aacute;s del h...  Casa en condominio   \n",
       "2  descripcion \\nla mejor ubicacion residencial e...                Casa   \n",
       "3  casa en privada con caseta de vigilancia casas...                Casa   \n",
       "4  bonito departamento en excelentes condiciones ...         Apartamento   \n",
       "\n",
       "                         direccion                  ciudad         provincia  \\\n",
       "0  Avenida Division del Norte 2005           Benito Juárez  Distrito Federal   \n",
       "1                       AV. MEXICO  La Magdalena Contreras  Distrito Federal   \n",
       "2                      Urbi Tonala                  Tonalá           Jalisco   \n",
       "3    IGNACIO MANUEL ALTAMIRANO 128            Zinacantepec    Edo. de México   \n",
       "4                  PASEOS DEL SOL                  Zapopan           Jalisco   \n",
       "\n",
       "   antiguedad  habitaciones  garages  ...   idzona        lat        lng  \\\n",
       "0         NaN           2.0      1.0  ...  23533.0        NaN        NaN   \n",
       "1        10.0           3.0      2.0  ...  24514.0  19.310205 -99.227655   \n",
       "2         5.0           3.0      2.0  ...  48551.0        NaN        NaN   \n",
       "3         1.0           2.0      1.0  ...  53666.0  19.301890 -99.688015   \n",
       "4        10.0           2.0      1.0  ...  47835.0        NaN        NaN   \n",
       "\n",
       "                 fecha  gimnasio  usosmultiples piscina  escuelascercanas  \\\n",
       "0  2015-08-23 00:00:00       0.0            0.0     0.0               0.0   \n",
       "1  2013-06-28 00:00:00       0.0            0.0     0.0               1.0   \n",
       "2  2015-10-17 00:00:00       0.0            0.0     0.0               0.0   \n",
       "3  2012-03-09 00:00:00       0.0            0.0     0.0               1.0   \n",
       "4  2016-06-07 00:00:00       0.0            0.0     0.0               0.0   \n",
       "\n",
       "   centroscomercialescercanos     precio  \n",
       "0                         0.0  2273000.0  \n",
       "1                         1.0  3600000.0  \n",
       "2                         0.0  1200000.0  \n",
       "3                         1.0   650000.0  \n",
       "4                         0.0  1150000.0  \n",
       "\n",
       "[5 rows x 23 columns]"
      ]
     },
     "execution_count": 574,
     "metadata": {},
     "output_type": "execute_result"
    }
   ],
   "source": [
    "dtypes = {'id': 'int32', \n",
    "'titulo': 'object', \n",
    "'descripcion': 'object', \n",
    "'tipodepropiedad': 'category', \n",
    "'direccion': 'object', \n",
    "'ciudad': 'object', \n",
    "'provincia': 'category', \n",
    "'antiguedad': 'float', \n",
    "'habitaciones': 'float', \n",
    "'garages': 'float', \n",
    "'banos': 'float', \n",
    "'metroscubiertos': 'float', \n",
    "'metrostotales': 'float', \n",
    "'idzona': 'object', \n",
    "'lat': 'float64', \n",
    "'lng': 'float64', \n",
    "'gimnasio': 'float', \n",
    "'usosmultiples': 'float', \n",
    "'piscina': 'float', \n",
    "'escuelascercanas': 'float', \n",
    "'centroscomercialescercanos': 'float', \n",
    "'precio': 'float', }\n",
    "\n",
    "data = pd.read_csv(\"train.csv\", dtype = dtypes)\n",
    "data.head()"
   ]
  },
  {
   "cell_type": "markdown",
   "metadata": {},
   "source": [
    "# Pre-procesamiento de data"
   ]
  },
  {
   "cell_type": "code",
   "execution_count": 575,
   "metadata": {},
   "outputs": [
    {
     "data": {
      "text/plain": [
       "875"
      ]
     },
     "execution_count": 575,
     "metadata": {},
     "output_type": "execute_result"
    }
   ],
   "source": [
    "data[\"ciudad\"].nunique()"
   ]
  },
  {
   "cell_type": "code",
   "execution_count": 576,
   "metadata": {},
   "outputs": [
    {
     "data": {
      "text/plain": [
       "id                                 0\n",
       "titulo                          5387\n",
       "descripcion                     1619\n",
       "tipodepropiedad                   46\n",
       "direccion                      53072\n",
       "ciudad                           372\n",
       "provincia                        155\n",
       "antiguedad                     43555\n",
       "habitaciones                   22471\n",
       "garages                        37765\n",
       "banos                          26221\n",
       "metroscubiertos                17400\n",
       "metrostotales                  51467\n",
       "idzona                         28621\n",
       "lat                           123488\n",
       "lng                           123488\n",
       "fecha                              0\n",
       "gimnasio                           0\n",
       "usosmultiples                      0\n",
       "piscina                            0\n",
       "escuelascercanas                   0\n",
       "centroscomercialescercanos         0\n",
       "precio                             0\n",
       "dtype: int64"
      ]
     },
     "execution_count": 576,
     "metadata": {},
     "output_type": "execute_result"
    }
   ],
   "source": [
    "data.isnull().sum()"
   ]
  },
  {
   "cell_type": "code",
   "execution_count": 577,
   "metadata": {},
   "outputs": [
    {
     "data": {
      "text/plain": [
       "535127"
      ]
     },
     "execution_count": 577,
     "metadata": {},
     "output_type": "execute_result"
    }
   ],
   "source": [
    "data.isnull().sum().sum()"
   ]
  },
  {
   "cell_type": "code",
   "execution_count": 578,
   "metadata": {},
   "outputs": [
    {
     "data": {
      "text/plain": [
       "5520000"
      ]
     },
     "execution_count": 578,
     "metadata": {},
     "output_type": "execute_result"
    }
   ],
   "source": [
    "data.size"
   ]
  },
  {
   "cell_type": "code",
   "execution_count": 579,
   "metadata": {},
   "outputs": [
    {
     "data": {
      "text/plain": [
       "9.694329710144928"
      ]
     },
     "execution_count": 579,
     "metadata": {},
     "output_type": "execute_result"
    }
   ],
   "source": [
    "(data.isnull().sum().sum()/(data.size))*100"
   ]
  },
  {
   "cell_type": "markdown",
   "metadata": {},
   "source": [
    "Los Nulls representan el 10% de los datos."
   ]
  },
  {
   "cell_type": "markdown",
   "metadata": {},
   "source": [
    "# CON XGBOOST NO HACE FALTA PREOCUPARSE POR LOS NULLs"
   ]
  },
  {
   "cell_type": "markdown",
   "metadata": {},
   "source": [
    "# Levanto el csv de test para calcularle los features en paralelo"
   ]
  },
  {
   "cell_type": "code",
   "execution_count": 580,
   "metadata": {},
   "outputs": [
    {
     "data": {
      "text/html": [
       "<div>\n",
       "<style scoped>\n",
       "    .dataframe tbody tr th:only-of-type {\n",
       "        vertical-align: middle;\n",
       "    }\n",
       "\n",
       "    .dataframe tbody tr th {\n",
       "        vertical-align: top;\n",
       "    }\n",
       "\n",
       "    .dataframe thead th {\n",
       "        text-align: right;\n",
       "    }\n",
       "</style>\n",
       "<table border=\"1\" class=\"dataframe\">\n",
       "  <thead>\n",
       "    <tr style=\"text-align: right;\">\n",
       "      <th></th>\n",
       "      <th>id</th>\n",
       "      <th>titulo</th>\n",
       "      <th>descripcion</th>\n",
       "      <th>tipodepropiedad</th>\n",
       "      <th>direccion</th>\n",
       "      <th>ciudad</th>\n",
       "      <th>provincia</th>\n",
       "      <th>antiguedad</th>\n",
       "      <th>habitaciones</th>\n",
       "      <th>garages</th>\n",
       "      <th>...</th>\n",
       "      <th>metrostotales</th>\n",
       "      <th>idzona</th>\n",
       "      <th>lat</th>\n",
       "      <th>lng</th>\n",
       "      <th>fecha</th>\n",
       "      <th>gimnasio</th>\n",
       "      <th>usosmultiples</th>\n",
       "      <th>piscina</th>\n",
       "      <th>escuelascercanas</th>\n",
       "      <th>centroscomercialescercanos</th>\n",
       "    </tr>\n",
       "  </thead>\n",
       "  <tbody>\n",
       "    <tr>\n",
       "      <th>0</th>\n",
       "      <td>4941</td>\n",
       "      <td>casa en venta en miguel hidalgo, distrito federal</td>\n",
       "      <td>&lt;p&gt;excelente casa estilo moderno.&lt;/p&gt;</td>\n",
       "      <td>Casa</td>\n",
       "      <td>Bosque de Cedros</td>\n",
       "      <td>Miguel Hidalgo</td>\n",
       "      <td>Distrito Federal</td>\n",
       "      <td>29.0</td>\n",
       "      <td>3.0</td>\n",
       "      <td>NaN</td>\n",
       "      <td>...</td>\n",
       "      <td>NaN</td>\n",
       "      <td>NaN</td>\n",
       "      <td>19.408668</td>\n",
       "      <td>-99.246767</td>\n",
       "      <td>2013-07-20 00:00:00</td>\n",
       "      <td>0.0</td>\n",
       "      <td>0.0</td>\n",
       "      <td>0.0</td>\n",
       "      <td>0.0</td>\n",
       "      <td>0.0</td>\n",
       "    </tr>\n",
       "    <tr>\n",
       "      <th>1</th>\n",
       "      <td>51775</td>\n",
       "      <td>departamentos en venta en montebello</td>\n",
       "      <td>&lt;p&gt;departamento una recamara:\\n&lt;/p&gt;&lt;p&gt;departam...</td>\n",
       "      <td>Apartamento</td>\n",
       "      <td>NaN</td>\n",
       "      <td>Mérida</td>\n",
       "      <td>Yucatán</td>\n",
       "      <td>NaN</td>\n",
       "      <td>1.0</td>\n",
       "      <td>1.0</td>\n",
       "      <td>...</td>\n",
       "      <td>67.0</td>\n",
       "      <td>113851.0</td>\n",
       "      <td>21.032480</td>\n",
       "      <td>-89.592424</td>\n",
       "      <td>2015-10-24 00:00:00</td>\n",
       "      <td>0.0</td>\n",
       "      <td>0.0</td>\n",
       "      <td>0.0</td>\n",
       "      <td>0.0</td>\n",
       "      <td>0.0</td>\n",
       "    </tr>\n",
       "    <tr>\n",
       "      <th>2</th>\n",
       "      <td>115253</td>\n",
       "      <td>departamento nuevo delegación coyoacán de 87 m...</td>\n",
       "      <td>departamento nuevo de 87.06 m2, 1 cajón de est...</td>\n",
       "      <td>Apartamento</td>\n",
       "      <td>Pueblo de los Reyes, Coyoacán, Mexico D.F.</td>\n",
       "      <td>Coyoacán</td>\n",
       "      <td>Distrito Federal</td>\n",
       "      <td>0.0</td>\n",
       "      <td>2.0</td>\n",
       "      <td>1.0</td>\n",
       "      <td>...</td>\n",
       "      <td>100.0</td>\n",
       "      <td>23620.0</td>\n",
       "      <td>19.332829</td>\n",
       "      <td>-99.152913</td>\n",
       "      <td>2015-05-30 00:00:00</td>\n",
       "      <td>0.0</td>\n",
       "      <td>0.0</td>\n",
       "      <td>0.0</td>\n",
       "      <td>0.0</td>\n",
       "      <td>1.0</td>\n",
       "    </tr>\n",
       "    <tr>\n",
       "      <th>3</th>\n",
       "      <td>299321</td>\n",
       "      <td>departamento en venta en acapulco</td>\n",
       "      <td>&lt;p&gt;  raíces dv001 precioso departamento tipo k...</td>\n",
       "      <td>Apartamento</td>\n",
       "      <td>NaN</td>\n",
       "      <td>Acapulco de Juárez</td>\n",
       "      <td>Guerrero</td>\n",
       "      <td>2.0</td>\n",
       "      <td>2.0</td>\n",
       "      <td>2.0</td>\n",
       "      <td>...</td>\n",
       "      <td>86.0</td>\n",
       "      <td>129347.0</td>\n",
       "      <td>16.860487</td>\n",
       "      <td>-99.878383</td>\n",
       "      <td>2015-04-02 00:00:00</td>\n",
       "      <td>0.0</td>\n",
       "      <td>0.0</td>\n",
       "      <td>0.0</td>\n",
       "      <td>0.0</td>\n",
       "      <td>0.0</td>\n",
       "    </tr>\n",
       "    <tr>\n",
       "      <th>4</th>\n",
       "      <td>173570</td>\n",
       "      <td>bonita casa sola equipada de dos niveles en lo...</td>\n",
       "      <td>&lt;p&gt;casa sola, bonita de dos rec&amp;aacute;maras u...</td>\n",
       "      <td>Casa</td>\n",
       "      <td>CEDROS</td>\n",
       "      <td>Tultitlán</td>\n",
       "      <td>Edo. de México</td>\n",
       "      <td>10.0</td>\n",
       "      <td>2.0</td>\n",
       "      <td>1.0</td>\n",
       "      <td>...</td>\n",
       "      <td>76.0</td>\n",
       "      <td>57125.0</td>\n",
       "      <td>19.640482</td>\n",
       "      <td>-99.127273</td>\n",
       "      <td>2013-08-15 00:00:00</td>\n",
       "      <td>0.0</td>\n",
       "      <td>0.0</td>\n",
       "      <td>0.0</td>\n",
       "      <td>1.0</td>\n",
       "      <td>1.0</td>\n",
       "    </tr>\n",
       "  </tbody>\n",
       "</table>\n",
       "<p>5 rows × 22 columns</p>\n",
       "</div>"
      ],
      "text/plain": [
       "       id                                             titulo  \\\n",
       "0    4941  casa en venta en miguel hidalgo, distrito federal   \n",
       "1   51775               departamentos en venta en montebello   \n",
       "2  115253  departamento nuevo delegación coyoacán de 87 m...   \n",
       "3  299321                  departamento en venta en acapulco   \n",
       "4  173570  bonita casa sola equipada de dos niveles en lo...   \n",
       "\n",
       "                                         descripcion tipodepropiedad  \\\n",
       "0              <p>excelente casa estilo moderno.</p>            Casa   \n",
       "1  <p>departamento una recamara:\\n</p><p>departam...     Apartamento   \n",
       "2  departamento nuevo de 87.06 m2, 1 cajón de est...     Apartamento   \n",
       "3  <p>  raíces dv001 precioso departamento tipo k...     Apartamento   \n",
       "4  <p>casa sola, bonita de dos rec&aacute;maras u...            Casa   \n",
       "\n",
       "                                    direccion              ciudad  \\\n",
       "0                           Bosque de Cedros       Miguel Hidalgo   \n",
       "1                                         NaN              Mérida   \n",
       "2  Pueblo de los Reyes, Coyoacán, Mexico D.F.            Coyoacán   \n",
       "3                                         NaN  Acapulco de Juárez   \n",
       "4                                      CEDROS           Tultitlán   \n",
       "\n",
       "          provincia  antiguedad  habitaciones  garages  ...  metrostotales  \\\n",
       "0  Distrito Federal        29.0           3.0      NaN  ...            NaN   \n",
       "1           Yucatán         NaN           1.0      1.0  ...           67.0   \n",
       "2  Distrito Federal         0.0           2.0      1.0  ...          100.0   \n",
       "3          Guerrero         2.0           2.0      2.0  ...           86.0   \n",
       "4    Edo. de México        10.0           2.0      1.0  ...           76.0   \n",
       "\n",
       "     idzona        lat        lng                fecha  gimnasio  \\\n",
       "0       NaN  19.408668 -99.246767  2013-07-20 00:00:00       0.0   \n",
       "1  113851.0  21.032480 -89.592424  2015-10-24 00:00:00       0.0   \n",
       "2   23620.0  19.332829 -99.152913  2015-05-30 00:00:00       0.0   \n",
       "3  129347.0  16.860487 -99.878383  2015-04-02 00:00:00       0.0   \n",
       "4   57125.0  19.640482 -99.127273  2013-08-15 00:00:00       0.0   \n",
       "\n",
       "  usosmultiples  piscina  escuelascercanas  centroscomercialescercanos  \n",
       "0           0.0      0.0               0.0                         0.0  \n",
       "1           0.0      0.0               0.0                         0.0  \n",
       "2           0.0      0.0               0.0                         1.0  \n",
       "3           0.0      0.0               0.0                         0.0  \n",
       "4           0.0      0.0               1.0                         1.0  \n",
       "\n",
       "[5 rows x 22 columns]"
      ]
     },
     "execution_count": 580,
     "metadata": {},
     "output_type": "execute_result"
    }
   ],
   "source": [
    "test = pd.read_csv(\"test.csv\", dtype = dtypes)\n",
    "test.head()"
   ]
  },
  {
   "cell_type": "code",
   "execution_count": 581,
   "metadata": {},
   "outputs": [
    {
     "data": {
      "text/plain": [
       "60000"
      ]
     },
     "execution_count": 581,
     "metadata": {},
     "output_type": "execute_result"
    }
   ],
   "source": [
    "len(test)"
   ]
  },
  {
   "cell_type": "markdown",
   "metadata": {},
   "source": [
    "# Preparacion del set de datos de entrenamiento (features)"
   ]
  },
  {
   "cell_type": "markdown",
   "metadata": {},
   "source": [
    "La idea es preparar el set con los datos para exportar y que despues el modelo simplemente levante, separe en set de entrenamiento y test, entrene y devuelva una prediccion."
   ]
  },
  {
   "cell_type": "markdown",
   "metadata": {},
   "source": [
    "Se procede a calcular features. Cada feature se agregara al DataFrame final que tendra que levantar despues el modelo. Ojo que dentro de este DataFrame tambien va a estar el precio (que es el label)."
   ]
  },
  {
   "cell_type": "code",
   "execution_count": 582,
   "metadata": {},
   "outputs": [],
   "source": [
    "train_set = pd.DataFrame()"
   ]
  },
  {
   "cell_type": "code",
   "execution_count": 583,
   "metadata": {},
   "outputs": [],
   "source": [
    "test_set = pd.DataFrame()"
   ]
  },
  {
   "cell_type": "markdown",
   "metadata": {},
   "source": [
    "# Agrego las columnas que ya se encuentran"
   ]
  },
  {
   "cell_type": "code",
   "execution_count": 584,
   "metadata": {},
   "outputs": [
    {
     "data": {
      "text/plain": [
       "Index(['id', 'titulo', 'descripcion', 'tipodepropiedad', 'direccion', 'ciudad',\n",
       "       'provincia', 'antiguedad', 'habitaciones', 'garages', 'banos',\n",
       "       'metroscubiertos', 'metrostotales', 'idzona', 'lat', 'lng', 'fecha',\n",
       "       'gimnasio', 'usosmultiples', 'piscina', 'escuelascercanas',\n",
       "       'centroscomercialescercanos', 'precio'],\n",
       "      dtype='object')"
      ]
     },
     "execution_count": 584,
     "metadata": {},
     "output_type": "execute_result"
    }
   ],
   "source": [
    "data.columns"
   ]
  },
  {
   "cell_type": "markdown",
   "metadata": {},
   "source": [
    "# Set columnas para 'train_set'"
   ]
  },
  {
   "cell_type": "code",
   "execution_count": 585,
   "metadata": {},
   "outputs": [],
   "source": [
    "train_cols = ['id','antiguedad', 'habitaciones', 'garages', 'banos',\n",
    "       'metroscubiertos', 'metrostotales', 'idzona', 'lat', 'lng', 'gimnasio', 'usosmultiples', 'piscina', 'escuelascercanas',\n",
    "       'centroscomercialescercanos', 'precio','provincia','ciudad']"
   ]
  },
  {
   "cell_type": "code",
   "execution_count": 586,
   "metadata": {},
   "outputs": [],
   "source": [
    "train_set = data.loc[:, train_cols]"
   ]
  },
  {
   "cell_type": "code",
   "execution_count": 587,
   "metadata": {},
   "outputs": [
    {
     "data": {
      "text/html": [
       "<div>\n",
       "<style scoped>\n",
       "    .dataframe tbody tr th:only-of-type {\n",
       "        vertical-align: middle;\n",
       "    }\n",
       "\n",
       "    .dataframe tbody tr th {\n",
       "        vertical-align: top;\n",
       "    }\n",
       "\n",
       "    .dataframe thead th {\n",
       "        text-align: right;\n",
       "    }\n",
       "</style>\n",
       "<table border=\"1\" class=\"dataframe\">\n",
       "  <thead>\n",
       "    <tr style=\"text-align: right;\">\n",
       "      <th></th>\n",
       "      <th>id</th>\n",
       "      <th>antiguedad</th>\n",
       "      <th>habitaciones</th>\n",
       "      <th>garages</th>\n",
       "      <th>banos</th>\n",
       "      <th>metroscubiertos</th>\n",
       "      <th>metrostotales</th>\n",
       "      <th>idzona</th>\n",
       "      <th>lat</th>\n",
       "      <th>lng</th>\n",
       "      <th>gimnasio</th>\n",
       "      <th>usosmultiples</th>\n",
       "      <th>piscina</th>\n",
       "      <th>escuelascercanas</th>\n",
       "      <th>centroscomercialescercanos</th>\n",
       "      <th>precio</th>\n",
       "      <th>provincia</th>\n",
       "      <th>ciudad</th>\n",
       "    </tr>\n",
       "  </thead>\n",
       "  <tbody>\n",
       "    <tr>\n",
       "      <th>0</th>\n",
       "      <td>254099</td>\n",
       "      <td>NaN</td>\n",
       "      <td>2.0</td>\n",
       "      <td>1.0</td>\n",
       "      <td>2.0</td>\n",
       "      <td>80.0</td>\n",
       "      <td>80.0</td>\n",
       "      <td>23533.0</td>\n",
       "      <td>NaN</td>\n",
       "      <td>NaN</td>\n",
       "      <td>0.0</td>\n",
       "      <td>0.0</td>\n",
       "      <td>0.0</td>\n",
       "      <td>0.0</td>\n",
       "      <td>0.0</td>\n",
       "      <td>2273000.0</td>\n",
       "      <td>Distrito Federal</td>\n",
       "      <td>Benito Juárez</td>\n",
       "    </tr>\n",
       "    <tr>\n",
       "      <th>1</th>\n",
       "      <td>53461</td>\n",
       "      <td>10.0</td>\n",
       "      <td>3.0</td>\n",
       "      <td>2.0</td>\n",
       "      <td>2.0</td>\n",
       "      <td>268.0</td>\n",
       "      <td>180.0</td>\n",
       "      <td>24514.0</td>\n",
       "      <td>19.310205</td>\n",
       "      <td>-99.227655</td>\n",
       "      <td>0.0</td>\n",
       "      <td>0.0</td>\n",
       "      <td>0.0</td>\n",
       "      <td>1.0</td>\n",
       "      <td>1.0</td>\n",
       "      <td>3600000.0</td>\n",
       "      <td>Distrito Federal</td>\n",
       "      <td>La Magdalena Contreras</td>\n",
       "    </tr>\n",
       "    <tr>\n",
       "      <th>2</th>\n",
       "      <td>247984</td>\n",
       "      <td>5.0</td>\n",
       "      <td>3.0</td>\n",
       "      <td>2.0</td>\n",
       "      <td>2.0</td>\n",
       "      <td>144.0</td>\n",
       "      <td>166.0</td>\n",
       "      <td>48551.0</td>\n",
       "      <td>NaN</td>\n",
       "      <td>NaN</td>\n",
       "      <td>0.0</td>\n",
       "      <td>0.0</td>\n",
       "      <td>0.0</td>\n",
       "      <td>0.0</td>\n",
       "      <td>0.0</td>\n",
       "      <td>1200000.0</td>\n",
       "      <td>Jalisco</td>\n",
       "      <td>Tonalá</td>\n",
       "    </tr>\n",
       "    <tr>\n",
       "      <th>3</th>\n",
       "      <td>209067</td>\n",
       "      <td>1.0</td>\n",
       "      <td>2.0</td>\n",
       "      <td>1.0</td>\n",
       "      <td>1.0</td>\n",
       "      <td>63.0</td>\n",
       "      <td>67.0</td>\n",
       "      <td>53666.0</td>\n",
       "      <td>19.301890</td>\n",
       "      <td>-99.688015</td>\n",
       "      <td>0.0</td>\n",
       "      <td>0.0</td>\n",
       "      <td>0.0</td>\n",
       "      <td>1.0</td>\n",
       "      <td>1.0</td>\n",
       "      <td>650000.0</td>\n",
       "      <td>Edo. de México</td>\n",
       "      <td>Zinacantepec</td>\n",
       "    </tr>\n",
       "    <tr>\n",
       "      <th>4</th>\n",
       "      <td>185997</td>\n",
       "      <td>10.0</td>\n",
       "      <td>2.0</td>\n",
       "      <td>1.0</td>\n",
       "      <td>1.0</td>\n",
       "      <td>95.0</td>\n",
       "      <td>95.0</td>\n",
       "      <td>47835.0</td>\n",
       "      <td>NaN</td>\n",
       "      <td>NaN</td>\n",
       "      <td>0.0</td>\n",
       "      <td>0.0</td>\n",
       "      <td>0.0</td>\n",
       "      <td>0.0</td>\n",
       "      <td>0.0</td>\n",
       "      <td>1150000.0</td>\n",
       "      <td>Jalisco</td>\n",
       "      <td>Zapopan</td>\n",
       "    </tr>\n",
       "  </tbody>\n",
       "</table>\n",
       "</div>"
      ],
      "text/plain": [
       "       id  antiguedad  habitaciones  garages  banos  metroscubiertos  \\\n",
       "0  254099         NaN           2.0      1.0    2.0             80.0   \n",
       "1   53461        10.0           3.0      2.0    2.0            268.0   \n",
       "2  247984         5.0           3.0      2.0    2.0            144.0   \n",
       "3  209067         1.0           2.0      1.0    1.0             63.0   \n",
       "4  185997        10.0           2.0      1.0    1.0             95.0   \n",
       "\n",
       "   metrostotales   idzona        lat        lng  gimnasio  usosmultiples  \\\n",
       "0           80.0  23533.0        NaN        NaN       0.0            0.0   \n",
       "1          180.0  24514.0  19.310205 -99.227655       0.0            0.0   \n",
       "2          166.0  48551.0        NaN        NaN       0.0            0.0   \n",
       "3           67.0  53666.0  19.301890 -99.688015       0.0            0.0   \n",
       "4           95.0  47835.0        NaN        NaN       0.0            0.0   \n",
       "\n",
       "   piscina  escuelascercanas  centroscomercialescercanos     precio  \\\n",
       "0      0.0               0.0                         0.0  2273000.0   \n",
       "1      0.0               1.0                         1.0  3600000.0   \n",
       "2      0.0               0.0                         0.0  1200000.0   \n",
       "3      0.0               1.0                         1.0   650000.0   \n",
       "4      0.0               0.0                         0.0  1150000.0   \n",
       "\n",
       "          provincia                  ciudad  \n",
       "0  Distrito Federal           Benito Juárez  \n",
       "1  Distrito Federal  La Magdalena Contreras  \n",
       "2           Jalisco                  Tonalá  \n",
       "3    Edo. de México            Zinacantepec  \n",
       "4           Jalisco                 Zapopan  "
      ]
     },
     "execution_count": 587,
     "metadata": {},
     "output_type": "execute_result"
    }
   ],
   "source": [
    "train_set.head()"
   ]
  },
  {
   "cell_type": "markdown",
   "metadata": {},
   "source": [
    "# Set columnas para 'test_set'"
   ]
  },
  {
   "cell_type": "code",
   "execution_count": 588,
   "metadata": {},
   "outputs": [],
   "source": [
    "test_cols = ['id', 'antiguedad', 'habitaciones', 'garages', 'banos',\n",
    "       'metroscubiertos', 'metrostotales', 'idzona', 'lat', 'lng', 'gimnasio', 'usosmultiples', 'piscina', 'escuelascercanas',\n",
    "       'centroscomercialescercanos','provincia','ciudad']"
   ]
  },
  {
   "cell_type": "code",
   "execution_count": 589,
   "metadata": {},
   "outputs": [],
   "source": [
    "# Se mete en test_set la columna 'id'; recordar de luego sacarla!\n",
    "test_set = test.loc[:, test_cols]"
   ]
  },
  {
   "cell_type": "code",
   "execution_count": 590,
   "metadata": {},
   "outputs": [
    {
     "data": {
      "text/html": [
       "<div>\n",
       "<style scoped>\n",
       "    .dataframe tbody tr th:only-of-type {\n",
       "        vertical-align: middle;\n",
       "    }\n",
       "\n",
       "    .dataframe tbody tr th {\n",
       "        vertical-align: top;\n",
       "    }\n",
       "\n",
       "    .dataframe thead th {\n",
       "        text-align: right;\n",
       "    }\n",
       "</style>\n",
       "<table border=\"1\" class=\"dataframe\">\n",
       "  <thead>\n",
       "    <tr style=\"text-align: right;\">\n",
       "      <th></th>\n",
       "      <th>id</th>\n",
       "      <th>antiguedad</th>\n",
       "      <th>habitaciones</th>\n",
       "      <th>garages</th>\n",
       "      <th>banos</th>\n",
       "      <th>metroscubiertos</th>\n",
       "      <th>metrostotales</th>\n",
       "      <th>idzona</th>\n",
       "      <th>lat</th>\n",
       "      <th>lng</th>\n",
       "      <th>gimnasio</th>\n",
       "      <th>usosmultiples</th>\n",
       "      <th>piscina</th>\n",
       "      <th>escuelascercanas</th>\n",
       "      <th>centroscomercialescercanos</th>\n",
       "      <th>provincia</th>\n",
       "      <th>ciudad</th>\n",
       "    </tr>\n",
       "  </thead>\n",
       "  <tbody>\n",
       "    <tr>\n",
       "      <th>0</th>\n",
       "      <td>4941</td>\n",
       "      <td>29.0</td>\n",
       "      <td>3.0</td>\n",
       "      <td>NaN</td>\n",
       "      <td>4.0</td>\n",
       "      <td>300.0</td>\n",
       "      <td>NaN</td>\n",
       "      <td>NaN</td>\n",
       "      <td>19.408668</td>\n",
       "      <td>-99.246767</td>\n",
       "      <td>0.0</td>\n",
       "      <td>0.0</td>\n",
       "      <td>0.0</td>\n",
       "      <td>0.0</td>\n",
       "      <td>0.0</td>\n",
       "      <td>Distrito Federal</td>\n",
       "      <td>Miguel Hidalgo</td>\n",
       "    </tr>\n",
       "    <tr>\n",
       "      <th>1</th>\n",
       "      <td>51775</td>\n",
       "      <td>NaN</td>\n",
       "      <td>1.0</td>\n",
       "      <td>1.0</td>\n",
       "      <td>1.0</td>\n",
       "      <td>67.0</td>\n",
       "      <td>67.0</td>\n",
       "      <td>113851.0</td>\n",
       "      <td>21.032480</td>\n",
       "      <td>-89.592424</td>\n",
       "      <td>0.0</td>\n",
       "      <td>0.0</td>\n",
       "      <td>0.0</td>\n",
       "      <td>0.0</td>\n",
       "      <td>0.0</td>\n",
       "      <td>Yucatán</td>\n",
       "      <td>Mérida</td>\n",
       "    </tr>\n",
       "    <tr>\n",
       "      <th>2</th>\n",
       "      <td>115253</td>\n",
       "      <td>0.0</td>\n",
       "      <td>2.0</td>\n",
       "      <td>1.0</td>\n",
       "      <td>2.0</td>\n",
       "      <td>87.0</td>\n",
       "      <td>100.0</td>\n",
       "      <td>23620.0</td>\n",
       "      <td>19.332829</td>\n",
       "      <td>-99.152913</td>\n",
       "      <td>0.0</td>\n",
       "      <td>0.0</td>\n",
       "      <td>0.0</td>\n",
       "      <td>0.0</td>\n",
       "      <td>1.0</td>\n",
       "      <td>Distrito Federal</td>\n",
       "      <td>Coyoacán</td>\n",
       "    </tr>\n",
       "    <tr>\n",
       "      <th>3</th>\n",
       "      <td>299321</td>\n",
       "      <td>2.0</td>\n",
       "      <td>2.0</td>\n",
       "      <td>2.0</td>\n",
       "      <td>2.0</td>\n",
       "      <td>86.0</td>\n",
       "      <td>86.0</td>\n",
       "      <td>129347.0</td>\n",
       "      <td>16.860487</td>\n",
       "      <td>-99.878383</td>\n",
       "      <td>0.0</td>\n",
       "      <td>0.0</td>\n",
       "      <td>0.0</td>\n",
       "      <td>0.0</td>\n",
       "      <td>0.0</td>\n",
       "      <td>Guerrero</td>\n",
       "      <td>Acapulco de Juárez</td>\n",
       "    </tr>\n",
       "    <tr>\n",
       "      <th>4</th>\n",
       "      <td>173570</td>\n",
       "      <td>10.0</td>\n",
       "      <td>2.0</td>\n",
       "      <td>1.0</td>\n",
       "      <td>1.0</td>\n",
       "      <td>80.0</td>\n",
       "      <td>76.0</td>\n",
       "      <td>57125.0</td>\n",
       "      <td>19.640482</td>\n",
       "      <td>-99.127273</td>\n",
       "      <td>0.0</td>\n",
       "      <td>0.0</td>\n",
       "      <td>0.0</td>\n",
       "      <td>1.0</td>\n",
       "      <td>1.0</td>\n",
       "      <td>Edo. de México</td>\n",
       "      <td>Tultitlán</td>\n",
       "    </tr>\n",
       "  </tbody>\n",
       "</table>\n",
       "</div>"
      ],
      "text/plain": [
       "       id  antiguedad  habitaciones  garages  banos  metroscubiertos  \\\n",
       "0    4941        29.0           3.0      NaN    4.0            300.0   \n",
       "1   51775         NaN           1.0      1.0    1.0             67.0   \n",
       "2  115253         0.0           2.0      1.0    2.0             87.0   \n",
       "3  299321         2.0           2.0      2.0    2.0             86.0   \n",
       "4  173570        10.0           2.0      1.0    1.0             80.0   \n",
       "\n",
       "   metrostotales    idzona        lat        lng  gimnasio  usosmultiples  \\\n",
       "0            NaN       NaN  19.408668 -99.246767       0.0            0.0   \n",
       "1           67.0  113851.0  21.032480 -89.592424       0.0            0.0   \n",
       "2          100.0   23620.0  19.332829 -99.152913       0.0            0.0   \n",
       "3           86.0  129347.0  16.860487 -99.878383       0.0            0.0   \n",
       "4           76.0   57125.0  19.640482 -99.127273       0.0            0.0   \n",
       "\n",
       "   piscina  escuelascercanas  centroscomercialescercanos         provincia  \\\n",
       "0      0.0               0.0                         0.0  Distrito Federal   \n",
       "1      0.0               0.0                         0.0           Yucatán   \n",
       "2      0.0               0.0                         1.0  Distrito Federal   \n",
       "3      0.0               0.0                         0.0          Guerrero   \n",
       "4      0.0               1.0                         1.0    Edo. de México   \n",
       "\n",
       "               ciudad  \n",
       "0      Miguel Hidalgo  \n",
       "1              Mérida  \n",
       "2            Coyoacán  \n",
       "3  Acapulco de Juárez  \n",
       "4           Tultitlán  "
      ]
     },
     "execution_count": 590,
     "metadata": {},
     "output_type": "execute_result"
    }
   ],
   "source": [
    "test_set.head()"
   ]
  },
  {
   "cell_type": "markdown",
   "metadata": {},
   "source": [
    "# Se codifica el tipo de propiedad"
   ]
  },
  {
   "cell_type": "code",
   "execution_count": 591,
   "metadata": {},
   "outputs": [],
   "source": [
    "data['train'] = True\n",
    "test['train'] = False\n",
    "combined = pd.concat([data, test], sort = True)"
   ]
  },
  {
   "cell_type": "code",
   "execution_count": 592,
   "metadata": {},
   "outputs": [
    {
     "data": {
      "text/plain": [
       "300000"
      ]
     },
     "execution_count": 592,
     "metadata": {},
     "output_type": "execute_result"
    }
   ],
   "source": [
    "len(combined)"
   ]
  },
  {
   "cell_type": "code",
   "execution_count": 593,
   "metadata": {},
   "outputs": [],
   "source": [
    "var_categoricas = ['tipodepropiedad']"
   ]
  },
  {
   "cell_type": "code",
   "execution_count": 594,
   "metadata": {},
   "outputs": [
    {
     "data": {
      "text/plain": [
       "Index(['tipodepropiedad_1', 'tipodepropiedad_2', 'tipodepropiedad_3',\n",
       "       'tipodepropiedad_4', 'tipodepropiedad_5', 'tipodepropiedad_6',\n",
       "       'tipodepropiedad_7', 'tipodepropiedad_8', 'tipodepropiedad_9',\n",
       "       'tipodepropiedad_10', 'tipodepropiedad_11', 'tipodepropiedad_12',\n",
       "       'tipodepropiedad_13', 'tipodepropiedad_14', 'tipodepropiedad_15',\n",
       "       'tipodepropiedad_16', 'tipodepropiedad_17', 'tipodepropiedad_18',\n",
       "       'tipodepropiedad_19', 'tipodepropiedad_20', 'tipodepropiedad_21',\n",
       "       'tipodepropiedad_22', 'tipodepropiedad_23', 'tipodepropiedad_24',\n",
       "       'tipodepropiedad_25'],\n",
       "      dtype='object')"
      ]
     },
     "execution_count": 594,
     "metadata": {},
     "output_type": "execute_result"
    }
   ],
   "source": [
    "one_hot_enc = ce.OneHotEncoder(handle_unknown = 'ignore')\n",
    "one_hot_encoded = one_hot_enc.fit_transform(combined[var_categoricas])\n",
    "one_hot_encoded.columns"
   ]
  },
  {
   "cell_type": "code",
   "execution_count": 595,
   "metadata": {},
   "outputs": [
    {
     "data": {
      "text/plain": [
       "Index(['antiguedad', 'banos', 'centroscomercialescercanos', 'ciudad',\n",
       "       'descripcion', 'direccion', 'escuelascercanas', 'fecha', 'garages',\n",
       "       'gimnasio', 'habitaciones', 'id', 'idzona', 'lat', 'lng',\n",
       "       'metroscubiertos', 'metrostotales', 'piscina', 'precio', 'provincia',\n",
       "       'tipodepropiedad', 'titulo', 'train', 'usosmultiples'],\n",
       "      dtype='object')"
      ]
     },
     "execution_count": 595,
     "metadata": {},
     "output_type": "execute_result"
    }
   ],
   "source": [
    "combined.columns"
   ]
  },
  {
   "cell_type": "code",
   "execution_count": 596,
   "metadata": {},
   "outputs": [
    {
     "data": {
      "text/plain": [
       "300000"
      ]
     },
     "execution_count": 596,
     "metadata": {},
     "output_type": "execute_result"
    }
   ],
   "source": [
    "combined = pd.concat([combined, one_hot_encoded], axis = 1)\n",
    "len(combined)"
   ]
  },
  {
   "cell_type": "code",
   "execution_count": 597,
   "metadata": {},
   "outputs": [
    {
     "data": {
      "text/plain": [
       "Index(['antiguedad', 'banos', 'centroscomercialescercanos', 'ciudad',\n",
       "       'descripcion', 'direccion', 'escuelascercanas', 'fecha', 'garages',\n",
       "       'gimnasio', 'habitaciones', 'id', 'idzona', 'lat', 'lng',\n",
       "       'metroscubiertos', 'metrostotales', 'piscina', 'precio', 'provincia',\n",
       "       'tipodepropiedad', 'titulo', 'train', 'usosmultiples',\n",
       "       'tipodepropiedad_1', 'tipodepropiedad_2', 'tipodepropiedad_3',\n",
       "       'tipodepropiedad_4', 'tipodepropiedad_5', 'tipodepropiedad_6',\n",
       "       'tipodepropiedad_7', 'tipodepropiedad_8', 'tipodepropiedad_9',\n",
       "       'tipodepropiedad_10', 'tipodepropiedad_11', 'tipodepropiedad_12',\n",
       "       'tipodepropiedad_13', 'tipodepropiedad_14', 'tipodepropiedad_15',\n",
       "       'tipodepropiedad_16', 'tipodepropiedad_17', 'tipodepropiedad_18',\n",
       "       'tipodepropiedad_19', 'tipodepropiedad_20', 'tipodepropiedad_21',\n",
       "       'tipodepropiedad_22', 'tipodepropiedad_23', 'tipodepropiedad_24',\n",
       "       'tipodepropiedad_25'],\n",
       "      dtype='object')"
      ]
     },
     "execution_count": 597,
     "metadata": {},
     "output_type": "execute_result"
    }
   ],
   "source": [
    "combined.columns"
   ]
  },
  {
   "cell_type": "code",
   "execution_count": 598,
   "metadata": {},
   "outputs": [],
   "source": [
    "train_set = train_set.merge(combined.loc[:, ['tipodepropiedad_1', 'tipodepropiedad_2', 'tipodepropiedad_3',\n",
    "       'tipodepropiedad_4', 'tipodepropiedad_5', 'tipodepropiedad_6',\n",
    "       'tipodepropiedad_7', 'tipodepropiedad_8', 'tipodepropiedad_9',\n",
    "       'tipodepropiedad_10', 'tipodepropiedad_11', 'tipodepropiedad_12',\n",
    "       'tipodepropiedad_13', 'tipodepropiedad_14', 'tipodepropiedad_15',\n",
    "       'tipodepropiedad_16', 'tipodepropiedad_17', 'tipodepropiedad_18',\n",
    "       'tipodepropiedad_19', 'tipodepropiedad_20', 'tipodepropiedad_21',\n",
    "       'tipodepropiedad_22', 'tipodepropiedad_23', 'tipodepropiedad_24',\n",
    "       'tipodepropiedad_25', 'id']], on='id', how = 'left')"
   ]
  },
  {
   "cell_type": "code",
   "execution_count": 599,
   "metadata": {},
   "outputs": [],
   "source": [
    "test_set = test_set.merge(combined.loc[:, ['tipodepropiedad_1', 'tipodepropiedad_2', 'tipodepropiedad_3',\n",
    "       'tipodepropiedad_4', 'tipodepropiedad_5', 'tipodepropiedad_6',\n",
    "       'tipodepropiedad_7', 'tipodepropiedad_8', 'tipodepropiedad_9',\n",
    "       'tipodepropiedad_10', 'tipodepropiedad_11', 'tipodepropiedad_12',\n",
    "       'tipodepropiedad_13', 'tipodepropiedad_14', 'tipodepropiedad_15',\n",
    "       'tipodepropiedad_16', 'tipodepropiedad_17', 'tipodepropiedad_18',\n",
    "       'tipodepropiedad_19', 'tipodepropiedad_20', 'tipodepropiedad_21',\n",
    "       'tipodepropiedad_22', 'tipodepropiedad_23', 'tipodepropiedad_24',\n",
    "       'tipodepropiedad_25', 'id']], on='id', how = 'left')"
   ]
  },
  {
   "cell_type": "code",
   "execution_count": 600,
   "metadata": {},
   "outputs": [
    {
     "data": {
      "text/plain": [
       "240000"
      ]
     },
     "execution_count": 600,
     "metadata": {},
     "output_type": "execute_result"
    }
   ],
   "source": [
    "len(train_set)"
   ]
  },
  {
   "cell_type": "code",
   "execution_count": 601,
   "metadata": {},
   "outputs": [
    {
     "data": {
      "text/plain": [
       "60000"
      ]
     },
     "execution_count": 601,
     "metadata": {},
     "output_type": "execute_result"
    }
   ],
   "source": [
    "len(test_set)"
   ]
  },
  {
   "cell_type": "markdown",
   "metadata": {},
   "source": [
    "# Se codifica la provincia"
   ]
  },
  {
   "cell_type": "code",
   "execution_count": 602,
   "metadata": {},
   "outputs": [],
   "source": [
    "data['train'] = True\n",
    "test['train'] = False\n",
    "combined = pd.concat([data, test], sort = True)"
   ]
  },
  {
   "cell_type": "code",
   "execution_count": 603,
   "metadata": {},
   "outputs": [
    {
     "data": {
      "text/plain": [
       "300000"
      ]
     },
     "execution_count": 603,
     "metadata": {},
     "output_type": "execute_result"
    }
   ],
   "source": [
    "len(combined)"
   ]
  },
  {
   "cell_type": "code",
   "execution_count": 604,
   "metadata": {},
   "outputs": [],
   "source": [
    "var_categoricas = ['provincia']"
   ]
  },
  {
   "cell_type": "code",
   "execution_count": 605,
   "metadata": {},
   "outputs": [
    {
     "data": {
      "text/plain": [
       "Index(['provincia_1', 'provincia_2', 'provincia_3', 'provincia_4',\n",
       "       'provincia_5', 'provincia_6', 'provincia_7', 'provincia_8',\n",
       "       'provincia_9', 'provincia_10', 'provincia_11', 'provincia_12',\n",
       "       'provincia_13', 'provincia_14', 'provincia_15', 'provincia_16',\n",
       "       'provincia_17', 'provincia_18', 'provincia_19', 'provincia_20',\n",
       "       'provincia_21', 'provincia_22', 'provincia_23', 'provincia_24',\n",
       "       'provincia_25', 'provincia_26', 'provincia_27', 'provincia_28',\n",
       "       'provincia_29', 'provincia_30', 'provincia_31', 'provincia_32'],\n",
       "      dtype='object')"
      ]
     },
     "execution_count": 605,
     "metadata": {},
     "output_type": "execute_result"
    }
   ],
   "source": [
    "one_hot_enc = ce.OneHotEncoder(handle_unknown = 'ignore')\n",
    "one_hot_encoded = one_hot_enc.fit_transform(combined[var_categoricas])\n",
    "one_hot_encoded.columns"
   ]
  },
  {
   "cell_type": "code",
   "execution_count": 606,
   "metadata": {},
   "outputs": [
    {
     "data": {
      "text/plain": [
       "Index(['antiguedad', 'banos', 'centroscomercialescercanos', 'ciudad',\n",
       "       'descripcion', 'direccion', 'escuelascercanas', 'fecha', 'garages',\n",
       "       'gimnasio', 'habitaciones', 'id', 'idzona', 'lat', 'lng',\n",
       "       'metroscubiertos', 'metrostotales', 'piscina', 'precio', 'provincia',\n",
       "       'tipodepropiedad', 'titulo', 'train', 'usosmultiples'],\n",
       "      dtype='object')"
      ]
     },
     "execution_count": 606,
     "metadata": {},
     "output_type": "execute_result"
    }
   ],
   "source": [
    "combined.columns"
   ]
  },
  {
   "cell_type": "code",
   "execution_count": 607,
   "metadata": {},
   "outputs": [
    {
     "data": {
      "text/plain": [
       "300000"
      ]
     },
     "execution_count": 607,
     "metadata": {},
     "output_type": "execute_result"
    }
   ],
   "source": [
    "combined = pd.concat([combined, one_hot_encoded], axis = 1)\n",
    "len(combined)"
   ]
  },
  {
   "cell_type": "code",
   "execution_count": 608,
   "metadata": {},
   "outputs": [
    {
     "data": {
      "text/plain": [
       "Index(['antiguedad', 'banos', 'centroscomercialescercanos', 'ciudad',\n",
       "       'descripcion', 'direccion', 'escuelascercanas', 'fecha', 'garages',\n",
       "       'gimnasio', 'habitaciones', 'id', 'idzona', 'lat', 'lng',\n",
       "       'metroscubiertos', 'metrostotales', 'piscina', 'precio', 'provincia',\n",
       "       'tipodepropiedad', 'titulo', 'train', 'usosmultiples', 'provincia_1',\n",
       "       'provincia_2', 'provincia_3', 'provincia_4', 'provincia_5',\n",
       "       'provincia_6', 'provincia_7', 'provincia_8', 'provincia_9',\n",
       "       'provincia_10', 'provincia_11', 'provincia_12', 'provincia_13',\n",
       "       'provincia_14', 'provincia_15', 'provincia_16', 'provincia_17',\n",
       "       'provincia_18', 'provincia_19', 'provincia_20', 'provincia_21',\n",
       "       'provincia_22', 'provincia_23', 'provincia_24', 'provincia_25',\n",
       "       'provincia_26', 'provincia_27', 'provincia_28', 'provincia_29',\n",
       "       'provincia_30', 'provincia_31', 'provincia_32'],\n",
       "      dtype='object')"
      ]
     },
     "execution_count": 608,
     "metadata": {},
     "output_type": "execute_result"
    }
   ],
   "source": [
    "combined.columns"
   ]
  },
  {
   "cell_type": "code",
   "execution_count": 609,
   "metadata": {},
   "outputs": [],
   "source": [
    "train_set = train_set.merge(combined.loc[:, ['provincia_1',\n",
    "       'provincia_2', 'provincia_3', 'provincia_4', 'provincia_5',\n",
    "       'provincia_6', 'provincia_7', 'provincia_8', 'provincia_9',\n",
    "       'provincia_10', 'provincia_11', 'provincia_12', 'provincia_13',\n",
    "       'provincia_14', 'provincia_15', 'provincia_16', 'provincia_17',\n",
    "       'provincia_18', 'provincia_19', 'provincia_20', 'provincia_21',\n",
    "       'provincia_22', 'provincia_23', 'provincia_24', 'provincia_25',\n",
    "       'provincia_26', 'provincia_27', 'provincia_28', 'provincia_29',\n",
    "       'provincia_30', 'provincia_31', 'provincia_32', 'id']], on='id', how = 'left')"
   ]
  },
  {
   "cell_type": "code",
   "execution_count": 610,
   "metadata": {},
   "outputs": [],
   "source": [
    "test_set = test_set.merge(combined.loc[:, ['provincia_1',\n",
    "       'provincia_2', 'provincia_3', 'provincia_4', 'provincia_5',\n",
    "       'provincia_6', 'provincia_7', 'provincia_8', 'provincia_9',\n",
    "       'provincia_10', 'provincia_11', 'provincia_12', 'provincia_13',\n",
    "       'provincia_14', 'provincia_15', 'provincia_16', 'provincia_17',\n",
    "       'provincia_18', 'provincia_19', 'provincia_20', 'provincia_21',\n",
    "       'provincia_22', 'provincia_23', 'provincia_24', 'provincia_25',\n",
    "       'provincia_26', 'provincia_27', 'provincia_28', 'provincia_29',\n",
    "       'provincia_30', 'provincia_31', 'provincia_32', 'id']], on='id', how = 'left')"
   ]
  },
  {
   "cell_type": "code",
   "execution_count": 611,
   "metadata": {},
   "outputs": [
    {
     "data": {
      "text/plain": [
       "240000"
      ]
     },
     "execution_count": 611,
     "metadata": {},
     "output_type": "execute_result"
    }
   ],
   "source": [
    "len(train_set)"
   ]
  },
  {
   "cell_type": "code",
   "execution_count": 612,
   "metadata": {},
   "outputs": [
    {
     "data": {
      "text/plain": [
       "60000"
      ]
     },
     "execution_count": 612,
     "metadata": {},
     "output_type": "execute_result"
    }
   ],
   "source": [
    "len(test_set)"
   ]
  },
  {
   "cell_type": "markdown",
   "metadata": {},
   "source": [
    "# Se codifica la ciudad"
   ]
  },
  {
   "cell_type": "code",
   "execution_count": 613,
   "metadata": {},
   "outputs": [
    {
     "data": {
      "text/plain": [
       "875"
      ]
     },
     "execution_count": 613,
     "metadata": {},
     "output_type": "execute_result"
    }
   ],
   "source": [
    "data['ciudad'].nunique()"
   ]
  },
  {
   "cell_type": "markdown",
   "metadata": {},
   "source": [
    "### Se tienen 875 ciudades distintas. Por ende, usar One Hot es inviable"
   ]
  },
  {
   "cell_type": "markdown",
   "metadata": {},
   "source": [
    "### Se prueba con Binary Encoding"
   ]
  },
  {
   "cell_type": "code",
   "execution_count": 614,
   "metadata": {},
   "outputs": [],
   "source": [
    "data['train'] = True\n",
    "test['train'] = False\n",
    "combined = pd.concat([data, test], sort = True)"
   ]
  },
  {
   "cell_type": "code",
   "execution_count": 615,
   "metadata": {},
   "outputs": [
    {
     "data": {
      "text/plain": [
       "300000"
      ]
     },
     "execution_count": 615,
     "metadata": {},
     "output_type": "execute_result"
    }
   ],
   "source": [
    "len(combined)"
   ]
  },
  {
   "cell_type": "code",
   "execution_count": 616,
   "metadata": {},
   "outputs": [],
   "source": [
    "var_categoricas = ['ciudad']"
   ]
  },
  {
   "cell_type": "code",
   "execution_count": 617,
   "metadata": {},
   "outputs": [
    {
     "data": {
      "text/plain": [
       "Index(['ciudad_0', 'ciudad_1', 'ciudad_2', 'ciudad_3', 'ciudad_4', 'ciudad_5',\n",
       "       'ciudad_6', 'ciudad_7', 'ciudad_8', 'ciudad_9', 'ciudad_10'],\n",
       "      dtype='object')"
      ]
     },
     "execution_count": 617,
     "metadata": {},
     "output_type": "execute_result"
    }
   ],
   "source": [
    "one_hot_enc = ce.BinaryEncoder(handle_unknown = 'ignore')\n",
    "one_hot_encoded = one_hot_enc.fit_transform(combined[var_categoricas])\n",
    "one_hot_encoded.columns"
   ]
  },
  {
   "cell_type": "code",
   "execution_count": 618,
   "metadata": {},
   "outputs": [
    {
     "data": {
      "text/plain": [
       "Index(['antiguedad', 'banos', 'centroscomercialescercanos', 'ciudad',\n",
       "       'descripcion', 'direccion', 'escuelascercanas', 'fecha', 'garages',\n",
       "       'gimnasio', 'habitaciones', 'id', 'idzona', 'lat', 'lng',\n",
       "       'metroscubiertos', 'metrostotales', 'piscina', 'precio', 'provincia',\n",
       "       'tipodepropiedad', 'titulo', 'train', 'usosmultiples'],\n",
       "      dtype='object')"
      ]
     },
     "execution_count": 618,
     "metadata": {},
     "output_type": "execute_result"
    }
   ],
   "source": [
    "combined.columns"
   ]
  },
  {
   "cell_type": "code",
   "execution_count": 619,
   "metadata": {},
   "outputs": [
    {
     "data": {
      "text/plain": [
       "300000"
      ]
     },
     "execution_count": 619,
     "metadata": {},
     "output_type": "execute_result"
    }
   ],
   "source": [
    "combined = pd.concat([combined, one_hot_encoded], axis = 1)\n",
    "len(combined)"
   ]
  },
  {
   "cell_type": "code",
   "execution_count": 620,
   "metadata": {},
   "outputs": [
    {
     "data": {
      "text/plain": [
       "Index(['antiguedad', 'banos', 'centroscomercialescercanos', 'ciudad',\n",
       "       'descripcion', 'direccion', 'escuelascercanas', 'fecha', 'garages',\n",
       "       'gimnasio', 'habitaciones', 'id', 'idzona', 'lat', 'lng',\n",
       "       'metroscubiertos', 'metrostotales', 'piscina', 'precio', 'provincia',\n",
       "       'tipodepropiedad', 'titulo', 'train', 'usosmultiples', 'ciudad_0',\n",
       "       'ciudad_1', 'ciudad_2', 'ciudad_3', 'ciudad_4', 'ciudad_5', 'ciudad_6',\n",
       "       'ciudad_7', 'ciudad_8', 'ciudad_9', 'ciudad_10'],\n",
       "      dtype='object')"
      ]
     },
     "execution_count": 620,
     "metadata": {},
     "output_type": "execute_result"
    }
   ],
   "source": [
    "combined.columns"
   ]
  },
  {
   "cell_type": "code",
   "execution_count": 621,
   "metadata": {},
   "outputs": [],
   "source": [
    "train_set = train_set.merge(combined.loc[:, ['ciudad_0',\n",
    "       'ciudad_1', 'ciudad_2', 'ciudad_3', 'ciudad_4', 'ciudad_5', 'ciudad_6',\n",
    "       'ciudad_7', 'ciudad_8', 'ciudad_9', 'ciudad_10', 'id']], on='id', how = 'left')"
   ]
  },
  {
   "cell_type": "code",
   "execution_count": 622,
   "metadata": {},
   "outputs": [],
   "source": [
    "test_set = test_set.merge(combined.loc[:, ['ciudad_0',\n",
    "       'ciudad_1', 'ciudad_2', 'ciudad_3', 'ciudad_4', 'ciudad_5', 'ciudad_6',\n",
    "       'ciudad_7', 'ciudad_8', 'ciudad_9', 'ciudad_10', 'id']], on='id', how = 'left')"
   ]
  },
  {
   "cell_type": "code",
   "execution_count": 623,
   "metadata": {},
   "outputs": [
    {
     "data": {
      "text/plain": [
       "240000"
      ]
     },
     "execution_count": 623,
     "metadata": {},
     "output_type": "execute_result"
    }
   ],
   "source": [
    "len(train_set)"
   ]
  },
  {
   "cell_type": "code",
   "execution_count": 624,
   "metadata": {},
   "outputs": [
    {
     "data": {
      "text/plain": [
       "60000"
      ]
     },
     "execution_count": 624,
     "metadata": {},
     "output_type": "execute_result"
    }
   ],
   "source": [
    "len(test_set)"
   ]
  },
  {
   "cell_type": "markdown",
   "metadata": {},
   "source": [
    "# Nuevos features"
   ]
  },
  {
   "cell_type": "markdown",
   "metadata": {},
   "source": [
    "## OJO!!! Pensar muy bien si tiene sentido agregar ese feature o no... Porque agregar de más puede ser muy malo a priori. Lo más simple suele ser lo mejor!!!"
   ]
  },
  {
   "cell_type": "markdown",
   "metadata": {},
   "source": [
    "## Fecha de publicación"
   ]
  },
  {
   "cell_type": "code",
   "execution_count": 625,
   "metadata": {},
   "outputs": [],
   "source": [
    "data['fecha'] = pd.to_datetime(data['fecha'])\n",
    "data['anio'] = data['fecha'].dt.year"
   ]
  },
  {
   "cell_type": "code",
   "execution_count": 626,
   "metadata": {},
   "outputs": [
    {
     "data": {
      "text/plain": [
       "2016    94038\n",
       "2015    51470\n",
       "2014    40572\n",
       "2013    30386\n",
       "2012    23534\n",
       "Name: anio, dtype: int64"
      ]
     },
     "execution_count": 626,
     "metadata": {},
     "output_type": "execute_result"
    }
   ],
   "source": [
    "data['anio'].value_counts()"
   ]
  },
  {
   "cell_type": "code",
   "execution_count": 627,
   "metadata": {},
   "outputs": [],
   "source": [
    "train_set['anio_publ'] = data['anio']"
   ]
  },
  {
   "cell_type": "code",
   "execution_count": 628,
   "metadata": {},
   "outputs": [],
   "source": [
    "test_set['anio_publ'] = pd.to_datetime(test['fecha']).dt.year"
   ]
  },
  {
   "cell_type": "markdown",
   "metadata": {},
   "source": [
    "### Feature: correlacion precio vs provincia"
   ]
  },
  {
   "cell_type": "code",
   "execution_count": 629,
   "metadata": {},
   "outputs": [],
   "source": [
    "# dfgp = data.dropna(subset = ['garages']).groupby(['provincia'])['garages', 'precio'].corr().reset_index()\n",
    "# dfgp.rename(columns={'precio':'corr_p'},inplace=True)\n",
    "# dfgp = dfgp[ dfgp['level_1'] == 'garages']\n",
    "# dfgp.sort_values(['corr_p'], ascending = False, inplace = True)\n",
    "# dfgp"
   ]
  },
  {
   "cell_type": "code",
   "execution_count": 630,
   "metadata": {},
   "outputs": [],
   "source": [
    "# train_set = train_set.merge(dfgp[['provincia','corr_p']], on = 'provincia', how = 'left')\n",
    "# test_set = test_set.merge(dfgp[['provincia','corr_p']], on = 'provincia', how = 'left')"
   ]
  },
  {
   "cell_type": "markdown",
   "metadata": {},
   "source": [
    "### Feature: correlacion garage vs precio por ciudad"
   ]
  },
  {
   "cell_type": "code",
   "execution_count": 631,
   "metadata": {},
   "outputs": [],
   "source": [
    "# dfgpc = data\n",
    "# dfgpc['n'] = 1\n",
    "# dfgpc = dfgpc.groupby(['ciudad']).filter(lambda x: x['n'].sum() >= 500)\n",
    "# dfgpc['ciudad'].value_counts()"
   ]
  },
  {
   "cell_type": "code",
   "execution_count": 632,
   "metadata": {},
   "outputs": [],
   "source": [
    "# dfgpc = dfgpc.dropna(subset = ['garages']).groupby(['ciudad'])['garages', 'precio'].corr().reset_index()\n",
    "# dfgpc = dfgpc[ dfgpc['level_1'] == 'garages']\n",
    "# dfgpc.sort_values(['precio'], ascending = False, inplace = True)\n",
    "# dfgpc.rename(columns={'precio':'corr_p_gar_ciu'},inplace=True)"
   ]
  },
  {
   "cell_type": "code",
   "execution_count": 633,
   "metadata": {},
   "outputs": [],
   "source": [
    "# plt.figure(figsize=(10,17))\n",
    "# g = sns.barplot(x = dfgpc['corr_p_gar_ciu'], y = dfgpc['ciudad'])\n",
    "# g.set_title(\"Correlacion entre cant de garages y precio\", fontsize=15)\n",
    "# g.set_xlabel(\"Correlacion\", fontsize=12)\n",
    "# g.set_ylabel(\"ciudad\", fontsize=12)"
   ]
  },
  {
   "cell_type": "code",
   "execution_count": 634,
   "metadata": {},
   "outputs": [],
   "source": [
    "# train_set = train_set.merge(dfgpc[['ciudad','corr_p_gar_ciu']], on = 'ciudad', how = 'left')\n",
    "# test_set = test_set.merge(dfgpc[['ciudad','corr_p_gar_ciu']], on = 'ciudad', how = 'left')"
   ]
  },
  {
   "cell_type": "markdown",
   "metadata": {},
   "source": [
    "### Feature: según la descripción"
   ]
  },
  {
   "cell_type": "code",
   "execution_count": 635,
   "metadata": {},
   "outputs": [],
   "source": [
    "dfdesc = data"
   ]
  },
  {
   "cell_type": "code",
   "execution_count": 636,
   "metadata": {},
   "outputs": [],
   "source": [
    "def is_nan(x):\n",
    "    return (x is np.nan or x != x)"
   ]
  },
  {
   "cell_type": "code",
   "execution_count": 637,
   "metadata": {},
   "outputs": [],
   "source": [
    "def count_word_desc(desc):\n",
    "    res = []\n",
    "    if(is_nan(desc)):\n",
    "        return [('',0)]  \n",
    "    for word in str(desc).split(' '):\n",
    "        if(len(word) > 4):\n",
    "            res.append((word,1))\n",
    "    return res"
   ]
  },
  {
   "cell_type": "code",
   "execution_count": 638,
   "metadata": {},
   "outputs": [],
   "source": [
    "def desc_word_max(row):\n",
    "    global i_count_word_max\n",
    "    print(\"it... \"+str(i_count_word_max))\n",
    "    i_count_word_max = i_count_word_max + 1\n",
    "    res = count_word_desc(row['descripcion'])\n",
    "    if(len(res) == 0):\n",
    "        return \"0\"\n",
    "    df = pd.DataFrame(res)\n",
    "    df.rename(columns={0:'word',1:'count'},inplace=True)\n",
    "    df = df.groupby(by='word').sum().sort_values('count',ascending=False).reset_index()\n",
    "    return (str(df['word'][0]),str(df['count'][0]))"
   ]
  },
  {
   "cell_type": "markdown",
   "metadata": {},
   "source": [
    "## Genera un df con '(palabra,cantidad_apariciones)' para el campo 'descripcion'\n",
    "## OJO! Demora mucho tiempo!"
   ]
  },
  {
   "cell_type": "code",
   "execution_count": 639,
   "metadata": {},
   "outputs": [],
   "source": [
    "# i_count_word_max = 0\n",
    "#dfdesc_to_run = dfdesc.iloc[:,:]\n",
    "# dfdesc_to_run = dfdesc\n",
    "# dfdesc_to_run['word_count'] = dfdesc_to_run.apply(desc_word_max,axis=1)"
   ]
  },
  {
   "cell_type": "code",
   "execution_count": 640,
   "metadata": {},
   "outputs": [],
   "source": [
    "# dfdesc_to_run['max_word'] = dfdesc_to_run['word_count'].apply(lambda x: x[0])\n",
    "# dfdesc_to_run['max_word_count'] = dfdesc_to_run['word_count'].apply(lambda x: x[1])\n",
    "# dfdesc = dfdesc_to_run[['id','precio','max_word','max_word_count']]"
   ]
  },
  {
   "cell_type": "code",
   "execution_count": 641,
   "metadata": {},
   "outputs": [],
   "source": [
    "# df_desc_count = dfdesc.sort_values(by='precio',ascending=False)"
   ]
  },
  {
   "cell_type": "code",
   "execution_count": 642,
   "metadata": {},
   "outputs": [],
   "source": [
    "# df_desc_count.head()"
   ]
  },
  {
   "cell_type": "code",
   "execution_count": 643,
   "metadata": {},
   "outputs": [],
   "source": [
    "# df_desc_count.to_csv(\"df_desc_count.csv\", index = False)"
   ]
  },
  {
   "cell_type": "markdown",
   "metadata": {},
   "source": [
    "### Feature: existencia o no de palabra en descripcion"
   ]
  },
  {
   "cell_type": "code",
   "execution_count": 644,
   "metadata": {},
   "outputs": [],
   "source": [
    "#desc_parse = pd.read_csv(\"df_desc_count.csv\", dtype = dtypes)\n",
    "#print(\"count: \"+str(desc_parse.count()))\n",
    "#desc_parse.head()"
   ]
  },
  {
   "cell_type": "code",
   "execution_count": 645,
   "metadata": {},
   "outputs": [],
   "source": [
    "#Limpio el df un poco a mano\n",
    "#desc_parse = desc_parse[desc_parse['max_word'] != '&nbsp;']\n",
    "#desc_parse = desc_parse[desc_parse['max_word'] != 'ba&ntilde;o']\n",
    "#desc_parse = desc_parse[desc_parse['max_word'] != '\\n</p><p>']\n",
    "#desc_parse.replace({'A': r'^ba.$'}, {'A': 'new'}, regex=True)\n",
    "#desc_parse = desc_parse.replace({'max_word':'<p>casa'},{'max_word':'casa'})\n",
    "#desc_parse = desc_parse.replace({'max_word':'baño,'},{'max_word':'baño'})"
   ]
  },
  {
   "cell_type": "code",
   "execution_count": 646,
   "metadata": {},
   "outputs": [],
   "source": [
    "#desc_parse_g = desc_parse.groupby(by='max_word').sum().reset_index().sort_values('max_word_count',ascending=False)"
   ]
  },
  {
   "cell_type": "code",
   "execution_count": 647,
   "metadata": {},
   "outputs": [],
   "source": [
    "#print(\"count: \"+str(desc_parse_g.count()))\n",
    "#desc_parse_g.head()"
   ]
  },
  {
   "cell_type": "code",
   "execution_count": 648,
   "metadata": {},
   "outputs": [],
   "source": [
    "#agrego columnas para cada palabra\n",
    "#n_cols = 5\n",
    "#desc_col = pd.DataFrame()\n",
    "#for row in desc_parse_g.head(n_cols)['max_word']:\n",
    "#    desc_col[row] = 0\n",
    "#desc_col['id'] = 0\n",
    "#desc_col"
   ]
  },
  {
   "cell_type": "code",
   "execution_count": 649,
   "metadata": {},
   "outputs": [],
   "source": [
    "#col_name_list = desc_parse_g.head(n_cols)['max_word'].to_list()"
   ]
  },
  {
   "cell_type": "code",
   "execution_count": 650,
   "metadata": {},
   "outputs": [],
   "source": [
    "#desc_parse2 = desc_parse.merge(desc_col,on='id',how='left')\n",
    "#desc_parse2.head()"
   ]
  },
  {
   "cell_type": "code",
   "execution_count": 651,
   "metadata": {},
   "outputs": [],
   "source": [
    "#desc_parse2 = desc_parse2.fillna(0)\n",
    "#desc_parse2.head()"
   ]
  },
  {
   "cell_type": "code",
   "execution_count": 652,
   "metadata": {},
   "outputs": [],
   "source": [
    "#def load_cols(row):\n",
    "#    global col\n",
    "#    col_name = row['max_word']\n",
    "#    try:\n",
    "#        row[col_name] = 1\n",
    "#        return row[col]\n",
    "#    except NameError:\n",
    "#        return row[col]\n",
    "#    except KeyError:\n",
    "#        return row[col]"
   ]
  },
  {
   "cell_type": "code",
   "execution_count": 653,
   "metadata": {},
   "outputs": [],
   "source": [
    "#for col in col_name_list:\n",
    "#    desc_parse2[col] = desc_parse2.apply(load_cols,axis=1)\n",
    "#desc_parse2.to_csv(\"desc_with_col.csv\", index = False)"
   ]
  },
  {
   "cell_type": "code",
   "execution_count": 703,
   "metadata": {},
   "outputs": [
    {
     "data": {
      "text/html": [
       "<div>\n",
       "<style scoped>\n",
       "    .dataframe tbody tr th:only-of-type {\n",
       "        vertical-align: middle;\n",
       "    }\n",
       "\n",
       "    .dataframe tbody tr th {\n",
       "        vertical-align: top;\n",
       "    }\n",
       "\n",
       "    .dataframe thead th {\n",
       "        text-align: right;\n",
       "    }\n",
       "</style>\n",
       "<table border=\"1\" class=\"dataframe\">\n",
       "  <thead>\n",
       "    <tr style=\"text-align: right;\">\n",
       "      <th></th>\n",
       "      <th>id</th>\n",
       "      <th>precio</th>\n",
       "      <th>max_word</th>\n",
       "      <th>max_word_count</th>\n",
       "      <th>cuenta</th>\n",
       "      <th>planta</th>\n",
       "      <th>cuarto</th>\n",
       "      <th>tiene</th>\n",
       "      <th>baño</th>\n",
       "    </tr>\n",
       "  </thead>\n",
       "  <tbody>\n",
       "    <tr>\n",
       "      <th>0</th>\n",
       "      <td>153761</td>\n",
       "      <td>12525000.0</td>\n",
       "      <td>vista</td>\n",
       "      <td>2</td>\n",
       "      <td>0.0</td>\n",
       "      <td>0.0</td>\n",
       "      <td>0.0</td>\n",
       "      <td>0.0</td>\n",
       "      <td>0.0</td>\n",
       "    </tr>\n",
       "    <tr>\n",
       "      <th>1</th>\n",
       "      <td>181271</td>\n",
       "      <td>12521000.0</td>\n",
       "      <td>acabados,</td>\n",
       "      <td>1</td>\n",
       "      <td>0.0</td>\n",
       "      <td>0.0</td>\n",
       "      <td>0.0</td>\n",
       "      <td>0.0</td>\n",
       "      <td>0.0</td>\n",
       "    </tr>\n",
       "    <tr>\n",
       "      <th>2</th>\n",
       "      <td>64975</td>\n",
       "      <td>12520000.0</td>\n",
       "      <td>recámara</td>\n",
       "      <td>2</td>\n",
       "      <td>0.0</td>\n",
       "      <td>0.0</td>\n",
       "      <td>0.0</td>\n",
       "      <td>0.0</td>\n",
       "      <td>0.0</td>\n",
       "    </tr>\n",
       "    <tr>\n",
       "      <th>3</th>\n",
       "      <td>279973</td>\n",
       "      <td>12516000.0</td>\n",
       "      <td>niveles</td>\n",
       "      <td>2</td>\n",
       "      <td>0.0</td>\n",
       "      <td>0.0</td>\n",
       "      <td>0.0</td>\n",
       "      <td>0.0</td>\n",
       "      <td>0.0</td>\n",
       "    </tr>\n",
       "    <tr>\n",
       "      <th>4</th>\n",
       "      <td>165404</td>\n",
       "      <td>12515000.0</td>\n",
       "      <td>adquirir</td>\n",
       "      <td>2</td>\n",
       "      <td>0.0</td>\n",
       "      <td>0.0</td>\n",
       "      <td>0.0</td>\n",
       "      <td>0.0</td>\n",
       "      <td>0.0</td>\n",
       "    </tr>\n",
       "    <tr>\n",
       "      <th>5</th>\n",
       "      <td>193788</td>\n",
       "      <td>12500000.0</td>\n",
       "      <td>&amp;aacute;reas</td>\n",
       "      <td>1</td>\n",
       "      <td>0.0</td>\n",
       "      <td>0.0</td>\n",
       "      <td>0.0</td>\n",
       "      <td>0.0</td>\n",
       "      <td>0.0</td>\n",
       "    </tr>\n",
       "    <tr>\n",
       "      <th>6</th>\n",
       "      <td>56501</td>\n",
       "      <td>12500000.0</td>\n",
       "      <td>acabados</td>\n",
       "      <td>2</td>\n",
       "      <td>0.0</td>\n",
       "      <td>0.0</td>\n",
       "      <td>0.0</td>\n",
       "      <td>0.0</td>\n",
       "      <td>0.0</td>\n",
       "    </tr>\n",
       "    <tr>\n",
       "      <th>7</th>\n",
       "      <td>94019</td>\n",
       "      <td>12500000.0</td>\n",
       "      <td>cuarto</td>\n",
       "      <td>2</td>\n",
       "      <td>0.0</td>\n",
       "      <td>0.0</td>\n",
       "      <td>1.0</td>\n",
       "      <td>0.0</td>\n",
       "      <td>0.0</td>\n",
       "    </tr>\n",
       "    <tr>\n",
       "      <th>8</th>\n",
       "      <td>246504</td>\n",
       "      <td>12500000.0</td>\n",
       "      <td>excelente</td>\n",
       "      <td>2</td>\n",
       "      <td>0.0</td>\n",
       "      <td>0.0</td>\n",
       "      <td>0.0</td>\n",
       "      <td>0.0</td>\n",
       "      <td>0.0</td>\n",
       "    </tr>\n",
       "    <tr>\n",
       "      <th>9</th>\n",
       "      <td>131489</td>\n",
       "      <td>12500000.0</td>\n",
       "      <td>\\ncuarto</td>\n",
       "      <td>4</td>\n",
       "      <td>0.0</td>\n",
       "      <td>0.0</td>\n",
       "      <td>0.0</td>\n",
       "      <td>0.0</td>\n",
       "      <td>0.0</td>\n",
       "    </tr>\n",
       "    <tr>\n",
       "      <th>10</th>\n",
       "      <td>107211</td>\n",
       "      <td>12500000.0</td>\n",
       "      <td>esquina.</td>\n",
       "      <td>1</td>\n",
       "      <td>0.0</td>\n",
       "      <td>0.0</td>\n",
       "      <td>0.0</td>\n",
       "      <td>0.0</td>\n",
       "      <td>0.0</td>\n",
       "    </tr>\n",
       "    <tr>\n",
       "      <th>11</th>\n",
       "      <td>34041</td>\n",
       "      <td>12500000.0</td>\n",
       "      <td>salon</td>\n",
       "      <td>2</td>\n",
       "      <td>0.0</td>\n",
       "      <td>0.0</td>\n",
       "      <td>0.0</td>\n",
       "      <td>0.0</td>\n",
       "      <td>0.0</td>\n",
       "    </tr>\n",
       "    <tr>\n",
       "      <th>12</th>\n",
       "      <td>220101</td>\n",
       "      <td>12500000.0</td>\n",
       "      <td>albercas,</td>\n",
       "      <td>1</td>\n",
       "      <td>0.0</td>\n",
       "      <td>0.0</td>\n",
       "      <td>0.0</td>\n",
       "      <td>0.0</td>\n",
       "      <td>0.0</td>\n",
       "    </tr>\n",
       "    <tr>\n",
       "      <th>13</th>\n",
       "      <td>78464</td>\n",
       "      <td>12500000.0</td>\n",
       "      <td>jardín</td>\n",
       "      <td>2</td>\n",
       "      <td>0.0</td>\n",
       "      <td>0.0</td>\n",
       "      <td>0.0</td>\n",
       "      <td>0.0</td>\n",
       "      <td>0.0</td>\n",
       "    </tr>\n",
       "    <tr>\n",
       "      <th>14</th>\n",
       "      <td>82645</td>\n",
       "      <td>12500000.0</td>\n",
       "      <td>excelente</td>\n",
       "      <td>2</td>\n",
       "      <td>0.0</td>\n",
       "      <td>0.0</td>\n",
       "      <td>0.0</td>\n",
       "      <td>0.0</td>\n",
       "      <td>0.0</td>\n",
       "    </tr>\n",
       "    <tr>\n",
       "      <th>15</th>\n",
       "      <td>64267</td>\n",
       "      <td>12500000.0</td>\n",
       "      <td>años.</td>\n",
       "      <td>1</td>\n",
       "      <td>0.0</td>\n",
       "      <td>0.0</td>\n",
       "      <td>0.0</td>\n",
       "      <td>0.0</td>\n",
       "      <td>0.0</td>\n",
       "    </tr>\n",
       "    <tr>\n",
       "      <th>16</th>\n",
       "      <td>117121</td>\n",
       "      <td>12500000.0</td>\n",
       "      <td>recamaras</td>\n",
       "      <td>2</td>\n",
       "      <td>0.0</td>\n",
       "      <td>0.0</td>\n",
       "      <td>0.0</td>\n",
       "      <td>0.0</td>\n",
       "      <td>0.0</td>\n",
       "    </tr>\n",
       "    <tr>\n",
       "      <th>17</th>\n",
       "      <td>178368</td>\n",
       "      <td>12500000.0</td>\n",
       "      <td>planta</td>\n",
       "      <td>2</td>\n",
       "      <td>0.0</td>\n",
       "      <td>1.0</td>\n",
       "      <td>0.0</td>\n",
       "      <td>0.0</td>\n",
       "      <td>0.0</td>\n",
       "    </tr>\n",
       "    <tr>\n",
       "      <th>18</th>\n",
       "      <td>257010</td>\n",
       "      <td>12500000.0</td>\n",
       "      <td>terraza,</td>\n",
       "      <td>3</td>\n",
       "      <td>0.0</td>\n",
       "      <td>0.0</td>\n",
       "      <td>0.0</td>\n",
       "      <td>0.0</td>\n",
       "      <td>0.0</td>\n",
       "    </tr>\n",
       "    <tr>\n",
       "      <th>19</th>\n",
       "      <td>222352</td>\n",
       "      <td>12500000.0</td>\n",
       "      <td>planta</td>\n",
       "      <td>3</td>\n",
       "      <td>0.0</td>\n",
       "      <td>1.0</td>\n",
       "      <td>0.0</td>\n",
       "      <td>0.0</td>\n",
       "      <td>0.0</td>\n",
       "    </tr>\n",
       "  </tbody>\n",
       "</table>\n",
       "</div>"
      ],
      "text/plain": [
       "        id      precio      max_word  max_word_count  cuenta  planta  cuarto  \\\n",
       "0   153761  12525000.0         vista               2     0.0     0.0     0.0   \n",
       "1   181271  12521000.0     acabados,               1     0.0     0.0     0.0   \n",
       "2    64975  12520000.0      recámara               2     0.0     0.0     0.0   \n",
       "3   279973  12516000.0       niveles               2     0.0     0.0     0.0   \n",
       "4   165404  12515000.0      adquirir               2     0.0     0.0     0.0   \n",
       "5   193788  12500000.0  &aacute;reas               1     0.0     0.0     0.0   \n",
       "6    56501  12500000.0      acabados               2     0.0     0.0     0.0   \n",
       "7    94019  12500000.0        cuarto               2     0.0     0.0     1.0   \n",
       "8   246504  12500000.0     excelente               2     0.0     0.0     0.0   \n",
       "9   131489  12500000.0      \\ncuarto               4     0.0     0.0     0.0   \n",
       "10  107211  12500000.0      esquina.               1     0.0     0.0     0.0   \n",
       "11   34041  12500000.0         salon               2     0.0     0.0     0.0   \n",
       "12  220101  12500000.0     albercas,               1     0.0     0.0     0.0   \n",
       "13   78464  12500000.0        jardín               2     0.0     0.0     0.0   \n",
       "14   82645  12500000.0     excelente               2     0.0     0.0     0.0   \n",
       "15   64267  12500000.0         años.               1     0.0     0.0     0.0   \n",
       "16  117121  12500000.0     recamaras               2     0.0     0.0     0.0   \n",
       "17  178368  12500000.0        planta               2     0.0     1.0     0.0   \n",
       "18  257010  12500000.0      terraza,               3     0.0     0.0     0.0   \n",
       "19  222352  12500000.0        planta               3     0.0     1.0     0.0   \n",
       "\n",
       "    tiene  baño  \n",
       "0     0.0   0.0  \n",
       "1     0.0   0.0  \n",
       "2     0.0   0.0  \n",
       "3     0.0   0.0  \n",
       "4     0.0   0.0  \n",
       "5     0.0   0.0  \n",
       "6     0.0   0.0  \n",
       "7     0.0   0.0  \n",
       "8     0.0   0.0  \n",
       "9     0.0   0.0  \n",
       "10    0.0   0.0  \n",
       "11    0.0   0.0  \n",
       "12    0.0   0.0  \n",
       "13    0.0   0.0  \n",
       "14    0.0   0.0  \n",
       "15    0.0   0.0  \n",
       "16    0.0   0.0  \n",
       "17    0.0   0.0  \n",
       "18    0.0   0.0  \n",
       "19    0.0   0.0  "
      ]
     },
     "execution_count": 703,
     "metadata": {},
     "output_type": "execute_result"
    }
   ],
   "source": [
    "desc_parse2 = pd.read_csv(\"desc_with_col.csv\", dtype = dtypes)\n",
    "desc_parse2.head(20)"
   ]
  },
  {
   "cell_type": "code",
   "execution_count": 655,
   "metadata": {},
   "outputs": [],
   "source": [
    "desc_merged = data.merge(desc_parse2[['cuenta', 'planta', 'cuarto', 'tiene', 'baño', 'id']],on='id',how='left')"
   ]
  },
  {
   "cell_type": "code",
   "execution_count": 656,
   "metadata": {},
   "outputs": [
    {
     "data": {
      "text/html": [
       "<div>\n",
       "<style scoped>\n",
       "    .dataframe tbody tr th:only-of-type {\n",
       "        vertical-align: middle;\n",
       "    }\n",
       "\n",
       "    .dataframe tbody tr th {\n",
       "        vertical-align: top;\n",
       "    }\n",
       "\n",
       "    .dataframe thead th {\n",
       "        text-align: right;\n",
       "    }\n",
       "</style>\n",
       "<table border=\"1\" class=\"dataframe\">\n",
       "  <thead>\n",
       "    <tr style=\"text-align: right;\">\n",
       "      <th></th>\n",
       "      <th>0</th>\n",
       "      <th>1</th>\n",
       "      <th>2</th>\n",
       "      <th>3</th>\n",
       "      <th>4</th>\n",
       "      <th>5</th>\n",
       "      <th>6</th>\n",
       "      <th>7</th>\n",
       "      <th>8</th>\n",
       "      <th>9</th>\n",
       "      <th>...</th>\n",
       "      <th>239990</th>\n",
       "      <th>239991</th>\n",
       "      <th>239992</th>\n",
       "      <th>239993</th>\n",
       "      <th>239994</th>\n",
       "      <th>239995</th>\n",
       "      <th>239996</th>\n",
       "      <th>239997</th>\n",
       "      <th>239998</th>\n",
       "      <th>239999</th>\n",
       "    </tr>\n",
       "  </thead>\n",
       "  <tbody>\n",
       "    <tr>\n",
       "      <th>id</th>\n",
       "      <td>254099</td>\n",
       "      <td>53461</td>\n",
       "      <td>247984</td>\n",
       "      <td>209067</td>\n",
       "      <td>185997</td>\n",
       "      <td>126147</td>\n",
       "      <td>139233</td>\n",
       "      <td>5013</td>\n",
       "      <td>44962</td>\n",
       "      <td>134537</td>\n",
       "      <td>...</td>\n",
       "      <td>87498</td>\n",
       "      <td>137337</td>\n",
       "      <td>54886</td>\n",
       "      <td>207892</td>\n",
       "      <td>110268</td>\n",
       "      <td>119879</td>\n",
       "      <td>259178</td>\n",
       "      <td>131932</td>\n",
       "      <td>146867</td>\n",
       "      <td>121958</td>\n",
       "    </tr>\n",
       "    <tr>\n",
       "      <th>titulo</th>\n",
       "      <td>depto. tipo a-402</td>\n",
       "      <td>condominio horizontal en venta</td>\n",
       "      <td>casa en venta urbi 3 recamaras tonala</td>\n",
       "      <td>casa sola en toluca zinacantepec con credito i...</td>\n",
       "      <td>paseos del sol</td>\n",
       "      <td>departamento en venta taxqueña</td>\n",
       "      <td>de oportunidad casa en san lorenzo</td>\n",
       "      <td>casa emilia en venta en selvamar playa del carmen</td>\n",
       "      <td>pre- venta preciosos depas 2 recamaras con sub...</td>\n",
       "      <td>terreno</td>\n",
       "      <td>...</td>\n",
       "      <td>casa en venta: bosques del contry</td>\n",
       "      <td>departamento residencial coyuya</td>\n",
       "      <td>casa en venta</td>\n",
       "      <td>bugambilias (ciudad)</td>\n",
       "      <td>hermosa casa en villa de los belenes</td>\n",
       "      <td>bonita casas de 2 recamaras a 10 minutos del c...</td>\n",
       "      <td>casa en condominio a 10 min. del centro de toluca</td>\n",
       "      <td>nicolas san juan</td>\n",
       "      <td>casa sola. javier rojo gomez.</td>\n",
       "      <td>departamento en bosques de las lomas  / av. st...</td>\n",
       "    </tr>\n",
       "    <tr>\n",
       "      <th>descripcion</th>\n",
       "      <td>depto. interior de 80.15m2, consta de sala com...</td>\n",
       "      <td>&lt;p&gt;entre sonora y guerrero, atr&amp;aacute;s del h...</td>\n",
       "      <td>descripcion \\nla mejor ubicacion residencial e...</td>\n",
       "      <td>casa en privada con caseta de vigilancia casas...</td>\n",
       "      <td>bonito departamento en excelentes condiciones ...</td>\n",
       "      <td>amplio departamento, estancia de sala y comedo...</td>\n",
       "      <td>ubicada en esquina, pertenece san lorenzo agen...</td>\n",
       "      <td>casa emilia en venta playa del carmenfracciona...</td>\n",
       "      <td>&lt;p&gt;pre-venta de preciosos departamento ecologi...</td>\n",
       "      <td>terreno de 5.500m2 bardeado, uso de suelo h-20...</td>\n",
       "      <td>...</td>\n",
       "      <td>&lt;p&gt;casa en venta, en magníficas condiciones; e...</td>\n",
       "      <td>departamento ubicado en planta baja, con excel...</td>\n",
       "      <td>bonita casa para remodelar en una calle cerrad...</td>\n",
       "      <td>coto privado de tan solo 7 casas donde cada fa...</td>\n",
       "      <td>&lt;p&gt;moderna casa 3 pisos, muro llor&amp;oacute;n , ...</td>\n",
       "      <td>vendo casa en bosques de ica residencial a 10 ...</td>\n",
       "      <td>casa con un jardin amplio, un cuarto de servic...</td>\n",
       "      <td>departamento con excelente ubicación, muy cerc...</td>\n",
       "      <td>casa sola, dividida en cuatro departamentos de...</td>\n",
       "      <td>id:19816, muy bonito e iluminado departamento,...</td>\n",
       "    </tr>\n",
       "    <tr>\n",
       "      <th>tipodepropiedad</th>\n",
       "      <td>Apartamento</td>\n",
       "      <td>Casa en condominio</td>\n",
       "      <td>Casa</td>\n",
       "      <td>Casa</td>\n",
       "      <td>Apartamento</td>\n",
       "      <td>Apartamento</td>\n",
       "      <td>Casa</td>\n",
       "      <td>Casa</td>\n",
       "      <td>Apartamento</td>\n",
       "      <td>Terreno</td>\n",
       "      <td>...</td>\n",
       "      <td>Casa</td>\n",
       "      <td>Apartamento</td>\n",
       "      <td>Casa en condominio</td>\n",
       "      <td>Casa</td>\n",
       "      <td>Casa</td>\n",
       "      <td>Casa</td>\n",
       "      <td>Casa</td>\n",
       "      <td>Apartamento</td>\n",
       "      <td>Casa</td>\n",
       "      <td>Apartamento</td>\n",
       "    </tr>\n",
       "    <tr>\n",
       "      <th>direccion</th>\n",
       "      <td>Avenida Division del Norte 2005</td>\n",
       "      <td>AV. MEXICO</td>\n",
       "      <td>Urbi Tonala</td>\n",
       "      <td>IGNACIO MANUEL ALTAMIRANO 128</td>\n",
       "      <td>PASEOS DEL SOL</td>\n",
       "      <td>Condominio Tlalpan 2B</td>\n",
       "      <td>NaN</td>\n",
       "      <td>condominio el trebol</td>\n",
       "      <td>BUENAVISTA DEPTOS CON SUBSIDIO</td>\n",
       "      <td>Av. Morelos</td>\n",
       "      <td>...</td>\n",
       "      <td>NaN</td>\n",
       "      <td>Coyuya 200</td>\n",
       "      <td>Cerrada villa Picadilly</td>\n",
       "      <td>Paseo de la Cañada</td>\n",
       "      <td>MANUEL AMAYA,ENTRE SEBASTIAN ALLENDE Y AMADO A...</td>\n",
       "      <td>BOSQUES</td>\n",
       "      <td>Filiberto Navas 325</td>\n",
       "      <td>Nicolas San Juan</td>\n",
       "      <td>Javier Rojo Gomez 120</td>\n",
       "      <td>AVE. STIM</td>\n",
       "    </tr>\n",
       "    <tr>\n",
       "      <th>ciudad</th>\n",
       "      <td>Benito Juárez</td>\n",
       "      <td>La Magdalena Contreras</td>\n",
       "      <td>Tonalá</td>\n",
       "      <td>Zinacantepec</td>\n",
       "      <td>Zapopan</td>\n",
       "      <td>Coyoacán</td>\n",
       "      <td>Oaxaca de Juárez</td>\n",
       "      <td>Playa del Carmen</td>\n",
       "      <td>Villa de Alvarez</td>\n",
       "      <td>Ixtapaluca</td>\n",
       "      <td>...</td>\n",
       "      <td>Guadalupe</td>\n",
       "      <td>Iztacalco</td>\n",
       "      <td>Huixquilucan</td>\n",
       "      <td>Zapopan</td>\n",
       "      <td>Zapopan</td>\n",
       "      <td>Zinacantepec</td>\n",
       "      <td>Toluca</td>\n",
       "      <td>Benito Juárez</td>\n",
       "      <td>Iztapalapa</td>\n",
       "      <td>Cuajimalpa de Morelos</td>\n",
       "    </tr>\n",
       "    <tr>\n",
       "      <th>provincia</th>\n",
       "      <td>Distrito Federal</td>\n",
       "      <td>Distrito Federal</td>\n",
       "      <td>Jalisco</td>\n",
       "      <td>Edo. de México</td>\n",
       "      <td>Jalisco</td>\n",
       "      <td>Distrito Federal</td>\n",
       "      <td>Oaxaca</td>\n",
       "      <td>Quintana Roo</td>\n",
       "      <td>Colima</td>\n",
       "      <td>Edo. de México</td>\n",
       "      <td>...</td>\n",
       "      <td>Nuevo León</td>\n",
       "      <td>Distrito Federal</td>\n",
       "      <td>Edo. de México</td>\n",
       "      <td>Jalisco</td>\n",
       "      <td>Jalisco</td>\n",
       "      <td>Edo. de México</td>\n",
       "      <td>Edo. de México</td>\n",
       "      <td>Distrito Federal</td>\n",
       "      <td>Distrito Federal</td>\n",
       "      <td>Distrito Federal</td>\n",
       "    </tr>\n",
       "    <tr>\n",
       "      <th>antiguedad</th>\n",
       "      <td>NaN</td>\n",
       "      <td>10</td>\n",
       "      <td>5</td>\n",
       "      <td>1</td>\n",
       "      <td>10</td>\n",
       "      <td>5</td>\n",
       "      <td>NaN</td>\n",
       "      <td>2</td>\n",
       "      <td>1</td>\n",
       "      <td>NaN</td>\n",
       "      <td>...</td>\n",
       "      <td>20</td>\n",
       "      <td>20</td>\n",
       "      <td>10</td>\n",
       "      <td>1</td>\n",
       "      <td>3</td>\n",
       "      <td>0</td>\n",
       "      <td>0</td>\n",
       "      <td>20</td>\n",
       "      <td>20</td>\n",
       "      <td>1</td>\n",
       "    </tr>\n",
       "    <tr>\n",
       "      <th>habitaciones</th>\n",
       "      <td>2</td>\n",
       "      <td>3</td>\n",
       "      <td>3</td>\n",
       "      <td>2</td>\n",
       "      <td>2</td>\n",
       "      <td>2</td>\n",
       "      <td>3</td>\n",
       "      <td>4</td>\n",
       "      <td>2</td>\n",
       "      <td>NaN</td>\n",
       "      <td>...</td>\n",
       "      <td>3</td>\n",
       "      <td>2</td>\n",
       "      <td>3</td>\n",
       "      <td>3</td>\n",
       "      <td>2</td>\n",
       "      <td>2</td>\n",
       "      <td>3</td>\n",
       "      <td>2</td>\n",
       "      <td>4</td>\n",
       "      <td>3</td>\n",
       "    </tr>\n",
       "    <tr>\n",
       "      <th>garages</th>\n",
       "      <td>1</td>\n",
       "      <td>2</td>\n",
       "      <td>2</td>\n",
       "      <td>1</td>\n",
       "      <td>1</td>\n",
       "      <td>1</td>\n",
       "      <td>1</td>\n",
       "      <td>2</td>\n",
       "      <td>1</td>\n",
       "      <td>NaN</td>\n",
       "      <td>...</td>\n",
       "      <td>2</td>\n",
       "      <td>1</td>\n",
       "      <td>NaN</td>\n",
       "      <td>2</td>\n",
       "      <td>2</td>\n",
       "      <td>2</td>\n",
       "      <td>3</td>\n",
       "      <td>1</td>\n",
       "      <td>0</td>\n",
       "      <td>2</td>\n",
       "    </tr>\n",
       "    <tr>\n",
       "      <th>banos</th>\n",
       "      <td>2</td>\n",
       "      <td>2</td>\n",
       "      <td>2</td>\n",
       "      <td>1</td>\n",
       "      <td>1</td>\n",
       "      <td>1</td>\n",
       "      <td>2</td>\n",
       "      <td>3</td>\n",
       "      <td>1</td>\n",
       "      <td>NaN</td>\n",
       "      <td>...</td>\n",
       "      <td>1</td>\n",
       "      <td>1</td>\n",
       "      <td>3</td>\n",
       "      <td>3</td>\n",
       "      <td>2</td>\n",
       "      <td>1</td>\n",
       "      <td>3</td>\n",
       "      <td>2</td>\n",
       "      <td>4</td>\n",
       "      <td>2</td>\n",
       "    </tr>\n",
       "    <tr>\n",
       "      <th>metroscubiertos</th>\n",
       "      <td>80</td>\n",
       "      <td>268</td>\n",
       "      <td>144</td>\n",
       "      <td>63</td>\n",
       "      <td>95</td>\n",
       "      <td>75</td>\n",
       "      <td>140</td>\n",
       "      <td>293</td>\n",
       "      <td>58</td>\n",
       "      <td>250</td>\n",
       "      <td>...</td>\n",
       "      <td>118</td>\n",
       "      <td>68</td>\n",
       "      <td>270</td>\n",
       "      <td>150</td>\n",
       "      <td>160</td>\n",
       "      <td>67</td>\n",
       "      <td>200</td>\n",
       "      <td>138</td>\n",
       "      <td>235</td>\n",
       "      <td>149</td>\n",
       "    </tr>\n",
       "    <tr>\n",
       "      <th>metrostotales</th>\n",
       "      <td>80</td>\n",
       "      <td>180</td>\n",
       "      <td>166</td>\n",
       "      <td>67</td>\n",
       "      <td>95</td>\n",
       "      <td>90</td>\n",
       "      <td>160</td>\n",
       "      <td>293</td>\n",
       "      <td>NaN</td>\n",
       "      <td>NaN</td>\n",
       "      <td>...</td>\n",
       "      <td>124</td>\n",
       "      <td>68</td>\n",
       "      <td>293</td>\n",
       "      <td>150</td>\n",
       "      <td>90</td>\n",
       "      <td>NaN</td>\n",
       "      <td>250</td>\n",
       "      <td>138</td>\n",
       "      <td>137</td>\n",
       "      <td>NaN</td>\n",
       "    </tr>\n",
       "    <tr>\n",
       "      <th>idzona</th>\n",
       "      <td>23533.0</td>\n",
       "      <td>24514.0</td>\n",
       "      <td>48551.0</td>\n",
       "      <td>53666.0</td>\n",
       "      <td>47835.0</td>\n",
       "      <td>23650.0</td>\n",
       "      <td>73510.0</td>\n",
       "      <td>130510.0</td>\n",
       "      <td>9010.0</td>\n",
       "      <td>59171.0</td>\n",
       "      <td>...</td>\n",
       "      <td>72083.0</td>\n",
       "      <td>24118.0</td>\n",
       "      <td>55589.0</td>\n",
       "      <td>48046.0</td>\n",
       "      <td>48029.0</td>\n",
       "      <td>53666.0</td>\n",
       "      <td>51954.0</td>\n",
       "      <td>50003995.0</td>\n",
       "      <td>24162.0</td>\n",
       "      <td>23750.0</td>\n",
       "    </tr>\n",
       "    <tr>\n",
       "      <th>lat</th>\n",
       "      <td>NaN</td>\n",
       "      <td>19.3102</td>\n",
       "      <td>NaN</td>\n",
       "      <td>19.3019</td>\n",
       "      <td>NaN</td>\n",
       "      <td>19.3006</td>\n",
       "      <td>17.1435</td>\n",
       "      <td>20.6726</td>\n",
       "      <td>NaN</td>\n",
       "      <td>19.316</td>\n",
       "      <td>...</td>\n",
       "      <td>25.6612</td>\n",
       "      <td>19.4033</td>\n",
       "      <td>NaN</td>\n",
       "      <td>20.6156</td>\n",
       "      <td>20.6045</td>\n",
       "      <td>NaN</td>\n",
       "      <td>19.2947</td>\n",
       "      <td>NaN</td>\n",
       "      <td>19.3667</td>\n",
       "      <td>NaN</td>\n",
       "    </tr>\n",
       "    <tr>\n",
       "      <th>lng</th>\n",
       "      <td>NaN</td>\n",
       "      <td>-99.2277</td>\n",
       "      <td>NaN</td>\n",
       "      <td>-99.688</td>\n",
       "      <td>NaN</td>\n",
       "      <td>-99.1485</td>\n",
       "      <td>-96.8035</td>\n",
       "      <td>-87.038</td>\n",
       "      <td>NaN</td>\n",
       "      <td>-98.887</td>\n",
       "      <td>...</td>\n",
       "      <td>-100.251</td>\n",
       "      <td>-99.119</td>\n",
       "      <td>NaN</td>\n",
       "      <td>-103.456</td>\n",
       "      <td>-103.45</td>\n",
       "      <td>NaN</td>\n",
       "      <td>-99.6929</td>\n",
       "      <td>NaN</td>\n",
       "      <td>-99.0822</td>\n",
       "      <td>NaN</td>\n",
       "    </tr>\n",
       "    <tr>\n",
       "      <th>fecha</th>\n",
       "      <td>2015-08-23 00:00:00</td>\n",
       "      <td>2013-06-28 00:00:00</td>\n",
       "      <td>2015-10-17 00:00:00</td>\n",
       "      <td>2012-03-09 00:00:00</td>\n",
       "      <td>2016-06-07 00:00:00</td>\n",
       "      <td>2014-03-18 00:00:00</td>\n",
       "      <td>2016-02-23 00:00:00</td>\n",
       "      <td>2016-10-20 00:00:00</td>\n",
       "      <td>2014-01-06 00:00:00</td>\n",
       "      <td>2016-12-22 00:00:00</td>\n",
       "      <td>...</td>\n",
       "      <td>2014-04-12 00:00:00</td>\n",
       "      <td>2015-03-14 00:00:00</td>\n",
       "      <td>2015-11-23 00:00:00</td>\n",
       "      <td>2015-03-22 00:00:00</td>\n",
       "      <td>2013-07-31 00:00:00</td>\n",
       "      <td>2015-02-08 00:00:00</td>\n",
       "      <td>2014-07-10 00:00:00</td>\n",
       "      <td>2015-03-03 00:00:00</td>\n",
       "      <td>2014-12-26 00:00:00</td>\n",
       "      <td>2015-06-19 00:00:00</td>\n",
       "    </tr>\n",
       "    <tr>\n",
       "      <th>gimnasio</th>\n",
       "      <td>0</td>\n",
       "      <td>0</td>\n",
       "      <td>0</td>\n",
       "      <td>0</td>\n",
       "      <td>0</td>\n",
       "      <td>0</td>\n",
       "      <td>0</td>\n",
       "      <td>0</td>\n",
       "      <td>0</td>\n",
       "      <td>0</td>\n",
       "      <td>...</td>\n",
       "      <td>0</td>\n",
       "      <td>0</td>\n",
       "      <td>0</td>\n",
       "      <td>0</td>\n",
       "      <td>0</td>\n",
       "      <td>0</td>\n",
       "      <td>0</td>\n",
       "      <td>0</td>\n",
       "      <td>1</td>\n",
       "      <td>0</td>\n",
       "    </tr>\n",
       "    <tr>\n",
       "      <th>usosmultiples</th>\n",
       "      <td>0</td>\n",
       "      <td>0</td>\n",
       "      <td>0</td>\n",
       "      <td>0</td>\n",
       "      <td>0</td>\n",
       "      <td>0</td>\n",
       "      <td>0</td>\n",
       "      <td>0</td>\n",
       "      <td>0</td>\n",
       "      <td>0</td>\n",
       "      <td>...</td>\n",
       "      <td>0</td>\n",
       "      <td>0</td>\n",
       "      <td>0</td>\n",
       "      <td>0</td>\n",
       "      <td>0</td>\n",
       "      <td>0</td>\n",
       "      <td>0</td>\n",
       "      <td>0</td>\n",
       "      <td>0</td>\n",
       "      <td>0</td>\n",
       "    </tr>\n",
       "    <tr>\n",
       "      <th>piscina</th>\n",
       "      <td>0</td>\n",
       "      <td>0</td>\n",
       "      <td>0</td>\n",
       "      <td>0</td>\n",
       "      <td>0</td>\n",
       "      <td>0</td>\n",
       "      <td>0</td>\n",
       "      <td>0</td>\n",
       "      <td>0</td>\n",
       "      <td>0</td>\n",
       "      <td>...</td>\n",
       "      <td>0</td>\n",
       "      <td>0</td>\n",
       "      <td>0</td>\n",
       "      <td>0</td>\n",
       "      <td>0</td>\n",
       "      <td>0</td>\n",
       "      <td>0</td>\n",
       "      <td>0</td>\n",
       "      <td>0</td>\n",
       "      <td>0</td>\n",
       "    </tr>\n",
       "    <tr>\n",
       "      <th>escuelascercanas</th>\n",
       "      <td>0</td>\n",
       "      <td>1</td>\n",
       "      <td>0</td>\n",
       "      <td>1</td>\n",
       "      <td>0</td>\n",
       "      <td>0</td>\n",
       "      <td>0</td>\n",
       "      <td>0</td>\n",
       "      <td>1</td>\n",
       "      <td>0</td>\n",
       "      <td>...</td>\n",
       "      <td>0</td>\n",
       "      <td>1</td>\n",
       "      <td>1</td>\n",
       "      <td>0</td>\n",
       "      <td>0</td>\n",
       "      <td>0</td>\n",
       "      <td>1</td>\n",
       "      <td>0</td>\n",
       "      <td>1</td>\n",
       "      <td>0</td>\n",
       "    </tr>\n",
       "    <tr>\n",
       "      <th>centroscomercialescercanos</th>\n",
       "      <td>0</td>\n",
       "      <td>1</td>\n",
       "      <td>0</td>\n",
       "      <td>1</td>\n",
       "      <td>0</td>\n",
       "      <td>1</td>\n",
       "      <td>0</td>\n",
       "      <td>0</td>\n",
       "      <td>1</td>\n",
       "      <td>0</td>\n",
       "      <td>...</td>\n",
       "      <td>0</td>\n",
       "      <td>1</td>\n",
       "      <td>1</td>\n",
       "      <td>0</td>\n",
       "      <td>0</td>\n",
       "      <td>0</td>\n",
       "      <td>1</td>\n",
       "      <td>0</td>\n",
       "      <td>1</td>\n",
       "      <td>0</td>\n",
       "    </tr>\n",
       "    <tr>\n",
       "      <th>precio</th>\n",
       "      <td>2.273e+06</td>\n",
       "      <td>3.6e+06</td>\n",
       "      <td>1.2e+06</td>\n",
       "      <td>650000</td>\n",
       "      <td>1.15e+06</td>\n",
       "      <td>1.1e+06</td>\n",
       "      <td>1.15e+06</td>\n",
       "      <td>4.2e+06</td>\n",
       "      <td>310000</td>\n",
       "      <td>6.2e+06</td>\n",
       "      <td>...</td>\n",
       "      <td>1.495e+06</td>\n",
       "      <td>1.45e+06</td>\n",
       "      <td>5.5e+06</td>\n",
       "      <td>1.65e+06</td>\n",
       "      <td>1.35e+06</td>\n",
       "      <td>650000</td>\n",
       "      <td>1.94e+06</td>\n",
       "      <td>3.4e+06</td>\n",
       "      <td>2.89e+06</td>\n",
       "      <td>3.65e+06</td>\n",
       "    </tr>\n",
       "    <tr>\n",
       "      <th>train</th>\n",
       "      <td>True</td>\n",
       "      <td>True</td>\n",
       "      <td>True</td>\n",
       "      <td>True</td>\n",
       "      <td>True</td>\n",
       "      <td>True</td>\n",
       "      <td>True</td>\n",
       "      <td>True</td>\n",
       "      <td>True</td>\n",
       "      <td>True</td>\n",
       "      <td>...</td>\n",
       "      <td>True</td>\n",
       "      <td>True</td>\n",
       "      <td>True</td>\n",
       "      <td>True</td>\n",
       "      <td>True</td>\n",
       "      <td>True</td>\n",
       "      <td>True</td>\n",
       "      <td>True</td>\n",
       "      <td>True</td>\n",
       "      <td>True</td>\n",
       "    </tr>\n",
       "    <tr>\n",
       "      <th>anio</th>\n",
       "      <td>2015</td>\n",
       "      <td>2013</td>\n",
       "      <td>2015</td>\n",
       "      <td>2012</td>\n",
       "      <td>2016</td>\n",
       "      <td>2014</td>\n",
       "      <td>2016</td>\n",
       "      <td>2016</td>\n",
       "      <td>2014</td>\n",
       "      <td>2016</td>\n",
       "      <td>...</td>\n",
       "      <td>2014</td>\n",
       "      <td>2015</td>\n",
       "      <td>2015</td>\n",
       "      <td>2015</td>\n",
       "      <td>2013</td>\n",
       "      <td>2015</td>\n",
       "      <td>2014</td>\n",
       "      <td>2015</td>\n",
       "      <td>2014</td>\n",
       "      <td>2015</td>\n",
       "    </tr>\n",
       "    <tr>\n",
       "      <th>cuenta</th>\n",
       "      <td>0</td>\n",
       "      <td>0</td>\n",
       "      <td>0</td>\n",
       "      <td>0</td>\n",
       "      <td>0</td>\n",
       "      <td>0</td>\n",
       "      <td>0</td>\n",
       "      <td>0</td>\n",
       "      <td>0</td>\n",
       "      <td>0</td>\n",
       "      <td>...</td>\n",
       "      <td>0</td>\n",
       "      <td>0</td>\n",
       "      <td>0</td>\n",
       "      <td>0</td>\n",
       "      <td>0</td>\n",
       "      <td>0</td>\n",
       "      <td>0</td>\n",
       "      <td>0</td>\n",
       "      <td>0</td>\n",
       "      <td>0</td>\n",
       "    </tr>\n",
       "    <tr>\n",
       "      <th>planta</th>\n",
       "      <td>0</td>\n",
       "      <td>0</td>\n",
       "      <td>0</td>\n",
       "      <td>0</td>\n",
       "      <td>0</td>\n",
       "      <td>0</td>\n",
       "      <td>0</td>\n",
       "      <td>0</td>\n",
       "      <td>0</td>\n",
       "      <td>0</td>\n",
       "      <td>...</td>\n",
       "      <td>0</td>\n",
       "      <td>0</td>\n",
       "      <td>0</td>\n",
       "      <td>0</td>\n",
       "      <td>0</td>\n",
       "      <td>0</td>\n",
       "      <td>0</td>\n",
       "      <td>0</td>\n",
       "      <td>0</td>\n",
       "      <td>0</td>\n",
       "    </tr>\n",
       "    <tr>\n",
       "      <th>cuarto</th>\n",
       "      <td>0</td>\n",
       "      <td>0</td>\n",
       "      <td>0</td>\n",
       "      <td>0</td>\n",
       "      <td>0</td>\n",
       "      <td>0</td>\n",
       "      <td>0</td>\n",
       "      <td>0</td>\n",
       "      <td>0</td>\n",
       "      <td>0</td>\n",
       "      <td>...</td>\n",
       "      <td>0</td>\n",
       "      <td>0</td>\n",
       "      <td>0</td>\n",
       "      <td>0</td>\n",
       "      <td>0</td>\n",
       "      <td>0</td>\n",
       "      <td>0</td>\n",
       "      <td>0</td>\n",
       "      <td>0</td>\n",
       "      <td>0</td>\n",
       "    </tr>\n",
       "    <tr>\n",
       "      <th>tiene</th>\n",
       "      <td>0</td>\n",
       "      <td>0</td>\n",
       "      <td>0</td>\n",
       "      <td>0</td>\n",
       "      <td>0</td>\n",
       "      <td>0</td>\n",
       "      <td>0</td>\n",
       "      <td>0</td>\n",
       "      <td>0</td>\n",
       "      <td>0</td>\n",
       "      <td>...</td>\n",
       "      <td>0</td>\n",
       "      <td>0</td>\n",
       "      <td>0</td>\n",
       "      <td>0</td>\n",
       "      <td>0</td>\n",
       "      <td>0</td>\n",
       "      <td>0</td>\n",
       "      <td>0</td>\n",
       "      <td>0</td>\n",
       "      <td>0</td>\n",
       "    </tr>\n",
       "    <tr>\n",
       "      <th>baño</th>\n",
       "      <td>0</td>\n",
       "      <td>0</td>\n",
       "      <td>0</td>\n",
       "      <td>0</td>\n",
       "      <td>0</td>\n",
       "      <td>0</td>\n",
       "      <td>0</td>\n",
       "      <td>0</td>\n",
       "      <td>0</td>\n",
       "      <td>0</td>\n",
       "      <td>...</td>\n",
       "      <td>0</td>\n",
       "      <td>0</td>\n",
       "      <td>0</td>\n",
       "      <td>0</td>\n",
       "      <td>0</td>\n",
       "      <td>0</td>\n",
       "      <td>0</td>\n",
       "      <td>0</td>\n",
       "      <td>1</td>\n",
       "      <td>0</td>\n",
       "    </tr>\n",
       "  </tbody>\n",
       "</table>\n",
       "<p>30 rows × 240000 columns</p>\n",
       "</div>"
      ],
      "text/plain": [
       "                                                                       0       \\\n",
       "id                                                                     254099   \n",
       "titulo                                                      depto. tipo a-402   \n",
       "descripcion                 depto. interior de 80.15m2, consta de sala com...   \n",
       "tipodepropiedad                                                   Apartamento   \n",
       "direccion                                     Avenida Division del Norte 2005   \n",
       "ciudad                                                          Benito Juárez   \n",
       "provincia                                                    Distrito Federal   \n",
       "antiguedad                                                                NaN   \n",
       "habitaciones                                                                2   \n",
       "garages                                                                     1   \n",
       "banos                                                                       2   \n",
       "metroscubiertos                                                            80   \n",
       "metrostotales                                                              80   \n",
       "idzona                                                                23533.0   \n",
       "lat                                                                       NaN   \n",
       "lng                                                                       NaN   \n",
       "fecha                                                     2015-08-23 00:00:00   \n",
       "gimnasio                                                                    0   \n",
       "usosmultiples                                                               0   \n",
       "piscina                                                                     0   \n",
       "escuelascercanas                                                            0   \n",
       "centroscomercialescercanos                                                  0   \n",
       "precio                                                              2.273e+06   \n",
       "train                                                                    True   \n",
       "anio                                                                     2015   \n",
       "cuenta                                                                      0   \n",
       "planta                                                                      0   \n",
       "cuarto                                                                      0   \n",
       "tiene                                                                       0   \n",
       "baño                                                                        0   \n",
       "\n",
       "                                                                       1       \\\n",
       "id                                                                      53461   \n",
       "titulo                                         condominio horizontal en venta   \n",
       "descripcion                 <p>entre sonora y guerrero, atr&aacute;s del h...   \n",
       "tipodepropiedad                                            Casa en condominio   \n",
       "direccion                                                          AV. MEXICO   \n",
       "ciudad                                                 La Magdalena Contreras   \n",
       "provincia                                                    Distrito Federal   \n",
       "antiguedad                                                                 10   \n",
       "habitaciones                                                                3   \n",
       "garages                                                                     2   \n",
       "banos                                                                       2   \n",
       "metroscubiertos                                                           268   \n",
       "metrostotales                                                             180   \n",
       "idzona                                                                24514.0   \n",
       "lat                                                                   19.3102   \n",
       "lng                                                                  -99.2277   \n",
       "fecha                                                     2013-06-28 00:00:00   \n",
       "gimnasio                                                                    0   \n",
       "usosmultiples                                                               0   \n",
       "piscina                                                                     0   \n",
       "escuelascercanas                                                            1   \n",
       "centroscomercialescercanos                                                  1   \n",
       "precio                                                                3.6e+06   \n",
       "train                                                                    True   \n",
       "anio                                                                     2013   \n",
       "cuenta                                                                      0   \n",
       "planta                                                                      0   \n",
       "cuarto                                                                      0   \n",
       "tiene                                                                       0   \n",
       "baño                                                                        0   \n",
       "\n",
       "                                                                       2       \\\n",
       "id                                                                     247984   \n",
       "titulo                                  casa en venta urbi 3 recamaras tonala   \n",
       "descripcion                 descripcion \\nla mejor ubicacion residencial e...   \n",
       "tipodepropiedad                                                          Casa   \n",
       "direccion                                                         Urbi Tonala   \n",
       "ciudad                                                                 Tonalá   \n",
       "provincia                                                             Jalisco   \n",
       "antiguedad                                                                  5   \n",
       "habitaciones                                                                3   \n",
       "garages                                                                     2   \n",
       "banos                                                                       2   \n",
       "metroscubiertos                                                           144   \n",
       "metrostotales                                                             166   \n",
       "idzona                                                                48551.0   \n",
       "lat                                                                       NaN   \n",
       "lng                                                                       NaN   \n",
       "fecha                                                     2015-10-17 00:00:00   \n",
       "gimnasio                                                                    0   \n",
       "usosmultiples                                                               0   \n",
       "piscina                                                                     0   \n",
       "escuelascercanas                                                            0   \n",
       "centroscomercialescercanos                                                  0   \n",
       "precio                                                                1.2e+06   \n",
       "train                                                                    True   \n",
       "anio                                                                     2015   \n",
       "cuenta                                                                      0   \n",
       "planta                                                                      0   \n",
       "cuarto                                                                      0   \n",
       "tiene                                                                       0   \n",
       "baño                                                                        0   \n",
       "\n",
       "                                                                       3       \\\n",
       "id                                                                     209067   \n",
       "titulo                      casa sola en toluca zinacantepec con credito i...   \n",
       "descripcion                 casa en privada con caseta de vigilancia casas...   \n",
       "tipodepropiedad                                                          Casa   \n",
       "direccion                                       IGNACIO MANUEL ALTAMIRANO 128   \n",
       "ciudad                                                           Zinacantepec   \n",
       "provincia                                                      Edo. de México   \n",
       "antiguedad                                                                  1   \n",
       "habitaciones                                                                2   \n",
       "garages                                                                     1   \n",
       "banos                                                                       1   \n",
       "metroscubiertos                                                            63   \n",
       "metrostotales                                                              67   \n",
       "idzona                                                                53666.0   \n",
       "lat                                                                   19.3019   \n",
       "lng                                                                   -99.688   \n",
       "fecha                                                     2012-03-09 00:00:00   \n",
       "gimnasio                                                                    0   \n",
       "usosmultiples                                                               0   \n",
       "piscina                                                                     0   \n",
       "escuelascercanas                                                            1   \n",
       "centroscomercialescercanos                                                  1   \n",
       "precio                                                                 650000   \n",
       "train                                                                    True   \n",
       "anio                                                                     2012   \n",
       "cuenta                                                                      0   \n",
       "planta                                                                      0   \n",
       "cuarto                                                                      0   \n",
       "tiene                                                                       0   \n",
       "baño                                                                        0   \n",
       "\n",
       "                                                                       4       \\\n",
       "id                                                                     185997   \n",
       "titulo                                                         paseos del sol   \n",
       "descripcion                 bonito departamento en excelentes condiciones ...   \n",
       "tipodepropiedad                                                   Apartamento   \n",
       "direccion                                                     PASEOS DEL SOL    \n",
       "ciudad                                                                Zapopan   \n",
       "provincia                                                             Jalisco   \n",
       "antiguedad                                                                 10   \n",
       "habitaciones                                                                2   \n",
       "garages                                                                     1   \n",
       "banos                                                                       1   \n",
       "metroscubiertos                                                            95   \n",
       "metrostotales                                                              95   \n",
       "idzona                                                                47835.0   \n",
       "lat                                                                       NaN   \n",
       "lng                                                                       NaN   \n",
       "fecha                                                     2016-06-07 00:00:00   \n",
       "gimnasio                                                                    0   \n",
       "usosmultiples                                                               0   \n",
       "piscina                                                                     0   \n",
       "escuelascercanas                                                            0   \n",
       "centroscomercialescercanos                                                  0   \n",
       "precio                                                               1.15e+06   \n",
       "train                                                                    True   \n",
       "anio                                                                     2016   \n",
       "cuenta                                                                      0   \n",
       "planta                                                                      0   \n",
       "cuarto                                                                      0   \n",
       "tiene                                                                       0   \n",
       "baño                                                                        0   \n",
       "\n",
       "                                                                       5       \\\n",
       "id                                                                     126147   \n",
       "titulo                                         departamento en venta taxqueña   \n",
       "descripcion                 amplio departamento, estancia de sala y comedo...   \n",
       "tipodepropiedad                                                   Apartamento   \n",
       "direccion                                               Condominio Tlalpan 2B   \n",
       "ciudad                                                               Coyoacán   \n",
       "provincia                                                    Distrito Federal   \n",
       "antiguedad                                                                  5   \n",
       "habitaciones                                                                2   \n",
       "garages                                                                     1   \n",
       "banos                                                                       1   \n",
       "metroscubiertos                                                            75   \n",
       "metrostotales                                                              90   \n",
       "idzona                                                                23650.0   \n",
       "lat                                                                   19.3006   \n",
       "lng                                                                  -99.1485   \n",
       "fecha                                                     2014-03-18 00:00:00   \n",
       "gimnasio                                                                    0   \n",
       "usosmultiples                                                               0   \n",
       "piscina                                                                     0   \n",
       "escuelascercanas                                                            0   \n",
       "centroscomercialescercanos                                                  1   \n",
       "precio                                                                1.1e+06   \n",
       "train                                                                    True   \n",
       "anio                                                                     2014   \n",
       "cuenta                                                                      0   \n",
       "planta                                                                      0   \n",
       "cuarto                                                                      0   \n",
       "tiene                                                                       0   \n",
       "baño                                                                        0   \n",
       "\n",
       "                                                                       6       \\\n",
       "id                                                                     139233   \n",
       "titulo                                     de oportunidad casa en san lorenzo   \n",
       "descripcion                 ubicada en esquina, pertenece san lorenzo agen...   \n",
       "tipodepropiedad                                                          Casa   \n",
       "direccion                                                                 NaN   \n",
       "ciudad                                                       Oaxaca de Juárez   \n",
       "provincia                                                              Oaxaca   \n",
       "antiguedad                                                                NaN   \n",
       "habitaciones                                                                3   \n",
       "garages                                                                     1   \n",
       "banos                                                                       2   \n",
       "metroscubiertos                                                           140   \n",
       "metrostotales                                                             160   \n",
       "idzona                                                                73510.0   \n",
       "lat                                                                   17.1435   \n",
       "lng                                                                  -96.8035   \n",
       "fecha                                                     2016-02-23 00:00:00   \n",
       "gimnasio                                                                    0   \n",
       "usosmultiples                                                               0   \n",
       "piscina                                                                     0   \n",
       "escuelascercanas                                                            0   \n",
       "centroscomercialescercanos                                                  0   \n",
       "precio                                                               1.15e+06   \n",
       "train                                                                    True   \n",
       "anio                                                                     2016   \n",
       "cuenta                                                                      0   \n",
       "planta                                                                      0   \n",
       "cuarto                                                                      0   \n",
       "tiene                                                                       0   \n",
       "baño                                                                        0   \n",
       "\n",
       "                                                                       7       \\\n",
       "id                                                                       5013   \n",
       "titulo                      casa emilia en venta en selvamar playa del carmen   \n",
       "descripcion                 casa emilia en venta playa del carmenfracciona...   \n",
       "tipodepropiedad                                                          Casa   \n",
       "direccion                                                condominio el trebol   \n",
       "ciudad                                                       Playa del Carmen   \n",
       "provincia                                                        Quintana Roo   \n",
       "antiguedad                                                                  2   \n",
       "habitaciones                                                                4   \n",
       "garages                                                                     2   \n",
       "banos                                                                       3   \n",
       "metroscubiertos                                                           293   \n",
       "metrostotales                                                             293   \n",
       "idzona                                                               130510.0   \n",
       "lat                                                                   20.6726   \n",
       "lng                                                                   -87.038   \n",
       "fecha                                                     2016-10-20 00:00:00   \n",
       "gimnasio                                                                    0   \n",
       "usosmultiples                                                               0   \n",
       "piscina                                                                     0   \n",
       "escuelascercanas                                                            0   \n",
       "centroscomercialescercanos                                                  0   \n",
       "precio                                                                4.2e+06   \n",
       "train                                                                    True   \n",
       "anio                                                                     2016   \n",
       "cuenta                                                                      0   \n",
       "planta                                                                      0   \n",
       "cuarto                                                                      0   \n",
       "tiene                                                                       0   \n",
       "baño                                                                        0   \n",
       "\n",
       "                                                                       8       \\\n",
       "id                                                                      44962   \n",
       "titulo                      pre- venta preciosos depas 2 recamaras con sub...   \n",
       "descripcion                 <p>pre-venta de preciosos departamento ecologi...   \n",
       "tipodepropiedad                                                   Apartamento   \n",
       "direccion                                      BUENAVISTA DEPTOS CON SUBSIDIO   \n",
       "ciudad                                                       Villa de Alvarez   \n",
       "provincia                                                              Colima   \n",
       "antiguedad                                                                  1   \n",
       "habitaciones                                                                2   \n",
       "garages                                                                     1   \n",
       "banos                                                                       1   \n",
       "metroscubiertos                                                            58   \n",
       "metrostotales                                                             NaN   \n",
       "idzona                                                                 9010.0   \n",
       "lat                                                                       NaN   \n",
       "lng                                                                       NaN   \n",
       "fecha                                                     2014-01-06 00:00:00   \n",
       "gimnasio                                                                    0   \n",
       "usosmultiples                                                               0   \n",
       "piscina                                                                     0   \n",
       "escuelascercanas                                                            1   \n",
       "centroscomercialescercanos                                                  1   \n",
       "precio                                                                 310000   \n",
       "train                                                                    True   \n",
       "anio                                                                     2014   \n",
       "cuenta                                                                      0   \n",
       "planta                                                                      0   \n",
       "cuarto                                                                      0   \n",
       "tiene                                                                       0   \n",
       "baño                                                                        0   \n",
       "\n",
       "                                                                       9       \\\n",
       "id                                                                     134537   \n",
       "titulo                                                                terreno   \n",
       "descripcion                 terreno de 5.500m2 bardeado, uso de suelo h-20...   \n",
       "tipodepropiedad                                                       Terreno   \n",
       "direccion                                                         Av. Morelos   \n",
       "ciudad                                                             Ixtapaluca   \n",
       "provincia                                                      Edo. de México   \n",
       "antiguedad                                                                NaN   \n",
       "habitaciones                                                              NaN   \n",
       "garages                                                                   NaN   \n",
       "banos                                                                     NaN   \n",
       "metroscubiertos                                                           250   \n",
       "metrostotales                                                             NaN   \n",
       "idzona                                                                59171.0   \n",
       "lat                                                                    19.316   \n",
       "lng                                                                   -98.887   \n",
       "fecha                                                     2016-12-22 00:00:00   \n",
       "gimnasio                                                                    0   \n",
       "usosmultiples                                                               0   \n",
       "piscina                                                                     0   \n",
       "escuelascercanas                                                            0   \n",
       "centroscomercialescercanos                                                  0   \n",
       "precio                                                                6.2e+06   \n",
       "train                                                                    True   \n",
       "anio                                                                     2016   \n",
       "cuenta                                                                      0   \n",
       "planta                                                                      0   \n",
       "cuarto                                                                      0   \n",
       "tiene                                                                       0   \n",
       "baño                                                                        0   \n",
       "\n",
       "                            ...  \\\n",
       "id                          ...   \n",
       "titulo                      ...   \n",
       "descripcion                 ...   \n",
       "tipodepropiedad             ...   \n",
       "direccion                   ...   \n",
       "ciudad                      ...   \n",
       "provincia                   ...   \n",
       "antiguedad                  ...   \n",
       "habitaciones                ...   \n",
       "garages                     ...   \n",
       "banos                       ...   \n",
       "metroscubiertos             ...   \n",
       "metrostotales               ...   \n",
       "idzona                      ...   \n",
       "lat                         ...   \n",
       "lng                         ...   \n",
       "fecha                       ...   \n",
       "gimnasio                    ...   \n",
       "usosmultiples               ...   \n",
       "piscina                     ...   \n",
       "escuelascercanas            ...   \n",
       "centroscomercialescercanos  ...   \n",
       "precio                      ...   \n",
       "train                       ...   \n",
       "anio                        ...   \n",
       "cuenta                      ...   \n",
       "planta                      ...   \n",
       "cuarto                      ...   \n",
       "tiene                       ...   \n",
       "baño                        ...   \n",
       "\n",
       "                                                                       239990  \\\n",
       "id                                                                      87498   \n",
       "titulo                                      casa en venta: bosques del contry   \n",
       "descripcion                 <p>casa en venta, en magníficas condiciones; e...   \n",
       "tipodepropiedad                                                          Casa   \n",
       "direccion                                                                 NaN   \n",
       "ciudad                                                              Guadalupe   \n",
       "provincia                                                          Nuevo León   \n",
       "antiguedad                                                                 20   \n",
       "habitaciones                                                                3   \n",
       "garages                                                                     2   \n",
       "banos                                                                       1   \n",
       "metroscubiertos                                                           118   \n",
       "metrostotales                                                             124   \n",
       "idzona                                                                72083.0   \n",
       "lat                                                                   25.6612   \n",
       "lng                                                                  -100.251   \n",
       "fecha                                                     2014-04-12 00:00:00   \n",
       "gimnasio                                                                    0   \n",
       "usosmultiples                                                               0   \n",
       "piscina                                                                     0   \n",
       "escuelascercanas                                                            0   \n",
       "centroscomercialescercanos                                                  0   \n",
       "precio                                                              1.495e+06   \n",
       "train                                                                    True   \n",
       "anio                                                                     2014   \n",
       "cuenta                                                                      0   \n",
       "planta                                                                      0   \n",
       "cuarto                                                                      0   \n",
       "tiene                                                                       0   \n",
       "baño                                                                        0   \n",
       "\n",
       "                                                                       239991  \\\n",
       "id                                                                     137337   \n",
       "titulo                                        departamento residencial coyuya   \n",
       "descripcion                 departamento ubicado en planta baja, con excel...   \n",
       "tipodepropiedad                                                   Apartamento   \n",
       "direccion                                                          Coyuya 200   \n",
       "ciudad                                                              Iztacalco   \n",
       "provincia                                                    Distrito Federal   \n",
       "antiguedad                                                                 20   \n",
       "habitaciones                                                                2   \n",
       "garages                                                                     1   \n",
       "banos                                                                       1   \n",
       "metroscubiertos                                                            68   \n",
       "metrostotales                                                              68   \n",
       "idzona                                                                24118.0   \n",
       "lat                                                                   19.4033   \n",
       "lng                                                                   -99.119   \n",
       "fecha                                                     2015-03-14 00:00:00   \n",
       "gimnasio                                                                    0   \n",
       "usosmultiples                                                               0   \n",
       "piscina                                                                     0   \n",
       "escuelascercanas                                                            1   \n",
       "centroscomercialescercanos                                                  1   \n",
       "precio                                                               1.45e+06   \n",
       "train                                                                    True   \n",
       "anio                                                                     2015   \n",
       "cuenta                                                                      0   \n",
       "planta                                                                      0   \n",
       "cuarto                                                                      0   \n",
       "tiene                                                                       0   \n",
       "baño                                                                        0   \n",
       "\n",
       "                                                                       239992  \\\n",
       "id                                                                      54886   \n",
       "titulo                                                          casa en venta   \n",
       "descripcion                 bonita casa para remodelar en una calle cerrad...   \n",
       "tipodepropiedad                                            Casa en condominio   \n",
       "direccion                                             Cerrada villa Picadilly   \n",
       "ciudad                                                           Huixquilucan   \n",
       "provincia                                                      Edo. de México   \n",
       "antiguedad                                                                 10   \n",
       "habitaciones                                                                3   \n",
       "garages                                                                   NaN   \n",
       "banos                                                                       3   \n",
       "metroscubiertos                                                           270   \n",
       "metrostotales                                                             293   \n",
       "idzona                                                                55589.0   \n",
       "lat                                                                       NaN   \n",
       "lng                                                                       NaN   \n",
       "fecha                                                     2015-11-23 00:00:00   \n",
       "gimnasio                                                                    0   \n",
       "usosmultiples                                                               0   \n",
       "piscina                                                                     0   \n",
       "escuelascercanas                                                            1   \n",
       "centroscomercialescercanos                                                  1   \n",
       "precio                                                                5.5e+06   \n",
       "train                                                                    True   \n",
       "anio                                                                     2015   \n",
       "cuenta                                                                      0   \n",
       "planta                                                                      0   \n",
       "cuarto                                                                      0   \n",
       "tiene                                                                       0   \n",
       "baño                                                                        0   \n",
       "\n",
       "                                                                       239993  \\\n",
       "id                                                                     207892   \n",
       "titulo                                                   bugambilias (ciudad)   \n",
       "descripcion                 coto privado de tan solo 7 casas donde cada fa...   \n",
       "tipodepropiedad                                                          Casa   \n",
       "direccion                                                  Paseo de la Cañada   \n",
       "ciudad                                                                Zapopan   \n",
       "provincia                                                             Jalisco   \n",
       "antiguedad                                                                  1   \n",
       "habitaciones                                                                3   \n",
       "garages                                                                     2   \n",
       "banos                                                                       3   \n",
       "metroscubiertos                                                           150   \n",
       "metrostotales                                                             150   \n",
       "idzona                                                                48046.0   \n",
       "lat                                                                   20.6156   \n",
       "lng                                                                  -103.456   \n",
       "fecha                                                     2015-03-22 00:00:00   \n",
       "gimnasio                                                                    0   \n",
       "usosmultiples                                                               0   \n",
       "piscina                                                                     0   \n",
       "escuelascercanas                                                            0   \n",
       "centroscomercialescercanos                                                  0   \n",
       "precio                                                               1.65e+06   \n",
       "train                                                                    True   \n",
       "anio                                                                     2015   \n",
       "cuenta                                                                      0   \n",
       "planta                                                                      0   \n",
       "cuarto                                                                      0   \n",
       "tiene                                                                       0   \n",
       "baño                                                                        0   \n",
       "\n",
       "                                                                       239994  \\\n",
       "id                                                                     110268   \n",
       "titulo                                   hermosa casa en villa de los belenes   \n",
       "descripcion                 <p>moderna casa 3 pisos, muro llor&oacute;n , ...   \n",
       "tipodepropiedad                                                          Casa   \n",
       "direccion                   MANUEL AMAYA,ENTRE SEBASTIAN ALLENDE Y AMADO A...   \n",
       "ciudad                                                                Zapopan   \n",
       "provincia                                                             Jalisco   \n",
       "antiguedad                                                                  3   \n",
       "habitaciones                                                                2   \n",
       "garages                                                                     2   \n",
       "banos                                                                       2   \n",
       "metroscubiertos                                                           160   \n",
       "metrostotales                                                              90   \n",
       "idzona                                                                48029.0   \n",
       "lat                                                                   20.6045   \n",
       "lng                                                                   -103.45   \n",
       "fecha                                                     2013-07-31 00:00:00   \n",
       "gimnasio                                                                    0   \n",
       "usosmultiples                                                               0   \n",
       "piscina                                                                     0   \n",
       "escuelascercanas                                                            0   \n",
       "centroscomercialescercanos                                                  0   \n",
       "precio                                                               1.35e+06   \n",
       "train                                                                    True   \n",
       "anio                                                                     2013   \n",
       "cuenta                                                                      0   \n",
       "planta                                                                      0   \n",
       "cuarto                                                                      0   \n",
       "tiene                                                                       0   \n",
       "baño                                                                        0   \n",
       "\n",
       "                                                                       239995  \\\n",
       "id                                                                     119879   \n",
       "titulo                      bonita casas de 2 recamaras a 10 minutos del c...   \n",
       "descripcion                 vendo casa en bosques de ica residencial a 10 ...   \n",
       "tipodepropiedad                                                          Casa   \n",
       "direccion                                                             BOSQUES   \n",
       "ciudad                                                           Zinacantepec   \n",
       "provincia                                                      Edo. de México   \n",
       "antiguedad                                                                  0   \n",
       "habitaciones                                                                2   \n",
       "garages                                                                     2   \n",
       "banos                                                                       1   \n",
       "metroscubiertos                                                            67   \n",
       "metrostotales                                                             NaN   \n",
       "idzona                                                                53666.0   \n",
       "lat                                                                       NaN   \n",
       "lng                                                                       NaN   \n",
       "fecha                                                     2015-02-08 00:00:00   \n",
       "gimnasio                                                                    0   \n",
       "usosmultiples                                                               0   \n",
       "piscina                                                                     0   \n",
       "escuelascercanas                                                            0   \n",
       "centroscomercialescercanos                                                  0   \n",
       "precio                                                                 650000   \n",
       "train                                                                    True   \n",
       "anio                                                                     2015   \n",
       "cuenta                                                                      0   \n",
       "planta                                                                      0   \n",
       "cuarto                                                                      0   \n",
       "tiene                                                                       0   \n",
       "baño                                                                        0   \n",
       "\n",
       "                                                                       239996  \\\n",
       "id                                                                     259178   \n",
       "titulo                      casa en condominio a 10 min. del centro de toluca   \n",
       "descripcion                 casa con un jardin amplio, un cuarto de servic...   \n",
       "tipodepropiedad                                                          Casa   \n",
       "direccion                                                 Filiberto Navas 325   \n",
       "ciudad                                                                 Toluca   \n",
       "provincia                                                      Edo. de México   \n",
       "antiguedad                                                                  0   \n",
       "habitaciones                                                                3   \n",
       "garages                                                                     3   \n",
       "banos                                                                       3   \n",
       "metroscubiertos                                                           200   \n",
       "metrostotales                                                             250   \n",
       "idzona                                                                51954.0   \n",
       "lat                                                                   19.2947   \n",
       "lng                                                                  -99.6929   \n",
       "fecha                                                     2014-07-10 00:00:00   \n",
       "gimnasio                                                                    0   \n",
       "usosmultiples                                                               0   \n",
       "piscina                                                                     0   \n",
       "escuelascercanas                                                            1   \n",
       "centroscomercialescercanos                                                  1   \n",
       "precio                                                               1.94e+06   \n",
       "train                                                                    True   \n",
       "anio                                                                     2014   \n",
       "cuenta                                                                      0   \n",
       "planta                                                                      0   \n",
       "cuarto                                                                      0   \n",
       "tiene                                                                       0   \n",
       "baño                                                                        0   \n",
       "\n",
       "                                                                       239997  \\\n",
       "id                                                                     131932   \n",
       "titulo                                                       nicolas san juan   \n",
       "descripcion                 departamento con excelente ubicación, muy cerc...   \n",
       "tipodepropiedad                                                   Apartamento   \n",
       "direccion                                                    Nicolas San Juan   \n",
       "ciudad                                                          Benito Juárez   \n",
       "provincia                                                    Distrito Federal   \n",
       "antiguedad                                                                 20   \n",
       "habitaciones                                                                2   \n",
       "garages                                                                     1   \n",
       "banos                                                                       2   \n",
       "metroscubiertos                                                           138   \n",
       "metrostotales                                                             138   \n",
       "idzona                                                             50003995.0   \n",
       "lat                                                                       NaN   \n",
       "lng                                                                       NaN   \n",
       "fecha                                                     2015-03-03 00:00:00   \n",
       "gimnasio                                                                    0   \n",
       "usosmultiples                                                               0   \n",
       "piscina                                                                     0   \n",
       "escuelascercanas                                                            0   \n",
       "centroscomercialescercanos                                                  0   \n",
       "precio                                                                3.4e+06   \n",
       "train                                                                    True   \n",
       "anio                                                                     2015   \n",
       "cuenta                                                                      0   \n",
       "planta                                                                      0   \n",
       "cuarto                                                                      0   \n",
       "tiene                                                                       0   \n",
       "baño                                                                        0   \n",
       "\n",
       "                                                                       239998  \\\n",
       "id                                                                     146867   \n",
       "titulo                                          casa sola. javier rojo gomez.   \n",
       "descripcion                 casa sola, dividida en cuatro departamentos de...   \n",
       "tipodepropiedad                                                          Casa   \n",
       "direccion                                               Javier Rojo Gomez 120   \n",
       "ciudad                                                             Iztapalapa   \n",
       "provincia                                                    Distrito Federal   \n",
       "antiguedad                                                                 20   \n",
       "habitaciones                                                                4   \n",
       "garages                                                                     0   \n",
       "banos                                                                       4   \n",
       "metroscubiertos                                                           235   \n",
       "metrostotales                                                             137   \n",
       "idzona                                                                24162.0   \n",
       "lat                                                                   19.3667   \n",
       "lng                                                                  -99.0822   \n",
       "fecha                                                     2014-12-26 00:00:00   \n",
       "gimnasio                                                                    1   \n",
       "usosmultiples                                                               0   \n",
       "piscina                                                                     0   \n",
       "escuelascercanas                                                            1   \n",
       "centroscomercialescercanos                                                  1   \n",
       "precio                                                               2.89e+06   \n",
       "train                                                                    True   \n",
       "anio                                                                     2014   \n",
       "cuenta                                                                      0   \n",
       "planta                                                                      0   \n",
       "cuarto                                                                      0   \n",
       "tiene                                                                       0   \n",
       "baño                                                                        1   \n",
       "\n",
       "                                                                       239999  \n",
       "id                                                                     121958  \n",
       "titulo                      departamento en bosques de las lomas  / av. st...  \n",
       "descripcion                 id:19816, muy bonito e iluminado departamento,...  \n",
       "tipodepropiedad                                                   Apartamento  \n",
       "direccion                                                           AVE. STIM  \n",
       "ciudad                                                  Cuajimalpa de Morelos  \n",
       "provincia                                                    Distrito Federal  \n",
       "antiguedad                                                                  1  \n",
       "habitaciones                                                                3  \n",
       "garages                                                                     2  \n",
       "banos                                                                       2  \n",
       "metroscubiertos                                                           149  \n",
       "metrostotales                                                             NaN  \n",
       "idzona                                                                23750.0  \n",
       "lat                                                                       NaN  \n",
       "lng                                                                       NaN  \n",
       "fecha                                                     2015-06-19 00:00:00  \n",
       "gimnasio                                                                    0  \n",
       "usosmultiples                                                               0  \n",
       "piscina                                                                     0  \n",
       "escuelascercanas                                                            0  \n",
       "centroscomercialescercanos                                                  0  \n",
       "precio                                                               3.65e+06  \n",
       "train                                                                    True  \n",
       "anio                                                                     2015  \n",
       "cuenta                                                                      0  \n",
       "planta                                                                      0  \n",
       "cuarto                                                                      0  \n",
       "tiene                                                                       0  \n",
       "baño                                                                        0  \n",
       "\n",
       "[30 rows x 240000 columns]"
      ]
     },
     "execution_count": 656,
     "metadata": {},
     "output_type": "execute_result"
    }
   ],
   "source": [
    "desc_merged.transpose()"
   ]
  },
  {
   "cell_type": "code",
   "execution_count": 657,
   "metadata": {},
   "outputs": [],
   "source": [
    "train_set = train_set.merge(desc_merged[['cuenta', 'planta', 'cuarto', 'tiene', 'baño', 'id']], on = 'id', how = 'left')\n",
    "test_set = test_set.merge(desc_merged[['cuenta', 'planta', 'cuarto', 'tiene', 'baño', 'id']], on = 'id', how = 'left')"
   ]
  },
  {
   "cell_type": "code",
   "execution_count": 658,
   "metadata": {},
   "outputs": [],
   "source": [
    "for col_name in ['cuenta', 'planta', 'cuarto', 'tiene', 'baño']:\n",
    "    train_set[col_name].fillna(0,inplace=True)\n",
    "    test_set[col_name].fillna(0,inplace=True)"
   ]
  },
  {
   "cell_type": "markdown",
   "metadata": {},
   "source": [
    "### Feature: total de antiguedad por anio"
   ]
  },
  {
   "cell_type": "code",
   "execution_count": 659,
   "metadata": {},
   "outputs": [],
   "source": [
    "# data.transpose()"
   ]
  },
  {
   "cell_type": "code",
   "execution_count": 660,
   "metadata": {},
   "outputs": [],
   "source": [
    "# ant = data\n",
    "# ant['count'] = 1\n",
    "# ant = ant.groupby(by='antiguedad').sum()[['count','habitaciones','id']]\n",
    "#ant.sort_values(ascending=False).tail(5)\n",
    "# ant = ant.reset_index()\n",
    "# ant.head()"
   ]
  },
  {
   "cell_type": "code",
   "execution_count": 661,
   "metadata": {},
   "outputs": [],
   "source": [
    "# def hab_ant(row):\n",
    "#     if(row['antiguedad'] <= 10 ):\n",
    "#         return row['count'] * 1\n",
    "#     return row['habitaciones'] * 0.5"
   ]
  },
  {
   "cell_type": "code",
   "execution_count": 662,
   "metadata": {},
   "outputs": [],
   "source": [
    "# ant2 = ant\n",
    "# ant2['c_hab_ant'] = ant2.apply(hab_ant,axis=1)\n",
    "# ant2.head(15)"
   ]
  },
  {
   "cell_type": "code",
   "execution_count": 663,
   "metadata": {},
   "outputs": [],
   "source": [
    "# data = data.drop(columns='count')"
   ]
  },
  {
   "cell_type": "code",
   "execution_count": 664,
   "metadata": {},
   "outputs": [],
   "source": [
    "# ant3 = ant2[['c_hab_ant','antiguedad']]\n",
    "# ant3.head()"
   ]
  },
  {
   "cell_type": "code",
   "execution_count": 665,
   "metadata": {},
   "outputs": [],
   "source": [
    "# train_set = train_set.merge(ant3,on = 'antiguedad',how = 'left')\n",
    "# train_set.transpose()"
   ]
  },
  {
   "cell_type": "code",
   "execution_count": 666,
   "metadata": {},
   "outputs": [],
   "source": [
    "# test_set = test_set.merge(ant3,on = 'antiguedad',how = 'left')\n",
    "# test_set.transpose()"
   ]
  },
  {
   "cell_type": "markdown",
   "metadata": {},
   "source": [
    "### Feature: antiguedad por provincia"
   ]
  },
  {
   "cell_type": "code",
   "execution_count": 667,
   "metadata": {},
   "outputs": [],
   "source": [
    "# data.transpose()"
   ]
  },
  {
   "cell_type": "code",
   "execution_count": 668,
   "metadata": {},
   "outputs": [],
   "source": [
    "#Mergea el la columna indicada en 'on', tomando el df pasado como parámetro(df_to_use)\n",
    "#how_feature indica que tipo de join se hace.\n",
    "#El merge lo hace sobre 'train_set' y 'test_set'\n",
    "# def merge_df(df_to_use, on_feature,how_feature):\n",
    "#     print(\"dataframe a usar:\"+str(df_to_use))\n",
    "#     print(\"feature a usar:\"+on_feature)\n",
    "   # print(\"[test_set] Cantidad init: \"+str(len(test_set.columns)))\n",
    "    #print(\"[train_set] Cantidad init: \"+str(len(train_set.columns)))\n",
    "#     test_set.merge(df_to_use, on = on_feature, how = how_feature)\n",
    "#     train_set.merge(df_to_use, on = on_feature, how = how_feature)\n",
    "    #print(\"[test_set] Cantidad init: \"+str(len(test_set.columns)))\n",
    "    #print(\"[train_set] Cantidad init: \"+str(len(train_set.columns)))"
   ]
  },
  {
   "cell_type": "code",
   "execution_count": 669,
   "metadata": {},
   "outputs": [],
   "source": [
    "# df = data.groupby(by = 'provincia').agg({'antiguedad':'mean'}).reset_index()\n",
    "# df.sort_values(['antiguedad'], ascending = False, inplace = True)\n",
    "# df=df.rename(columns={\"antiguedad\":\"antiguedad_prov\"})\n",
    "# df.head()\n",
    "\n",
    "# data = data.merge(df,on='provincia',how='inner')\n",
    "# data.transpose()"
   ]
  },
  {
   "cell_type": "code",
   "execution_count": 670,
   "metadata": {},
   "outputs": [],
   "source": [
    "# train_set.head()"
   ]
  },
  {
   "cell_type": "code",
   "execution_count": 671,
   "metadata": {},
   "outputs": [],
   "source": [
    "# train_set = train_set.merge(data[['id','antiguedad_prov']], on = 'id', how = 'left')\n",
    "# test_set = test_set.merge(data[['id','antiguedad_prov']], on = 'id', how = 'left')\n",
    "\n",
    "# train_set.transpose()"
   ]
  },
  {
   "cell_type": "code",
   "execution_count": 672,
   "metadata": {},
   "outputs": [],
   "source": [
    "# test_set.transpose()"
   ]
  },
  {
   "cell_type": "markdown",
   "metadata": {},
   "source": [
    "### Feature: Usos multiples piscina gimnasio según tipo de casa"
   ]
  },
  {
   "cell_type": "code",
   "execution_count": 673,
   "metadata": {},
   "outputs": [],
   "source": [
    "# data.head(1)"
   ]
  },
  {
   "cell_type": "code",
   "execution_count": 674,
   "metadata": {},
   "outputs": [],
   "source": [
    "# usos = data[['id','gimnasio','piscina','usosmultiples']]"
   ]
  },
  {
   "cell_type": "code",
   "execution_count": 675,
   "metadata": {},
   "outputs": [],
   "source": [
    "# def factor_usos2(row):\n",
    "#     print(row)"
   ]
  },
  {
   "cell_type": "code",
   "execution_count": 676,
   "metadata": {},
   "outputs": [],
   "source": [
    "# def factor_usos(row):\n",
    "#     factor = 0\n",
    "#     if(row['gimnasio'] == 1):\n",
    "#         factor = factor + 0.1\n",
    "#     if(row['piscina'] == 1):\n",
    "#         factor = factor + 0.1\n",
    "#     if(row['usosmultiples'] == 1):\n",
    "#         factor = factor + 0.1\n",
    "#     return factor"
   ]
  },
  {
   "cell_type": "code",
   "execution_count": 677,
   "metadata": {},
   "outputs": [],
   "source": [
    "# usos.head()"
   ]
  },
  {
   "cell_type": "code",
   "execution_count": 678,
   "metadata": {},
   "outputs": [],
   "source": [
    "#usos['factor_usos'] = usos.apply(factor_usos,axis=1)"
   ]
  },
  {
   "cell_type": "code",
   "execution_count": 679,
   "metadata": {},
   "outputs": [],
   "source": [
    "#train_set = train_set.merge(usos[['id','factor_usos']], on = 'id', how = 'left')\n",
    "#test_set = test_set.merge(usos[['id','factor_usos']], on = 'id', how = 'left')"
   ]
  },
  {
   "cell_type": "markdown",
   "metadata": {},
   "source": [
    "### Feature: Relación existe entre el precio, los metros cuadrados y la cantidad de habitaciones de los departamentos"
   ]
  },
  {
   "cell_type": "code",
   "execution_count": 680,
   "metadata": {},
   "outputs": [],
   "source": [
    "# Seteamos el precio en dolares\n",
    "# prop = data\n",
    "# cotizacion_hoy = 19.55\n",
    "# prop['precio_USD'] = prop['precio'] / cotizacion_hoy\n",
    "\n",
    "# print(prop['precio_USD'].head(2))\n",
    "# print(prop['precio'].head(2))\n",
    "\n",
    "# prop['precioXmt'] = prop['precio_USD']/prop['metrostotales']"
   ]
  },
  {
   "cell_type": "code",
   "execution_count": 681,
   "metadata": {},
   "outputs": [],
   "source": [
    "# deptos = prop[prop['tipodepropiedad'] == 'Apartamento']\n",
    "# deptos[['antiguedad','precioXmt','metrostotales','precio_USD','habitaciones']].describe()\n",
    "# Vemos que el 75% de los departamentos tiene hasta 3 habitaciones"
   ]
  },
  {
   "cell_type": "code",
   "execution_count": 682,
   "metadata": {},
   "outputs": [],
   "source": [
    "# (prop.groupby('habitaciones').count()['id'])/prop['habitaciones'].count()*100\n",
    "# r = deptos[['id','precioXmt','metrostotales','habitaciones']]\n",
    "# Sacamos los NaN\n",
    "# r = r[~r['metrostotales'].isna()]\n",
    "# Sacamos los que tienen menos de max_hab habitaciones, ya que son casos aislados\n",
    "# max_hab = 5\n",
    "# r = r[r['habitaciones'] < max_hab]\n",
    "# r.head()"
   ]
  },
  {
   "cell_type": "code",
   "execution_count": 683,
   "metadata": {},
   "outputs": [],
   "source": [
    "# desc=r.sort_values(by=['precioXmt'],ascending=False).describe()"
   ]
  },
  {
   "cell_type": "code",
   "execution_count": 684,
   "metadata": {},
   "outputs": [],
   "source": [
    "# desc"
   ]
  },
  {
   "cell_type": "code",
   "execution_count": 685,
   "metadata": {},
   "outputs": [],
   "source": [
    "# mean_precioxmt = desc.loc['mean','precioXmt']"
   ]
  },
  {
   "cell_type": "code",
   "execution_count": 686,
   "metadata": {},
   "outputs": [],
   "source": [
    "# def factor_precioXmt(row):\n",
    "#     print(row)\n",
    "#     if(row > mean_precioxmt):\n",
    "#         return 1\n",
    "#     return 0.5"
   ]
  },
  {
   "cell_type": "code",
   "execution_count": 687,
   "metadata": {},
   "outputs": [],
   "source": [
    "# r.iloc[0,0] > mean_precioxmt"
   ]
  },
  {
   "cell_type": "code",
   "execution_count": 688,
   "metadata": {},
   "outputs": [],
   "source": [
    "# r['factor_precioXmt'] = r['precioXmt'].apply(factor_precioXmt)\n",
    "#r.transpose().head()"
   ]
  },
  {
   "cell_type": "code",
   "execution_count": 689,
   "metadata": {},
   "outputs": [],
   "source": [
    "# r.head()"
   ]
  },
  {
   "cell_type": "code",
   "execution_count": 690,
   "metadata": {},
   "outputs": [],
   "source": [
    "# test_set.transpose()"
   ]
  },
  {
   "cell_type": "code",
   "execution_count": 691,
   "metadata": {},
   "outputs": [],
   "source": [
    "#train_set = train_set.merge(r[['id','factor_precioXmt']], on = 'id', how = 'left')\n",
    "#test_set = test_set.merge(r[['id','factor_precioXmt']], on = 'id', how = 'left')"
   ]
  },
  {
   "cell_type": "code",
   "execution_count": 692,
   "metadata": {},
   "outputs": [],
   "source": [
    "#test_set.transpose()"
   ]
  },
  {
   "cell_type": "code",
   "execution_count": 693,
   "metadata": {},
   "outputs": [],
   "source": [
    "# Con los nan da mejores resultados!\n",
    "#train_set = train_set.dropna(0)\n",
    "#train_set.replace(0, np.nan, inplace=True)\n",
    "#train_set.head()"
   ]
  },
  {
   "cell_type": "code",
   "execution_count": 694,
   "metadata": {},
   "outputs": [],
   "source": [
    "#test_set = test_set.dropna(0)\n",
    "#test_set.replace(0, np.nan, inplace=True)\n",
    "#test_set.head()"
   ]
  },
  {
   "cell_type": "markdown",
   "metadata": {},
   "source": [
    "# Se exporta para entrenar"
   ]
  },
  {
   "cell_type": "markdown",
   "metadata": {},
   "source": [
    "## Se sacan las columnas 'id' de train_set"
   ]
  },
  {
   "cell_type": "code",
   "execution_count": 695,
   "metadata": {},
   "outputs": [],
   "source": [
    "#test_set = test_set.loc[:,test_set.columns != 'id']\n",
    "train_set = train_set.loc[:,train_set.columns != 'id']"
   ]
  },
  {
   "cell_type": "markdown",
   "metadata": {},
   "source": [
    "## Remuevo la provincia del set de datos"
   ]
  },
  {
   "cell_type": "code",
   "execution_count": 696,
   "metadata": {},
   "outputs": [],
   "source": [
    "test_set = test_set.loc[:,test_set.columns != 'provincia']\n",
    "train_set = train_set.loc[:,train_set.columns != 'provincia']"
   ]
  },
  {
   "cell_type": "markdown",
   "metadata": {},
   "source": [
    "## Remuevo la ciudad del set de datos"
   ]
  },
  {
   "cell_type": "code",
   "execution_count": 697,
   "metadata": {},
   "outputs": [],
   "source": [
    "test_set = test_set.loc[:,test_set.columns != 'ciudad']\n",
    "train_set = train_set.loc[:,train_set.columns != 'ciudad']"
   ]
  },
  {
   "cell_type": "markdown",
   "metadata": {},
   "source": [
    "## NO hace falta eliminar NULLs"
   ]
  },
  {
   "cell_type": "code",
   "execution_count": 698,
   "metadata": {},
   "outputs": [
    {
     "data": {
      "text/plain": [
       "240000"
      ]
     },
     "execution_count": 698,
     "metadata": {},
     "output_type": "execute_result"
    }
   ],
   "source": [
    "len(train_set)"
   ]
  },
  {
   "cell_type": "code",
   "execution_count": 699,
   "metadata": {},
   "outputs": [],
   "source": [
    "train_set.to_csv(\"train_set_xgb.csv\", index = False)"
   ]
  },
  {
   "cell_type": "code",
   "execution_count": 700,
   "metadata": {},
   "outputs": [
    {
     "data": {
      "text/html": [
       "<div>\n",
       "<style scoped>\n",
       "    .dataframe tbody tr th:only-of-type {\n",
       "        vertical-align: middle;\n",
       "    }\n",
       "\n",
       "    .dataframe tbody tr th {\n",
       "        vertical-align: top;\n",
       "    }\n",
       "\n",
       "    .dataframe thead th {\n",
       "        text-align: right;\n",
       "    }\n",
       "</style>\n",
       "<table border=\"1\" class=\"dataframe\">\n",
       "  <thead>\n",
       "    <tr style=\"text-align: right;\">\n",
       "      <th></th>\n",
       "      <th>id</th>\n",
       "      <th>antiguedad</th>\n",
       "      <th>habitaciones</th>\n",
       "      <th>garages</th>\n",
       "      <th>banos</th>\n",
       "      <th>metroscubiertos</th>\n",
       "      <th>metrostotales</th>\n",
       "      <th>idzona</th>\n",
       "      <th>lat</th>\n",
       "      <th>lng</th>\n",
       "      <th>...</th>\n",
       "      <th>ciudad_7</th>\n",
       "      <th>ciudad_8</th>\n",
       "      <th>ciudad_9</th>\n",
       "      <th>ciudad_10</th>\n",
       "      <th>anio_publ</th>\n",
       "      <th>cuenta</th>\n",
       "      <th>planta</th>\n",
       "      <th>cuarto</th>\n",
       "      <th>tiene</th>\n",
       "      <th>baño</th>\n",
       "    </tr>\n",
       "  </thead>\n",
       "  <tbody>\n",
       "    <tr>\n",
       "      <th>0</th>\n",
       "      <td>4941</td>\n",
       "      <td>29.0</td>\n",
       "      <td>3.0</td>\n",
       "      <td>NaN</td>\n",
       "      <td>4.0</td>\n",
       "      <td>300.0</td>\n",
       "      <td>NaN</td>\n",
       "      <td>NaN</td>\n",
       "      <td>19.408668</td>\n",
       "      <td>-99.246767</td>\n",
       "      <td>...</td>\n",
       "      <td>0</td>\n",
       "      <td>1</td>\n",
       "      <td>0</td>\n",
       "      <td>0</td>\n",
       "      <td>2013</td>\n",
       "      <td>0.0</td>\n",
       "      <td>0.0</td>\n",
       "      <td>0.0</td>\n",
       "      <td>0.0</td>\n",
       "      <td>0.0</td>\n",
       "    </tr>\n",
       "    <tr>\n",
       "      <th>1</th>\n",
       "      <td>51775</td>\n",
       "      <td>NaN</td>\n",
       "      <td>1.0</td>\n",
       "      <td>1.0</td>\n",
       "      <td>1.0</td>\n",
       "      <td>67.0</td>\n",
       "      <td>67.0</td>\n",
       "      <td>113851.0</td>\n",
       "      <td>21.032480</td>\n",
       "      <td>-89.592424</td>\n",
       "      <td>...</td>\n",
       "      <td>0</td>\n",
       "      <td>1</td>\n",
       "      <td>0</td>\n",
       "      <td>1</td>\n",
       "      <td>2015</td>\n",
       "      <td>0.0</td>\n",
       "      <td>0.0</td>\n",
       "      <td>0.0</td>\n",
       "      <td>0.0</td>\n",
       "      <td>0.0</td>\n",
       "    </tr>\n",
       "    <tr>\n",
       "      <th>2</th>\n",
       "      <td>115253</td>\n",
       "      <td>0.0</td>\n",
       "      <td>2.0</td>\n",
       "      <td>1.0</td>\n",
       "      <td>2.0</td>\n",
       "      <td>87.0</td>\n",
       "      <td>100.0</td>\n",
       "      <td>23620.0</td>\n",
       "      <td>19.332829</td>\n",
       "      <td>-99.152913</td>\n",
       "      <td>...</td>\n",
       "      <td>0</td>\n",
       "      <td>1</td>\n",
       "      <td>1</td>\n",
       "      <td>0</td>\n",
       "      <td>2015</td>\n",
       "      <td>0.0</td>\n",
       "      <td>0.0</td>\n",
       "      <td>0.0</td>\n",
       "      <td>0.0</td>\n",
       "      <td>0.0</td>\n",
       "    </tr>\n",
       "    <tr>\n",
       "      <th>3</th>\n",
       "      <td>299321</td>\n",
       "      <td>2.0</td>\n",
       "      <td>2.0</td>\n",
       "      <td>2.0</td>\n",
       "      <td>2.0</td>\n",
       "      <td>86.0</td>\n",
       "      <td>86.0</td>\n",
       "      <td>129347.0</td>\n",
       "      <td>16.860487</td>\n",
       "      <td>-99.878383</td>\n",
       "      <td>...</td>\n",
       "      <td>1</td>\n",
       "      <td>0</td>\n",
       "      <td>1</td>\n",
       "      <td>1</td>\n",
       "      <td>2015</td>\n",
       "      <td>0.0</td>\n",
       "      <td>0.0</td>\n",
       "      <td>0.0</td>\n",
       "      <td>0.0</td>\n",
       "      <td>0.0</td>\n",
       "    </tr>\n",
       "    <tr>\n",
       "      <th>4</th>\n",
       "      <td>173570</td>\n",
       "      <td>10.0</td>\n",
       "      <td>2.0</td>\n",
       "      <td>1.0</td>\n",
       "      <td>1.0</td>\n",
       "      <td>80.0</td>\n",
       "      <td>76.0</td>\n",
       "      <td>57125.0</td>\n",
       "      <td>19.640482</td>\n",
       "      <td>-99.127273</td>\n",
       "      <td>...</td>\n",
       "      <td>0</td>\n",
       "      <td>1</td>\n",
       "      <td>0</td>\n",
       "      <td>0</td>\n",
       "      <td>2013</td>\n",
       "      <td>0.0</td>\n",
       "      <td>0.0</td>\n",
       "      <td>0.0</td>\n",
       "      <td>0.0</td>\n",
       "      <td>0.0</td>\n",
       "    </tr>\n",
       "  </tbody>\n",
       "</table>\n",
       "<p>5 rows × 89 columns</p>\n",
       "</div>"
      ],
      "text/plain": [
       "       id  antiguedad  habitaciones  garages  banos  metroscubiertos  \\\n",
       "0    4941        29.0           3.0      NaN    4.0            300.0   \n",
       "1   51775         NaN           1.0      1.0    1.0             67.0   \n",
       "2  115253         0.0           2.0      1.0    2.0             87.0   \n",
       "3  299321         2.0           2.0      2.0    2.0             86.0   \n",
       "4  173570        10.0           2.0      1.0    1.0             80.0   \n",
       "\n",
       "   metrostotales    idzona        lat        lng  ...  ciudad_7  ciudad_8  \\\n",
       "0            NaN       NaN  19.408668 -99.246767  ...         0         1   \n",
       "1           67.0  113851.0  21.032480 -89.592424  ...         0         1   \n",
       "2          100.0   23620.0  19.332829 -99.152913  ...         0         1   \n",
       "3           86.0  129347.0  16.860487 -99.878383  ...         1         0   \n",
       "4           76.0   57125.0  19.640482 -99.127273  ...         0         1   \n",
       "\n",
       "   ciudad_9  ciudad_10  anio_publ  cuenta  planta  cuarto  tiene  baño  \n",
       "0         0          0       2013     0.0     0.0     0.0    0.0   0.0  \n",
       "1         0          1       2015     0.0     0.0     0.0    0.0   0.0  \n",
       "2         1          0       2015     0.0     0.0     0.0    0.0   0.0  \n",
       "3         1          1       2015     0.0     0.0     0.0    0.0   0.0  \n",
       "4         0          0       2013     0.0     0.0     0.0    0.0   0.0  \n",
       "\n",
       "[5 rows x 89 columns]"
      ]
     },
     "execution_count": 700,
     "metadata": {},
     "output_type": "execute_result"
    }
   ],
   "source": [
    "test_set.head()"
   ]
  },
  {
   "cell_type": "code",
   "execution_count": 701,
   "metadata": {},
   "outputs": [
    {
     "data": {
      "text/plain": [
       "60000"
      ]
     },
     "execution_count": 701,
     "metadata": {},
     "output_type": "execute_result"
    }
   ],
   "source": [
    "len(test_set)"
   ]
  },
  {
   "cell_type": "code",
   "execution_count": 702,
   "metadata": {},
   "outputs": [],
   "source": [
    "test_set.to_csv(\"test_set_xgb.csv\", index = False)"
   ]
  }
 ],
 "metadata": {
  "kernelspec": {
   "display_name": "Python 3",
   "language": "python",
   "name": "python3"
  },
  "language_info": {
   "codemirror_mode": {
    "name": "ipython",
    "version": 3
   },
   "file_extension": ".py",
   "mimetype": "text/x-python",
   "name": "python",
   "nbconvert_exporter": "python",
   "pygments_lexer": "ipython3",
   "version": "3.5.2"
  }
 },
 "nbformat": 4,
 "nbformat_minor": 4
}
