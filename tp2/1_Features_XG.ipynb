{
 "cells": [
  {
   "cell_type": "code",
   "execution_count": 72,
   "metadata": {},
   "outputs": [],
   "source": [
    "import csv\n",
    "import pandas as pd\n",
    "import numpy as np\n",
    "from datetime import datetime\n",
    "import seaborn as sns\n",
    "import matplotlib.pyplot as plt\n",
    "import sklearn\n",
    "from sklearn.ensemble import RandomForestRegressor\n",
    "from sklearn.metrics import mean_squared_log_error\n",
    "# Importamos utilidades y modelos de sklearn\n",
    "from sklearn.preprocessing import Imputer\n",
    "from sklearn.model_selection import train_test_split\n",
    "from sklearn.dummy import DummyRegressor\n",
    "from sklearn.linear_model import LinearRegression\n",
    "from sklearn.tree import DecisionTreeRegressor"
   ]
  },
  {
   "cell_type": "code",
   "execution_count": 73,
   "metadata": {},
   "outputs": [
    {
     "data": {
      "text/html": [
       "<div>\n",
       "<style scoped>\n",
       "    .dataframe tbody tr th:only-of-type {\n",
       "        vertical-align: middle;\n",
       "    }\n",
       "\n",
       "    .dataframe tbody tr th {\n",
       "        vertical-align: top;\n",
       "    }\n",
       "\n",
       "    .dataframe thead th {\n",
       "        text-align: right;\n",
       "    }\n",
       "</style>\n",
       "<table border=\"1\" class=\"dataframe\">\n",
       "  <thead>\n",
       "    <tr style=\"text-align: right;\">\n",
       "      <th></th>\n",
       "      <th>id</th>\n",
       "      <th>titulo</th>\n",
       "      <th>descripcion</th>\n",
       "      <th>tipodepropiedad</th>\n",
       "      <th>direccion</th>\n",
       "      <th>ciudad</th>\n",
       "      <th>provincia</th>\n",
       "      <th>antiguedad</th>\n",
       "      <th>habitaciones</th>\n",
       "      <th>garages</th>\n",
       "      <th>...</th>\n",
       "      <th>idzona</th>\n",
       "      <th>lat</th>\n",
       "      <th>lng</th>\n",
       "      <th>fecha</th>\n",
       "      <th>gimnasio</th>\n",
       "      <th>usosmultiples</th>\n",
       "      <th>piscina</th>\n",
       "      <th>escuelascercanas</th>\n",
       "      <th>centroscomercialescercanos</th>\n",
       "      <th>precio</th>\n",
       "    </tr>\n",
       "  </thead>\n",
       "  <tbody>\n",
       "    <tr>\n",
       "      <td>0</td>\n",
       "      <td>254099</td>\n",
       "      <td>depto. tipo a-402</td>\n",
       "      <td>depto. interior de 80.15m2, consta de sala com...</td>\n",
       "      <td>Apartamento</td>\n",
       "      <td>Avenida Division del Norte 2005</td>\n",
       "      <td>Benito Juárez</td>\n",
       "      <td>Distrito Federal</td>\n",
       "      <td>NaN</td>\n",
       "      <td>2.0</td>\n",
       "      <td>1.0</td>\n",
       "      <td>...</td>\n",
       "      <td>23533.0</td>\n",
       "      <td>NaN</td>\n",
       "      <td>NaN</td>\n",
       "      <td>2015-08-23 00:00:00</td>\n",
       "      <td>0.0</td>\n",
       "      <td>0.0</td>\n",
       "      <td>0.0</td>\n",
       "      <td>0.0</td>\n",
       "      <td>0.0</td>\n",
       "      <td>2273000.0</td>\n",
       "    </tr>\n",
       "    <tr>\n",
       "      <td>1</td>\n",
       "      <td>53461</td>\n",
       "      <td>condominio horizontal en venta</td>\n",
       "      <td>&lt;p&gt;entre sonora y guerrero, atr&amp;aacute;s del h...</td>\n",
       "      <td>Casa en condominio</td>\n",
       "      <td>AV. MEXICO</td>\n",
       "      <td>La Magdalena Contreras</td>\n",
       "      <td>Distrito Federal</td>\n",
       "      <td>10.0</td>\n",
       "      <td>3.0</td>\n",
       "      <td>2.0</td>\n",
       "      <td>...</td>\n",
       "      <td>24514.0</td>\n",
       "      <td>19.310205</td>\n",
       "      <td>-99.227655</td>\n",
       "      <td>2013-06-28 00:00:00</td>\n",
       "      <td>0.0</td>\n",
       "      <td>0.0</td>\n",
       "      <td>0.0</td>\n",
       "      <td>1.0</td>\n",
       "      <td>1.0</td>\n",
       "      <td>3600000.0</td>\n",
       "    </tr>\n",
       "    <tr>\n",
       "      <td>2</td>\n",
       "      <td>247984</td>\n",
       "      <td>casa en venta urbi 3 recamaras tonala</td>\n",
       "      <td>descripcion \\nla mejor ubicacion residencial e...</td>\n",
       "      <td>Casa</td>\n",
       "      <td>Urbi Tonala</td>\n",
       "      <td>Tonalá</td>\n",
       "      <td>Jalisco</td>\n",
       "      <td>5.0</td>\n",
       "      <td>3.0</td>\n",
       "      <td>2.0</td>\n",
       "      <td>...</td>\n",
       "      <td>48551.0</td>\n",
       "      <td>NaN</td>\n",
       "      <td>NaN</td>\n",
       "      <td>2015-10-17 00:00:00</td>\n",
       "      <td>0.0</td>\n",
       "      <td>0.0</td>\n",
       "      <td>0.0</td>\n",
       "      <td>0.0</td>\n",
       "      <td>0.0</td>\n",
       "      <td>1200000.0</td>\n",
       "    </tr>\n",
       "    <tr>\n",
       "      <td>3</td>\n",
       "      <td>209067</td>\n",
       "      <td>casa sola en toluca zinacantepec con credito i...</td>\n",
       "      <td>casa en privada con caseta de vigilancia casas...</td>\n",
       "      <td>Casa</td>\n",
       "      <td>IGNACIO MANUEL ALTAMIRANO 128</td>\n",
       "      <td>Zinacantepec</td>\n",
       "      <td>Edo. de México</td>\n",
       "      <td>1.0</td>\n",
       "      <td>2.0</td>\n",
       "      <td>1.0</td>\n",
       "      <td>...</td>\n",
       "      <td>53666.0</td>\n",
       "      <td>19.301890</td>\n",
       "      <td>-99.688015</td>\n",
       "      <td>2012-03-09 00:00:00</td>\n",
       "      <td>0.0</td>\n",
       "      <td>0.0</td>\n",
       "      <td>0.0</td>\n",
       "      <td>1.0</td>\n",
       "      <td>1.0</td>\n",
       "      <td>650000.0</td>\n",
       "    </tr>\n",
       "    <tr>\n",
       "      <td>4</td>\n",
       "      <td>185997</td>\n",
       "      <td>paseos del sol</td>\n",
       "      <td>bonito departamento en excelentes condiciones ...</td>\n",
       "      <td>Apartamento</td>\n",
       "      <td>PASEOS DEL SOL</td>\n",
       "      <td>Zapopan</td>\n",
       "      <td>Jalisco</td>\n",
       "      <td>10.0</td>\n",
       "      <td>2.0</td>\n",
       "      <td>1.0</td>\n",
       "      <td>...</td>\n",
       "      <td>47835.0</td>\n",
       "      <td>NaN</td>\n",
       "      <td>NaN</td>\n",
       "      <td>2016-06-07 00:00:00</td>\n",
       "      <td>0.0</td>\n",
       "      <td>0.0</td>\n",
       "      <td>0.0</td>\n",
       "      <td>0.0</td>\n",
       "      <td>0.0</td>\n",
       "      <td>1150000.0</td>\n",
       "    </tr>\n",
       "  </tbody>\n",
       "</table>\n",
       "<p>5 rows × 23 columns</p>\n",
       "</div>"
      ],
      "text/plain": [
       "       id                                             titulo  \\\n",
       "0  254099                                  depto. tipo a-402   \n",
       "1   53461                     condominio horizontal en venta   \n",
       "2  247984              casa en venta urbi 3 recamaras tonala   \n",
       "3  209067  casa sola en toluca zinacantepec con credito i...   \n",
       "4  185997                                     paseos del sol   \n",
       "\n",
       "                                         descripcion     tipodepropiedad  \\\n",
       "0  depto. interior de 80.15m2, consta de sala com...         Apartamento   \n",
       "1  <p>entre sonora y guerrero, atr&aacute;s del h...  Casa en condominio   \n",
       "2  descripcion \\nla mejor ubicacion residencial e...                Casa   \n",
       "3  casa en privada con caseta de vigilancia casas...                Casa   \n",
       "4  bonito departamento en excelentes condiciones ...         Apartamento   \n",
       "\n",
       "                         direccion                  ciudad         provincia  \\\n",
       "0  Avenida Division del Norte 2005           Benito Juárez  Distrito Federal   \n",
       "1                       AV. MEXICO  La Magdalena Contreras  Distrito Federal   \n",
       "2                      Urbi Tonala                  Tonalá           Jalisco   \n",
       "3    IGNACIO MANUEL ALTAMIRANO 128            Zinacantepec    Edo. de México   \n",
       "4                  PASEOS DEL SOL                  Zapopan           Jalisco   \n",
       "\n",
       "   antiguedad  habitaciones  garages  ...   idzona        lat        lng  \\\n",
       "0         NaN           2.0      1.0  ...  23533.0        NaN        NaN   \n",
       "1        10.0           3.0      2.0  ...  24514.0  19.310205 -99.227655   \n",
       "2         5.0           3.0      2.0  ...  48551.0        NaN        NaN   \n",
       "3         1.0           2.0      1.0  ...  53666.0  19.301890 -99.688015   \n",
       "4        10.0           2.0      1.0  ...  47835.0        NaN        NaN   \n",
       "\n",
       "                 fecha  gimnasio  usosmultiples piscina  escuelascercanas  \\\n",
       "0  2015-08-23 00:00:00       0.0            0.0     0.0               0.0   \n",
       "1  2013-06-28 00:00:00       0.0            0.0     0.0               1.0   \n",
       "2  2015-10-17 00:00:00       0.0            0.0     0.0               0.0   \n",
       "3  2012-03-09 00:00:00       0.0            0.0     0.0               1.0   \n",
       "4  2016-06-07 00:00:00       0.0            0.0     0.0               0.0   \n",
       "\n",
       "   centroscomercialescercanos     precio  \n",
       "0                         0.0  2273000.0  \n",
       "1                         1.0  3600000.0  \n",
       "2                         0.0  1200000.0  \n",
       "3                         1.0   650000.0  \n",
       "4                         0.0  1150000.0  \n",
       "\n",
       "[5 rows x 23 columns]"
      ]
     },
     "execution_count": 73,
     "metadata": {},
     "output_type": "execute_result"
    }
   ],
   "source": [
    "dtypes = {'id': 'int32', \n",
    "'titulo': 'object', \n",
    "'descripcion': 'object', \n",
    "'tipodepropiedad': 'category', \n",
    "'direccion': 'object', \n",
    "'ciudad': 'object', \n",
    "'provincia': 'category', \n",
    "'antiguedad': 'float', \n",
    "'habitaciones': 'float', \n",
    "'garages': 'float', \n",
    "'banos': 'float', \n",
    "'metroscubiertos': 'float', \n",
    "'metrostotales': 'float', \n",
    "'idzona': 'object', \n",
    "'lat': 'float64', \n",
    "'lng': 'float64', \n",
    "'gimnasio': 'float', \n",
    "'usosmultiples': 'float', \n",
    "'piscina': 'float', \n",
    "'escuelascercanas': 'float', \n",
    "'centroscomercialescercanos': 'float', \n",
    "'precio': 'float', }\n",
    "\n",
    "data = pd.read_csv(\"train.csv\", dtype = dtypes)\n",
    "data.head()"
   ]
  },
  {
   "cell_type": "markdown",
   "metadata": {},
   "source": [
    "# Pre-procesamiento de data"
   ]
  },
  {
   "cell_type": "code",
   "execution_count": 74,
   "metadata": {},
   "outputs": [
    {
     "data": {
      "text/plain": [
       "875"
      ]
     },
     "execution_count": 74,
     "metadata": {},
     "output_type": "execute_result"
    }
   ],
   "source": [
    "data[\"ciudad\"].nunique()"
   ]
  },
  {
   "cell_type": "code",
   "execution_count": 75,
   "metadata": {},
   "outputs": [
    {
     "data": {
      "text/plain": [
       "id                                 0\n",
       "titulo                          5387\n",
       "descripcion                     1619\n",
       "tipodepropiedad                   46\n",
       "direccion                      53072\n",
       "ciudad                           372\n",
       "provincia                        155\n",
       "antiguedad                     43555\n",
       "habitaciones                   22471\n",
       "garages                        37765\n",
       "banos                          26221\n",
       "metroscubiertos                17400\n",
       "metrostotales                  51467\n",
       "idzona                         28621\n",
       "lat                           123488\n",
       "lng                           123488\n",
       "fecha                              0\n",
       "gimnasio                           0\n",
       "usosmultiples                      0\n",
       "piscina                            0\n",
       "escuelascercanas                   0\n",
       "centroscomercialescercanos         0\n",
       "precio                             0\n",
       "dtype: int64"
      ]
     },
     "execution_count": 75,
     "metadata": {},
     "output_type": "execute_result"
    }
   ],
   "source": [
    "data.isnull().sum()"
   ]
  },
  {
   "cell_type": "code",
   "execution_count": 76,
   "metadata": {},
   "outputs": [
    {
     "data": {
      "text/plain": [
       "535127"
      ]
     },
     "execution_count": 76,
     "metadata": {},
     "output_type": "execute_result"
    }
   ],
   "source": [
    "data.isnull().sum().sum()"
   ]
  },
  {
   "cell_type": "code",
   "execution_count": 77,
   "metadata": {},
   "outputs": [
    {
     "data": {
      "text/plain": [
       "5520000"
      ]
     },
     "execution_count": 77,
     "metadata": {},
     "output_type": "execute_result"
    }
   ],
   "source": [
    "data.size"
   ]
  },
  {
   "cell_type": "code",
   "execution_count": 78,
   "metadata": {},
   "outputs": [
    {
     "data": {
      "text/plain": [
       "9.694329710144928"
      ]
     },
     "execution_count": 78,
     "metadata": {},
     "output_type": "execute_result"
    }
   ],
   "source": [
    "(data.isnull().sum().sum()/(data.size))*100"
   ]
  },
  {
   "cell_type": "markdown",
   "metadata": {},
   "source": [
    "Los Nulls representan el 10% de los datos."
   ]
  },
  {
   "cell_type": "markdown",
   "metadata": {},
   "source": [
    "# CON XGBOOST NO HACE FALTA PREOCUPARSE POR LOS NULLs"
   ]
  },
  {
   "cell_type": "markdown",
   "metadata": {},
   "source": [
    "# Levanto el csv de test para calcularle los features en paralelo"
   ]
  },
  {
   "cell_type": "code",
   "execution_count": 79,
   "metadata": {},
   "outputs": [
    {
     "data": {
      "text/html": [
       "<div>\n",
       "<style scoped>\n",
       "    .dataframe tbody tr th:only-of-type {\n",
       "        vertical-align: middle;\n",
       "    }\n",
       "\n",
       "    .dataframe tbody tr th {\n",
       "        vertical-align: top;\n",
       "    }\n",
       "\n",
       "    .dataframe thead th {\n",
       "        text-align: right;\n",
       "    }\n",
       "</style>\n",
       "<table border=\"1\" class=\"dataframe\">\n",
       "  <thead>\n",
       "    <tr style=\"text-align: right;\">\n",
       "      <th></th>\n",
       "      <th>id</th>\n",
       "      <th>titulo</th>\n",
       "      <th>descripcion</th>\n",
       "      <th>tipodepropiedad</th>\n",
       "      <th>direccion</th>\n",
       "      <th>ciudad</th>\n",
       "      <th>provincia</th>\n",
       "      <th>antiguedad</th>\n",
       "      <th>habitaciones</th>\n",
       "      <th>garages</th>\n",
       "      <th>...</th>\n",
       "      <th>metrostotales</th>\n",
       "      <th>idzona</th>\n",
       "      <th>lat</th>\n",
       "      <th>lng</th>\n",
       "      <th>fecha</th>\n",
       "      <th>gimnasio</th>\n",
       "      <th>usosmultiples</th>\n",
       "      <th>piscina</th>\n",
       "      <th>escuelascercanas</th>\n",
       "      <th>centroscomercialescercanos</th>\n",
       "    </tr>\n",
       "  </thead>\n",
       "  <tbody>\n",
       "    <tr>\n",
       "      <td>0</td>\n",
       "      <td>4941</td>\n",
       "      <td>casa en venta en miguel hidalgo, distrito federal</td>\n",
       "      <td>&lt;p&gt;excelente casa estilo moderno.&lt;/p&gt;</td>\n",
       "      <td>Casa</td>\n",
       "      <td>Bosque de Cedros</td>\n",
       "      <td>Miguel Hidalgo</td>\n",
       "      <td>Distrito Federal</td>\n",
       "      <td>29.0</td>\n",
       "      <td>3.0</td>\n",
       "      <td>NaN</td>\n",
       "      <td>...</td>\n",
       "      <td>NaN</td>\n",
       "      <td>NaN</td>\n",
       "      <td>19.408668</td>\n",
       "      <td>-99.246767</td>\n",
       "      <td>2013-07-20 00:00:00</td>\n",
       "      <td>0.0</td>\n",
       "      <td>0.0</td>\n",
       "      <td>0.0</td>\n",
       "      <td>0.0</td>\n",
       "      <td>0.0</td>\n",
       "    </tr>\n",
       "    <tr>\n",
       "      <td>1</td>\n",
       "      <td>51775</td>\n",
       "      <td>departamentos en venta en montebello</td>\n",
       "      <td>&lt;p&gt;departamento una recamara:\\n&lt;/p&gt;&lt;p&gt;departam...</td>\n",
       "      <td>Apartamento</td>\n",
       "      <td>NaN</td>\n",
       "      <td>Mérida</td>\n",
       "      <td>Yucatán</td>\n",
       "      <td>NaN</td>\n",
       "      <td>1.0</td>\n",
       "      <td>1.0</td>\n",
       "      <td>...</td>\n",
       "      <td>67.0</td>\n",
       "      <td>113851.0</td>\n",
       "      <td>21.032480</td>\n",
       "      <td>-89.592424</td>\n",
       "      <td>2015-10-24 00:00:00</td>\n",
       "      <td>0.0</td>\n",
       "      <td>0.0</td>\n",
       "      <td>0.0</td>\n",
       "      <td>0.0</td>\n",
       "      <td>0.0</td>\n",
       "    </tr>\n",
       "    <tr>\n",
       "      <td>2</td>\n",
       "      <td>115253</td>\n",
       "      <td>departamento nuevo delegación coyoacán de 87 m...</td>\n",
       "      <td>departamento nuevo de 87.06 m2, 1 cajón de est...</td>\n",
       "      <td>Apartamento</td>\n",
       "      <td>Pueblo de los Reyes, Coyoacán, Mexico D.F.</td>\n",
       "      <td>Coyoacán</td>\n",
       "      <td>Distrito Federal</td>\n",
       "      <td>0.0</td>\n",
       "      <td>2.0</td>\n",
       "      <td>1.0</td>\n",
       "      <td>...</td>\n",
       "      <td>100.0</td>\n",
       "      <td>23620.0</td>\n",
       "      <td>19.332829</td>\n",
       "      <td>-99.152913</td>\n",
       "      <td>2015-05-30 00:00:00</td>\n",
       "      <td>0.0</td>\n",
       "      <td>0.0</td>\n",
       "      <td>0.0</td>\n",
       "      <td>0.0</td>\n",
       "      <td>1.0</td>\n",
       "    </tr>\n",
       "    <tr>\n",
       "      <td>3</td>\n",
       "      <td>299321</td>\n",
       "      <td>departamento en venta en acapulco</td>\n",
       "      <td>&lt;p&gt;  raíces dv001 precioso departamento tipo k...</td>\n",
       "      <td>Apartamento</td>\n",
       "      <td>NaN</td>\n",
       "      <td>Acapulco de Juárez</td>\n",
       "      <td>Guerrero</td>\n",
       "      <td>2.0</td>\n",
       "      <td>2.0</td>\n",
       "      <td>2.0</td>\n",
       "      <td>...</td>\n",
       "      <td>86.0</td>\n",
       "      <td>129347.0</td>\n",
       "      <td>16.860487</td>\n",
       "      <td>-99.878383</td>\n",
       "      <td>2015-04-02 00:00:00</td>\n",
       "      <td>0.0</td>\n",
       "      <td>0.0</td>\n",
       "      <td>0.0</td>\n",
       "      <td>0.0</td>\n",
       "      <td>0.0</td>\n",
       "    </tr>\n",
       "    <tr>\n",
       "      <td>4</td>\n",
       "      <td>173570</td>\n",
       "      <td>bonita casa sola equipada de dos niveles en lo...</td>\n",
       "      <td>&lt;p&gt;casa sola, bonita de dos rec&amp;aacute;maras u...</td>\n",
       "      <td>Casa</td>\n",
       "      <td>CEDROS</td>\n",
       "      <td>Tultitlán</td>\n",
       "      <td>Edo. de México</td>\n",
       "      <td>10.0</td>\n",
       "      <td>2.0</td>\n",
       "      <td>1.0</td>\n",
       "      <td>...</td>\n",
       "      <td>76.0</td>\n",
       "      <td>57125.0</td>\n",
       "      <td>19.640482</td>\n",
       "      <td>-99.127273</td>\n",
       "      <td>2013-08-15 00:00:00</td>\n",
       "      <td>0.0</td>\n",
       "      <td>0.0</td>\n",
       "      <td>0.0</td>\n",
       "      <td>1.0</td>\n",
       "      <td>1.0</td>\n",
       "    </tr>\n",
       "  </tbody>\n",
       "</table>\n",
       "<p>5 rows × 22 columns</p>\n",
       "</div>"
      ],
      "text/plain": [
       "       id                                             titulo  \\\n",
       "0    4941  casa en venta en miguel hidalgo, distrito federal   \n",
       "1   51775               departamentos en venta en montebello   \n",
       "2  115253  departamento nuevo delegación coyoacán de 87 m...   \n",
       "3  299321                  departamento en venta en acapulco   \n",
       "4  173570  bonita casa sola equipada de dos niveles en lo...   \n",
       "\n",
       "                                         descripcion tipodepropiedad  \\\n",
       "0              <p>excelente casa estilo moderno.</p>            Casa   \n",
       "1  <p>departamento una recamara:\\n</p><p>departam...     Apartamento   \n",
       "2  departamento nuevo de 87.06 m2, 1 cajón de est...     Apartamento   \n",
       "3  <p>  raíces dv001 precioso departamento tipo k...     Apartamento   \n",
       "4  <p>casa sola, bonita de dos rec&aacute;maras u...            Casa   \n",
       "\n",
       "                                    direccion              ciudad  \\\n",
       "0                           Bosque de Cedros       Miguel Hidalgo   \n",
       "1                                         NaN              Mérida   \n",
       "2  Pueblo de los Reyes, Coyoacán, Mexico D.F.            Coyoacán   \n",
       "3                                         NaN  Acapulco de Juárez   \n",
       "4                                      CEDROS           Tultitlán   \n",
       "\n",
       "          provincia  antiguedad  habitaciones  garages  ...  metrostotales  \\\n",
       "0  Distrito Federal        29.0           3.0      NaN  ...            NaN   \n",
       "1           Yucatán         NaN           1.0      1.0  ...           67.0   \n",
       "2  Distrito Federal         0.0           2.0      1.0  ...          100.0   \n",
       "3          Guerrero         2.0           2.0      2.0  ...           86.0   \n",
       "4    Edo. de México        10.0           2.0      1.0  ...           76.0   \n",
       "\n",
       "     idzona        lat        lng                fecha  gimnasio  \\\n",
       "0       NaN  19.408668 -99.246767  2013-07-20 00:00:00       0.0   \n",
       "1  113851.0  21.032480 -89.592424  2015-10-24 00:00:00       0.0   \n",
       "2   23620.0  19.332829 -99.152913  2015-05-30 00:00:00       0.0   \n",
       "3  129347.0  16.860487 -99.878383  2015-04-02 00:00:00       0.0   \n",
       "4   57125.0  19.640482 -99.127273  2013-08-15 00:00:00       0.0   \n",
       "\n",
       "  usosmultiples  piscina  escuelascercanas  centroscomercialescercanos  \n",
       "0           0.0      0.0               0.0                         0.0  \n",
       "1           0.0      0.0               0.0                         0.0  \n",
       "2           0.0      0.0               0.0                         1.0  \n",
       "3           0.0      0.0               0.0                         0.0  \n",
       "4           0.0      0.0               1.0                         1.0  \n",
       "\n",
       "[5 rows x 22 columns]"
      ]
     },
     "execution_count": 79,
     "metadata": {},
     "output_type": "execute_result"
    }
   ],
   "source": [
    "test = pd.read_csv(\"test.csv\", dtype = dtypes)\n",
    "test.head()"
   ]
  },
  {
   "cell_type": "code",
   "execution_count": 80,
   "metadata": {},
   "outputs": [
    {
     "data": {
      "text/plain": [
       "60000"
      ]
     },
     "execution_count": 80,
     "metadata": {},
     "output_type": "execute_result"
    }
   ],
   "source": [
    "len(test)"
   ]
  },
  {
   "cell_type": "markdown",
   "metadata": {},
   "source": [
    "# Preparacion del set de datos de entrenamiento (features)"
   ]
  },
  {
   "cell_type": "markdown",
   "metadata": {},
   "source": [
    "La idea es preparar el set con los datos para exportar y que despues el modelo simplemente levante, separe en set de entrenamiento y test, entrene y devuelva una prediccion."
   ]
  },
  {
   "cell_type": "markdown",
   "metadata": {},
   "source": [
    "Se procede a calcular features. Cada feature se agregara al DataFrame final que tendra que levantar despues el modelo. Ojo que dentro de este DataFrame tambien va a estar el precio (que es el label)."
   ]
  },
  {
   "cell_type": "code",
   "execution_count": 81,
   "metadata": {},
   "outputs": [],
   "source": [
    "train_set = pd.DataFrame()"
   ]
  },
  {
   "cell_type": "code",
   "execution_count": 82,
   "metadata": {},
   "outputs": [],
   "source": [
    "test_set = pd.DataFrame()"
   ]
  },
  {
   "cell_type": "markdown",
   "metadata": {},
   "source": [
    "# Agrego las columnas que ya se encuentran"
   ]
  },
  {
   "cell_type": "code",
   "execution_count": 83,
   "metadata": {},
   "outputs": [
    {
     "data": {
      "text/plain": [
       "Index(['id', 'titulo', 'descripcion', 'tipodepropiedad', 'direccion', 'ciudad',\n",
       "       'provincia', 'antiguedad', 'habitaciones', 'garages', 'banos',\n",
       "       'metroscubiertos', 'metrostotales', 'idzona', 'lat', 'lng', 'fecha',\n",
       "       'gimnasio', 'usosmultiples', 'piscina', 'escuelascercanas',\n",
       "       'centroscomercialescercanos', 'precio'],\n",
       "      dtype='object')"
      ]
     },
     "execution_count": 83,
     "metadata": {},
     "output_type": "execute_result"
    }
   ],
   "source": [
    "data.columns"
   ]
  },
  {
   "cell_type": "code",
   "execution_count": 84,
   "metadata": {},
   "outputs": [],
   "source": [
    "train_set = data.loc[:, ['antiguedad', 'habitaciones', 'garages', 'banos',\n",
    "       'metroscubiertos', 'metrostotales', 'idzona', 'lat', 'lng', 'gimnasio', 'usosmultiples', 'piscina', 'escuelascercanas',\n",
    "       'centroscomercialescercanos', 'precio']]"
   ]
  },
  {
   "cell_type": "code",
   "execution_count": 85,
   "metadata": {},
   "outputs": [
    {
     "data": {
      "text/html": [
       "<div>\n",
       "<style scoped>\n",
       "    .dataframe tbody tr th:only-of-type {\n",
       "        vertical-align: middle;\n",
       "    }\n",
       "\n",
       "    .dataframe tbody tr th {\n",
       "        vertical-align: top;\n",
       "    }\n",
       "\n",
       "    .dataframe thead th {\n",
       "        text-align: right;\n",
       "    }\n",
       "</style>\n",
       "<table border=\"1\" class=\"dataframe\">\n",
       "  <thead>\n",
       "    <tr style=\"text-align: right;\">\n",
       "      <th></th>\n",
       "      <th>antiguedad</th>\n",
       "      <th>habitaciones</th>\n",
       "      <th>garages</th>\n",
       "      <th>banos</th>\n",
       "      <th>metroscubiertos</th>\n",
       "      <th>metrostotales</th>\n",
       "      <th>idzona</th>\n",
       "      <th>lat</th>\n",
       "      <th>lng</th>\n",
       "      <th>gimnasio</th>\n",
       "      <th>usosmultiples</th>\n",
       "      <th>piscina</th>\n",
       "      <th>escuelascercanas</th>\n",
       "      <th>centroscomercialescercanos</th>\n",
       "      <th>precio</th>\n",
       "    </tr>\n",
       "  </thead>\n",
       "  <tbody>\n",
       "    <tr>\n",
       "      <td>0</td>\n",
       "      <td>NaN</td>\n",
       "      <td>2.0</td>\n",
       "      <td>1.0</td>\n",
       "      <td>2.0</td>\n",
       "      <td>80.0</td>\n",
       "      <td>80.0</td>\n",
       "      <td>23533.0</td>\n",
       "      <td>NaN</td>\n",
       "      <td>NaN</td>\n",
       "      <td>0.0</td>\n",
       "      <td>0.0</td>\n",
       "      <td>0.0</td>\n",
       "      <td>0.0</td>\n",
       "      <td>0.0</td>\n",
       "      <td>2273000.0</td>\n",
       "    </tr>\n",
       "    <tr>\n",
       "      <td>1</td>\n",
       "      <td>10.0</td>\n",
       "      <td>3.0</td>\n",
       "      <td>2.0</td>\n",
       "      <td>2.0</td>\n",
       "      <td>268.0</td>\n",
       "      <td>180.0</td>\n",
       "      <td>24514.0</td>\n",
       "      <td>19.310205</td>\n",
       "      <td>-99.227655</td>\n",
       "      <td>0.0</td>\n",
       "      <td>0.0</td>\n",
       "      <td>0.0</td>\n",
       "      <td>1.0</td>\n",
       "      <td>1.0</td>\n",
       "      <td>3600000.0</td>\n",
       "    </tr>\n",
       "    <tr>\n",
       "      <td>2</td>\n",
       "      <td>5.0</td>\n",
       "      <td>3.0</td>\n",
       "      <td>2.0</td>\n",
       "      <td>2.0</td>\n",
       "      <td>144.0</td>\n",
       "      <td>166.0</td>\n",
       "      <td>48551.0</td>\n",
       "      <td>NaN</td>\n",
       "      <td>NaN</td>\n",
       "      <td>0.0</td>\n",
       "      <td>0.0</td>\n",
       "      <td>0.0</td>\n",
       "      <td>0.0</td>\n",
       "      <td>0.0</td>\n",
       "      <td>1200000.0</td>\n",
       "    </tr>\n",
       "    <tr>\n",
       "      <td>3</td>\n",
       "      <td>1.0</td>\n",
       "      <td>2.0</td>\n",
       "      <td>1.0</td>\n",
       "      <td>1.0</td>\n",
       "      <td>63.0</td>\n",
       "      <td>67.0</td>\n",
       "      <td>53666.0</td>\n",
       "      <td>19.301890</td>\n",
       "      <td>-99.688015</td>\n",
       "      <td>0.0</td>\n",
       "      <td>0.0</td>\n",
       "      <td>0.0</td>\n",
       "      <td>1.0</td>\n",
       "      <td>1.0</td>\n",
       "      <td>650000.0</td>\n",
       "    </tr>\n",
       "    <tr>\n",
       "      <td>4</td>\n",
       "      <td>10.0</td>\n",
       "      <td>2.0</td>\n",
       "      <td>1.0</td>\n",
       "      <td>1.0</td>\n",
       "      <td>95.0</td>\n",
       "      <td>95.0</td>\n",
       "      <td>47835.0</td>\n",
       "      <td>NaN</td>\n",
       "      <td>NaN</td>\n",
       "      <td>0.0</td>\n",
       "      <td>0.0</td>\n",
       "      <td>0.0</td>\n",
       "      <td>0.0</td>\n",
       "      <td>0.0</td>\n",
       "      <td>1150000.0</td>\n",
       "    </tr>\n",
       "  </tbody>\n",
       "</table>\n",
       "</div>"
      ],
      "text/plain": [
       "   antiguedad  habitaciones  garages  banos  metroscubiertos  metrostotales  \\\n",
       "0         NaN           2.0      1.0    2.0             80.0           80.0   \n",
       "1        10.0           3.0      2.0    2.0            268.0          180.0   \n",
       "2         5.0           3.0      2.0    2.0            144.0          166.0   \n",
       "3         1.0           2.0      1.0    1.0             63.0           67.0   \n",
       "4        10.0           2.0      1.0    1.0             95.0           95.0   \n",
       "\n",
       "    idzona        lat        lng  gimnasio  usosmultiples  piscina  \\\n",
       "0  23533.0        NaN        NaN       0.0            0.0      0.0   \n",
       "1  24514.0  19.310205 -99.227655       0.0            0.0      0.0   \n",
       "2  48551.0        NaN        NaN       0.0            0.0      0.0   \n",
       "3  53666.0  19.301890 -99.688015       0.0            0.0      0.0   \n",
       "4  47835.0        NaN        NaN       0.0            0.0      0.0   \n",
       "\n",
       "   escuelascercanas  centroscomercialescercanos     precio  \n",
       "0               0.0                         0.0  2273000.0  \n",
       "1               1.0                         1.0  3600000.0  \n",
       "2               0.0                         0.0  1200000.0  \n",
       "3               1.0                         1.0   650000.0  \n",
       "4               0.0                         0.0  1150000.0  "
      ]
     },
     "execution_count": 85,
     "metadata": {},
     "output_type": "execute_result"
    }
   ],
   "source": [
    "train_set.head()"
   ]
  },
  {
   "cell_type": "markdown",
   "metadata": {},
   "source": [
    "### Lo mismo para test"
   ]
  },
  {
   "cell_type": "code",
   "execution_count": 86,
   "metadata": {},
   "outputs": [],
   "source": [
    "test_set = test.loc[:, ['id', 'antiguedad', 'habitaciones', 'garages', 'banos',\n",
    "       'metroscubiertos', 'metrostotales', 'idzona', 'lat', 'lng', 'gimnasio', 'usosmultiples', 'piscina', 'escuelascercanas',\n",
    "       'centroscomercialescercanos']]"
   ]
  },
  {
   "cell_type": "code",
   "execution_count": 87,
   "metadata": {},
   "outputs": [
    {
     "data": {
      "text/html": [
       "<div>\n",
       "<style scoped>\n",
       "    .dataframe tbody tr th:only-of-type {\n",
       "        vertical-align: middle;\n",
       "    }\n",
       "\n",
       "    .dataframe tbody tr th {\n",
       "        vertical-align: top;\n",
       "    }\n",
       "\n",
       "    .dataframe thead th {\n",
       "        text-align: right;\n",
       "    }\n",
       "</style>\n",
       "<table border=\"1\" class=\"dataframe\">\n",
       "  <thead>\n",
       "    <tr style=\"text-align: right;\">\n",
       "      <th></th>\n",
       "      <th>id</th>\n",
       "      <th>antiguedad</th>\n",
       "      <th>habitaciones</th>\n",
       "      <th>garages</th>\n",
       "      <th>banos</th>\n",
       "      <th>metroscubiertos</th>\n",
       "      <th>metrostotales</th>\n",
       "      <th>idzona</th>\n",
       "      <th>lat</th>\n",
       "      <th>lng</th>\n",
       "      <th>gimnasio</th>\n",
       "      <th>usosmultiples</th>\n",
       "      <th>piscina</th>\n",
       "      <th>escuelascercanas</th>\n",
       "      <th>centroscomercialescercanos</th>\n",
       "    </tr>\n",
       "  </thead>\n",
       "  <tbody>\n",
       "    <tr>\n",
       "      <td>0</td>\n",
       "      <td>4941</td>\n",
       "      <td>29.0</td>\n",
       "      <td>3.0</td>\n",
       "      <td>NaN</td>\n",
       "      <td>4.0</td>\n",
       "      <td>300.0</td>\n",
       "      <td>NaN</td>\n",
       "      <td>NaN</td>\n",
       "      <td>19.408668</td>\n",
       "      <td>-99.246767</td>\n",
       "      <td>0.0</td>\n",
       "      <td>0.0</td>\n",
       "      <td>0.0</td>\n",
       "      <td>0.0</td>\n",
       "      <td>0.0</td>\n",
       "    </tr>\n",
       "    <tr>\n",
       "      <td>1</td>\n",
       "      <td>51775</td>\n",
       "      <td>NaN</td>\n",
       "      <td>1.0</td>\n",
       "      <td>1.0</td>\n",
       "      <td>1.0</td>\n",
       "      <td>67.0</td>\n",
       "      <td>67.0</td>\n",
       "      <td>113851.0</td>\n",
       "      <td>21.032480</td>\n",
       "      <td>-89.592424</td>\n",
       "      <td>0.0</td>\n",
       "      <td>0.0</td>\n",
       "      <td>0.0</td>\n",
       "      <td>0.0</td>\n",
       "      <td>0.0</td>\n",
       "    </tr>\n",
       "    <tr>\n",
       "      <td>2</td>\n",
       "      <td>115253</td>\n",
       "      <td>0.0</td>\n",
       "      <td>2.0</td>\n",
       "      <td>1.0</td>\n",
       "      <td>2.0</td>\n",
       "      <td>87.0</td>\n",
       "      <td>100.0</td>\n",
       "      <td>23620.0</td>\n",
       "      <td>19.332829</td>\n",
       "      <td>-99.152913</td>\n",
       "      <td>0.0</td>\n",
       "      <td>0.0</td>\n",
       "      <td>0.0</td>\n",
       "      <td>0.0</td>\n",
       "      <td>1.0</td>\n",
       "    </tr>\n",
       "    <tr>\n",
       "      <td>3</td>\n",
       "      <td>299321</td>\n",
       "      <td>2.0</td>\n",
       "      <td>2.0</td>\n",
       "      <td>2.0</td>\n",
       "      <td>2.0</td>\n",
       "      <td>86.0</td>\n",
       "      <td>86.0</td>\n",
       "      <td>129347.0</td>\n",
       "      <td>16.860487</td>\n",
       "      <td>-99.878383</td>\n",
       "      <td>0.0</td>\n",
       "      <td>0.0</td>\n",
       "      <td>0.0</td>\n",
       "      <td>0.0</td>\n",
       "      <td>0.0</td>\n",
       "    </tr>\n",
       "    <tr>\n",
       "      <td>4</td>\n",
       "      <td>173570</td>\n",
       "      <td>10.0</td>\n",
       "      <td>2.0</td>\n",
       "      <td>1.0</td>\n",
       "      <td>1.0</td>\n",
       "      <td>80.0</td>\n",
       "      <td>76.0</td>\n",
       "      <td>57125.0</td>\n",
       "      <td>19.640482</td>\n",
       "      <td>-99.127273</td>\n",
       "      <td>0.0</td>\n",
       "      <td>0.0</td>\n",
       "      <td>0.0</td>\n",
       "      <td>1.0</td>\n",
       "      <td>1.0</td>\n",
       "    </tr>\n",
       "  </tbody>\n",
       "</table>\n",
       "</div>"
      ],
      "text/plain": [
       "       id  antiguedad  habitaciones  garages  banos  metroscubiertos  \\\n",
       "0    4941        29.0           3.0      NaN    4.0            300.0   \n",
       "1   51775         NaN           1.0      1.0    1.0             67.0   \n",
       "2  115253         0.0           2.0      1.0    2.0             87.0   \n",
       "3  299321         2.0           2.0      2.0    2.0             86.0   \n",
       "4  173570        10.0           2.0      1.0    1.0             80.0   \n",
       "\n",
       "   metrostotales    idzona        lat        lng  gimnasio  usosmultiples  \\\n",
       "0            NaN       NaN  19.408668 -99.246767       0.0            0.0   \n",
       "1           67.0  113851.0  21.032480 -89.592424       0.0            0.0   \n",
       "2          100.0   23620.0  19.332829 -99.152913       0.0            0.0   \n",
       "3           86.0  129347.0  16.860487 -99.878383       0.0            0.0   \n",
       "4           76.0   57125.0  19.640482 -99.127273       0.0            0.0   \n",
       "\n",
       "   piscina  escuelascercanas  centroscomercialescercanos  \n",
       "0      0.0               0.0                         0.0  \n",
       "1      0.0               0.0                         0.0  \n",
       "2      0.0               0.0                         1.0  \n",
       "3      0.0               0.0                         0.0  \n",
       "4      0.0               1.0                         1.0  "
      ]
     },
     "execution_count": 87,
     "metadata": {},
     "output_type": "execute_result"
    }
   ],
   "source": [
    "test_set.head()"
   ]
  },
  {
   "cell_type": "markdown",
   "metadata": {},
   "source": [
    "# Nuevos features"
   ]
  },
  {
   "cell_type": "markdown",
   "metadata": {},
   "source": [
    "## OJO!!! Pensar muy bien si tiene sentido agregar ese feature o no... Porque agregar de más puede ser muy malo a priori. Lo más simple suele ser lo mejor!!!"
   ]
  },
  {
   "cell_type": "markdown",
   "metadata": {},
   "source": [
    "## Fecha de publicación"
   ]
  },
  {
   "cell_type": "code",
   "execution_count": 88,
   "metadata": {},
   "outputs": [],
   "source": [
    "data['fecha'] = pd.to_datetime(data['fecha'])\n",
    "data['anio'] = data['fecha'].dt.year"
   ]
  },
  {
   "cell_type": "code",
   "execution_count": 89,
   "metadata": {},
   "outputs": [
    {
     "data": {
      "text/plain": [
       "2016    94038\n",
       "2015    51470\n",
       "2014    40572\n",
       "2013    30386\n",
       "2012    23534\n",
       "Name: anio, dtype: int64"
      ]
     },
     "execution_count": 89,
     "metadata": {},
     "output_type": "execute_result"
    }
   ],
   "source": [
    "data['anio'].value_counts()"
   ]
  },
  {
   "cell_type": "code",
   "execution_count": 90,
   "metadata": {},
   "outputs": [],
   "source": [
    "train_set['anio_publ'] = data['anio']"
   ]
  },
  {
   "cell_type": "code",
   "execution_count": 91,
   "metadata": {},
   "outputs": [],
   "source": [
    "test_set['anio_publ'] = pd.to_datetime(test['fecha']).dt.year"
   ]
  },
  {
   "cell_type": "markdown",
   "metadata": {},
   "source": [
    "# Se exporta para entrenar"
   ]
  },
  {
   "cell_type": "markdown",
   "metadata": {},
   "source": [
    "## NO hace falta eliminar NULLs"
   ]
  },
  {
   "cell_type": "code",
   "execution_count": 92,
   "metadata": {},
   "outputs": [
    {
     "data": {
      "text/plain": [
       "240000"
      ]
     },
     "execution_count": 92,
     "metadata": {},
     "output_type": "execute_result"
    }
   ],
   "source": [
    "len(train_set)"
   ]
  },
  {
   "cell_type": "code",
   "execution_count": 93,
   "metadata": {},
   "outputs": [],
   "source": [
    "train_set.to_csv(\"train_set_xgb.csv\", index = False)"
   ]
  },
  {
   "cell_type": "code",
   "execution_count": 94,
   "metadata": {},
   "outputs": [
    {
     "data": {
      "text/html": [
       "<div>\n",
       "<style scoped>\n",
       "    .dataframe tbody tr th:only-of-type {\n",
       "        vertical-align: middle;\n",
       "    }\n",
       "\n",
       "    .dataframe tbody tr th {\n",
       "        vertical-align: top;\n",
       "    }\n",
       "\n",
       "    .dataframe thead th {\n",
       "        text-align: right;\n",
       "    }\n",
       "</style>\n",
       "<table border=\"1\" class=\"dataframe\">\n",
       "  <thead>\n",
       "    <tr style=\"text-align: right;\">\n",
       "      <th></th>\n",
       "      <th>id</th>\n",
       "      <th>antiguedad</th>\n",
       "      <th>habitaciones</th>\n",
       "      <th>garages</th>\n",
       "      <th>banos</th>\n",
       "      <th>metroscubiertos</th>\n",
       "      <th>metrostotales</th>\n",
       "      <th>idzona</th>\n",
       "      <th>lat</th>\n",
       "      <th>lng</th>\n",
       "      <th>gimnasio</th>\n",
       "      <th>usosmultiples</th>\n",
       "      <th>piscina</th>\n",
       "      <th>escuelascercanas</th>\n",
       "      <th>centroscomercialescercanos</th>\n",
       "      <th>anio_publ</th>\n",
       "    </tr>\n",
       "  </thead>\n",
       "  <tbody>\n",
       "    <tr>\n",
       "      <td>0</td>\n",
       "      <td>4941</td>\n",
       "      <td>29.0</td>\n",
       "      <td>3.0</td>\n",
       "      <td>NaN</td>\n",
       "      <td>4.0</td>\n",
       "      <td>300.0</td>\n",
       "      <td>NaN</td>\n",
       "      <td>NaN</td>\n",
       "      <td>19.408668</td>\n",
       "      <td>-99.246767</td>\n",
       "      <td>0.0</td>\n",
       "      <td>0.0</td>\n",
       "      <td>0.0</td>\n",
       "      <td>0.0</td>\n",
       "      <td>0.0</td>\n",
       "      <td>2013</td>\n",
       "    </tr>\n",
       "    <tr>\n",
       "      <td>1</td>\n",
       "      <td>51775</td>\n",
       "      <td>NaN</td>\n",
       "      <td>1.0</td>\n",
       "      <td>1.0</td>\n",
       "      <td>1.0</td>\n",
       "      <td>67.0</td>\n",
       "      <td>67.0</td>\n",
       "      <td>113851.0</td>\n",
       "      <td>21.032480</td>\n",
       "      <td>-89.592424</td>\n",
       "      <td>0.0</td>\n",
       "      <td>0.0</td>\n",
       "      <td>0.0</td>\n",
       "      <td>0.0</td>\n",
       "      <td>0.0</td>\n",
       "      <td>2015</td>\n",
       "    </tr>\n",
       "    <tr>\n",
       "      <td>2</td>\n",
       "      <td>115253</td>\n",
       "      <td>0.0</td>\n",
       "      <td>2.0</td>\n",
       "      <td>1.0</td>\n",
       "      <td>2.0</td>\n",
       "      <td>87.0</td>\n",
       "      <td>100.0</td>\n",
       "      <td>23620.0</td>\n",
       "      <td>19.332829</td>\n",
       "      <td>-99.152913</td>\n",
       "      <td>0.0</td>\n",
       "      <td>0.0</td>\n",
       "      <td>0.0</td>\n",
       "      <td>0.0</td>\n",
       "      <td>1.0</td>\n",
       "      <td>2015</td>\n",
       "    </tr>\n",
       "    <tr>\n",
       "      <td>3</td>\n",
       "      <td>299321</td>\n",
       "      <td>2.0</td>\n",
       "      <td>2.0</td>\n",
       "      <td>2.0</td>\n",
       "      <td>2.0</td>\n",
       "      <td>86.0</td>\n",
       "      <td>86.0</td>\n",
       "      <td>129347.0</td>\n",
       "      <td>16.860487</td>\n",
       "      <td>-99.878383</td>\n",
       "      <td>0.0</td>\n",
       "      <td>0.0</td>\n",
       "      <td>0.0</td>\n",
       "      <td>0.0</td>\n",
       "      <td>0.0</td>\n",
       "      <td>2015</td>\n",
       "    </tr>\n",
       "    <tr>\n",
       "      <td>4</td>\n",
       "      <td>173570</td>\n",
       "      <td>10.0</td>\n",
       "      <td>2.0</td>\n",
       "      <td>1.0</td>\n",
       "      <td>1.0</td>\n",
       "      <td>80.0</td>\n",
       "      <td>76.0</td>\n",
       "      <td>57125.0</td>\n",
       "      <td>19.640482</td>\n",
       "      <td>-99.127273</td>\n",
       "      <td>0.0</td>\n",
       "      <td>0.0</td>\n",
       "      <td>0.0</td>\n",
       "      <td>1.0</td>\n",
       "      <td>1.0</td>\n",
       "      <td>2013</td>\n",
       "    </tr>\n",
       "  </tbody>\n",
       "</table>\n",
       "</div>"
      ],
      "text/plain": [
       "       id  antiguedad  habitaciones  garages  banos  metroscubiertos  \\\n",
       "0    4941        29.0           3.0      NaN    4.0            300.0   \n",
       "1   51775         NaN           1.0      1.0    1.0             67.0   \n",
       "2  115253         0.0           2.0      1.0    2.0             87.0   \n",
       "3  299321         2.0           2.0      2.0    2.0             86.0   \n",
       "4  173570        10.0           2.0      1.0    1.0             80.0   \n",
       "\n",
       "   metrostotales    idzona        lat        lng  gimnasio  usosmultiples  \\\n",
       "0            NaN       NaN  19.408668 -99.246767       0.0            0.0   \n",
       "1           67.0  113851.0  21.032480 -89.592424       0.0            0.0   \n",
       "2          100.0   23620.0  19.332829 -99.152913       0.0            0.0   \n",
       "3           86.0  129347.0  16.860487 -99.878383       0.0            0.0   \n",
       "4           76.0   57125.0  19.640482 -99.127273       0.0            0.0   \n",
       "\n",
       "   piscina  escuelascercanas  centroscomercialescercanos  anio_publ  \n",
       "0      0.0               0.0                         0.0       2013  \n",
       "1      0.0               0.0                         0.0       2015  \n",
       "2      0.0               0.0                         1.0       2015  \n",
       "3      0.0               0.0                         0.0       2015  \n",
       "4      0.0               1.0                         1.0       2013  "
      ]
     },
     "execution_count": 94,
     "metadata": {},
     "output_type": "execute_result"
    }
   ],
   "source": [
    "test_set.head()"
   ]
  },
  {
   "cell_type": "code",
   "execution_count": 95,
   "metadata": {},
   "outputs": [
    {
     "data": {
      "text/plain": [
       "60000"
      ]
     },
     "execution_count": 95,
     "metadata": {},
     "output_type": "execute_result"
    }
   ],
   "source": [
    "len(test_set)"
   ]
  },
  {
   "cell_type": "code",
   "execution_count": 96,
   "metadata": {},
   "outputs": [],
   "source": [
    "test_set.to_csv(\"test_set_xgb.csv\", index = False)"
   ]
  }
 ],
 "metadata": {
  "kernelspec": {
   "display_name": "Python 3",
   "language": "python",
   "name": "python3"
  },
  "language_info": {
   "codemirror_mode": {
    "name": "ipython",
    "version": 3
   },
   "file_extension": ".py",
   "mimetype": "text/x-python",
   "name": "python",
   "nbconvert_exporter": "python",
   "pygments_lexer": "ipython3",
   "version": "3.7.4"
  }
 },
 "nbformat": 4,
 "nbformat_minor": 4
}
