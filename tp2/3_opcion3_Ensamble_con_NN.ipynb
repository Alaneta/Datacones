{
 "cells": [
  {
   "cell_type": "code",
   "execution_count": 1,
   "metadata": {},
   "outputs": [],
   "source": [
    "import csv\n",
    "import pandas as pd\n",
    "import numpy as np\n",
    "from datetime import datetime\n",
    "import seaborn as sns\n",
    "import matplotlib.pyplot as plt\n",
    "import sklearn\n",
    "from sklearn.ensemble import RandomForestRegressor\n",
    "from sklearn.metrics import mean_squared_log_error\n",
    "# Importamos utilidades y modelos de sklearn\n",
    "from sklearn.preprocessing import Imputer\n",
    "from sklearn.model_selection import train_test_split\n",
    "import xgboost as xgb\n",
    "from sklearn.model_selection import RandomizedSearchCV, GridSearchCV\n",
    "from sklearn.metrics import roc_auc_score\n",
    "from sklearn.model_selection import StratifiedKFold\n",
    "from sklearn.neural_network import MLPRegressor\n",
    "from sklearn.preprocessing import StandardScaler"
   ]
  },
  {
   "cell_type": "markdown",
   "metadata": {},
   "source": [
    "# Se levanta el split hecho en el NoteBook anterior"
   ]
  },
  {
   "cell_type": "code",
   "execution_count": 2,
   "metadata": {},
   "outputs": [
    {
     "data": {
      "text/html": [
       "<div>\n",
       "<style scoped>\n",
       "    .dataframe tbody tr th:only-of-type {\n",
       "        vertical-align: middle;\n",
       "    }\n",
       "\n",
       "    .dataframe tbody tr th {\n",
       "        vertical-align: top;\n",
       "    }\n",
       "\n",
       "    .dataframe thead th {\n",
       "        text-align: right;\n",
       "    }\n",
       "</style>\n",
       "<table border=\"1\" class=\"dataframe\">\n",
       "  <thead>\n",
       "    <tr style=\"text-align: right;\">\n",
       "      <th></th>\n",
       "      <th>antiguedad</th>\n",
       "      <th>habitaciones</th>\n",
       "      <th>garages</th>\n",
       "      <th>banos</th>\n",
       "      <th>metroscubiertos</th>\n",
       "      <th>metrostotales</th>\n",
       "      <th>idzona</th>\n",
       "      <th>lat</th>\n",
       "      <th>lng</th>\n",
       "      <th>gimnasio</th>\n",
       "      <th>usosmultiples</th>\n",
       "      <th>piscina</th>\n",
       "      <th>escuelascercanas</th>\n",
       "      <th>centroscomercialescercanos</th>\n",
       "      <th>anio_publ</th>\n",
       "    </tr>\n",
       "  </thead>\n",
       "  <tbody>\n",
       "    <tr>\n",
       "      <td>0</td>\n",
       "      <td>0.0</td>\n",
       "      <td>3.0</td>\n",
       "      <td>2.0</td>\n",
       "      <td>3.0</td>\n",
       "      <td>196.0</td>\n",
       "      <td>160.0</td>\n",
       "      <td>NaN</td>\n",
       "      <td>NaN</td>\n",
       "      <td>NaN</td>\n",
       "      <td>0.0</td>\n",
       "      <td>0.0</td>\n",
       "      <td>0.0</td>\n",
       "      <td>0.0</td>\n",
       "      <td>0.0</td>\n",
       "      <td>2014</td>\n",
       "    </tr>\n",
       "    <tr>\n",
       "      <td>1</td>\n",
       "      <td>20.0</td>\n",
       "      <td>4.0</td>\n",
       "      <td>2.0</td>\n",
       "      <td>2.0</td>\n",
       "      <td>245.0</td>\n",
       "      <td>196.0</td>\n",
       "      <td>104734.0</td>\n",
       "      <td>NaN</td>\n",
       "      <td>NaN</td>\n",
       "      <td>0.0</td>\n",
       "      <td>0.0</td>\n",
       "      <td>0.0</td>\n",
       "      <td>1.0</td>\n",
       "      <td>0.0</td>\n",
       "      <td>2012</td>\n",
       "    </tr>\n",
       "    <tr>\n",
       "      <td>2</td>\n",
       "      <td>5.0</td>\n",
       "      <td>3.0</td>\n",
       "      <td>1.0</td>\n",
       "      <td>2.0</td>\n",
       "      <td>108.0</td>\n",
       "      <td>120.0</td>\n",
       "      <td>58952.0</td>\n",
       "      <td>NaN</td>\n",
       "      <td>NaN</td>\n",
       "      <td>0.0</td>\n",
       "      <td>0.0</td>\n",
       "      <td>0.0</td>\n",
       "      <td>1.0</td>\n",
       "      <td>1.0</td>\n",
       "      <td>2015</td>\n",
       "    </tr>\n",
       "    <tr>\n",
       "      <td>3</td>\n",
       "      <td>10.0</td>\n",
       "      <td>3.0</td>\n",
       "      <td>1.0</td>\n",
       "      <td>3.0</td>\n",
       "      <td>200.0</td>\n",
       "      <td>147.0</td>\n",
       "      <td>49066.0</td>\n",
       "      <td>NaN</td>\n",
       "      <td>NaN</td>\n",
       "      <td>0.0</td>\n",
       "      <td>0.0</td>\n",
       "      <td>0.0</td>\n",
       "      <td>0.0</td>\n",
       "      <td>0.0</td>\n",
       "      <td>2016</td>\n",
       "    </tr>\n",
       "    <tr>\n",
       "      <td>4</td>\n",
       "      <td>NaN</td>\n",
       "      <td>NaN</td>\n",
       "      <td>0.0</td>\n",
       "      <td>NaN</td>\n",
       "      <td>NaN</td>\n",
       "      <td>250.0</td>\n",
       "      <td>24892.0</td>\n",
       "      <td>19.23339</td>\n",
       "      <td>-99.166991</td>\n",
       "      <td>0.0</td>\n",
       "      <td>0.0</td>\n",
       "      <td>0.0</td>\n",
       "      <td>0.0</td>\n",
       "      <td>0.0</td>\n",
       "      <td>2016</td>\n",
       "    </tr>\n",
       "  </tbody>\n",
       "</table>\n",
       "</div>"
      ],
      "text/plain": [
       "   antiguedad  habitaciones  garages  banos  metroscubiertos  metrostotales  \\\n",
       "0         0.0           3.0      2.0    3.0            196.0          160.0   \n",
       "1        20.0           4.0      2.0    2.0            245.0          196.0   \n",
       "2         5.0           3.0      1.0    2.0            108.0          120.0   \n",
       "3        10.0           3.0      1.0    3.0            200.0          147.0   \n",
       "4         NaN           NaN      0.0    NaN              NaN          250.0   \n",
       "\n",
       "     idzona       lat        lng  gimnasio  usosmultiples  piscina  \\\n",
       "0       NaN       NaN        NaN       0.0            0.0      0.0   \n",
       "1  104734.0       NaN        NaN       0.0            0.0      0.0   \n",
       "2   58952.0       NaN        NaN       0.0            0.0      0.0   \n",
       "3   49066.0       NaN        NaN       0.0            0.0      0.0   \n",
       "4   24892.0  19.23339 -99.166991       0.0            0.0      0.0   \n",
       "\n",
       "   escuelascercanas  centroscomercialescercanos  anio_publ  \n",
       "0               0.0                         0.0       2014  \n",
       "1               1.0                         0.0       2012  \n",
       "2               1.0                         1.0       2015  \n",
       "3               0.0                         0.0       2016  \n",
       "4               0.0                         0.0       2016  "
      ]
     },
     "execution_count": 2,
     "metadata": {},
     "output_type": "execute_result"
    }
   ],
   "source": [
    "entrenarX_train = pd.read_csv(\"X_train\")\n",
    "X_train.head()"
   ]
  },
  {
   "cell_type": "code",
   "execution_count": 3,
   "metadata": {},
   "outputs": [],
   "source": [
    "X_test = pd.read_csv(\"X_test\")"
   ]
  },
  {
   "cell_type": "code",
   "execution_count": 4,
   "metadata": {},
   "outputs": [],
   "source": [
    "y_train = pd.read_csv(\"y_train\")"
   ]
  },
  {
   "cell_type": "code",
   "execution_count": 5,
   "metadata": {},
   "outputs": [],
   "source": [
    "y_test = pd.read_csv(\"y_test\")"
   ]
  },
  {
   "cell_type": "markdown",
   "metadata": {},
   "source": [
    "# Se levantan todos los XGBoost guardados"
   ]
  },
  {
   "cell_type": "code",
   "execution_count": 6,
   "metadata": {},
   "outputs": [],
   "source": [
    "xgb_created = []"
   ]
  },
  {
   "cell_type": "markdown",
   "metadata": {},
   "source": [
    "## Atencion! n tiene que coincidir con la cantidad guardada!"
   ]
  },
  {
   "cell_type": "code",
   "execution_count": 7,
   "metadata": {},
   "outputs": [],
   "source": [
    "n = 200"
   ]
  },
  {
   "cell_type": "code",
   "execution_count": 8,
   "metadata": {},
   "outputs": [],
   "source": [
    "for i in range(n):\n",
    "    current_xgb = xgb.XGBRegressor()\n",
    "    current_xgb.load_model(\"xgb_{}\".format(i))\n",
    "    xgb_created.append(current_xgb)"
   ]
  },
  {
   "cell_type": "markdown",
   "metadata": {},
   "source": [
    "# Se arma el DF de precios para entrenar la NN"
   ]
  },
  {
   "cell_type": "code",
   "execution_count": 9,
   "metadata": {},
   "outputs": [],
   "source": [
    "NN_train = pd.DataFrame(index = X_train.index.copy())"
   ]
  },
  {
   "cell_type": "code",
   "execution_count": 10,
   "metadata": {},
   "outputs": [
    {
     "data": {
      "text/html": [
       "<div>\n",
       "<style scoped>\n",
       "    .dataframe tbody tr th:only-of-type {\n",
       "        vertical-align: middle;\n",
       "    }\n",
       "\n",
       "    .dataframe tbody tr th {\n",
       "        vertical-align: top;\n",
       "    }\n",
       "\n",
       "    .dataframe thead th {\n",
       "        text-align: right;\n",
       "    }\n",
       "</style>\n",
       "<table border=\"1\" class=\"dataframe\">\n",
       "  <thead>\n",
       "    <tr style=\"text-align: right;\">\n",
       "      <th></th>\n",
       "      <th>pred_0</th>\n",
       "      <th>pred_1</th>\n",
       "      <th>pred_2</th>\n",
       "      <th>pred_3</th>\n",
       "      <th>pred_4</th>\n",
       "      <th>pred_5</th>\n",
       "      <th>pred_6</th>\n",
       "      <th>pred_7</th>\n",
       "      <th>pred_8</th>\n",
       "      <th>pred_9</th>\n",
       "      <th>...</th>\n",
       "      <th>pred_190</th>\n",
       "      <th>pred_191</th>\n",
       "      <th>pred_192</th>\n",
       "      <th>pred_193</th>\n",
       "      <th>pred_194</th>\n",
       "      <th>pred_195</th>\n",
       "      <th>pred_196</th>\n",
       "      <th>pred_197</th>\n",
       "      <th>pred_198</th>\n",
       "      <th>pred_199</th>\n",
       "    </tr>\n",
       "  </thead>\n",
       "  <tbody>\n",
       "    <tr>\n",
       "      <td>0</td>\n",
       "      <td>1675568.750</td>\n",
       "      <td>2279996.000</td>\n",
       "      <td>2.278069e+06</td>\n",
       "      <td>1962261.875</td>\n",
       "      <td>1908726.000</td>\n",
       "      <td>1975850.125</td>\n",
       "      <td>2.041407e+06</td>\n",
       "      <td>2135030.50</td>\n",
       "      <td>1780616.500</td>\n",
       "      <td>2251092.750</td>\n",
       "      <td>...</td>\n",
       "      <td>2.332686e+06</td>\n",
       "      <td>2058865.25</td>\n",
       "      <td>1.892811e+06</td>\n",
       "      <td>2.447693e+06</td>\n",
       "      <td>1982648.375</td>\n",
       "      <td>2.459340e+06</td>\n",
       "      <td>2373884.500</td>\n",
       "      <td>1711514.375</td>\n",
       "      <td>2.224779e+06</td>\n",
       "      <td>2.174826e+06</td>\n",
       "    </tr>\n",
       "    <tr>\n",
       "      <td>1</td>\n",
       "      <td>1133347.250</td>\n",
       "      <td>1877194.375</td>\n",
       "      <td>1.398618e+06</td>\n",
       "      <td>2622835.500</td>\n",
       "      <td>1574958.500</td>\n",
       "      <td>2191358.000</td>\n",
       "      <td>1.781564e+06</td>\n",
       "      <td>1873575.75</td>\n",
       "      <td>1501947.625</td>\n",
       "      <td>2166757.250</td>\n",
       "      <td>...</td>\n",
       "      <td>1.423210e+06</td>\n",
       "      <td>1886828.50</td>\n",
       "      <td>1.360701e+06</td>\n",
       "      <td>1.722803e+06</td>\n",
       "      <td>1879809.250</td>\n",
       "      <td>1.749367e+06</td>\n",
       "      <td>1678725.625</td>\n",
       "      <td>1802272.750</td>\n",
       "      <td>1.506787e+06</td>\n",
       "      <td>1.625895e+06</td>\n",
       "    </tr>\n",
       "    <tr>\n",
       "      <td>2</td>\n",
       "      <td>1297917.750</td>\n",
       "      <td>872463.250</td>\n",
       "      <td>9.312116e+05</td>\n",
       "      <td>935558.625</td>\n",
       "      <td>877573.375</td>\n",
       "      <td>1290895.750</td>\n",
       "      <td>9.639478e+05</td>\n",
       "      <td>1374816.50</td>\n",
       "      <td>1059143.125</td>\n",
       "      <td>1064682.625</td>\n",
       "      <td>...</td>\n",
       "      <td>8.692382e+05</td>\n",
       "      <td>891783.00</td>\n",
       "      <td>1.043634e+06</td>\n",
       "      <td>9.136286e+05</td>\n",
       "      <td>810946.500</td>\n",
       "      <td>8.736514e+05</td>\n",
       "      <td>1120368.125</td>\n",
       "      <td>901425.625</td>\n",
       "      <td>1.118626e+06</td>\n",
       "      <td>9.779751e+05</td>\n",
       "    </tr>\n",
       "    <tr>\n",
       "      <td>3</td>\n",
       "      <td>1428815.125</td>\n",
       "      <td>343955.125</td>\n",
       "      <td>1.164508e+06</td>\n",
       "      <td>1830824.250</td>\n",
       "      <td>1702865.375</td>\n",
       "      <td>1664202.375</td>\n",
       "      <td>1.508122e+06</td>\n",
       "      <td>1421637.00</td>\n",
       "      <td>1970687.750</td>\n",
       "      <td>1090036.625</td>\n",
       "      <td>...</td>\n",
       "      <td>1.471208e+06</td>\n",
       "      <td>1881730.50</td>\n",
       "      <td>1.671257e+06</td>\n",
       "      <td>1.818161e+06</td>\n",
       "      <td>2337558.500</td>\n",
       "      <td>2.057019e+06</td>\n",
       "      <td>1866981.375</td>\n",
       "      <td>2152244.750</td>\n",
       "      <td>1.691376e+06</td>\n",
       "      <td>1.937423e+06</td>\n",
       "    </tr>\n",
       "    <tr>\n",
       "      <td>4</td>\n",
       "      <td>2332554.250</td>\n",
       "      <td>3657671.500</td>\n",
       "      <td>1.526109e+06</td>\n",
       "      <td>1624921.625</td>\n",
       "      <td>2327190.750</td>\n",
       "      <td>1472552.000</td>\n",
       "      <td>2.774342e+06</td>\n",
       "      <td>2749102.00</td>\n",
       "      <td>3642267.000</td>\n",
       "      <td>4184341.250</td>\n",
       "      <td>...</td>\n",
       "      <td>2.270237e+06</td>\n",
       "      <td>2076781.00</td>\n",
       "      <td>1.458910e+06</td>\n",
       "      <td>1.402020e+06</td>\n",
       "      <td>3152021.250</td>\n",
       "      <td>3.898565e+05</td>\n",
       "      <td>2001380.750</td>\n",
       "      <td>1866278.500</td>\n",
       "      <td>-1.618149e+05</td>\n",
       "      <td>2.222274e+06</td>\n",
       "    </tr>\n",
       "  </tbody>\n",
       "</table>\n",
       "<p>5 rows × 200 columns</p>\n",
       "</div>"
      ],
      "text/plain": [
       "        pred_0       pred_1        pred_2       pred_3       pred_4  \\\n",
       "0  1675568.750  2279996.000  2.278069e+06  1962261.875  1908726.000   \n",
       "1  1133347.250  1877194.375  1.398618e+06  2622835.500  1574958.500   \n",
       "2  1297917.750   872463.250  9.312116e+05   935558.625   877573.375   \n",
       "3  1428815.125   343955.125  1.164508e+06  1830824.250  1702865.375   \n",
       "4  2332554.250  3657671.500  1.526109e+06  1624921.625  2327190.750   \n",
       "\n",
       "        pred_5        pred_6      pred_7       pred_8       pred_9  ...  \\\n",
       "0  1975850.125  2.041407e+06  2135030.50  1780616.500  2251092.750  ...   \n",
       "1  2191358.000  1.781564e+06  1873575.75  1501947.625  2166757.250  ...   \n",
       "2  1290895.750  9.639478e+05  1374816.50  1059143.125  1064682.625  ...   \n",
       "3  1664202.375  1.508122e+06  1421637.00  1970687.750  1090036.625  ...   \n",
       "4  1472552.000  2.774342e+06  2749102.00  3642267.000  4184341.250  ...   \n",
       "\n",
       "       pred_190    pred_191      pred_192      pred_193     pred_194  \\\n",
       "0  2.332686e+06  2058865.25  1.892811e+06  2.447693e+06  1982648.375   \n",
       "1  1.423210e+06  1886828.50  1.360701e+06  1.722803e+06  1879809.250   \n",
       "2  8.692382e+05   891783.00  1.043634e+06  9.136286e+05   810946.500   \n",
       "3  1.471208e+06  1881730.50  1.671257e+06  1.818161e+06  2337558.500   \n",
       "4  2.270237e+06  2076781.00  1.458910e+06  1.402020e+06  3152021.250   \n",
       "\n",
       "       pred_195     pred_196     pred_197      pred_198      pred_199  \n",
       "0  2.459340e+06  2373884.500  1711514.375  2.224779e+06  2.174826e+06  \n",
       "1  1.749367e+06  1678725.625  1802272.750  1.506787e+06  1.625895e+06  \n",
       "2  8.736514e+05  1120368.125   901425.625  1.118626e+06  9.779751e+05  \n",
       "3  2.057019e+06  1866981.375  2152244.750  1.691376e+06  1.937423e+06  \n",
       "4  3.898565e+05  2001380.750  1866278.500 -1.618149e+05  2.222274e+06  \n",
       "\n",
       "[5 rows x 200 columns]"
      ]
     },
     "execution_count": 10,
     "metadata": {},
     "output_type": "execute_result"
    }
   ],
   "source": [
    "for i in range(n):\n",
    "    current_price_pred = xgb_created[i].predict(X_train)\n",
    "    NN_train['pred_{}'.format(i)] = current_price_pred\n",
    "    print(\"xgb_{} finished pred\".format(i))\n",
    "NN_train.head()"
   ]
  },
  {
   "cell_type": "code",
   "execution_count": 11,
   "metadata": {},
   "outputs": [
    {
     "data": {
      "text/plain": [
       "168000"
      ]
     },
     "execution_count": 11,
     "metadata": {},
     "output_type": "execute_result"
    }
   ],
   "source": [
    "len(NN_train)"
   ]
  },
  {
   "cell_type": "code",
   "execution_count": 12,
   "metadata": {},
   "outputs": [
    {
     "data": {
      "text/plain": [
       "168000"
      ]
     },
     "execution_count": 12,
     "metadata": {},
     "output_type": "execute_result"
    }
   ],
   "source": [
    "len(NN_train)"
   ]
  },
  {
   "cell_type": "markdown",
   "metadata": {},
   "source": [
    "# Se Escala el NN_train"
   ]
  },
  {
   "cell_type": "code",
   "execution_count": 2,
   "metadata": {},
   "outputs": [],
   "source": [
    "scaler = StandardScaler()"
   ]
  },
  {
   "cell_type": "code",
   "execution_count": 3,
   "metadata": {},
   "outputs": [
    {
     "ename": "NameError",
     "evalue": "name 'NN_train' is not defined",
     "output_type": "error",
     "traceback": [
      "\u001b[0;31m---------------------------------------------------------------------------\u001b[0m",
      "\u001b[0;31mNameError\u001b[0m                                 Traceback (most recent call last)",
      "\u001b[0;32m<ipython-input-3-64ddec60bce7>\u001b[0m in \u001b[0;36m<module>\u001b[0;34m\u001b[0m\n\u001b[0;32m----> 1\u001b[0;31m \u001b[0mscaler\u001b[0m\u001b[0;34m.\u001b[0m\u001b[0mfit\u001b[0m\u001b[0;34m(\u001b[0m\u001b[0mNN_train\u001b[0m\u001b[0;34m)\u001b[0m\u001b[0;34m\u001b[0m\u001b[0;34m\u001b[0m\u001b[0m\n\u001b[0m",
      "\u001b[0;31mNameError\u001b[0m: name 'NN_train' is not defined"
     ]
    }
   ],
   "source": [
    "scaler.fit(NN_train)"
   ]
  },
  {
   "cell_type": "code",
   "execution_count": null,
   "metadata": {},
   "outputs": [],
   "source": [
    "NN_train = scaler.transform(NN_train)"
   ]
  },
  {
   "cell_type": "markdown",
   "metadata": {},
   "source": [
    "## Se exporta el NN_train para poder buscar hiperparametros"
   ]
  },
  {
   "cell_type": "code",
   "execution_count": 13,
   "metadata": {},
   "outputs": [],
   "source": [
    "NN_train.to_csv(\"NN_train\", index = False)"
   ]
  },
  {
   "cell_type": "markdown",
   "metadata": {},
   "source": [
    "# Se define el modelo "
   ]
  },
  {
   "cell_type": "markdown",
   "metadata": {},
   "source": [
    "sdg o adam como solver (lbfg queda descartado porque el train es muy grande).\n",
    "Supuestamente sdg es mejor si el modelo esta bien tuneado."
   ]
  },
  {
   "cell_type": "code",
   "execution_count": null,
   "metadata": {},
   "outputs": [],
   "source": [
    "MLP_reg = MLPRegressor(activation = 'relu', solver = 'sdg', , verbose = 1, alpha = 0.001, random_state = 0)"
   ]
  },
  {
   "cell_type": "markdown",
   "metadata": {},
   "source": [
    "# Se entrena el modelo"
   ]
  },
  {
   "cell_type": "code",
   "execution_count": null,
   "metadata": {},
   "outputs": [],
   "source": []
  },
  {
   "cell_type": "code",
   "execution_count": null,
   "metadata": {},
   "outputs": [],
   "source": []
  }
 ],
 "metadata": {
  "kernelspec": {
   "display_name": "Python 3",
   "language": "python",
   "name": "python3"
  },
  "language_info": {
   "codemirror_mode": {
    "name": "ipython",
    "version": 3
   },
   "file_extension": ".py",
   "mimetype": "text/x-python",
   "name": "python",
   "nbconvert_exporter": "python",
   "pygments_lexer": "ipython3",
   "version": "3.7.4"
  }
 },
 "nbformat": 4,
 "nbformat_minor": 4
}
