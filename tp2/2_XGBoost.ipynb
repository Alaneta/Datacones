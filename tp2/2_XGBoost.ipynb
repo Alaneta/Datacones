{
 "cells": [
  {
   "cell_type": "code",
   "execution_count": 63,
   "metadata": {},
   "outputs": [],
   "source": [
    "import csv\n",
    "import pandas as pd\n",
    "import numpy as np\n",
    "from datetime import datetime\n",
    "import seaborn as sns\n",
    "import matplotlib.pyplot as plt\n",
    "import sklearn\n",
    "from sklearn.ensemble import RandomForestRegressor\n",
    "from sklearn.metrics import mean_squared_log_error\n",
    "# Importamos utilidades y modelos de sklearn\n",
    "from sklearn.preprocessing import Imputer\n",
    "from sklearn.model_selection import train_test_split\n",
    "import xgboost as xgb"
   ]
  },
  {
   "cell_type": "markdown",
   "metadata": {},
   "source": [
    "# Se levanta el set de train generado"
   ]
  },
  {
   "cell_type": "code",
   "execution_count": 64,
   "metadata": {},
   "outputs": [],
   "source": [
    "data_set = pd.read_csv(\"train_set_xgb.csv\")\n",
    "#X = data_set.loc[:, (data_set.columns != 'precio') & (data_set.columns != 'factor_pm')]\n",
    "X = data_set.loc[:, (data_set.columns != 'precio')]\n",
    "y = data_set.loc[:, ['precio']]"
   ]
  },
  {
   "cell_type": "code",
   "execution_count": 65,
   "metadata": {},
   "outputs": [
    {
     "data": {
      "text/plain": [
       "Index(['id', 'precio', 'tipodepropiedad_1', 'tipodepropiedad_2',\n",
       "       'tipodepropiedad_3', 'tipodepropiedad_4', 'tipodepropiedad_5',\n",
       "       'tipodepropiedad_6', 'tipodepropiedad_7', 'tipodepropiedad_8',\n",
       "       'tipodepropiedad_9', 'tipodepropiedad_10', 'tipodepropiedad_11',\n",
       "       'tipodepropiedad_12', 'tipodepropiedad_13', 'tipodepropiedad_14',\n",
       "       'tipodepropiedad_15', 'tipodepropiedad_16', 'tipodepropiedad_17',\n",
       "       'tipodepropiedad_18', 'tipodepropiedad_19', 'tipodepropiedad_20',\n",
       "       'tipodepropiedad_21', 'tipodepropiedad_22', 'tipodepropiedad_23',\n",
       "       'tipodepropiedad_24', 'tipodepropiedad_25', 'provincia_1',\n",
       "       'provincia_2', 'provincia_3', 'provincia_4', 'provincia_5',\n",
       "       'provincia_6', 'provincia_7', 'provincia_8', 'provincia_9',\n",
       "       'provincia_10', 'provincia_11', 'provincia_12', 'provincia_13',\n",
       "       'provincia_14', 'provincia_15', 'provincia_16', 'provincia_17',\n",
       "       'provincia_18', 'provincia_19', 'provincia_20', 'provincia_21',\n",
       "       'provincia_22', 'provincia_23', 'provincia_24', 'provincia_25',\n",
       "       'provincia_26', 'provincia_27', 'provincia_28', 'provincia_29',\n",
       "       'provincia_30', 'provincia_31', 'provincia_32', 'usosmultiples',\n",
       "       'piscina', 'escuelascercanas', 'centroscomercialescercanos',\n",
       "       'antiguedad', 'metrostotales', 'metroscubiertos', 'garages', 'banos',\n",
       "       'lat', 'lng', 'metroscubiertos_mean_tipodeprop',\n",
       "       'metroscubiertos_var_tipodeprop', 'precio_mean_tipodeprop',\n",
       "       'precio_var_tipodeprop'],\n",
       "      dtype='object')"
      ]
     },
     "execution_count": 65,
     "metadata": {},
     "output_type": "execute_result"
    }
   ],
   "source": [
    "data_set.columns"
   ]
  },
  {
   "cell_type": "code",
   "execution_count": 66,
   "metadata": {},
   "outputs": [
    {
     "data": {
      "text/plain": [
       "Index(['id', 'tipodepropiedad_1', 'tipodepropiedad_2', 'tipodepropiedad_3',\n",
       "       'tipodepropiedad_4', 'tipodepropiedad_5', 'tipodepropiedad_6',\n",
       "       'tipodepropiedad_7', 'tipodepropiedad_8', 'tipodepropiedad_9',\n",
       "       'tipodepropiedad_10', 'tipodepropiedad_11', 'tipodepropiedad_12',\n",
       "       'tipodepropiedad_13', 'tipodepropiedad_14', 'tipodepropiedad_15',\n",
       "       'tipodepropiedad_16', 'tipodepropiedad_17', 'tipodepropiedad_18',\n",
       "       'tipodepropiedad_19', 'tipodepropiedad_20', 'tipodepropiedad_21',\n",
       "       'tipodepropiedad_22', 'tipodepropiedad_23', 'tipodepropiedad_24',\n",
       "       'tipodepropiedad_25', 'provincia_1', 'provincia_2', 'provincia_3',\n",
       "       'provincia_4', 'provincia_5', 'provincia_6', 'provincia_7',\n",
       "       'provincia_8', 'provincia_9', 'provincia_10', 'provincia_11',\n",
       "       'provincia_12', 'provincia_13', 'provincia_14', 'provincia_15',\n",
       "       'provincia_16', 'provincia_17', 'provincia_18', 'provincia_19',\n",
       "       'provincia_20', 'provincia_21', 'provincia_22', 'provincia_23',\n",
       "       'provincia_24', 'provincia_25', 'provincia_26', 'provincia_27',\n",
       "       'provincia_28', 'provincia_29', 'provincia_30', 'provincia_31',\n",
       "       'provincia_32', 'usosmultiples', 'piscina', 'escuelascercanas',\n",
       "       'centroscomercialescercanos', 'antiguedad', 'metrostotales',\n",
       "       'metroscubiertos', 'garages', 'banos', 'lat', 'lng',\n",
       "       'metroscubiertos_mean_tipodeprop', 'metroscubiertos_var_tipodeprop',\n",
       "       'precio_mean_tipodeprop', 'precio_var_tipodeprop'],\n",
       "      dtype='object')"
      ]
     },
     "execution_count": 66,
     "metadata": {},
     "output_type": "execute_result"
    }
   ],
   "source": [
    "X.columns"
   ]
  },
  {
   "cell_type": "code",
   "execution_count": 67,
   "metadata": {},
   "outputs": [
    {
     "data": {
      "text/plain": [
       "Index(['precio'], dtype='object')"
      ]
     },
     "execution_count": 67,
     "metadata": {},
     "output_type": "execute_result"
    }
   ],
   "source": [
    "y.columns"
   ]
  },
  {
   "cell_type": "markdown",
   "metadata": {},
   "source": [
    "# Se convierten los datos a DMatrix "
   ]
  },
  {
   "cell_type": "code",
   "execution_count": 68,
   "metadata": {},
   "outputs": [],
   "source": [
    "data_DMatrix = xgb.DMatrix(data = X, label = y)"
   ]
  },
  {
   "cell_type": "markdown",
   "metadata": {},
   "source": [
    "# Se separa en train y en test"
   ]
  },
  {
   "cell_type": "code",
   "execution_count": 69,
   "metadata": {},
   "outputs": [],
   "source": [
    "X_train, X_test, y_train, y_test = train_test_split(X, y, test_size=0.25, random_state=1)"
   ]
  },
  {
   "cell_type": "code",
   "execution_count": 70,
   "metadata": {},
   "outputs": [
    {
     "data": {
      "text/plain": [
       "179965"
      ]
     },
     "execution_count": 70,
     "metadata": {},
     "output_type": "execute_result"
    }
   ],
   "source": [
    "len(X_train)"
   ]
  },
  {
   "cell_type": "code",
   "execution_count": 71,
   "metadata": {},
   "outputs": [
    {
     "data": {
      "text/plain": [
       "59989"
      ]
     },
     "execution_count": 71,
     "metadata": {},
     "output_type": "execute_result"
    }
   ],
   "source": [
    "len(X_test)"
   ]
  },
  {
   "cell_type": "markdown",
   "metadata": {},
   "source": [
    "# Se define y entrena el modelo con el set de train "
   ]
  },
  {
   "cell_type": "code",
   "execution_count": 72,
   "metadata": {},
   "outputs": [],
   "source": [
    "xg_reg = xgb.XGBRegressor(objective ='reg:squarederror', \n",
    "                colsample_bytree = 0.3, learning_rate = 0.1,\n",
    "                max_depth = 5, alpha = 10, n_estimators = 100)"
   ]
  },
  {
   "cell_type": "code",
   "execution_count": 73,
   "metadata": {},
   "outputs": [
    {
     "data": {
      "text/plain": [
       "XGBRegressor(alpha=10, base_score=0.5, booster='gbtree', colsample_bylevel=1,\n",
       "             colsample_bynode=1, colsample_bytree=0.3, gamma=0,\n",
       "             importance_type='gain', learning_rate=0.1, max_delta_step=0,\n",
       "             max_depth=5, min_child_weight=1, missing=None, n_estimators=100,\n",
       "             n_jobs=1, nthread=None, objective='reg:squarederror',\n",
       "             random_state=0, reg_alpha=0, reg_lambda=1, scale_pos_weight=1,\n",
       "             seed=None, silent=None, subsample=1, verbosity=1)"
      ]
     },
     "execution_count": 73,
     "metadata": {},
     "output_type": "execute_result"
    }
   ],
   "source": [
    "xg_reg.fit(X_train,y_train)"
   ]
  },
  {
   "cell_type": "markdown",
   "metadata": {},
   "source": [
    "# Se calcula la prediccion del set de test y del set de entrenamiento tambien"
   ]
  },
  {
   "cell_type": "code",
   "execution_count": 74,
   "metadata": {},
   "outputs": [],
   "source": [
    "pred_train = xg_reg.predict(X_train)"
   ]
  },
  {
   "cell_type": "code",
   "execution_count": 75,
   "metadata": {},
   "outputs": [],
   "source": [
    "pred_test = xg_reg.predict(X_test)"
   ]
  },
  {
   "cell_type": "markdown",
   "metadata": {},
   "source": [
    "# Se evaluan ambas predicciones"
   ]
  },
  {
   "cell_type": "markdown",
   "metadata": {},
   "source": [
    "## Como metrica se utiliza RMSLE (cuanto mas cercano a 0, mejor)"
   ]
  },
  {
   "cell_type": "code",
   "execution_count": 76,
   "metadata": {},
   "outputs": [
    {
     "ename": "ValueError",
     "evalue": "Mean Squared Logarithmic Error cannot be used when targets contain negative values.",
     "output_type": "error",
     "traceback": [
      "\u001b[0;31m---------------------------------------------------------------------------\u001b[0m",
      "\u001b[0;31mValueError\u001b[0m                                Traceback (most recent call last)",
      "\u001b[0;32m<ipython-input-76-f133ab27bdc4>\u001b[0m in \u001b[0;36m<module>\u001b[0;34m\u001b[0m\n\u001b[0;32m----> 1\u001b[0;31m \u001b[0mrmsle_train\u001b[0m \u001b[0;34m=\u001b[0m \u001b[0mnp\u001b[0m\u001b[0;34m.\u001b[0m\u001b[0msqrt\u001b[0m\u001b[0;34m(\u001b[0m\u001b[0msklearn\u001b[0m\u001b[0;34m.\u001b[0m\u001b[0mmetrics\u001b[0m\u001b[0;34m.\u001b[0m\u001b[0mmean_squared_log_error\u001b[0m\u001b[0;34m(\u001b[0m\u001b[0my_train\u001b[0m\u001b[0;34m,\u001b[0m \u001b[0mpred_train\u001b[0m\u001b[0;34m)\u001b[0m\u001b[0;34m)\u001b[0m\u001b[0;34m\u001b[0m\u001b[0;34m\u001b[0m\u001b[0m\n\u001b[0m\u001b[1;32m      2\u001b[0m \u001b[0mrmsle_test\u001b[0m \u001b[0;34m=\u001b[0m \u001b[0mnp\u001b[0m\u001b[0;34m.\u001b[0m\u001b[0msqrt\u001b[0m\u001b[0;34m(\u001b[0m\u001b[0msklearn\u001b[0m\u001b[0;34m.\u001b[0m\u001b[0mmetrics\u001b[0m\u001b[0;34m.\u001b[0m\u001b[0mmean_squared_log_error\u001b[0m\u001b[0;34m(\u001b[0m\u001b[0my_test\u001b[0m\u001b[0;34m,\u001b[0m \u001b[0mpred_test\u001b[0m\u001b[0;34m)\u001b[0m\u001b[0;34m)\u001b[0m\u001b[0;34m\u001b[0m\u001b[0;34m\u001b[0m\u001b[0m\n\u001b[1;32m      3\u001b[0m \u001b[0mprint\u001b[0m\u001b[0;34m(\u001b[0m\u001b[0;34m\"RMSLE train: \"\u001b[0m\u001b[0;34m+\u001b[0m\u001b[0mstr\u001b[0m\u001b[0;34m(\u001b[0m\u001b[0mrmsle_train\u001b[0m\u001b[0;34m)\u001b[0m\u001b[0;34m)\u001b[0m\u001b[0;34m\u001b[0m\u001b[0;34m\u001b[0m\u001b[0m\n\u001b[1;32m      4\u001b[0m \u001b[0mprint\u001b[0m\u001b[0;34m(\u001b[0m\u001b[0;34m\"RMSLE test: \"\u001b[0m\u001b[0;34m+\u001b[0m\u001b[0mstr\u001b[0m\u001b[0;34m(\u001b[0m\u001b[0mrmsle_train\u001b[0m\u001b[0;34m)\u001b[0m\u001b[0;34m)\u001b[0m\u001b[0;34m\u001b[0m\u001b[0;34m\u001b[0m\u001b[0m\n",
      "\u001b[0;32m~/anaconda3/lib/python3.7/site-packages/sklearn/metrics/regression.py\u001b[0m in \u001b[0;36mmean_squared_log_error\u001b[0;34m(y_true, y_pred, sample_weight, multioutput)\u001b[0m\n\u001b[1;32m    314\u001b[0m \u001b[0;34m\u001b[0m\u001b[0m\n\u001b[1;32m    315\u001b[0m     \u001b[0;32mif\u001b[0m \u001b[0;34m(\u001b[0m\u001b[0my_true\u001b[0m \u001b[0;34m<\u001b[0m \u001b[0;36m0\u001b[0m\u001b[0;34m)\u001b[0m\u001b[0;34m.\u001b[0m\u001b[0many\u001b[0m\u001b[0;34m(\u001b[0m\u001b[0;34m)\u001b[0m \u001b[0;32mor\u001b[0m \u001b[0;34m(\u001b[0m\u001b[0my_pred\u001b[0m \u001b[0;34m<\u001b[0m \u001b[0;36m0\u001b[0m\u001b[0;34m)\u001b[0m\u001b[0;34m.\u001b[0m\u001b[0many\u001b[0m\u001b[0;34m(\u001b[0m\u001b[0;34m)\u001b[0m\u001b[0;34m:\u001b[0m\u001b[0;34m\u001b[0m\u001b[0;34m\u001b[0m\u001b[0m\n\u001b[0;32m--> 316\u001b[0;31m         raise ValueError(\"Mean Squared Logarithmic Error cannot be used when \"\n\u001b[0m\u001b[1;32m    317\u001b[0m                          \"targets contain negative values.\")\n\u001b[1;32m    318\u001b[0m \u001b[0;34m\u001b[0m\u001b[0m\n",
      "\u001b[0;31mValueError\u001b[0m: Mean Squared Logarithmic Error cannot be used when targets contain negative values."
     ]
    }
   ],
   "source": [
    "rmsle_train = np.sqrt(sklearn.metrics.mean_squared_log_error(y_train, pred_train))\n",
    "rmsle_test = np.sqrt(sklearn.metrics.mean_squared_log_error(y_test, pred_test))\n",
    "print(\"RMSLE train: \"+str(rmsle_train))\n",
    "print(\"RMSLE test: \"+str(rmsle_train))\n"
   ]
  },
  {
   "cell_type": "markdown",
   "metadata": {},
   "source": [
    "## Metrica de Mean Absolute Error (La de Kaggle) ?? (Hay que preguntar)"
   ]
  },
  {
   "cell_type": "code",
   "execution_count": 77,
   "metadata": {},
   "outputs": [
    {
     "name": "stdout",
     "output_type": "stream",
     "text": [
      "MAE train: 853.9175143027794\n",
      "MAE test: 855.5887207438703\n"
     ]
    }
   ],
   "source": [
    "mae_train = np.sqrt(sklearn.metrics.mean_absolute_error(y_train, pred_train))\n",
    "mae_test = np.sqrt(sklearn.metrics.mean_absolute_error(y_test, pred_test))\n",
    "#print(f\"MAE train: {mea_train:.5f}\")\n",
    "#print(f\"MAE test: {mea_test:.5f}\")\n",
    "print(\"MAE train: \"+str(mae_train))\n",
    "print(\"MAE test: \"+str(mae_test))"
   ]
  },
  {
   "cell_type": "markdown",
   "metadata": {},
   "source": [
    "# Se genera el archivo con las predicciones a subir a Kaggle"
   ]
  },
  {
   "cell_type": "code",
   "execution_count": 78,
   "metadata": {},
   "outputs": [],
   "source": [
    "test_set = pd.read_csv(\"test_set_xgb.csv\")"
   ]
  },
  {
   "cell_type": "code",
   "execution_count": 79,
   "metadata": {},
   "outputs": [
    {
     "data": {
      "text/html": [
       "<div>\n",
       "<style scoped>\n",
       "    .dataframe tbody tr th:only-of-type {\n",
       "        vertical-align: middle;\n",
       "    }\n",
       "\n",
       "    .dataframe tbody tr th {\n",
       "        vertical-align: top;\n",
       "    }\n",
       "\n",
       "    .dataframe thead th {\n",
       "        text-align: right;\n",
       "    }\n",
       "</style>\n",
       "<table border=\"1\" class=\"dataframe\">\n",
       "  <thead>\n",
       "    <tr style=\"text-align: right;\">\n",
       "      <th></th>\n",
       "      <th>id</th>\n",
       "      <th>tipodepropiedad_1</th>\n",
       "      <th>tipodepropiedad_2</th>\n",
       "      <th>tipodepropiedad_3</th>\n",
       "      <th>tipodepropiedad_4</th>\n",
       "      <th>tipodepropiedad_5</th>\n",
       "      <th>tipodepropiedad_6</th>\n",
       "      <th>tipodepropiedad_7</th>\n",
       "      <th>tipodepropiedad_8</th>\n",
       "      <th>tipodepropiedad_9</th>\n",
       "      <th>...</th>\n",
       "      <th>metrostotales</th>\n",
       "      <th>metroscubiertos</th>\n",
       "      <th>garages</th>\n",
       "      <th>banos</th>\n",
       "      <th>lat</th>\n",
       "      <th>lng</th>\n",
       "      <th>metroscubiertos_mean_tipodeprop</th>\n",
       "      <th>metroscubiertos_var_tipodeprop</th>\n",
       "      <th>precio_mean_tipodeprop</th>\n",
       "      <th>precio_var_tipodeprop</th>\n",
       "    </tr>\n",
       "  </thead>\n",
       "  <tbody>\n",
       "    <tr>\n",
       "      <td>0</td>\n",
       "      <td>4941</td>\n",
       "      <td>1</td>\n",
       "      <td>0</td>\n",
       "      <td>0</td>\n",
       "      <td>0</td>\n",
       "      <td>0</td>\n",
       "      <td>0</td>\n",
       "      <td>0</td>\n",
       "      <td>0</td>\n",
       "      <td>0</td>\n",
       "      <td>...</td>\n",
       "      <td>NaN</td>\n",
       "      <td>300.0</td>\n",
       "      <td>NaN</td>\n",
       "      <td>4.0</td>\n",
       "      <td>19.408668</td>\n",
       "      <td>-99.246767</td>\n",
       "      <td>193.814888</td>\n",
       "      <td>9797.989886</td>\n",
       "      <td>2.398158e+06</td>\n",
       "      <td>3.997227e+12</td>\n",
       "    </tr>\n",
       "    <tr>\n",
       "      <td>1</td>\n",
       "      <td>51775</td>\n",
       "      <td>0</td>\n",
       "      <td>1</td>\n",
       "      <td>0</td>\n",
       "      <td>0</td>\n",
       "      <td>0</td>\n",
       "      <td>0</td>\n",
       "      <td>0</td>\n",
       "      <td>0</td>\n",
       "      <td>0</td>\n",
       "      <td>...</td>\n",
       "      <td>67.0</td>\n",
       "      <td>67.0</td>\n",
       "      <td>1.0</td>\n",
       "      <td>1.0</td>\n",
       "      <td>21.032480</td>\n",
       "      <td>-89.592424</td>\n",
       "      <td>116.138123</td>\n",
       "      <td>4425.701226</td>\n",
       "      <td>2.763769e+06</td>\n",
       "      <td>5.488593e+12</td>\n",
       "    </tr>\n",
       "    <tr>\n",
       "      <td>2</td>\n",
       "      <td>115253</td>\n",
       "      <td>0</td>\n",
       "      <td>0</td>\n",
       "      <td>1</td>\n",
       "      <td>0</td>\n",
       "      <td>0</td>\n",
       "      <td>0</td>\n",
       "      <td>0</td>\n",
       "      <td>0</td>\n",
       "      <td>0</td>\n",
       "      <td>...</td>\n",
       "      <td>100.0</td>\n",
       "      <td>87.0</td>\n",
       "      <td>1.0</td>\n",
       "      <td>2.0</td>\n",
       "      <td>19.332829</td>\n",
       "      <td>-99.152913</td>\n",
       "      <td>116.138123</td>\n",
       "      <td>4425.701226</td>\n",
       "      <td>2.763769e+06</td>\n",
       "      <td>5.488593e+12</td>\n",
       "    </tr>\n",
       "    <tr>\n",
       "      <td>3</td>\n",
       "      <td>299321</td>\n",
       "      <td>0</td>\n",
       "      <td>0</td>\n",
       "      <td>1</td>\n",
       "      <td>0</td>\n",
       "      <td>0</td>\n",
       "      <td>0</td>\n",
       "      <td>0</td>\n",
       "      <td>0</td>\n",
       "      <td>0</td>\n",
       "      <td>...</td>\n",
       "      <td>86.0</td>\n",
       "      <td>86.0</td>\n",
       "      <td>2.0</td>\n",
       "      <td>2.0</td>\n",
       "      <td>16.860487</td>\n",
       "      <td>-99.878383</td>\n",
       "      <td>116.138123</td>\n",
       "      <td>4425.701226</td>\n",
       "      <td>2.763769e+06</td>\n",
       "      <td>5.488593e+12</td>\n",
       "    </tr>\n",
       "    <tr>\n",
       "      <td>4</td>\n",
       "      <td>173570</td>\n",
       "      <td>1</td>\n",
       "      <td>0</td>\n",
       "      <td>0</td>\n",
       "      <td>0</td>\n",
       "      <td>0</td>\n",
       "      <td>0</td>\n",
       "      <td>0</td>\n",
       "      <td>0</td>\n",
       "      <td>0</td>\n",
       "      <td>...</td>\n",
       "      <td>76.0</td>\n",
       "      <td>80.0</td>\n",
       "      <td>1.0</td>\n",
       "      <td>1.0</td>\n",
       "      <td>19.640482</td>\n",
       "      <td>-99.127273</td>\n",
       "      <td>193.814888</td>\n",
       "      <td>9797.989886</td>\n",
       "      <td>2.398158e+06</td>\n",
       "      <td>3.997227e+12</td>\n",
       "    </tr>\n",
       "  </tbody>\n",
       "</table>\n",
       "<p>5 rows × 73 columns</p>\n",
       "</div>"
      ],
      "text/plain": [
       "       id  tipodepropiedad_1  tipodepropiedad_2  tipodepropiedad_3  \\\n",
       "0    4941                  1                  0                  0   \n",
       "1   51775                  0                  1                  0   \n",
       "2  115253                  0                  0                  1   \n",
       "3  299321                  0                  0                  1   \n",
       "4  173570                  1                  0                  0   \n",
       "\n",
       "   tipodepropiedad_4  tipodepropiedad_5  tipodepropiedad_6  tipodepropiedad_7  \\\n",
       "0                  0                  0                  0                  0   \n",
       "1                  0                  0                  0                  0   \n",
       "2                  0                  0                  0                  0   \n",
       "3                  0                  0                  0                  0   \n",
       "4                  0                  0                  0                  0   \n",
       "\n",
       "   tipodepropiedad_8  tipodepropiedad_9  ...  metrostotales  metroscubiertos  \\\n",
       "0                  0                  0  ...            NaN            300.0   \n",
       "1                  0                  0  ...           67.0             67.0   \n",
       "2                  0                  0  ...          100.0             87.0   \n",
       "3                  0                  0  ...           86.0             86.0   \n",
       "4                  0                  0  ...           76.0             80.0   \n",
       "\n",
       "   garages  banos        lat        lng  metroscubiertos_mean_tipodeprop  \\\n",
       "0      NaN    4.0  19.408668 -99.246767                       193.814888   \n",
       "1      1.0    1.0  21.032480 -89.592424                       116.138123   \n",
       "2      1.0    2.0  19.332829 -99.152913                       116.138123   \n",
       "3      2.0    2.0  16.860487 -99.878383                       116.138123   \n",
       "4      1.0    1.0  19.640482 -99.127273                       193.814888   \n",
       "\n",
       "   metroscubiertos_var_tipodeprop  precio_mean_tipodeprop  \\\n",
       "0                     9797.989886            2.398158e+06   \n",
       "1                     4425.701226            2.763769e+06   \n",
       "2                     4425.701226            2.763769e+06   \n",
       "3                     4425.701226            2.763769e+06   \n",
       "4                     9797.989886            2.398158e+06   \n",
       "\n",
       "   precio_var_tipodeprop  \n",
       "0           3.997227e+12  \n",
       "1           5.488593e+12  \n",
       "2           5.488593e+12  \n",
       "3           5.488593e+12  \n",
       "4           3.997227e+12  \n",
       "\n",
       "[5 rows x 73 columns]"
      ]
     },
     "execution_count": 79,
     "metadata": {},
     "output_type": "execute_result"
    }
   ],
   "source": [
    "test_set.head()"
   ]
  },
  {
   "cell_type": "code",
   "execution_count": 80,
   "metadata": {},
   "outputs": [],
   "source": [
    "pred_a_kaggle = xg_reg.predict(test_set)"
   ]
  },
  {
   "cell_type": "code",
   "execution_count": 81,
   "metadata": {},
   "outputs": [
    {
     "data": {
      "text/plain": [
       "array([6838871. , 1180581.5, 1284222. , ..., 1435445.9, 1261459.6,\n",
       "       3466000.2], dtype=float32)"
      ]
     },
     "execution_count": 81,
     "metadata": {},
     "output_type": "execute_result"
    }
   ],
   "source": [
    "pred_a_kaggle"
   ]
  },
  {
   "cell_type": "code",
   "execution_count": 82,
   "metadata": {},
   "outputs": [
    {
     "data": {
      "text/html": [
       "<div>\n",
       "<style scoped>\n",
       "    .dataframe tbody tr th:only-of-type {\n",
       "        vertical-align: middle;\n",
       "    }\n",
       "\n",
       "    .dataframe tbody tr th {\n",
       "        vertical-align: top;\n",
       "    }\n",
       "\n",
       "    .dataframe thead th {\n",
       "        text-align: right;\n",
       "    }\n",
       "</style>\n",
       "<table border=\"1\" class=\"dataframe\">\n",
       "  <thead>\n",
       "    <tr style=\"text-align: right;\">\n",
       "      <th></th>\n",
       "      <th>id</th>\n",
       "      <th>target</th>\n",
       "    </tr>\n",
       "  </thead>\n",
       "  <tbody>\n",
       "    <tr>\n",
       "      <td>0</td>\n",
       "      <td>4941</td>\n",
       "      <td>6.838871e+06</td>\n",
       "    </tr>\n",
       "    <tr>\n",
       "      <td>1</td>\n",
       "      <td>51775</td>\n",
       "      <td>1.180582e+06</td>\n",
       "    </tr>\n",
       "    <tr>\n",
       "      <td>2</td>\n",
       "      <td>115253</td>\n",
       "      <td>1.284222e+06</td>\n",
       "    </tr>\n",
       "    <tr>\n",
       "      <td>3</td>\n",
       "      <td>299321</td>\n",
       "      <td>1.246735e+06</td>\n",
       "    </tr>\n",
       "    <tr>\n",
       "      <td>4</td>\n",
       "      <td>173570</td>\n",
       "      <td>5.120127e+05</td>\n",
       "    </tr>\n",
       "  </tbody>\n",
       "</table>\n",
       "</div>"
      ],
      "text/plain": [
       "       id        target\n",
       "0    4941  6.838871e+06\n",
       "1   51775  1.180582e+06\n",
       "2  115253  1.284222e+06\n",
       "3  299321  1.246735e+06\n",
       "4  173570  5.120127e+05"
      ]
     },
     "execution_count": 82,
     "metadata": {},
     "output_type": "execute_result"
    }
   ],
   "source": [
    "df_a_kaggle = pd.DataFrame()\n",
    "df_a_kaggle['id'] = test_set['id']\n",
    "df_a_kaggle['target'] = pred_a_kaggle\n",
    "df_a_kaggle.head()"
   ]
  },
  {
   "cell_type": "markdown",
   "metadata": {},
   "source": [
    "Por alguna razon estan duplicados las filas. Debe haber un error en la generacion del csv. Habra que verificar"
   ]
  },
  {
   "cell_type": "code",
   "execution_count": 83,
   "metadata": {},
   "outputs": [],
   "source": [
    "df_a_kaggle = df_a_kaggle.drop_duplicates(\"id\")"
   ]
  },
  {
   "cell_type": "code",
   "execution_count": 84,
   "metadata": {},
   "outputs": [
    {
     "data": {
      "text/plain": [
       "60000"
      ]
     },
     "execution_count": 84,
     "metadata": {},
     "output_type": "execute_result"
    }
   ],
   "source": [
    "len(df_a_kaggle)"
   ]
  },
  {
   "cell_type": "code",
   "execution_count": 85,
   "metadata": {},
   "outputs": [],
   "source": [
    "df_a_kaggle.to_csv(\"subir_a_kaggle\", header = True, index = False)"
   ]
  }
 ],
 "metadata": {
  "kernelspec": {
   "display_name": "Python 3",
   "language": "python",
   "name": "python3"
  },
  "language_info": {
   "codemirror_mode": {
    "name": "ipython",
    "version": 3
   },
   "file_extension": ".py",
   "mimetype": "text/x-python",
   "name": "python",
   "nbconvert_exporter": "python",
   "pygments_lexer": "ipython3",
   "version": "3.7.4"
  }
 },
 "nbformat": 4,
 "nbformat_minor": 4
}
