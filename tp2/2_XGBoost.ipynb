{
 "cells": [
  {
   "cell_type": "code",
   "execution_count": 1,
   "metadata": {},
   "outputs": [],
   "source": [
    "import csv\n",
    "import pandas as pd\n",
    "import numpy as np\n",
    "from datetime import datetime\n",
    "import seaborn as sns\n",
    "import matplotlib.pyplot as plt\n",
    "import sklearn\n",
    "from sklearn.ensemble import RandomForestRegressor\n",
    "from sklearn.metrics import mean_squared_log_error\n",
    "# Importamos utilidades y modelos de sklearn\n",
    "from sklearn.preprocessing import Imputer\n",
    "from sklearn.model_selection import train_test_split\n",
    "import xgboost as xgb"
   ]
  },
  {
   "cell_type": "markdown",
   "metadata": {},
   "source": [
    "# Se levanta el set de train generado"
   ]
  },
  {
   "cell_type": "code",
   "execution_count": 2,
   "metadata": {},
   "outputs": [],
   "source": [
    "data_set = pd.read_csv(\"train_set_xgb.csv\")\n",
    "#X = data_set.loc[:, (data_set.columns != 'precio') & (data_set.columns != 'factor_pm')]\n",
    "X = data_set.loc[:, (data_set.columns != 'precio')]\n",
    "y = data_set.loc[:, ['precio']]"
   ]
  },
  {
   "cell_type": "code",
   "execution_count": 3,
   "metadata": {},
   "outputs": [
    {
     "data": {
      "text/plain": [
       "Index(['id', 'precio', 'tipodepropiedad_1', 'tipodepropiedad_2',\n",
       "       'tipodepropiedad_3', 'tipodepropiedad_4', 'tipodepropiedad_5',\n",
       "       'tipodepropiedad_6', 'tipodepropiedad_7', 'tipodepropiedad_8',\n",
       "       'tipodepropiedad_9', 'tipodepropiedad_10', 'tipodepropiedad_11',\n",
       "       'tipodepropiedad_12', 'tipodepropiedad_13', 'tipodepropiedad_14',\n",
       "       'tipodepropiedad_15', 'tipodepropiedad_16', 'tipodepropiedad_17',\n",
       "       'tipodepropiedad_18', 'tipodepropiedad_19', 'tipodepropiedad_20',\n",
       "       'tipodepropiedad_21', 'tipodepropiedad_22', 'tipodepropiedad_23',\n",
       "       'tipodepropiedad_24', 'tipodepropiedad_25', 'provincia_1',\n",
       "       'provincia_2', 'provincia_3', 'provincia_4', 'provincia_5',\n",
       "       'provincia_6', 'provincia_7', 'provincia_8', 'provincia_9',\n",
       "       'provincia_10', 'provincia_11', 'provincia_12', 'provincia_13',\n",
       "       'provincia_14', 'provincia_15', 'provincia_16', 'provincia_17',\n",
       "       'provincia_18', 'provincia_19', 'provincia_20', 'provincia_21',\n",
       "       'provincia_22', 'provincia_23', 'provincia_24', 'provincia_25',\n",
       "       'provincia_26', 'provincia_27', 'provincia_28', 'provincia_29',\n",
       "       'provincia_30', 'provincia_31', 'provincia_32', 'usosmultiples',\n",
       "       'piscina', 'escuelascercanas', 'centroscomercialescercanos',\n",
       "       'antiguedad', 'metrostotales', 'metroscubiertos', 'garages', 'banos',\n",
       "       'lat', 'lng', 'metroscubiertos_mean_tipodeprop',\n",
       "       'metroscubiertos_var_tipodeprop', 'precio_mean_tipodeprop',\n",
       "       'precio_var_tipodeprop'],\n",
       "      dtype='object')"
      ]
     },
     "execution_count": 3,
     "metadata": {},
     "output_type": "execute_result"
    }
   ],
   "source": [
    "data_set.columns"
   ]
  },
  {
   "cell_type": "code",
   "execution_count": 4,
   "metadata": {},
   "outputs": [
    {
     "data": {
      "text/plain": [
       "Index(['id', 'tipodepropiedad_1', 'tipodepropiedad_2', 'tipodepropiedad_3',\n",
       "       'tipodepropiedad_4', 'tipodepropiedad_5', 'tipodepropiedad_6',\n",
       "       'tipodepropiedad_7', 'tipodepropiedad_8', 'tipodepropiedad_9',\n",
       "       'tipodepropiedad_10', 'tipodepropiedad_11', 'tipodepropiedad_12',\n",
       "       'tipodepropiedad_13', 'tipodepropiedad_14', 'tipodepropiedad_15',\n",
       "       'tipodepropiedad_16', 'tipodepropiedad_17', 'tipodepropiedad_18',\n",
       "       'tipodepropiedad_19', 'tipodepropiedad_20', 'tipodepropiedad_21',\n",
       "       'tipodepropiedad_22', 'tipodepropiedad_23', 'tipodepropiedad_24',\n",
       "       'tipodepropiedad_25', 'provincia_1', 'provincia_2', 'provincia_3',\n",
       "       'provincia_4', 'provincia_5', 'provincia_6', 'provincia_7',\n",
       "       'provincia_8', 'provincia_9', 'provincia_10', 'provincia_11',\n",
       "       'provincia_12', 'provincia_13', 'provincia_14', 'provincia_15',\n",
       "       'provincia_16', 'provincia_17', 'provincia_18', 'provincia_19',\n",
       "       'provincia_20', 'provincia_21', 'provincia_22', 'provincia_23',\n",
       "       'provincia_24', 'provincia_25', 'provincia_26', 'provincia_27',\n",
       "       'provincia_28', 'provincia_29', 'provincia_30', 'provincia_31',\n",
       "       'provincia_32', 'usosmultiples', 'piscina', 'escuelascercanas',\n",
       "       'centroscomercialescercanos', 'antiguedad', 'metrostotales',\n",
       "       'metroscubiertos', 'garages', 'banos', 'lat', 'lng',\n",
       "       'metroscubiertos_mean_tipodeprop', 'metroscubiertos_var_tipodeprop',\n",
       "       'precio_mean_tipodeprop', 'precio_var_tipodeprop'],\n",
       "      dtype='object')"
      ]
     },
     "execution_count": 4,
     "metadata": {},
     "output_type": "execute_result"
    }
   ],
   "source": [
    "X.columns"
   ]
  },
  {
   "cell_type": "code",
   "execution_count": 5,
   "metadata": {},
   "outputs": [
    {
     "data": {
      "text/plain": [
       "Index(['precio'], dtype='object')"
      ]
     },
     "execution_count": 5,
     "metadata": {},
     "output_type": "execute_result"
    }
   ],
   "source": [
    "y.columns"
   ]
  },
  {
   "cell_type": "markdown",
   "metadata": {},
   "source": [
    "# Se convierten los datos a DMatrix "
   ]
  },
  {
   "cell_type": "code",
   "execution_count": 6,
   "metadata": {},
   "outputs": [],
   "source": [
    "data_DMatrix = xgb.DMatrix(data = X, label = y)"
   ]
  },
  {
   "cell_type": "markdown",
   "metadata": {},
   "source": [
    "# Se separa en train y en test"
   ]
  },
  {
   "cell_type": "code",
   "execution_count": 7,
   "metadata": {},
   "outputs": [],
   "source": [
    "X_train, X_test, y_train, y_test = train_test_split(X, y, test_size=0.25, random_state=1)"
   ]
  },
  {
   "cell_type": "code",
   "execution_count": 8,
   "metadata": {},
   "outputs": [
    {
     "data": {
      "text/plain": [
       "179965"
      ]
     },
     "execution_count": 8,
     "metadata": {},
     "output_type": "execute_result"
    }
   ],
   "source": [
    "len(X_train)"
   ]
  },
  {
   "cell_type": "code",
   "execution_count": 9,
   "metadata": {},
   "outputs": [
    {
     "data": {
      "text/plain": [
       "59989"
      ]
     },
     "execution_count": 9,
     "metadata": {},
     "output_type": "execute_result"
    }
   ],
   "source": [
    "len(X_test)"
   ]
  },
  {
   "cell_type": "markdown",
   "metadata": {},
   "source": [
    "# Se define y entrena el modelo con el set de train "
   ]
  },
  {
   "cell_type": "code",
   "execution_count": 10,
   "metadata": {},
   "outputs": [],
   "source": [
    "xg_reg = xgb.XGBRegressor(objective ='reg:squarederror', \n",
    "                colsample_bytree = 0.3, learning_rate = 1,\n",
    "                max_depth = 5, alpha = 10, n_estimators = 200)"
   ]
  },
  {
   "cell_type": "code",
   "execution_count": 11,
   "metadata": {},
   "outputs": [
    {
     "data": {
      "text/plain": [
       "XGBRegressor(alpha=10, base_score=0.5, booster='gbtree', colsample_bylevel=1,\n",
       "             colsample_bynode=1, colsample_bytree=0.3, gamma=0,\n",
       "             importance_type='gain', learning_rate=1, max_delta_step=0,\n",
       "             max_depth=5, min_child_weight=1, missing=None, n_estimators=200,\n",
       "             n_jobs=1, nthread=None, objective='reg:squarederror',\n",
       "             random_state=0, reg_alpha=0, reg_lambda=1, scale_pos_weight=1,\n",
       "             seed=None, silent=None, subsample=1, verbosity=1)"
      ]
     },
     "execution_count": 11,
     "metadata": {},
     "output_type": "execute_result"
    }
   ],
   "source": [
    "xg_reg.fit(X_train,y_train)"
   ]
  },
  {
   "cell_type": "markdown",
   "metadata": {},
   "source": [
    "# Se calcula la prediccion del set de test y del set de entrenamiento tambien"
   ]
  },
  {
   "cell_type": "code",
   "execution_count": 12,
   "metadata": {},
   "outputs": [],
   "source": [
    "pred_train = xg_reg.predict(X_train)"
   ]
  },
  {
   "cell_type": "code",
   "execution_count": 13,
   "metadata": {},
   "outputs": [],
   "source": [
    "pred_test = xg_reg.predict(X_test)"
   ]
  },
  {
   "cell_type": "markdown",
   "metadata": {},
   "source": [
    "# Se evaluan ambas predicciones"
   ]
  },
  {
   "cell_type": "markdown",
   "metadata": {},
   "source": [
    "## Como metrica se utiliza RMSLE (cuanto mas cercano a 0, mejor)"
   ]
  },
  {
   "cell_type": "code",
   "execution_count": 14,
   "metadata": {},
   "outputs": [],
   "source": [
    "# rmsle_train = np.sqrt(sklearn.metrics.mean_squared_log_error(y_train, pred_train))\n",
    "# rmsle_test = np.sqrt(sklearn.metrics.mean_squared_log_error(y_test, pred_test))\n",
    "# print(\"RMSLE train: \"+str(rmsle_train))\n",
    "# print(\"RMSLE test: \"+str(rmsle_train))\n"
   ]
  },
  {
   "cell_type": "markdown",
   "metadata": {},
   "source": [
    "Esta comentado porque se ve que hay algun numero negativo. Entonces no se puede calcular el logaritmo"
   ]
  },
  {
   "cell_type": "markdown",
   "metadata": {},
   "source": [
    "## Metrica de Mean Absolute Error (La de Kaggle) ?? (Hay que preguntar)"
   ]
  },
  {
   "cell_type": "code",
   "execution_count": 15,
   "metadata": {},
   "outputs": [
    {
     "name": "stdout",
     "output_type": "stream",
     "text": [
      "MAE train: 817.6029812179697\n",
      "MAE test: 864.7043760732092\n"
     ]
    }
   ],
   "source": [
    "mae_train = np.sqrt(sklearn.metrics.mean_absolute_error(y_train, pred_train))\n",
    "mae_test = np.sqrt(sklearn.metrics.mean_absolute_error(y_test, pred_test))\n",
    "#print(f\"MAE train: {mea_train:.5f}\")\n",
    "#print(f\"MAE test: {mea_test:.5f}\")\n",
    "print(\"MAE train: \"+str(mae_train))\n",
    "print(\"MAE test: \"+str(mae_test))"
   ]
  },
  {
   "cell_type": "markdown",
   "metadata": {},
   "source": [
    "# Importancia de Features"
   ]
  },
  {
   "cell_type": "code",
   "execution_count": 16,
   "metadata": {},
   "outputs": [
    {
     "data": {
      "text/plain": [
       "<Figure size 3600x3600 with 0 Axes>"
      ]
     },
     "metadata": {},
     "output_type": "display_data"
    },
    {
     "data": {
      "image/png": "[encoded data removed]",
      "text/plain": [
       "<Figure size 432x288 with 1 Axes>"
      ]
     },
     "metadata": {
      "needs_background": "light"
     },
     "output_type": "display_data"
    }
   ],
   "source": [
    "plt.figure(figsize = (50,50))\n",
    "xgb.plot_importance(xg_reg)\n",
    "plt.rcParams['figure.figsize'] = [10, 10]\n",
    "plt.show()"
   ]
  },
  {
   "cell_type": "markdown",
   "metadata": {},
   "source": [
    "# Se genera el archivo con las predicciones a subir a Kaggle"
   ]
  },
  {
   "cell_type": "code",
   "execution_count": 17,
   "metadata": {},
   "outputs": [],
   "source": [
    "test_set = pd.read_csv(\"test_set_xgb.csv\")"
   ]
  },
  {
   "cell_type": "code",
   "execution_count": 18,
   "metadata": {},
   "outputs": [
    {
     "data": {
      "text/plain": [
       "Index(['id', 'tipodepropiedad_1', 'tipodepropiedad_2', 'tipodepropiedad_3',\n",
       "       'tipodepropiedad_4', 'tipodepropiedad_5', 'tipodepropiedad_6',\n",
       "       'tipodepropiedad_7', 'tipodepropiedad_8', 'tipodepropiedad_9',\n",
       "       'tipodepropiedad_10', 'tipodepropiedad_11', 'tipodepropiedad_12',\n",
       "       'tipodepropiedad_13', 'tipodepropiedad_14', 'tipodepropiedad_15',\n",
       "       'tipodepropiedad_16', 'tipodepropiedad_17', 'tipodepropiedad_18',\n",
       "       'tipodepropiedad_19', 'tipodepropiedad_20', 'tipodepropiedad_21',\n",
       "       'tipodepropiedad_22', 'tipodepropiedad_23', 'tipodepropiedad_24',\n",
       "       'tipodepropiedad_25', 'provincia_1', 'provincia_2', 'provincia_3',\n",
       "       'provincia_4', 'provincia_5', 'provincia_6', 'provincia_7',\n",
       "       'provincia_8', 'provincia_9', 'provincia_10', 'provincia_11',\n",
       "       'provincia_12', 'provincia_13', 'provincia_14', 'provincia_15',\n",
       "       'provincia_16', 'provincia_17', 'provincia_18', 'provincia_19',\n",
       "       'provincia_20', 'provincia_21', 'provincia_22', 'provincia_23',\n",
       "       'provincia_24', 'provincia_25', 'provincia_26', 'provincia_27',\n",
       "       'provincia_28', 'provincia_29', 'provincia_30', 'provincia_31',\n",
       "       'provincia_32', 'usosmultiples', 'piscina', 'escuelascercanas',\n",
       "       'centroscomercialescercanos', 'antiguedad', 'metrostotales',\n",
       "       'metroscubiertos', 'garages', 'banos', 'lat', 'lng',\n",
       "       'metroscubiertos_mean_tipodeprop', 'metroscubiertos_var_tipodeprop',\n",
       "       'precio_mean_tipodeprop', 'precio_var_tipodeprop'],\n",
       "      dtype='object')"
      ]
     },
     "execution_count": 18,
     "metadata": {},
     "output_type": "execute_result"
    }
   ],
   "source": [
    "test_set.columns"
   ]
  },
  {
   "cell_type": "code",
   "execution_count": 19,
   "metadata": {},
   "outputs": [],
   "source": [
    "pred_a_kaggle = xg_reg.predict(test_set)"
   ]
  },
  {
   "cell_type": "code",
   "execution_count": 20,
   "metadata": {},
   "outputs": [
    {
     "data": {
      "text/plain": [
       "array([7998366. , 3199266. , 1457349.6, ..., 1523293.6,  940035.2,\n",
       "       3974728.8], dtype=float32)"
      ]
     },
     "execution_count": 20,
     "metadata": {},
     "output_type": "execute_result"
    }
   ],
   "source": [
    "pred_a_kaggle"
   ]
  },
  {
   "cell_type": "code",
   "execution_count": 21,
   "metadata": {},
   "outputs": [
    {
     "data": {
      "text/html": [
       "<div>\n",
       "<style scoped>\n",
       "    .dataframe tbody tr th:only-of-type {\n",
       "        vertical-align: middle;\n",
       "    }\n",
       "\n",
       "    .dataframe tbody tr th {\n",
       "        vertical-align: top;\n",
       "    }\n",
       "\n",
       "    .dataframe thead th {\n",
       "        text-align: right;\n",
       "    }\n",
       "</style>\n",
       "<table border=\"1\" class=\"dataframe\">\n",
       "  <thead>\n",
       "    <tr style=\"text-align: right;\">\n",
       "      <th></th>\n",
       "      <th>id</th>\n",
       "      <th>target</th>\n",
       "    </tr>\n",
       "  </thead>\n",
       "  <tbody>\n",
       "    <tr>\n",
       "      <th>0</th>\n",
       "      <td>4941</td>\n",
       "      <td>7.998366e+06</td>\n",
       "    </tr>\n",
       "    <tr>\n",
       "      <th>1</th>\n",
       "      <td>51775</td>\n",
       "      <td>3.199266e+06</td>\n",
       "    </tr>\n",
       "    <tr>\n",
       "      <th>2</th>\n",
       "      <td>115253</td>\n",
       "      <td>1.457350e+06</td>\n",
       "    </tr>\n",
       "    <tr>\n",
       "      <th>3</th>\n",
       "      <td>299321</td>\n",
       "      <td>9.021618e+05</td>\n",
       "    </tr>\n",
       "    <tr>\n",
       "      <th>4</th>\n",
       "      <td>173570</td>\n",
       "      <td>8.522862e+05</td>\n",
       "    </tr>\n",
       "  </tbody>\n",
       "</table>\n",
       "</div>"
      ],
      "text/plain": [
       "       id        target\n",
       "0    4941  7.998366e+06\n",
       "1   51775  3.199266e+06\n",
       "2  115253  1.457350e+06\n",
       "3  299321  9.021618e+05\n",
       "4  173570  8.522862e+05"
      ]
     },
     "execution_count": 21,
     "metadata": {},
     "output_type": "execute_result"
    }
   ],
   "source": [
    "df_a_kaggle = pd.DataFrame()\n",
    "df_a_kaggle['id'] = test_set['id']\n",
    "df_a_kaggle['target'] = pred_a_kaggle\n",
    "df_a_kaggle.head()"
   ]
  },
  {
   "cell_type": "markdown",
   "metadata": {},
   "source": [
    "Por alguna razon estan duplicados las filas. Debe haber un error en la generacion del csv. Habra que verificar"
   ]
  },
  {
   "cell_type": "code",
   "execution_count": 22,
   "metadata": {},
   "outputs": [],
   "source": [
    "df_a_kaggle = df_a_kaggle.drop_duplicates(\"id\")"
   ]
  },
  {
   "cell_type": "code",
   "execution_count": 23,
   "metadata": {},
   "outputs": [],
   "source": [
    "kaggle_len = len(df_a_kaggle)\n",
    "if(kaggle_len != 60000):\n",
    "    raise Exception('Error: la cantidad de registros debe ser 60000!')"
   ]
  },
  {
   "cell_type": "code",
   "execution_count": 24,
   "metadata": {},
   "outputs": [],
   "source": [
    "df_a_kaggle.to_csv(\"subir_a_kaggle\", header = True, index = False)"
   ]
  }
 ],
 "metadata": {
  "kernelspec": {
   "display_name": "Python 3",
   "language": "python",
   "name": "python3"
  },
  "language_info": {
   "codemirror_mode": {
    "name": "ipython",
    "version": 3
   },
   "file_extension": ".py",
   "mimetype": "text/x-python",
   "name": "python",
   "nbconvert_exporter": "python",
   "pygments_lexer": "ipython3",
   "version": "3.5.2"
  }
 },
 "nbformat": 4,
 "nbformat_minor": 4
}
