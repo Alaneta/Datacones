{
 "cells": [
  {
   "cell_type": "code",
   "execution_count": 1,
   "metadata": {},
   "outputs": [],
   "source": [
    "import csv\n",
    "import pandas as pd\n",
    "import numpy as np\n",
    "from datetime import datetime\n",
    "import seaborn as sns\n",
    "import matplotlib.pyplot as plt\n",
    "import sklearn\n",
    "from sklearn.ensemble import RandomForestRegressor\n",
    "from sklearn.metrics import mean_squared_log_error\n",
    "# Importamos utilidades y modelos de sklearn\n",
    "from sklearn.preprocessing import Imputer\n",
    "from sklearn.model_selection import train_test_split\n",
    "import xgboost as xgb\n",
    "from sklearn.model_selection import RandomizedSearchCV, GridSearchCV\n",
    "from sklearn.metrics import roc_auc_score\n",
    "from sklearn.model_selection import StratifiedKFold"
   ]
  },
  {
   "cell_type": "markdown",
   "metadata": {},
   "source": [
    "# Se levanta el set de train generado"
   ]
  },
  {
   "cell_type": "code",
   "execution_count": 2,
   "metadata": {},
   "outputs": [],
   "source": [
    "data_set = pd.read_csv(\"train_set_xgb.csv\")\n",
    "#X = data_set.loc[:, (data_set.columns != 'precio') & (data_set.columns != 'factor_pm')]\n",
    "X = data_set.loc[:, (data_set.columns != 'precio')]\n",
    "y = data_set.loc[:, ['precio']]"
   ]
  },
  {
   "cell_type": "code",
   "execution_count": 3,
   "metadata": {},
   "outputs": [
    {
     "data": {
      "text/plain": [
       "Index(['antiguedad', 'habitaciones', 'garages', 'banos', 'metroscubiertos',\n",
       "       'metrostotales', 'idzona', 'lat', 'lng', 'gimnasio', 'usosmultiples',\n",
       "       'piscina', 'escuelascercanas', 'centroscomercialescercanos', 'precio',\n",
       "       'tipodepropiedad_1', 'tipodepropiedad_2', 'tipodepropiedad_3',\n",
       "       'tipodepropiedad_4', 'tipodepropiedad_5', 'tipodepropiedad_6',\n",
       "       'tipodepropiedad_7', 'tipodepropiedad_8', 'tipodepropiedad_9',\n",
       "       'tipodepropiedad_10', 'tipodepropiedad_11', 'tipodepropiedad_12',\n",
       "       'tipodepropiedad_13', 'tipodepropiedad_14', 'tipodepropiedad_15',\n",
       "       'tipodepropiedad_16', 'tipodepropiedad_17', 'tipodepropiedad_18',\n",
       "       'tipodepropiedad_19', 'tipodepropiedad_20', 'tipodepropiedad_21',\n",
       "       'tipodepropiedad_22', 'tipodepropiedad_23', 'tipodepropiedad_24',\n",
       "       'tipodepropiedad_25', 'provincia_1', 'provincia_2', 'provincia_3',\n",
       "       'provincia_4', 'provincia_5', 'provincia_6', 'provincia_7',\n",
       "       'provincia_8', 'provincia_9', 'provincia_10', 'provincia_11',\n",
       "       'provincia_12', 'provincia_13', 'provincia_14', 'provincia_15',\n",
       "       'provincia_16', 'provincia_17', 'provincia_18', 'provincia_19',\n",
       "       'provincia_20', 'provincia_21', 'provincia_22', 'provincia_23',\n",
       "       'provincia_24', 'provincia_25', 'provincia_26', 'provincia_27',\n",
       "       'provincia_28', 'provincia_29', 'provincia_30', 'provincia_31',\n",
       "       'provincia_32', 'ciudad_0', 'ciudad_1', 'ciudad_2', 'ciudad_3',\n",
       "       'ciudad_4', 'ciudad_5', 'ciudad_6', 'ciudad_7', 'ciudad_8', 'ciudad_9',\n",
       "       'ciudad_10', 'anio_publ', 'cuenta', 'planta', 'cuarto', 'tiene', 'baño',\n",
       "       'departamento_t', 'condominio_t', 'casas_t', 'bonita_t', 'excelente_t',\n",
       "       'colonia_t', 'venta_t', 'amplia_t', 'hermosa_t', 'centro_t'],\n",
       "      dtype='object')"
      ]
     },
     "execution_count": 3,
     "metadata": {},
     "output_type": "execute_result"
    }
   ],
   "source": [
    "data_set.columns"
   ]
  },
  {
   "cell_type": "code",
   "execution_count": 4,
   "metadata": {},
   "outputs": [
    {
     "data": {
      "text/plain": [
       "Index(['antiguedad', 'habitaciones', 'garages', 'banos', 'metroscubiertos',\n",
       "       'metrostotales', 'idzona', 'lat', 'lng', 'gimnasio', 'usosmultiples',\n",
       "       'piscina', 'escuelascercanas', 'centroscomercialescercanos',\n",
       "       'tipodepropiedad_1', 'tipodepropiedad_2', 'tipodepropiedad_3',\n",
       "       'tipodepropiedad_4', 'tipodepropiedad_5', 'tipodepropiedad_6',\n",
       "       'tipodepropiedad_7', 'tipodepropiedad_8', 'tipodepropiedad_9',\n",
       "       'tipodepropiedad_10', 'tipodepropiedad_11', 'tipodepropiedad_12',\n",
       "       'tipodepropiedad_13', 'tipodepropiedad_14', 'tipodepropiedad_15',\n",
       "       'tipodepropiedad_16', 'tipodepropiedad_17', 'tipodepropiedad_18',\n",
       "       'tipodepropiedad_19', 'tipodepropiedad_20', 'tipodepropiedad_21',\n",
       "       'tipodepropiedad_22', 'tipodepropiedad_23', 'tipodepropiedad_24',\n",
       "       'tipodepropiedad_25', 'provincia_1', 'provincia_2', 'provincia_3',\n",
       "       'provincia_4', 'provincia_5', 'provincia_6', 'provincia_7',\n",
       "       'provincia_8', 'provincia_9', 'provincia_10', 'provincia_11',\n",
       "       'provincia_12', 'provincia_13', 'provincia_14', 'provincia_15',\n",
       "       'provincia_16', 'provincia_17', 'provincia_18', 'provincia_19',\n",
       "       'provincia_20', 'provincia_21', 'provincia_22', 'provincia_23',\n",
       "       'provincia_24', 'provincia_25', 'provincia_26', 'provincia_27',\n",
       "       'provincia_28', 'provincia_29', 'provincia_30', 'provincia_31',\n",
       "       'provincia_32', 'ciudad_0', 'ciudad_1', 'ciudad_2', 'ciudad_3',\n",
       "       'ciudad_4', 'ciudad_5', 'ciudad_6', 'ciudad_7', 'ciudad_8', 'ciudad_9',\n",
       "       'ciudad_10', 'anio_publ', 'cuenta', 'planta', 'cuarto', 'tiene', 'baño',\n",
       "       'departamento_t', 'condominio_t', 'casas_t', 'bonita_t', 'excelente_t',\n",
       "       'colonia_t', 'venta_t', 'amplia_t', 'hermosa_t', 'centro_t'],\n",
       "      dtype='object')"
      ]
     },
     "execution_count": 4,
     "metadata": {},
     "output_type": "execute_result"
    }
   ],
   "source": [
    "X.columns"
   ]
  },
  {
   "cell_type": "code",
   "execution_count": 5,
   "metadata": {},
   "outputs": [
    {
     "data": {
      "text/plain": [
       "Index(['precio'], dtype='object')"
      ]
     },
     "execution_count": 5,
     "metadata": {},
     "output_type": "execute_result"
    }
   ],
   "source": [
    "y.columns"
   ]
  },
  {
   "cell_type": "markdown",
   "metadata": {},
   "source": [
    "# Se separa en train y en test"
   ]
  },
  {
   "cell_type": "code",
   "execution_count": 6,
   "metadata": {},
   "outputs": [],
   "source": [
    "X_train, X_test, y_train, y_test = train_test_split(X, y, test_size=0.40, random_state=1)"
   ]
  },
  {
   "cell_type": "code",
   "execution_count": 7,
   "metadata": {},
   "outputs": [
    {
     "data": {
      "text/plain": [
       "144000"
      ]
     },
     "execution_count": 7,
     "metadata": {},
     "output_type": "execute_result"
    }
   ],
   "source": [
    "len(X_train)"
   ]
  },
  {
   "cell_type": "code",
   "execution_count": 8,
   "metadata": {},
   "outputs": [
    {
     "data": {
      "text/plain": [
       "96000"
      ]
     },
     "execution_count": 8,
     "metadata": {},
     "output_type": "execute_result"
    }
   ],
   "source": [
    "len(X_test)"
   ]
  },
  {
   "cell_type": "markdown",
   "metadata": {},
   "source": [
    "# Se define el modelo"
   ]
  },
  {
   "cell_type": "code",
   "execution_count": 9,
   "metadata": {},
   "outputs": [],
   "source": [
    "xg_reg = xgb.XGBRegressor(base_score=0.5, booster='gbtree', colsample_bylevel=1,\n",
    "       colsample_bynode=1, colsample_bytree=0.8, gamma=0.5,\n",
    "       importance_type='gain', learning_rate=0.1, max_delta_step=0,\n",
    "       max_depth=5, min_child_weight=10, missing=None, n_estimators=1600,\n",
    "       n_jobs=-1, nthread=None, objective='reg:squarederror', reg_alpha=0, reg_lambda=1, scale_pos_weight=1,\n",
    "       seed=None, silent=None, subsample=1.0, verbosity=1, random_state = 0)"
   ]
  },
  {
   "cell_type": "markdown",
   "metadata": {},
   "source": [
    "# Se entrena"
   ]
  },
  {
   "cell_type": "code",
   "execution_count": null,
   "metadata": {},
   "outputs": [],
   "source": [
    "xg_reg.fit(X_train, y_train)"
   ]
  },
  {
   "cell_type": "markdown",
   "metadata": {},
   "source": [
    "# Se calcula la prediccion del set de test y del set de entrenamiento tambien"
   ]
  },
  {
   "cell_type": "code",
   "execution_count": null,
   "metadata": {},
   "outputs": [],
   "source": [
    "pred_train = xg_reg.predict(X_train)"
   ]
  },
  {
   "cell_type": "code",
   "execution_count": null,
   "metadata": {},
   "outputs": [],
   "source": [
    "pred_test = xg_reg.predict(X_test)"
   ]
  },
  {
   "cell_type": "markdown",
   "metadata": {},
   "source": [
    "# Se evaluan ambas predicciones"
   ]
  },
  {
   "cell_type": "code",
   "execution_count": null,
   "metadata": {},
   "outputs": [],
   "source": [
    "mae_train = np.sqrt(sklearn.metrics.mean_absolute_error(y_train, pred_train))\n",
    "mae_test = np.sqrt(sklearn.metrics.mean_absolute_error(y_test, pred_test))\n",
    "#print(f\"MAE train: {mea_train:.5f}\")\n",
    "#print(f\"MAE test: {mea_test:.5f}\")\n",
    "print(\"MAE train: \"+str(mae_train))\n",
    "print(\"MAE test: \"+str(mae_test))"
   ]
  },
  {
   "cell_type": "markdown",
   "metadata": {},
   "source": [
    "# Feature importance"
   ]
  },
  {
   "cell_type": "code",
   "execution_count": null,
   "metadata": {},
   "outputs": [],
   "source": [
    "plt.figure(figsize = (15,15))\n",
    "plt.barh(X_train.columns, xg_reg.feature_importances_)\n",
    "plt.xlabel('Importancia')\n",
    "plt.ylabel('Features')\n",
    "plt.title('Importancia Features con XGB')\n",
    "plt.show()"
   ]
  },
  {
   "cell_type": "markdown",
   "metadata": {},
   "source": [
    "# Se genera el archivo con las predicciones a subir a Kaggle"
   ]
  },
  {
   "cell_type": "code",
   "execution_count": null,
   "metadata": {},
   "outputs": [],
   "source": [
    "test_set = pd.read_csv(\"test_set_xgb.csv\")"
   ]
  },
  {
   "cell_type": "code",
   "execution_count": null,
   "metadata": {},
   "outputs": [],
   "source": [
    "test_set.columns"
   ]
  },
  {
   "cell_type": "markdown",
   "metadata": {},
   "source": [
    "Predigo sin el 'id' porque no es parte de los features"
   ]
  },
  {
   "cell_type": "code",
   "execution_count": null,
   "metadata": {},
   "outputs": [],
   "source": [
    "pred_a_kaggle = xg_reg.predict(test_set.loc[:, test_set.columns != 'id'])"
   ]
  },
  {
   "cell_type": "code",
   "execution_count": null,
   "metadata": {},
   "outputs": [],
   "source": [
    "pred_a_kaggle"
   ]
  },
  {
   "cell_type": "code",
   "execution_count": null,
   "metadata": {},
   "outputs": [],
   "source": [
    "df_a_kaggle = pd.DataFrame()\n",
    "df_a_kaggle['id'] = test_set['id']\n",
    "df_a_kaggle['target'] = pred_a_kaggle\n",
    "df_a_kaggle.head()"
   ]
  },
  {
   "cell_type": "code",
   "execution_count": null,
   "metadata": {},
   "outputs": [],
   "source": [
    "len(df_a_kaggle)"
   ]
  },
  {
   "cell_type": "code",
   "execution_count": null,
   "metadata": {},
   "outputs": [],
   "source": [
    "df_a_kaggle.to_csv(\"subir_a_kaggle_xgb_individual\", header = True, index = False)"
   ]
  }
 ],
 "metadata": {
  "kernelspec": {
   "display_name": "Python 3",
   "language": "python",
   "name": "python3"
  },
  "language_info": {
   "codemirror_mode": {
    "name": "ipython",
    "version": 3
   },
   "file_extension": ".py",
   "mimetype": "text/x-python",
   "name": "python",
   "nbconvert_exporter": "python",
   "pygments_lexer": "ipython3",
   "version": "3.5.2"
  }
 },
 "nbformat": 4,
 "nbformat_minor": 4
}
