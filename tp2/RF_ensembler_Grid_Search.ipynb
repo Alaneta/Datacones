{
 "cells": [
  {
   "cell_type": "code",
   "execution_count": 20,
   "metadata": {},
   "outputs": [],
   "source": [
    "import pandas as pd"
   ]
  },
  {
   "cell_type": "code",
   "execution_count": 8,
   "metadata": {},
   "outputs": [],
   "source": [
    "import csv\n",
    "import pandas as pd\n",
    "import numpy as np\n",
    "from datetime import datetime\n",
    "import seaborn as sns\n",
    "import matplotlib.pyplot as plt\n",
    "import sklearn\n",
    "from sklearn.ensemble import RandomForestRegressor\n",
    "from sklearn.metrics import mean_squared_log_error\n",
    "# Importamos utilidades y modelos de sklearn\n",
    "from sklearn.preprocessing import Imputer\n",
    "from sklearn.model_selection import train_test_split\n",
    "import xgboost as xgb\n",
    "from sklearn.model_selection import RandomizedSearchCV, GridSearchCV\n",
    "from sklearn.metrics import roc_auc_score\n",
    "from sklearn.model_selection import StratifiedKFold\n"
   ]
  },
  {
   "cell_type": "markdown",
   "metadata": {},
   "source": [
    "# Se levanta el set de entrenamiento generado"
   ]
  },
  {
   "cell_type": "code",
   "execution_count": 9,
   "metadata": {},
   "outputs": [],
   "source": [
    "RF_train = pd.read_csv(\"RF_train\")\n",
    "y_train = pd.read_csv(\"y_train\")"
   ]
  },
  {
   "cell_type": "code",
   "execution_count": 10,
   "metadata": {},
   "outputs": [],
   "source": [
    "model_RF = RandomForestRegressor(n_jobs = -1, n_estimators = 200)"
   ]
  },
  {
   "cell_type": "code",
   "execution_count": 11,
   "metadata": {},
   "outputs": [],
   "source": [
    "param_grid = {\n",
    "    'bootstrap': [True],\n",
    "    'max_depth': [160, 180, 200],\n",
    "    'max_features': [0.2, 0.4, 0.8, 1],\n",
    "    'min_samples_leaf': [3, 4, 6, 8],\n",
    "    'min_samples_split': [6, 8, 10, 12, 14, 16],\n",
    "}"
   ]
  },
  {
   "cell_type": "code",
   "execution_count": 12,
   "metadata": {},
   "outputs": [
    {
     "name": "stderr",
     "output_type": "stream",
     "text": [
      "F:\\Anaconda3\\lib\\site-packages\\sklearn\\model_selection\\_split.py:2053: FutureWarning: You should specify a value for 'cv' instead of relying on the default value. The default value will change from 3 to 5 in version 0.22.\n",
      "  warnings.warn(CV_WARNING, FutureWarning)\n",
      "[Parallel(n_jobs=-1)]: Using backend LokyBackend with 12 concurrent workers.\n"
     ]
    },
    {
     "name": "stdout",
     "output_type": "stream",
     "text": [
      "Fitting 3 folds for each of 10 candidates, totalling 30 fits\n"
     ]
    },
    {
     "name": "stderr",
     "output_type": "stream",
     "text": [
      "[Parallel(n_jobs=-1)]: Done  30 out of  30 | elapsed: 34.1min finished\n"
     ]
    },
    {
     "data": {
      "text/plain": [
       "RandomizedSearchCV(cv='warn', error_score='raise-deprecating',\n",
       "          estimator=RandomForestRegressor(bootstrap=True, criterion='mse', max_depth=None,\n",
       "           max_features='auto', max_leaf_nodes=None,\n",
       "           min_impurity_decrease=0.0, min_impurity_split=None,\n",
       "           min_samples_leaf=1, min_samples_split=2,\n",
       "           min_weight_fraction_leaf=0.0, n_estimators=200, n_jobs=-1,\n",
       "           oob_score=False, random_state=None, verbose=0, warm_start=False),\n",
       "          fit_params=None, iid='warn', n_iter=10, n_jobs=-1,\n",
       "          param_distributions={'bootstrap': [True], 'max_depth': [40, 80, 120, 160], 'max_features': [0.2, 0.4, 0.8, 1], 'min_samples_leaf': [3, 4, 6, 8], 'min_samples_split': [6, 8, 10, 12, 14, 16]},\n",
       "          pre_dispatch='2*n_jobs', random_state=None, refit=True,\n",
       "          return_train_score='warn', scoring=None, verbose=1)"
      ]
     },
     "execution_count": 12,
     "metadata": {},
     "output_type": "execute_result"
    }
   ],
   "source": [
    "randomized = RandomizedSearchCV(model_RF, param_grid, n_iter = 10, verbose = 1, n_jobs = -1)\n",
    "randomized.fit(RF_train, y_train.values.ravel())"
   ]
  },
  {
   "cell_type": "code",
   "execution_count": 13,
   "metadata": {},
   "outputs": [
    {
     "data": {
      "text/plain": [
       "RandomForestRegressor(bootstrap=True, criterion='mse', max_depth=160,\n",
       "           max_features=0.4, max_leaf_nodes=None,\n",
       "           min_impurity_decrease=0.0, min_impurity_split=None,\n",
       "           min_samples_leaf=4, min_samples_split=12,\n",
       "           min_weight_fraction_leaf=0.0, n_estimators=200, n_jobs=-1,\n",
       "           oob_score=False, random_state=None, verbose=0, warm_start=False)"
      ]
     },
     "execution_count": 13,
     "metadata": {},
     "output_type": "execute_result"
    }
   ],
   "source": [
    "randomized.best_estimator_"
   ]
  },
  {
   "cell_type": "code",
   "execution_count": 22,
   "metadata": {},
   "outputs": [
    {
     "data": {
      "text/html": [
       "<div>\n",
       "<style scoped>\n",
       "    .dataframe tbody tr th:only-of-type {\n",
       "        vertical-align: middle;\n",
       "    }\n",
       "\n",
       "    .dataframe tbody tr th {\n",
       "        vertical-align: top;\n",
       "    }\n",
       "\n",
       "    .dataframe thead th {\n",
       "        text-align: right;\n",
       "    }\n",
       "</style>\n",
       "<table border=\"1\" class=\"dataframe\">\n",
       "  <thead>\n",
       "    <tr style=\"text-align: right;\">\n",
       "      <th></th>\n",
       "      <th>mean_fit_time</th>\n",
       "      <th>std_fit_time</th>\n",
       "      <th>mean_score_time</th>\n",
       "      <th>std_score_time</th>\n",
       "      <th>param_min_samples_split</th>\n",
       "      <th>param_min_samples_leaf</th>\n",
       "      <th>param_max_features</th>\n",
       "      <th>param_max_depth</th>\n",
       "      <th>param_bootstrap</th>\n",
       "      <th>params</th>\n",
       "      <th>...</th>\n",
       "      <th>split1_test_score</th>\n",
       "      <th>split2_test_score</th>\n",
       "      <th>mean_test_score</th>\n",
       "      <th>std_test_score</th>\n",
       "      <th>rank_test_score</th>\n",
       "      <th>split0_train_score</th>\n",
       "      <th>split1_train_score</th>\n",
       "      <th>split2_train_score</th>\n",
       "      <th>mean_train_score</th>\n",
       "      <th>std_train_score</th>\n",
       "    </tr>\n",
       "  </thead>\n",
       "  <tbody>\n",
       "    <tr>\n",
       "      <th>7</th>\n",
       "      <td>1069.653074</td>\n",
       "      <td>3.280172</td>\n",
       "      <td>1.112422</td>\n",
       "      <td>0.224359</td>\n",
       "      <td>12</td>\n",
       "      <td>4</td>\n",
       "      <td>0.4</td>\n",
       "      <td>160</td>\n",
       "      <td>True</td>\n",
       "      <td>{'min_samples_split': 12, 'min_samples_leaf': ...</td>\n",
       "      <td>...</td>\n",
       "      <td>0.783535</td>\n",
       "      <td>0.782423</td>\n",
       "      <td>0.782339</td>\n",
       "      <td>0.001013</td>\n",
       "      <td>1</td>\n",
       "      <td>0.924467</td>\n",
       "      <td>0.923682</td>\n",
       "      <td>0.923658</td>\n",
       "      <td>0.923936</td>\n",
       "      <td>0.000376</td>\n",
       "    </tr>\n",
       "    <tr>\n",
       "      <th>0</th>\n",
       "      <td>1712.879426</td>\n",
       "      <td>6.165824</td>\n",
       "      <td>11.345142</td>\n",
       "      <td>0.537411</td>\n",
       "      <td>14</td>\n",
       "      <td>4</td>\n",
       "      <td>0.4</td>\n",
       "      <td>80</td>\n",
       "      <td>True</td>\n",
       "      <td>{'min_samples_split': 14, 'min_samples_leaf': ...</td>\n",
       "      <td>...</td>\n",
       "      <td>0.783572</td>\n",
       "      <td>0.782266</td>\n",
       "      <td>0.782227</td>\n",
       "      <td>0.001114</td>\n",
       "      <td>2</td>\n",
       "      <td>0.919205</td>\n",
       "      <td>0.918634</td>\n",
       "      <td>0.918594</td>\n",
       "      <td>0.918811</td>\n",
       "      <td>0.000279</td>\n",
       "    </tr>\n",
       "    <tr>\n",
       "      <th>1</th>\n",
       "      <td>851.824536</td>\n",
       "      <td>4.258960</td>\n",
       "      <td>11.804071</td>\n",
       "      <td>0.597727</td>\n",
       "      <td>10</td>\n",
       "      <td>4</td>\n",
       "      <td>0.2</td>\n",
       "      <td>120</td>\n",
       "      <td>True</td>\n",
       "      <td>{'min_samples_split': 10, 'min_samples_leaf': ...</td>\n",
       "      <td>...</td>\n",
       "      <td>0.783496</td>\n",
       "      <td>0.782234</td>\n",
       "      <td>0.782125</td>\n",
       "      <td>0.001167</td>\n",
       "      <td>3</td>\n",
       "      <td>0.924459</td>\n",
       "      <td>0.924011</td>\n",
       "      <td>0.924141</td>\n",
       "      <td>0.924204</td>\n",
       "      <td>0.000188</td>\n",
       "    </tr>\n",
       "    <tr>\n",
       "      <th>9</th>\n",
       "      <td>713.404363</td>\n",
       "      <td>31.557437</td>\n",
       "      <td>4.960628</td>\n",
       "      <td>1.816463</td>\n",
       "      <td>16</td>\n",
       "      <td>3</td>\n",
       "      <td>0.2</td>\n",
       "      <td>160</td>\n",
       "      <td>True</td>\n",
       "      <td>{'min_samples_split': 16, 'min_samples_leaf': ...</td>\n",
       "      <td>...</td>\n",
       "      <td>0.783470</td>\n",
       "      <td>0.782088</td>\n",
       "      <td>0.782102</td>\n",
       "      <td>0.001111</td>\n",
       "      <td>4</td>\n",
       "      <td>0.914211</td>\n",
       "      <td>0.913647</td>\n",
       "      <td>0.913804</td>\n",
       "      <td>0.913887</td>\n",
       "      <td>0.000238</td>\n",
       "    </tr>\n",
       "    <tr>\n",
       "      <th>2</th>\n",
       "      <td>872.157558</td>\n",
       "      <td>14.063550</td>\n",
       "      <td>15.446446</td>\n",
       "      <td>2.358988</td>\n",
       "      <td>12</td>\n",
       "      <td>4</td>\n",
       "      <td>0.2</td>\n",
       "      <td>40</td>\n",
       "      <td>True</td>\n",
       "      <td>{'min_samples_split': 12, 'min_samples_leaf': ...</td>\n",
       "      <td>...</td>\n",
       "      <td>0.783412</td>\n",
       "      <td>0.782229</td>\n",
       "      <td>0.782090</td>\n",
       "      <td>0.001140</td>\n",
       "      <td>5</td>\n",
       "      <td>0.918339</td>\n",
       "      <td>0.917789</td>\n",
       "      <td>0.917824</td>\n",
       "      <td>0.917984</td>\n",
       "      <td>0.000251</td>\n",
       "    </tr>\n",
       "  </tbody>\n",
       "</table>\n",
       "<p>5 rows × 21 columns</p>\n",
       "</div>"
      ],
      "text/plain": [
       "   mean_fit_time  std_fit_time  mean_score_time  std_score_time  \\\n",
       "7    1069.653074      3.280172         1.112422        0.224359   \n",
       "0    1712.879426      6.165824        11.345142        0.537411   \n",
       "1     851.824536      4.258960        11.804071        0.597727   \n",
       "9     713.404363     31.557437         4.960628        1.816463   \n",
       "2     872.157558     14.063550        15.446446        2.358988   \n",
       "\n",
       "  param_min_samples_split param_min_samples_leaf param_max_features  \\\n",
       "7                      12                      4                0.4   \n",
       "0                      14                      4                0.4   \n",
       "1                      10                      4                0.2   \n",
       "9                      16                      3                0.2   \n",
       "2                      12                      4                0.2   \n",
       "\n",
       "  param_max_depth param_bootstrap  \\\n",
       "7             160            True   \n",
       "0              80            True   \n",
       "1             120            True   \n",
       "9             160            True   \n",
       "2              40            True   \n",
       "\n",
       "                                              params       ...         \\\n",
       "7  {'min_samples_split': 12, 'min_samples_leaf': ...       ...          \n",
       "0  {'min_samples_split': 14, 'min_samples_leaf': ...       ...          \n",
       "1  {'min_samples_split': 10, 'min_samples_leaf': ...       ...          \n",
       "9  {'min_samples_split': 16, 'min_samples_leaf': ...       ...          \n",
       "2  {'min_samples_split': 12, 'min_samples_leaf': ...       ...          \n",
       "\n",
       "   split1_test_score  split2_test_score  mean_test_score  std_test_score  \\\n",
       "7           0.783535           0.782423         0.782339        0.001013   \n",
       "0           0.783572           0.782266         0.782227        0.001114   \n",
       "1           0.783496           0.782234         0.782125        0.001167   \n",
       "9           0.783470           0.782088         0.782102        0.001111   \n",
       "2           0.783412           0.782229         0.782090        0.001140   \n",
       "\n",
       "   rank_test_score  split0_train_score  split1_train_score  \\\n",
       "7                1            0.924467            0.923682   \n",
       "0                2            0.919205            0.918634   \n",
       "1                3            0.924459            0.924011   \n",
       "9                4            0.914211            0.913647   \n",
       "2                5            0.918339            0.917789   \n",
       "\n",
       "   split2_train_score  mean_train_score  std_train_score  \n",
       "7            0.923658          0.923936         0.000376  \n",
       "0            0.918594          0.918811         0.000279  \n",
       "1            0.924141          0.924204         0.000188  \n",
       "9            0.913804          0.913887         0.000238  \n",
       "2            0.917824          0.917984         0.000251  \n",
       "\n",
       "[5 rows x 21 columns]"
      ]
     },
     "execution_count": 22,
     "metadata": {},
     "output_type": "execute_result"
    }
   ],
   "source": [
    "pd.DataFrame(data = randomized.cv_results_).sort_values(by =[\"rank_test_score\"]).head()"
   ]
  },
  {
   "cell_type": "code",
   "execution_count": 14,
   "metadata": {},
   "outputs": [
    {
     "data": {
      "text/plain": [
       "{'min_samples_split': 12,\n",
       " 'min_samples_leaf': 4,\n",
       " 'max_features': 0.4,\n",
       " 'max_depth': 160,\n",
       " 'bootstrap': True}"
      ]
     },
     "execution_count": 14,
     "metadata": {},
     "output_type": "execute_result"
    }
   ],
   "source": [
    "randomized.best_params_"
   ]
  }
 ],
 "metadata": {
  "kernelspec": {
   "display_name": "Python 3",
   "language": "python",
   "name": "python3"
  },
  "language_info": {
   "codemirror_mode": {
    "name": "ipython",
    "version": 3
   },
   "file_extension": ".py",
   "mimetype": "text/x-python",
   "name": "python",
   "nbconvert_exporter": "python",
   "pygments_lexer": "ipython3",
   "version": "3.7.1"
  }
 },
 "nbformat": 4,
 "nbformat_minor": 4
}
