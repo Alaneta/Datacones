{
 "cells": [
  {
   "cell_type": "code",
   "execution_count": 1,
   "metadata": {},
   "outputs": [],
   "source": [
    "import csv\n",
    "import pandas as pd\n",
    "import numpy as np\n",
    "from datetime import datetime\n",
    "import seaborn as sns\n",
    "import matplotlib.pyplot as plt\n",
    "import sklearn\n",
    "from sklearn.ensemble import RandomForestRegressor\n",
    "from sklearn.metrics import mean_squared_log_error\n",
    "# Importamos utilidades y modelos de sklearn\n",
    "from sklearn.preprocessing import Imputer\n",
    "from sklearn.model_selection import train_test_split\n",
    "import xgboost as xgb\n",
    "from sklearn.model_selection import RandomizedSearchCV, GridSearchCV\n",
    "from sklearn.metrics import roc_auc_score\n",
    "from sklearn.model_selection import StratifiedKFold\n"
   ]
  },
  {
   "cell_type": "markdown",
   "metadata": {},
   "source": [
    "# Se levanta el set de train generado"
   ]
  },
  {
   "cell_type": "code",
   "execution_count": 2,
   "metadata": {},
   "outputs": [],
   "source": [
    "data_set = pd.read_csv(\"train_set_xgb.csv\")\n",
    "#X = data_set.loc[:, (data_set.columns != 'precio') & (data_set.columns != 'factor_pm')]\n",
    "X = data_set.loc[:, (data_set.columns != 'precio')]\n",
    "y = data_set.loc[:, ['precio']]"
   ]
  },
  {
   "cell_type": "code",
   "execution_count": 3,
   "metadata": {},
   "outputs": [
    {
     "data": {
      "text/plain": [
       "Index(['antiguedad', 'habitaciones', 'garages', 'banos', 'metroscubiertos',\n",
       "       'metrostotales', 'idzona', 'lat', 'lng', 'gimnasio', 'usosmultiples',\n",
       "       'piscina', 'escuelascercanas', 'centroscomercialescercanos', 'precio',\n",
       "       'anio_publ'],\n",
       "      dtype='object')"
      ]
     },
     "execution_count": 3,
     "metadata": {},
     "output_type": "execute_result"
    }
   ],
   "source": [
    "data_set.columns"
   ]
  },
  {
   "cell_type": "code",
   "execution_count": 4,
   "metadata": {},
   "outputs": [
    {
     "data": {
      "text/plain": [
       "Index(['antiguedad', 'habitaciones', 'garages', 'banos', 'metroscubiertos',\n",
       "       'metrostotales', 'idzona', 'lat', 'lng', 'gimnasio', 'usosmultiples',\n",
       "       'piscina', 'escuelascercanas', 'centroscomercialescercanos',\n",
       "       'anio_publ'],\n",
       "      dtype='object')"
      ]
     },
     "execution_count": 4,
     "metadata": {},
     "output_type": "execute_result"
    }
   ],
   "source": [
    "X.columns"
   ]
  },
  {
   "cell_type": "code",
   "execution_count": 5,
   "metadata": {},
   "outputs": [
    {
     "data": {
      "text/plain": [
       "Index(['precio'], dtype='object')"
      ]
     },
     "execution_count": 5,
     "metadata": {},
     "output_type": "execute_result"
    }
   ],
   "source": [
    "y.columns"
   ]
  },
  {
   "cell_type": "markdown",
   "metadata": {},
   "source": [
    "# Se separa en train y en test"
   ]
  },
  {
   "cell_type": "code",
   "execution_count": 6,
   "metadata": {},
   "outputs": [],
   "source": [
    "X_train, X_test, y_train, y_test = train_test_split(X, y, test_size=0.30, random_state=1)"
   ]
  },
  {
   "cell_type": "code",
   "execution_count": 7,
   "metadata": {},
   "outputs": [
    {
     "data": {
      "text/plain": [
       "168000"
      ]
     },
     "execution_count": 7,
     "metadata": {},
     "output_type": "execute_result"
    }
   ],
   "source": [
    "len(X_train)"
   ]
  },
  {
   "cell_type": "code",
   "execution_count": 8,
   "metadata": {},
   "outputs": [
    {
     "data": {
      "text/plain": [
       "72000"
      ]
     },
     "execution_count": 8,
     "metadata": {},
     "output_type": "execute_result"
    }
   ],
   "source": [
    "len(X_test)"
   ]
  },
  {
   "cell_type": "markdown",
   "metadata": {},
   "source": [
    "## Armamos el dataset sobre el cual cada XGBoost va a subsamplear con reposición."
   ]
  },
  {
   "cell_type": "markdown",
   "metadata": {},
   "source": [
    "### Esto se hace sobre el X_train con su respectivo label."
   ]
  },
  {
   "cell_type": "code",
   "execution_count": 9,
   "metadata": {},
   "outputs": [
    {
     "data": {
      "text/html": [
       "<div>\n",
       "<style scoped>\n",
       "    .dataframe tbody tr th:only-of-type {\n",
       "        vertical-align: middle;\n",
       "    }\n",
       "\n",
       "    .dataframe tbody tr th {\n",
       "        vertical-align: top;\n",
       "    }\n",
       "\n",
       "    .dataframe thead th {\n",
       "        text-align: right;\n",
       "    }\n",
       "</style>\n",
       "<table border=\"1\" class=\"dataframe\">\n",
       "  <thead>\n",
       "    <tr style=\"text-align: right;\">\n",
       "      <th></th>\n",
       "      <th>antiguedad</th>\n",
       "      <th>habitaciones</th>\n",
       "      <th>garages</th>\n",
       "      <th>banos</th>\n",
       "      <th>metroscubiertos</th>\n",
       "      <th>metrostotales</th>\n",
       "      <th>idzona</th>\n",
       "      <th>lat</th>\n",
       "      <th>lng</th>\n",
       "      <th>gimnasio</th>\n",
       "      <th>usosmultiples</th>\n",
       "      <th>piscina</th>\n",
       "      <th>escuelascercanas</th>\n",
       "      <th>centroscomercialescercanos</th>\n",
       "      <th>anio_publ</th>\n",
       "      <th>precio</th>\n",
       "    </tr>\n",
       "  </thead>\n",
       "  <tbody>\n",
       "    <tr>\n",
       "      <td>239101</td>\n",
       "      <td>0.0</td>\n",
       "      <td>3.0</td>\n",
       "      <td>2.0</td>\n",
       "      <td>3.0</td>\n",
       "      <td>196.0</td>\n",
       "      <td>160.0</td>\n",
       "      <td>NaN</td>\n",
       "      <td>NaN</td>\n",
       "      <td>NaN</td>\n",
       "      <td>0.0</td>\n",
       "      <td>0.0</td>\n",
       "      <td>0.0</td>\n",
       "      <td>0.0</td>\n",
       "      <td>0.0</td>\n",
       "      <td>2014</td>\n",
       "      <td>1800000.0</td>\n",
       "    </tr>\n",
       "    <tr>\n",
       "      <td>96221</td>\n",
       "      <td>20.0</td>\n",
       "      <td>4.0</td>\n",
       "      <td>2.0</td>\n",
       "      <td>2.0</td>\n",
       "      <td>245.0</td>\n",
       "      <td>196.0</td>\n",
       "      <td>104734.0</td>\n",
       "      <td>NaN</td>\n",
       "      <td>NaN</td>\n",
       "      <td>0.0</td>\n",
       "      <td>0.0</td>\n",
       "      <td>0.0</td>\n",
       "      <td>1.0</td>\n",
       "      <td>0.0</td>\n",
       "      <td>2012</td>\n",
       "      <td>1500000.0</td>\n",
       "    </tr>\n",
       "    <tr>\n",
       "      <td>144453</td>\n",
       "      <td>5.0</td>\n",
       "      <td>3.0</td>\n",
       "      <td>1.0</td>\n",
       "      <td>2.0</td>\n",
       "      <td>108.0</td>\n",
       "      <td>120.0</td>\n",
       "      <td>58952.0</td>\n",
       "      <td>NaN</td>\n",
       "      <td>NaN</td>\n",
       "      <td>0.0</td>\n",
       "      <td>0.0</td>\n",
       "      <td>0.0</td>\n",
       "      <td>1.0</td>\n",
       "      <td>1.0</td>\n",
       "      <td>2015</td>\n",
       "      <td>850000.0</td>\n",
       "    </tr>\n",
       "    <tr>\n",
       "      <td>15620</td>\n",
       "      <td>10.0</td>\n",
       "      <td>3.0</td>\n",
       "      <td>1.0</td>\n",
       "      <td>3.0</td>\n",
       "      <td>200.0</td>\n",
       "      <td>147.0</td>\n",
       "      <td>49066.0</td>\n",
       "      <td>NaN</td>\n",
       "      <td>NaN</td>\n",
       "      <td>0.0</td>\n",
       "      <td>0.0</td>\n",
       "      <td>0.0</td>\n",
       "      <td>0.0</td>\n",
       "      <td>0.0</td>\n",
       "      <td>2016</td>\n",
       "      <td>1550000.0</td>\n",
       "    </tr>\n",
       "    <tr>\n",
       "      <td>73157</td>\n",
       "      <td>NaN</td>\n",
       "      <td>NaN</td>\n",
       "      <td>0.0</td>\n",
       "      <td>NaN</td>\n",
       "      <td>NaN</td>\n",
       "      <td>250.0</td>\n",
       "      <td>24892.0</td>\n",
       "      <td>19.23339</td>\n",
       "      <td>-99.166992</td>\n",
       "      <td>0.0</td>\n",
       "      <td>0.0</td>\n",
       "      <td>0.0</td>\n",
       "      <td>0.0</td>\n",
       "      <td>0.0</td>\n",
       "      <td>2016</td>\n",
       "      <td>700000.0</td>\n",
       "    </tr>\n",
       "  </tbody>\n",
       "</table>\n",
       "</div>"
      ],
      "text/plain": [
       "        antiguedad  habitaciones  garages  banos  metroscubiertos  \\\n",
       "239101         0.0           3.0      2.0    3.0            196.0   \n",
       "96221         20.0           4.0      2.0    2.0            245.0   \n",
       "144453         5.0           3.0      1.0    2.0            108.0   \n",
       "15620         10.0           3.0      1.0    3.0            200.0   \n",
       "73157          NaN           NaN      0.0    NaN              NaN   \n",
       "\n",
       "        metrostotales    idzona       lat        lng  gimnasio  usosmultiples  \\\n",
       "239101          160.0       NaN       NaN        NaN       0.0            0.0   \n",
       "96221           196.0  104734.0       NaN        NaN       0.0            0.0   \n",
       "144453          120.0   58952.0       NaN        NaN       0.0            0.0   \n",
       "15620           147.0   49066.0       NaN        NaN       0.0            0.0   \n",
       "73157           250.0   24892.0  19.23339 -99.166992       0.0            0.0   \n",
       "\n",
       "        piscina  escuelascercanas  centroscomercialescercanos  anio_publ  \\\n",
       "239101      0.0               0.0                         0.0       2014   \n",
       "96221       0.0               1.0                         0.0       2012   \n",
       "144453      0.0               1.0                         1.0       2015   \n",
       "15620       0.0               0.0                         0.0       2016   \n",
       "73157       0.0               0.0                         0.0       2016   \n",
       "\n",
       "           precio  \n",
       "239101  1800000.0  \n",
       "96221   1500000.0  \n",
       "144453   850000.0  \n",
       "15620   1550000.0  \n",
       "73157    700000.0  "
      ]
     },
     "execution_count": 9,
     "metadata": {},
     "output_type": "execute_result"
    }
   ],
   "source": [
    "data_for_xgb = pd.concat([X_train, y_train], axis = 1)\n",
    "data_for_xgb.head()"
   ]
  },
  {
   "cell_type": "markdown",
   "metadata": {},
   "source": [
    "# Se entrenan n XGB"
   ]
  },
  {
   "cell_type": "markdown",
   "metadata": {},
   "source": [
    "Se define la cantidad de xgb a entrenar"
   ]
  },
  {
   "cell_type": "code",
   "execution_count": 10,
   "metadata": {},
   "outputs": [],
   "source": [
    "n = 100"
   ]
  },
  {
   "cell_type": "markdown",
   "metadata": {},
   "source": [
    "Se utilizan los valores encontrados en el Grid Search"
   ]
  },
  {
   "cell_type": "code",
   "execution_count": 11,
   "metadata": {},
   "outputs": [
    {
     "name": "stdout",
     "output_type": "stream",
     "text": [
      "XGB number 0 created\n",
      "XGB number 1 created\n",
      "XGB number 2 created\n",
      "XGB number 3 created\n",
      "XGB number 4 created\n",
      "XGB number 5 created\n",
      "XGB number 6 created\n",
      "XGB number 7 created\n",
      "XGB number 8 created\n",
      "XGB number 9 created\n",
      "XGB number 10 created\n",
      "XGB number 11 created\n",
      "XGB number 12 created\n",
      "XGB number 13 created\n",
      "XGB number 14 created\n",
      "XGB number 15 created\n",
      "XGB number 16 created\n",
      "XGB number 17 created\n",
      "XGB number 18 created\n",
      "XGB number 19 created\n",
      "XGB number 20 created\n",
      "XGB number 21 created\n",
      "XGB number 22 created\n",
      "XGB number 23 created\n",
      "XGB number 24 created\n",
      "XGB number 25 created\n",
      "XGB number 26 created\n",
      "XGB number 27 created\n",
      "XGB number 28 created\n",
      "XGB number 29 created\n",
      "XGB number 30 created\n",
      "XGB number 31 created\n",
      "XGB number 32 created\n",
      "XGB number 33 created\n",
      "XGB number 34 created\n",
      "XGB number 35 created\n",
      "XGB number 36 created\n",
      "XGB number 37 created\n",
      "XGB number 38 created\n",
      "XGB number 39 created\n",
      "XGB number 40 created\n",
      "XGB number 41 created\n",
      "XGB number 42 created\n",
      "XGB number 43 created\n",
      "XGB number 44 created\n",
      "XGB number 45 created\n",
      "XGB number 46 created\n",
      "XGB number 47 created\n",
      "XGB number 48 created\n",
      "XGB number 49 created\n",
      "XGB number 50 created\n",
      "XGB number 51 created\n",
      "XGB number 52 created\n",
      "XGB number 53 created\n",
      "XGB number 54 created\n",
      "XGB number 55 created\n",
      "XGB number 56 created\n",
      "XGB number 57 created\n",
      "XGB number 58 created\n",
      "XGB number 59 created\n",
      "XGB number 60 created\n",
      "XGB number 61 created\n",
      "XGB number 62 created\n",
      "XGB number 63 created\n",
      "XGB number 64 created\n",
      "XGB number 65 created\n",
      "XGB number 66 created\n",
      "XGB number 67 created\n",
      "XGB number 68 created\n",
      "XGB number 69 created\n",
      "XGB number 70 created\n",
      "XGB number 71 created\n",
      "XGB number 72 created\n",
      "XGB number 73 created\n",
      "XGB number 74 created\n",
      "XGB number 75 created\n",
      "XGB number 76 created\n",
      "XGB number 77 created\n",
      "XGB number 78 created\n",
      "XGB number 79 created\n",
      "XGB number 80 created\n",
      "XGB number 81 created\n",
      "XGB number 82 created\n",
      "XGB number 83 created\n",
      "XGB number 84 created\n",
      "XGB number 85 created\n",
      "XGB number 86 created\n",
      "XGB number 87 created\n",
      "XGB number 88 created\n",
      "XGB number 89 created\n",
      "XGB number 90 created\n",
      "XGB number 91 created\n",
      "XGB number 92 created\n",
      "XGB number 93 created\n",
      "XGB number 94 created\n",
      "XGB number 95 created\n",
      "XGB number 96 created\n",
      "XGB number 97 created\n",
      "XGB number 98 created\n",
      "XGB number 99 created\n"
     ]
    }
   ],
   "source": [
    "for i in range(n):\n",
    "    d_for_current_xgb = data_for_xgb.sample(frac = 1, replace = True, random_state = i)\n",
    "    X_for_current_xgb = d_for_current_xgb.loc[:, (d_for_current_xgb.columns != 'precio')]\n",
    "    y_for_current_xgb = d_for_current_xgb.loc[:, ['precio']]\n",
    "    current_xgb = xgb.XGBRegressor(objective ='reg:squarederror', \n",
    "                                colsample_bytree = 0.8, \n",
    "                                gamma = 0.5,\n",
    "                                 learning_rate = 0.1,\n",
    "                                 max_depth = 5,\n",
    "                                 min_child_weight = 10,\n",
    "                                 subsample = 1.0, alpha = 10, n_estimators = 200, n_jobs = -1, random_state = i)\n",
    "    current_xgb.fit(X_for_current_xgb, y_for_current_xgb)\n",
    "    current_xgb.save_model(\"xgb_{}\".format(i))\n",
    "    print(\"XGB number {} created\".format(i))"
   ]
  },
  {
   "cell_type": "markdown",
   "metadata": {},
   "source": [
    "#### Se usa un subsample de igual tamaño que X_train"
   ]
  },
  {
   "cell_type": "markdown",
   "metadata": {},
   "source": [
    "### Disclaimer: No se testea el armado de cada XGBoost porque asumo que funciona debido a que es el mismo modelo con los mismos hiperparametros que se usó anteriormente y lo único que cambia es que se está entrenando sobre un subsample de los datos originales."
   ]
  },
  {
   "cell_type": "markdown",
   "metadata": {},
   "source": [
    "# Se guarda el split para que el ensamble levante el mismo"
   ]
  },
  {
   "cell_type": "code",
   "execution_count": 12,
   "metadata": {},
   "outputs": [],
   "source": [
    "X_train.to_csv(\"X_train\", index = False)"
   ]
  },
  {
   "cell_type": "code",
   "execution_count": 13,
   "metadata": {},
   "outputs": [],
   "source": [
    "X_test.to_csv(\"X_test\", index = False)"
   ]
  },
  {
   "cell_type": "code",
   "execution_count": 14,
   "metadata": {},
   "outputs": [],
   "source": [
    "y_train.to_csv(\"y_train\", index = False)"
   ]
  },
  {
   "cell_type": "code",
   "execution_count": 15,
   "metadata": {},
   "outputs": [],
   "source": [
    "y_test.to_csv(\"y_test\", index = False)"
   ]
  }
 ],
 "metadata": {
  "kernelspec": {
   "display_name": "Python 3",
   "language": "python",
   "name": "python3"
  },
  "language_info": {
   "codemirror_mode": {
    "name": "ipython",
    "version": 3
   },
   "file_extension": ".py",
   "mimetype": "text/x-python",
   "name": "python",
   "nbconvert_exporter": "python",
   "pygments_lexer": "ipython3",
   "version": "3.7.4"
  }
 },
 "nbformat": 4,
 "nbformat_minor": 4
}
