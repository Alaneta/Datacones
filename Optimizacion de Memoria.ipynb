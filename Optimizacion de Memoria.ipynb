{
 "cells": [
  {
   "cell_type": "code",
   "execution_count": 1,
   "metadata": {},
   "outputs": [
    {
     "data": {
      "text/plain": [
       "id                              int64\n",
       "titulo                         object\n",
       "descripcion                    object\n",
       "tipodepropiedad                object\n",
       "direccion                      object\n",
       "ciudad                         object\n",
       "provincia                      object\n",
       "antiguedad                    float64\n",
       "habitaciones                  float64\n",
       "garages                       float64\n",
       "banos                         float64\n",
       "metroscubiertos               float64\n",
       "metrostotales                 float64\n",
       "idzona                        float64\n",
       "lat                           float64\n",
       "lng                           float64\n",
       "fecha                          object\n",
       "gimnasio                      float64\n",
       "usosmultiples                 float64\n",
       "piscina                       float64\n",
       "escuelascercanas              float64\n",
       "centroscomercialescercanos    float64\n",
       "precio                        float64\n",
       "dtype: object"
      ]
     },
     "execution_count": 1,
     "metadata": {},
     "output_type": "execute_result"
    }
   ],
   "source": [
    "import gzip\n",
    "import csv\n",
    "import json\n",
    "import pandas as pd\n",
    "import numpy as np\n",
    "from datetime import datetime\n",
    "\n",
    "train = pd.read_csv('C:/Users/Alan Camussi/Desktop/train.csv')\n",
    "train.dtypes"
   ]
  },
  {
   "cell_type": "code",
   "execution_count": 2,
   "metadata": {},
   "outputs": [
    {
     "data": {
      "text/plain": [
       "35.70560646057129"
      ]
     },
     "execution_count": 2,
     "metadata": {},
     "output_type": "execute_result"
    }
   ],
   "source": [
    "#Podemos ver la memoria total utilizada en MB. Para ver cuanta memoria consume cada columna, hacer train.memory_usage()\n",
    "(train.memory_usage() / (1024 * 1024)).sum() "
   ]
  },
  {
   "cell_type": "code",
   "execution_count": 3,
   "metadata": {},
   "outputs": [
    {
     "data": {
      "text/plain": [
       "id                               int32\n",
       "titulo                          object\n",
       "descripcion                     object\n",
       "tipodepropiedad               category\n",
       "direccion                       object\n",
       "ciudad                        category\n",
       "provincia                     category\n",
       "antiguedad                     float16\n",
       "habitaciones                   float16\n",
       "garages                        float16\n",
       "banos                          float16\n",
       "metroscubiertos                float16\n",
       "metrostotales                  float16\n",
       "idzona                         float64\n",
       "lat                            float64\n",
       "lng                            float64\n",
       "fecha                           object\n",
       "gimnasio                       float16\n",
       "usosmultiples                  float16\n",
       "piscina                        float16\n",
       "escuelascercanas               float16\n",
       "centroscomercialescercanos     float16\n",
       "precio                         float32\n",
       "dtype: object"
      ]
     },
     "execution_count": 3,
     "metadata": {},
     "output_type": "execute_result"
    }
   ],
   "source": [
    "dtypes = {'id': 'int32', \n",
    "'titulo': 'object', \n",
    "'descripcion': 'object', \n",
    "'tipodepropiedad': 'category', \n",
    "'direccion': 'object', \n",
    "'ciudad': 'category', \n",
    "'provincia': 'category', \n",
    "'antiguedad': 'float16', \n",
    "'habitaciones': 'float16', \n",
    "'garages': 'float16', \n",
    "'banos': 'float16', \n",
    "'metroscubiertos': 'float16', \n",
    "'metrostotales': 'float16', \n",
    "'idzona': 'float64', \n",
    "'lat': 'float64', \n",
    "'lng': 'float64', \n",
    "'gimnasio': 'float16', \n",
    "'usosmultiples': 'float16', \n",
    "'piscina': 'float16', \n",
    "'escuelascercanas': 'float16', \n",
    "'centroscomercialescercanos': 'float16', \n",
    "'precio': 'float32', }\n",
    "#parse_dates = ['fecha'] CONSUME MAS MEMORIA QUE EL TIPO OBJECT. Conviene convertirlo luego de subido el csv.\n",
    "\n",
    "\n",
    "train_optimized = pd.read_csv('C:/Users/Alan Camussi/Desktop/train.csv', dtype = dtypes, low_memory=False, error_bad_lines = False)\n",
    "train_optimized.dtypes"
   ]
  },
  {
   "cell_type": "code",
   "execution_count": 4,
   "metadata": {},
   "outputs": [
    {
     "data": {
      "text/plain": [
       "16.965383529663086"
      ]
     },
     "execution_count": 4,
     "metadata": {},
     "output_type": "execute_result"
    }
   ],
   "source": [
    "#Se puede observar que el memory usage bajó de 35.7 MB a 16.96 MB\n",
    "(train_optimized.memory_usage() / (1024 * 1024)).sum()"
   ]
  }
 ],
 "metadata": {
  "kernelspec": {
   "display_name": "Python 3",
   "language": "python",
   "name": "python3"
  },
  "language_info": {
   "codemirror_mode": {
    "name": "ipython",
    "version": 3
   },
   "file_extension": ".py",
   "mimetype": "text/x-python",
   "name": "python",
   "nbconvert_exporter": "python",
   "pygments_lexer": "ipython3",
   "version": "3.7.2"
  }
 },
 "nbformat": 4,
 "nbformat_minor": 2
}
