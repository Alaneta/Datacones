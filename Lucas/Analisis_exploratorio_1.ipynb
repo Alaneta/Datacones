{
 "cells": [
  {
   "cell_type": "code",
   "execution_count": 1,
   "metadata": {},
   "outputs": [
    {
     "name": "stdout",
     "output_type": "stream",
     "text": [
      "<class 'pandas.core.frame.DataFrame'>\n",
      "RangeIndex: 240000 entries, 0 to 239999\n",
      "Data columns (total 23 columns):\n",
      "id                            240000 non-null int64\n",
      "titulo                        234613 non-null object\n",
      "descripcion                   238381 non-null object\n",
      "tipodepropiedad               239954 non-null object\n",
      "direccion                     186928 non-null object\n",
      "ciudad                        239628 non-null object\n",
      "provincia                     239845 non-null object\n",
      "antiguedad                    196445 non-null float64\n",
      "habitaciones                  217529 non-null float64\n",
      "garages                       202235 non-null float64\n",
      "banos                         213779 non-null float64\n",
      "metroscubiertos               222600 non-null float64\n",
      "metrostotales                 188533 non-null float64\n",
      "idzona                        211379 non-null float64\n",
      "lat                           116512 non-null float64\n",
      "lng                           116512 non-null float64\n",
      "fecha                         240000 non-null object\n",
      "gimnasio                      240000 non-null float64\n",
      "usosmultiples                 240000 non-null float64\n",
      "piscina                       240000 non-null float64\n",
      "escuelascercanas              240000 non-null float64\n",
      "centroscomercialescercanos    240000 non-null float64\n",
      "precio                        240000 non-null float64\n",
      "dtypes: float64(15), int64(1), object(7)\n",
      "memory usage: 42.1+ MB\n"
     ]
    }
   ],
   "source": [
    "import csv\n",
    "import pandas as pd\n",
    "import numpy as np\n",
    "from datetime import datetime\n",
    "\n",
    "train = pd.read_csv('../data/train.csv')\n",
    "train.info()"
   ]
  },
  {
   "cell_type": "code",
   "execution_count": 2,
   "metadata": {},
   "outputs": [
    {
     "data": {
      "text/plain": [
       "id                              int64\n",
       "titulo                         object\n",
       "descripcion                    object\n",
       "tipodepropiedad                object\n",
       "direccion                      object\n",
       "ciudad                         object\n",
       "provincia                      object\n",
       "antiguedad                    float64\n",
       "habitaciones                  float64\n",
       "garages                       float64\n",
       "banos                         float64\n",
       "metroscubiertos               float64\n",
       "metrostotales                 float64\n",
       "idzona                        float64\n",
       "lat                           float64\n",
       "lng                           float64\n",
       "fecha                          object\n",
       "gimnasio                      float64\n",
       "usosmultiples                 float64\n",
       "piscina                       float64\n",
       "escuelascercanas              float64\n",
       "centroscomercialescercanos    float64\n",
       "precio                        float64\n",
       "dtype: object"
      ]
     },
     "execution_count": 2,
     "metadata": {},
     "output_type": "execute_result"
    }
   ],
   "source": [
    "train.dtypes"
   ]
  },
  {
   "cell_type": "code",
   "execution_count": 3,
   "metadata": {},
   "outputs": [
    {
     "data": {
      "text/html": [
       "<div>\n",
       "<style scoped>\n",
       "    .dataframe tbody tr th:only-of-type {\n",
       "        vertical-align: middle;\n",
       "    }\n",
       "\n",
       "    .dataframe tbody tr th {\n",
       "        vertical-align: top;\n",
       "    }\n",
       "\n",
       "    .dataframe thead th {\n",
       "        text-align: right;\n",
       "    }\n",
       "</style>\n",
       "<table border=\"1\" class=\"dataframe\">\n",
       "  <thead>\n",
       "    <tr style=\"text-align: right;\">\n",
       "      <th></th>\n",
       "      <th>id</th>\n",
       "      <th>antiguedad</th>\n",
       "      <th>habitaciones</th>\n",
       "      <th>garages</th>\n",
       "      <th>banos</th>\n",
       "      <th>metroscubiertos</th>\n",
       "      <th>metrostotales</th>\n",
       "      <th>idzona</th>\n",
       "      <th>lat</th>\n",
       "      <th>lng</th>\n",
       "      <th>gimnasio</th>\n",
       "      <th>usosmultiples</th>\n",
       "      <th>piscina</th>\n",
       "      <th>escuelascercanas</th>\n",
       "      <th>centroscomercialescercanos</th>\n",
       "      <th>precio</th>\n",
       "    </tr>\n",
       "  </thead>\n",
       "  <tbody>\n",
       "    <tr>\n",
       "      <th>count</th>\n",
       "      <td>240000.000000</td>\n",
       "      <td>196445.000000</td>\n",
       "      <td>217529.000000</td>\n",
       "      <td>202235.000000</td>\n",
       "      <td>213779.000000</td>\n",
       "      <td>222600.000000</td>\n",
       "      <td>188533.000000</td>\n",
       "      <td>2.113790e+05</td>\n",
       "      <td>116512.000000</td>\n",
       "      <td>116512.000000</td>\n",
       "      <td>240000.000000</td>\n",
       "      <td>240000.000000</td>\n",
       "      <td>240000.000000</td>\n",
       "      <td>240000.000000</td>\n",
       "      <td>240000.000000</td>\n",
       "      <td>2.400000e+05</td>\n",
       "    </tr>\n",
       "    <tr>\n",
       "      <th>mean</th>\n",
       "      <td>149969.382092</td>\n",
       "      <td>8.116114</td>\n",
       "      <td>2.902326</td>\n",
       "      <td>1.546874</td>\n",
       "      <td>2.132417</td>\n",
       "      <td>174.016774</td>\n",
       "      <td>176.765145</td>\n",
       "      <td>2.423468e+06</td>\n",
       "      <td>20.696818</td>\n",
       "      <td>-99.509221</td>\n",
       "      <td>0.062475</td>\n",
       "      <td>0.055092</td>\n",
       "      <td>0.087383</td>\n",
       "      <td>0.444142</td>\n",
       "      <td>0.396533</td>\n",
       "      <td>2.530838e+06</td>\n",
       "    </tr>\n",
       "    <tr>\n",
       "      <th>std</th>\n",
       "      <td>86634.579744</td>\n",
       "      <td>9.553830</td>\n",
       "      <td>0.896894</td>\n",
       "      <td>0.853507</td>\n",
       "      <td>0.912546</td>\n",
       "      <td>98.152950</td>\n",
       "      <td>94.427328</td>\n",
       "      <td>1.056794e+07</td>\n",
       "      <td>3.137884</td>\n",
       "      <td>9.744143</td>\n",
       "      <td>0.242017</td>\n",
       "      <td>0.228160</td>\n",
       "      <td>0.282397</td>\n",
       "      <td>0.496871</td>\n",
       "      <td>0.489179</td>\n",
       "      <td>2.152552e+06</td>\n",
       "    </tr>\n",
       "    <tr>\n",
       "      <th>min</th>\n",
       "      <td>1.000000</td>\n",
       "      <td>0.000000</td>\n",
       "      <td>1.000000</td>\n",
       "      <td>0.000000</td>\n",
       "      <td>1.000000</td>\n",
       "      <td>15.000000</td>\n",
       "      <td>15.000000</td>\n",
       "      <td>2.200000e+01</td>\n",
       "      <td>-100.886679</td>\n",
       "      <td>-125.859375</td>\n",
       "      <td>0.000000</td>\n",
       "      <td>0.000000</td>\n",
       "      <td>0.000000</td>\n",
       "      <td>0.000000</td>\n",
       "      <td>0.000000</td>\n",
       "      <td>3.100000e+05</td>\n",
       "    </tr>\n",
       "    <tr>\n",
       "      <th>25%</th>\n",
       "      <td>74930.750000</td>\n",
       "      <td>0.000000</td>\n",
       "      <td>2.000000</td>\n",
       "      <td>1.000000</td>\n",
       "      <td>1.000000</td>\n",
       "      <td>90.000000</td>\n",
       "      <td>102.000000</td>\n",
       "      <td>2.489000e+04</td>\n",
       "      <td>19.359846</td>\n",
       "      <td>-100.977908</td>\n",
       "      <td>0.000000</td>\n",
       "      <td>0.000000</td>\n",
       "      <td>0.000000</td>\n",
       "      <td>0.000000</td>\n",
       "      <td>0.000000</td>\n",
       "      <td>9.527725e+05</td>\n",
       "    </tr>\n",
       "    <tr>\n",
       "      <th>50%</th>\n",
       "      <td>149875.500000</td>\n",
       "      <td>5.000000</td>\n",
       "      <td>3.000000</td>\n",
       "      <td>2.000000</td>\n",
       "      <td>2.000000</td>\n",
       "      <td>153.000000</td>\n",
       "      <td>155.000000</td>\n",
       "      <td>5.638300e+04</td>\n",
       "      <td>19.543273</td>\n",
       "      <td>-99.240387</td>\n",
       "      <td>0.000000</td>\n",
       "      <td>0.000000</td>\n",
       "      <td>0.000000</td>\n",
       "      <td>0.000000</td>\n",
       "      <td>0.000000</td>\n",
       "      <td>1.850000e+06</td>\n",
       "    </tr>\n",
       "    <tr>\n",
       "      <th>75%</th>\n",
       "      <td>225016.500000</td>\n",
       "      <td>10.000000</td>\n",
       "      <td>3.000000</td>\n",
       "      <td>2.000000</td>\n",
       "      <td>3.000000</td>\n",
       "      <td>240.000000</td>\n",
       "      <td>238.000000</td>\n",
       "      <td>8.783800e+04</td>\n",
       "      <td>20.740005</td>\n",
       "      <td>-99.134777</td>\n",
       "      <td>0.000000</td>\n",
       "      <td>0.000000</td>\n",
       "      <td>0.000000</td>\n",
       "      <td>1.000000</td>\n",
       "      <td>1.000000</td>\n",
       "      <td>3.390000e+06</td>\n",
       "    </tr>\n",
       "    <tr>\n",
       "      <th>max</th>\n",
       "      <td>299999.000000</td>\n",
       "      <td>80.000000</td>\n",
       "      <td>10.000000</td>\n",
       "      <td>3.000000</td>\n",
       "      <td>4.000000</td>\n",
       "      <td>439.000000</td>\n",
       "      <td>439.000000</td>\n",
       "      <td>5.000400e+07</td>\n",
       "      <td>83.026219</td>\n",
       "      <td>121.036000</td>\n",
       "      <td>1.000000</td>\n",
       "      <td>1.000000</td>\n",
       "      <td>1.000000</td>\n",
       "      <td>1.000000</td>\n",
       "      <td>1.000000</td>\n",
       "      <td>1.252500e+07</td>\n",
       "    </tr>\n",
       "  </tbody>\n",
       "</table>\n",
       "</div>"
      ],
      "text/plain": [
       "                  id     antiguedad   habitaciones        garages  \\\n",
       "count  240000.000000  196445.000000  217529.000000  202235.000000   \n",
       "mean   149969.382092       8.116114       2.902326       1.546874   \n",
       "std     86634.579744       9.553830       0.896894       0.853507   \n",
       "min         1.000000       0.000000       1.000000       0.000000   \n",
       "25%     74930.750000       0.000000       2.000000       1.000000   \n",
       "50%    149875.500000       5.000000       3.000000       2.000000   \n",
       "75%    225016.500000      10.000000       3.000000       2.000000   \n",
       "max    299999.000000      80.000000      10.000000       3.000000   \n",
       "\n",
       "               banos  metroscubiertos  metrostotales        idzona  \\\n",
       "count  213779.000000    222600.000000  188533.000000  2.113790e+05   \n",
       "mean        2.132417       174.016774     176.765145  2.423468e+06   \n",
       "std         0.912546        98.152950      94.427328  1.056794e+07   \n",
       "min         1.000000        15.000000      15.000000  2.200000e+01   \n",
       "25%         1.000000        90.000000     102.000000  2.489000e+04   \n",
       "50%         2.000000       153.000000     155.000000  5.638300e+04   \n",
       "75%         3.000000       240.000000     238.000000  8.783800e+04   \n",
       "max         4.000000       439.000000     439.000000  5.000400e+07   \n",
       "\n",
       "                 lat            lng       gimnasio  usosmultiples  \\\n",
       "count  116512.000000  116512.000000  240000.000000  240000.000000   \n",
       "mean       20.696818     -99.509221       0.062475       0.055092   \n",
       "std         3.137884       9.744143       0.242017       0.228160   \n",
       "min      -100.886679    -125.859375       0.000000       0.000000   \n",
       "25%        19.359846    -100.977908       0.000000       0.000000   \n",
       "50%        19.543273     -99.240387       0.000000       0.000000   \n",
       "75%        20.740005     -99.134777       0.000000       0.000000   \n",
       "max        83.026219     121.036000       1.000000       1.000000   \n",
       "\n",
       "             piscina  escuelascercanas  centroscomercialescercanos  \\\n",
       "count  240000.000000     240000.000000               240000.000000   \n",
       "mean        0.087383          0.444142                    0.396533   \n",
       "std         0.282397          0.496871                    0.489179   \n",
       "min         0.000000          0.000000                    0.000000   \n",
       "25%         0.000000          0.000000                    0.000000   \n",
       "50%         0.000000          0.000000                    0.000000   \n",
       "75%         0.000000          1.000000                    1.000000   \n",
       "max         1.000000          1.000000                    1.000000   \n",
       "\n",
       "             precio  \n",
       "count  2.400000e+05  \n",
       "mean   2.530838e+06  \n",
       "std    2.152552e+06  \n",
       "min    3.100000e+05  \n",
       "25%    9.527725e+05  \n",
       "50%    1.850000e+06  \n",
       "75%    3.390000e+06  \n",
       "max    1.252500e+07  "
      ]
     },
     "execution_count": 3,
     "metadata": {},
     "output_type": "execute_result"
    }
   ],
   "source": [
    "train.describe()"
   ]
  },
  {
   "cell_type": "code",
   "execution_count": 4,
   "metadata": {},
   "outputs": [],
   "source": [
    "#Transformamos las fechas\n",
    "train['fecha'] = pd.to_datetime(train['fecha'])"
   ]
  },
  {
   "cell_type": "code",
   "execution_count": 5,
   "metadata": {},
   "outputs": [
    {
     "data": {
      "text/plain": [
       "id                                     int64\n",
       "titulo                                object\n",
       "descripcion                           object\n",
       "tipodepropiedad                       object\n",
       "direccion                             object\n",
       "ciudad                                object\n",
       "provincia                             object\n",
       "antiguedad                           float64\n",
       "habitaciones                         float64\n",
       "garages                              float64\n",
       "banos                                float64\n",
       "metroscubiertos                      float64\n",
       "metrostotales                        float64\n",
       "idzona                               float64\n",
       "lat                                  float64\n",
       "lng                                  float64\n",
       "fecha                         datetime64[ns]\n",
       "gimnasio                             float64\n",
       "usosmultiples                        float64\n",
       "piscina                              float64\n",
       "escuelascercanas                     float64\n",
       "centroscomercialescercanos           float64\n",
       "precio                               float64\n",
       "dtype: object"
      ]
     },
     "execution_count": 5,
     "metadata": {},
     "output_type": "execute_result"
    }
   ],
   "source": [
    "train.dtypes"
   ]
  },
  {
   "cell_type": "markdown",
   "metadata": {},
   "source": [
    "## ¿Cual es el periodo cubierto por las fechas?"
   ]
  },
  {
   "cell_type": "code",
   "execution_count": 6,
   "metadata": {},
   "outputs": [
    {
     "name": "stdout",
     "output_type": "stream",
     "text": [
      "Fecha Min.:  2012-01-01 00:00:00\n",
      "Fecha Max.:  2016-12-31 00:00:00\n"
     ]
    }
   ],
   "source": [
    "print(\"Fecha Min.: \", train['fecha'].min())\n",
    "print(\"Fecha Max.: \", train['fecha'].max())"
   ]
  },
  {
   "cell_type": "markdown",
   "metadata": {},
   "source": [
    "## ¿Cómo se distribuyen las fechas por anio?"
   ]
  },
  {
   "cell_type": "code",
   "execution_count": 21,
   "metadata": {},
   "outputs": [
    {
     "data": {
      "text/plain": [
       "Text(0, 0.5, 'cantidad')"
      ]
     },
     "execution_count": 21,
     "metadata": {},
     "output_type": "execute_result"
    },
    {
     "data": {
      "image/png": "[encoded data removed]",
      "text/plain": [
       "<Figure size 432x288 with 1 Axes>"
      ]
     },
     "metadata": {
      "needs_background": "light"
     },
     "output_type": "display_data"
    }
   ],
   "source": [
    "#Anio 2012\n",
    "prop_2012 = train[train['fecha'].dt.year == 2012]\n",
    "ax = prop_2012['fecha'].dt.month.value_counts().sort_index().plot.bar(title=\"ventas por dia\")\n",
    "ax.set_xlabel('meses')\n",
    "ax.set_ylabel('cantidad')"
   ]
  },
  {
   "cell_type": "code",
   "execution_count": 22,
   "metadata": {},
   "outputs": [
    {
     "data": {
      "text/plain": [
       "<matplotlib.axes._subplots.AxesSubplot at 0x7f7216fb4198>"
      ]
     },
     "execution_count": 22,
     "metadata": {},
     "output_type": "execute_result"
    },
    {
     "data": {
      "image/png": "[encoded data removed]",
      "text/plain": [
       "<Figure size 432x288 with 1 Axes>"
      ]
     },
     "metadata": {
      "needs_background": "light"
     },
     "output_type": "display_data"
    }
   ],
   "source": [
    "prop_total = train\n",
    "prop_total['fecha'].dt.year.value_counts().sort_index().plot.bar(title=\"Subastas por anio\")"
   ]
  },
  {
   "cell_type": "code",
   "execution_count": null,
   "metadata": {},
   "outputs": [],
   "source": []
  }
 ],
 "metadata": {
  "kernelspec": {
   "display_name": "Python 3",
   "language": "python",
   "name": "python3"
  },
  "language_info": {
   "codemirror_mode": {
    "name": "ipython",
    "version": 3
   },
   "file_extension": ".py",
   "mimetype": "text/x-python",
   "name": "python",
   "nbconvert_exporter": "python",
   "pygments_lexer": "ipython3",
   "version": "3.5.2"
  }
 },
 "nbformat": 4,
 "nbformat_minor": 2
}
